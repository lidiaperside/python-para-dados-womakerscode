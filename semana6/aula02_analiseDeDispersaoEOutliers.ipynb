{
 "cells": [
  {
   "cell_type": "markdown",
   "metadata": {},
   "source": [
    "Análise de Dispersão e Outliers"
   ]
  },
  {
   "cell_type": "markdown",
   "metadata": {},
   "source": [
    "Análise de Dispersão de Variáveis\n",
    "\n",
    "São medidas que buscam \"resumir\" como os dados estão distribuídos; o quão concentrados os dados estão em determinados intervalos e o grau de variação das informações (somente para variáveis numéricas)\n",
    "\n",
    "Ex: em uma entrevista, cada uma das 10 candidatas respondeu uma pergunta em um tempo x específico em minudos: 2, 3, 1, 4, 2, 2, 3, 1, 4, 2. Ordenando, tempos: 1, 1, 2, 2, 2, 2, 3, 3, 4, 4\n",
    "\n"
   ]
  },
  {
   "cell_type": "markdown",
   "metadata": {},
   "source": [
    "A análise de dispersão de variáveis podem ser:\n",
    "\n",
    "- Amplitude: é a diferença entre o maior e o menor valor dos dados (4 - 1 = 3, então a amplitude é equivalente a 3);\n",
    "- Variância: é um número que nos diz o quão distante da média os dados estão (aproximadamente 1)\n",
    "- Desvio padrão: tamém diz o quão distamte da média estão os dados. É a raiz quadrada da variância (preserva a unidade de medida original)"
   ]
  },
  {
   "cell_type": "markdown",
   "metadata": {},
   "source": [
    "----------------"
   ]
  },
  {
   "cell_type": "markdown",
   "metadata": {},
   "source": [
    "Variância Populacional vs Variância Amostral\n",
    "\n",
    "Em muitos casos pode ser encontrado medidas de dispersão \"Populacionais\" ou \"Amostrais\". \n",
    "\n",
    "- As medidas populacionais podem ser usadas quando se está analisando dados em uma população completa \"sem margem de erro\".\n",
    "- As medidas amostrais são mais frequentemente utilizadas no dia a dia. \n",
    "\n",
    "Mas, qual a diferença entre as duas medidas? \n",
    "- A diferença das fórmulas está no denominador. No caso amostral, dividir por n-1, para aplicar um fator de correção e no caso populacional por N"
   ]
  },
  {
   "cell_type": "markdown",
   "metadata": {},
   "source": [
    "------"
   ]
  },
  {
   "cell_type": "markdown",
   "metadata": {},
   "source": [
    "Amplitude, Variância e Desvio Padrão: Interpretando o Histograma\n",
    "\n",
    "O histograma é um dos gráficos mais utilizados para se analisar a distribuição e a dispersão de variáveis numéricas. Ele é composto por:\n",
    "- Eixo x (intervalos da distribuição dos dados, o número de intervalos é chamado de bins)\n",
    "- Eixo y (a contagem dos dados naquele intervalo)\n",
    "\n",
    "A análise de histograma possibilita a verificação de como os dados se distribuem: \n",
    "- Simetria (os dois dados a curva do gráfico é simétrico),\n",
    "- Assimétrico à direita ou positivo (calda que desce para a direita), \n",
    "- Assimétrico à esquerda ou negativo (calda desde para a esquerda)\n",
    "\n",
    "Também é possível analisar o histograma de acordo com a simetria da centralidade e a amplitude dos dados:\n",
    "- Platô (igual distribuição para todos os bins)\n",
    "- Bimodal (2 picos)\n",
    "- Multimodal (+ de 2 picos)\n",
    "\n",
    "-> Geralmente o bimodal e multimodal pode ser observado em análise de dados com características distintas"
   ]
  },
  {
   "cell_type": "markdown",
   "metadata": {},
   "source": [
    "------"
   ]
  },
  {
   "cell_type": "markdown",
   "metadata": {},
   "source": [
    "Medidas serapatrizes\n",
    "\n",
    "São métricas que dividem ou \"separam\" os dados em partes iguais\n",
    "- Suponha que estamos olhando os dados da nota de 5 alunos para a prova:\n",
    "    - A mediana é uma medida separatriz, pois ela separa os dados em 2 grupos com o mesmo número de dados (2 dados acima e 2 dadis abaixo)\n",
    "    - Para encontrá-la, podemos utilizar a seguinte fórmula:\n",
    "        - x[(n+1)/2] -> quando n é ímpar\n",
    "        - (x[n/2]+x[(n/2)+1])/2 -> quando n é par\n",
    "    - Seguindo o exemplo, deve-se usar a fórmula para dados ímpares: \n",
    "        - x[(n+1)/2] = x[(5+1)/2] = x[3] -> a posição central é a posição 3\n",
    "\n",
    "Essa medida separatriz é a mediana ou P50 (percentil 50)\n",
    "\n",
    "As separatrizes podem, ainda, ser dividio em 4 grupos de mesmo tamanho: P25, P50 (mediana), P75 e P100. Cada percentil pode ser chamado de quartis.\n",
    "- Q1 ou primeiro quartil equivale ao P25, ou seja, os 25% primeiros valores dos dados,\n",
    "- Q2 ou segundo quartil equivale ao P50 ou mediana,\n",
    "- Q3 ou terceiro quartil equivale ao 75% dos dados,\n",
    "- Q4 ou quarto quartil equivale a 100% dos dados, ou seja, o conjunto total de dados\n",
    "\n",
    "O calculo para descobrir os valores dos quartis é:\n",
    "- Q1 = 1/4(n+1)^th\n",
    "- Q3 = 3/4(n+1)^th\n",
    "\n",
    "No caso do exemplo das candidatas, fica da seguinte forma:\n",
    "- Q1 = P25 = x[11/4] = x[2.75]\n",
    "    - Nesse caso, como o termo 2 é 1 e o termo 3 é 2, teremos que Q1 = 1 + 0.75 * [2-1] = 1.75\n",
    "- Q2 = (x[10/2] + x[11/2])/2 = 2\n",
    "- Q3 = P75 = x[33/4] = x[8.25]\n",
    "    - Nesse caso, como o termo 8 é 3 e o termo 9 é 4, teremos que Q3 = 0.25*(4-3) = 3.25"
   ]
  },
  {
   "cell_type": "markdown",
   "metadata": {},
   "source": [
    "-----"
   ]
  },
  {
   "cell_type": "markdown",
   "metadata": {},
   "source": [
    "Boxplot\n",
    "\n",
    "É um gráfico de caixa em que se é traçado visualmente algumas das medidas separatrizes mais importantes. Nele, é possível ter uma cauxa entre Q1 e Q3, que são os lim ites inferior e superior respectivamente\n",
    "- Limite superior: Q3+1.5*(q3-q1)\n",
    "- Limite inferior: q1 -1.5*(q3-q1)\n",
    "\n",
    "O boxplot (ou gráfico de caixa) é muito utilizado quando se quer comparar características diferentes através de uma variável numérica. \n",
    "- Quando a caixa é mais \"gordinha\" os dados são mais dispersos e quanto mais \"magra\" mais concentrados são os dados\n",
    "- Através do boxplot também é possível visualizar o outlier (que são valores extremos e que fogem do padrão dos dados visualizados)"
   ]
  },
  {
   "cell_type": "markdown",
   "metadata": {},
   "source": [
    "----"
   ]
  },
  {
   "cell_type": "markdown",
   "metadata": {},
   "source": [
    "Outliers\n",
    "\n",
    "Os outliers são valores atípicos ou anômalos dos dados. Mas, como identificar outliers numa base de dados?\n",
    "\n",
    "Os métodos de definição dos outliers podem ser: \n",
    "- Método Z-Score\n",
    "    - Utiliza com referência a quantos desvios padrões a informação está da média\n",
    "        - Z-score = (x-média)/std\n",
    "            - Se Z-score >3 ou Z-score < -3 \n",
    "                - Pode ser considerado um outlier\n",
    "- Método IQR\n",
    "    - Método IQR (distância inter-quartil em inglês) vê a distância da amplitude dos quartis, também conhecido por método de Tukey:\n",
    "        - IQR = Q3 - Q1\n",
    "            - Se x> 1.5*IQR ou x< -1.5*IQR\n",
    "                - Pode se considerar um outlier\n",
    "\n",
    "\n",
    "\n"
   ]
  },
  {
   "cell_type": "markdown",
   "metadata": {},
   "source": [
    "A importância dos Outliers\n",
    "\n",
    "Outliers são importantes, pois a existência deles gera uma informação, que pode significar uma nova categoria ou um novo padrão nos dados. Mas, a presença de outliers pode gerar ruído em modelos e análises estatísticas e isso acontece porque as métricas que envolvem a distância podem ser sensíveis a outliers. \n",
    "\n",
    "Além disso, a média é uma das métricas mais sensíveis aos outliers, portanto, deve ser preferível utilizar a medida no caso de outliers\n",
    "\n",
    "\n"
   ]
  },
  {
   "cell_type": "markdown",
   "metadata": {},
   "source": [
    "Tratamento dos Outliers\n",
    "\n",
    "Para evitar o viés gerado por outliers em modelos e análises estatísticas, pode ser utilizadas técnicas de tratamento de outliers. As mais conhecidas são:\n",
    "\n",
    "- Caso o outlier não represente um sentido de negócio (ex: fraude), temos as seguintes possibilidades:\n",
    "    - Remover os dados dos outliers da análise\n",
    "    - Substituir os valores dos outliers pela média ou mediana dos dados\n",
    "\n",
    "- Caso o outlier tenha um sentido de negócio\n",
    "    - Caso categórico:\n",
    "        - Criar uma nova categoria para o outlier\n",
    "    - Caso numérico:\n",
    "        - Inputar um valor para outliers (ex: -999, -1) para dados positivos"
   ]
  }
 ],
 "metadata": {
  "language_info": {
   "name": "python"
  }
 },
 "nbformat": 4,
 "nbformat_minor": 2
}
