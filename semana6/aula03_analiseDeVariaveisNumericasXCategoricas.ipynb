{
 "cells": [
  {
   "cell_type": "markdown",
   "metadata": {},
   "source": [
    "Análise de Variáveis Numéricas X Categóricas"
   ]
  },
  {
   "cell_type": "markdown",
   "metadata": {},
   "source": [
    "Quando se analisa os dados, é importante começar por uma análise exploratória dos dados pensando nas frequências e medidas dos dados.\n",
    "\n",
    "Para as variáveis numéricas pode ser analisado as seguintes características:\n",
    "- Média, mediana, moda\n",
    "- Variância e desvio padrão\n",
    "- Valores mínimos e máximos\n",
    "- Análise de histograma\n",
    "- Análise do boxplot\n",
    "- Verificação de outliers\n",
    "- Verificação de valores nulos ou faltantes"
   ]
  },
  {
   "cell_type": "markdown",
   "metadata": {},
   "source": [
    "----"
   ]
  },
  {
   "cell_type": "markdown",
   "metadata": {},
   "source": [
    "Valores nulos e variáveis numéricas\n",
    "\n",
    "A análise dos valores nulos é uma etapa importante na análise exploratória dos dados. Em muitos casos, pode se ter variáveis que são importantes, mas estão com poucos preenchimentos. Nesse caso, deve ser substituído esses valores.\n",
    "\n",
    "A substituição vai a critério do analista e da análise. Para isso, se tem uma boa prática:\n",
    "- Verificar se a informação faltante, bem como o outlier, possuí sentido de negócio,\n",
    "- Substituir pela média, mediana ou moda,\n",
    "- Fazer um gráfico de barras de quantidade ou porcentagem de valores faltantes para cada variável\n",
    "\n",
    "É interessante se fazer um gráfico para a quantidade de dados faltantes para cada variável, para se ter claro do porquê se teve interesse de alterar os valores\n",
    "\n",
    "Às vezes, é bacana alterar os dados nulos por valores \"diferentes\" porque, em alguns casos, os valores nulos são tentativas de fraude\n"
   ]
  },
  {
   "cell_type": "markdown",
   "metadata": {},
   "source": [
    "----"
   ]
  },
  {
   "cell_type": "markdown",
   "metadata": {},
   "source": [
    "Análise Exploratória de Variáveis Categóricas\n",
    "\n",
    "Para as variáveis categóricas, podemos analisar as seguintes características:\n",
    "\n",
    "- Moda dos dados\n",
    "- Análise da frequência das categorias ou cardinalidade:\n",
    "    - Quantas categorias existem?\n",
    "    - Qual a frequência de cada uma das categorias (gráfico de barras)?\n",
    "- Agrupamento de variáveis de alta cardinalidade\n",
    "- Substituição de valores nulos:\n",
    "    - Pela moda\n",
    "    - Catetoria \"nulo\""
   ]
  },
  {
   "cell_type": "markdown",
   "metadata": {},
   "source": [
    "----"
   ]
  },
  {
   "cell_type": "markdown",
   "metadata": {},
   "source": [
    "Análise Exploratória: Variáveis numéricas X categóricas\n",
    "\n",
    "Em muitas análises, é interessante entender os padrões de variáveis numéricas e categóricas combinadas como, por exemplo, análise de distribuição de receita, vendas, gorjeta por dias da semana e gênero\n"
   ]
  }
 ],
 "metadata": {
  "language_info": {
   "name": "python"
  }
 },
 "nbformat": 4,
 "nbformat_minor": 2
}
