{
 "cells": [
  {
   "cell_type": "markdown",
   "metadata": {},
   "source": [
    "A estatística estuda a organização, descrição, análise e interpretação de dados.\n",
    "\n",
    "A estatística pode ser dividida em duas partes: estatística descritiva e inferência estatística"
   ]
  },
  {
   "cell_type": "markdown",
   "metadata": {},
   "source": [
    "A Estatística Descritiva é responsável pela:\n",
    "\n",
    "- Coleta de dados,\n",
    "- Sumarização dos dados,\n",
    "- Visualização dos dados\n",
    "\n",
    "Que pode ser dos tipos:\n",
    "\n",
    "- Medidas de tendencia central,\n",
    "- Medidas de disperção,\n",
    "- Análises de tipos de variáveis"
   ]
  },
  {
   "cell_type": "markdown",
   "metadata": {},
   "source": [
    "A Inferência Estatística foca em:\n",
    "- Assumir hipóteses a partir dos dados de uma amostra\n",
    "- Inferir resultados\n",
    "\n",
    "Que pode ser dos tipos:\n",
    "- Probabilidade e amostragem,\n",
    "- Testes de hipótese,\n",
    "- Modelos"
   ]
  },
  {
   "cell_type": "markdown",
   "metadata": {},
   "source": [
    "------------------------------"
   ]
  },
  {
   "cell_type": "markdown",
   "metadata": {},
   "source": [
    "Tipos de Variáveis na Análise Estatística:\n",
    "- Numéricas\n",
    "- Categóricas"
   ]
  },
  {
   "cell_type": "markdown",
   "metadata": {},
   "source": [
    "Numéricas: São variáveis mensuráveis, isto é, que possuem valores numéricos ou resultante de contagens. \n",
    "\n",
    "Pode ser do tipo:\n",
    "- Variáveis numéricas discretas: assumem valores finitos e contáveis (ex: números inteiros),\n",
    "- Variáveis numéricas contínuas: assumem valores contínuos, mensurados a partir de um instrumento"
   ]
  },
  {
   "cell_type": "markdown",
   "metadata": {},
   "source": [
    "Categóricas: são variáveis qualitativas, que classificam grupos ou indívuos\n",
    "\n",
    "Pode ser do tipo:\n",
    "- Variáveis qualitativas ordinais: Existe uma ordenação nas categorias (ex: ruim, médio, bom),\n",
    "- Variáveis qualitativas nominais: Variáveis em que não existe ordenação (ex: azul, vermelho)"
   ]
  },
  {
   "cell_type": "markdown",
   "metadata": {},
   "source": [
    "----------------------------"
   ]
  },
  {
   "cell_type": "markdown",
   "metadata": {},
   "source": [
    "Medidas de tendência central"
   ]
  },
  {
   "cell_type": "markdown",
   "metadata": {},
   "source": [
    "São medidas que buscam resumir ou descrever os dados refletindo o ponto de equilíbrio ou \"central\" dos dados.\n",
    "\n",
    "Exemplo: Em uma entrevista, cada uma das 10 candidatas respondeu uma pergunta em um tempo x específico que pode ser catalogado como: 2, 3, 1, 4, 2, 2, 3, 1, 4, 2\n",
    "\n",
    "Ordenando, temos: 1, 1, 2, 2, 2, 2, 3, 3, 4, 4"
   ]
  },
  {
   "cell_type": "markdown",
   "metadata": {},
   "source": [
    "As medidas podem ser:\n",
    "\n",
    "- Média: a soma de todos os valores x dividido pelo número total de candidatas (ex: 24/10 = 2,4) \n",
    "- Mediana: é o número que divide uma distribuição ordenada de dados em 2 partes: \n",
    "    - X|n+1/2| se impar\n",
    "    - (X|n/2|+x|n/2+1|)/2 se par\n",
    "\n",
    "    - No exemplo de 10 candidatas ordenadas (1, 1, 2, 2, 2, 2, 3, 3, 4, 4), a mediana será a média do quinto e do sexto termo (2), pois com isso é dividido igualmente a distribuição (4 termos abaixo, 4 termos acima). \n",
    "    - Caso fossem 7 candidatas (número ímpar), a mediana será exatamente o quarto termo (2), pois com isso é dividido igualmente a distribuição igualmente (3 termos abaixo e 3 termos acima)\n",
    "- Moda: é a medida de maior frequência de um conjunto de dados. No caso das canditadas, a moda será 2, que apareceu 4 vezes. \n",
    "    - De todas as medidas, é a única que pode trabalhar com dados categóricos, além dos numéricos como os demais. "
   ]
  }
 ],
 "metadata": {
  "language_info": {
   "name": "python"
  }
 },
 "nbformat": 4,
 "nbformat_minor": 2
}
