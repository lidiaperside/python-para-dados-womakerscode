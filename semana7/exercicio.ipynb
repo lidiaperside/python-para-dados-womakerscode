{
 "cells": [
  {
   "cell_type": "markdown",
   "metadata": {},
   "source": [
    "Considerando a base de dados de enem_2023.json responda as questões abaixo (os dados são fictícios).\n",
    "\n",
    "Você é uma pesquisadora de um cursinho para estudantes que querem ingressar na universidade em 2025. Seu objetivo é retirar informações da base de dados do enem do ano anterior para alinhar melhor as estratégias do cursinho para cada estudante. \n",
    "\n",
    "O dado possui 6 colunas, 5 delas representam as disciplinas do ENEM e uma o gênero das pessoas que fizeram a prova. No dado existe a representação de 1000 pessoas, sendo cada uma delas uma linha.\n"
   ]
  },
  {
   "cell_type": "markdown",
   "metadata": {},
   "source": [
    "1. Qual das disciplinas tem a maior amplitude de nota?"
   ]
  },
  {
   "cell_type": "code",
   "execution_count": 49,
   "metadata": {},
   "outputs": [],
   "source": [
    "#Manipulação de dados\n",
    "import pandas as pd\n",
    "import numpy as np\n",
    "from pandas import Series\n",
    "\n",
    "#Visualização de dados\n",
    "import seaborn as sns\n",
    "import matplotlib.pyplot as plt\n",
    "\n",
    "#Estatistica\n",
    "import scipy.stats as stat"
   ]
  },
  {
   "cell_type": "code",
   "execution_count": 50,
   "metadata": {},
   "outputs": [
    {
     "data": {
      "text/html": [
       "<div>\n",
       "<style scoped>\n",
       "    .dataframe tbody tr th:only-of-type {\n",
       "        vertical-align: middle;\n",
       "    }\n",
       "\n",
       "    .dataframe tbody tr th {\n",
       "        vertical-align: top;\n",
       "    }\n",
       "\n",
       "    .dataframe thead th {\n",
       "        text-align: right;\n",
       "    }\n",
       "</style>\n",
       "<table border=\"1\" class=\"dataframe\">\n",
       "  <thead>\n",
       "    <tr style=\"text-align: right;\">\n",
       "      <th></th>\n",
       "      <th>Linguagens</th>\n",
       "      <th>Ciências humanas</th>\n",
       "      <th>Ciências da natureza</th>\n",
       "      <th>Matemática</th>\n",
       "      <th>Redação</th>\n",
       "      <th>Sexo</th>\n",
       "    </tr>\n",
       "  </thead>\n",
       "  <tbody>\n",
       "    <tr>\n",
       "      <th>0</th>\n",
       "      <td>585.669300</td>\n",
       "      <td>686.512178</td>\n",
       "      <td>390.482473</td>\n",
       "      <td>452.281333</td>\n",
       "      <td>546.371706</td>\n",
       "      <td>Homem</td>\n",
       "    </tr>\n",
       "    <tr>\n",
       "      <th>1</th>\n",
       "      <td>359.384608</td>\n",
       "      <td>642.084134</td>\n",
       "      <td>NaN</td>\n",
       "      <td>412.205207</td>\n",
       "      <td>741.825256</td>\n",
       "      <td>Mulher</td>\n",
       "    </tr>\n",
       "    <tr>\n",
       "      <th>2</th>\n",
       "      <td>622.732384</td>\n",
       "      <td>495.510719</td>\n",
       "      <td>443.183580</td>\n",
       "      <td>669.683401</td>\n",
       "      <td>684.515750</td>\n",
       "      <td>Homem</td>\n",
       "    </tr>\n",
       "    <tr>\n",
       "      <th>3</th>\n",
       "      <td>350.164605</td>\n",
       "      <td>602.041588</td>\n",
       "      <td>413.979810</td>\n",
       "      <td>676.608952</td>\n",
       "      <td>671.237114</td>\n",
       "      <td>Homem</td>\n",
       "    </tr>\n",
       "    <tr>\n",
       "      <th>4</th>\n",
       "      <td>384.093657</td>\n",
       "      <td>489.249140</td>\n",
       "      <td>609.758123</td>\n",
       "      <td>520.426698</td>\n",
       "      <td>744.375048</td>\n",
       "      <td>Homem</td>\n",
       "    </tr>\n",
       "  </tbody>\n",
       "</table>\n",
       "</div>"
      ],
      "text/plain": [
       "   Linguagens  Ciências humanas  Ciências da natureza  Matemática     Redação  \\\n",
       "0  585.669300        686.512178            390.482473  452.281333  546.371706   \n",
       "1  359.384608        642.084134                   NaN  412.205207  741.825256   \n",
       "2  622.732384        495.510719            443.183580  669.683401  684.515750   \n",
       "3  350.164605        602.041588            413.979810  676.608952  671.237114   \n",
       "4  384.093657        489.249140            609.758123  520.426698  744.375048   \n",
       "\n",
       "     Sexo  \n",
       "0   Homem  \n",
       "1  Mulher  \n",
       "2   Homem  \n",
       "3   Homem  \n",
       "4   Homem  "
      ]
     },
     "execution_count": 50,
     "metadata": {},
     "output_type": "execute_result"
    }
   ],
   "source": [
    "enem = pd.read_json('enem_2023.json')\n",
    "enem.head()"
   ]
  },
  {
   "cell_type": "code",
   "execution_count": 51,
   "metadata": {},
   "outputs": [
    {
     "data": {
      "text/html": [
       "<div>\n",
       "<style scoped>\n",
       "    .dataframe tbody tr th:only-of-type {\n",
       "        vertical-align: middle;\n",
       "    }\n",
       "\n",
       "    .dataframe tbody tr th {\n",
       "        vertical-align: top;\n",
       "    }\n",
       "\n",
       "    .dataframe thead th {\n",
       "        text-align: right;\n",
       "    }\n",
       "</style>\n",
       "<table border=\"1\" class=\"dataframe\">\n",
       "  <thead>\n",
       "    <tr style=\"text-align: right;\">\n",
       "      <th></th>\n",
       "      <th>Linguagens</th>\n",
       "      <th>Ciências humanas</th>\n",
       "      <th>Ciências da natureza</th>\n",
       "      <th>Matemática</th>\n",
       "      <th>Redação</th>\n",
       "    </tr>\n",
       "  </thead>\n",
       "  <tbody>\n",
       "    <tr>\n",
       "      <th>count</th>\n",
       "      <td>897.000000</td>\n",
       "      <td>936.000000</td>\n",
       "      <td>824.000000</td>\n",
       "      <td>924.000000</td>\n",
       "      <td>860.000000</td>\n",
       "    </tr>\n",
       "    <tr>\n",
       "      <th>mean</th>\n",
       "      <td>514.524809</td>\n",
       "      <td>527.042281</td>\n",
       "      <td>499.315583</td>\n",
       "      <td>535.965660</td>\n",
       "      <td>637.783532</td>\n",
       "    </tr>\n",
       "    <tr>\n",
       "      <th>std</th>\n",
       "      <td>84.009313</td>\n",
       "      <td>77.811519</td>\n",
       "      <td>78.760404</td>\n",
       "      <td>86.648100</td>\n",
       "      <td>115.339972</td>\n",
       "    </tr>\n",
       "    <tr>\n",
       "      <th>min</th>\n",
       "      <td>287.000000</td>\n",
       "      <td>289.900000</td>\n",
       "      <td>314.400000</td>\n",
       "      <td>319.800000</td>\n",
       "      <td>270.839965</td>\n",
       "    </tr>\n",
       "    <tr>\n",
       "      <th>25%</th>\n",
       "      <td>458.360558</td>\n",
       "      <td>475.424546</td>\n",
       "      <td>444.709076</td>\n",
       "      <td>479.172971</td>\n",
       "      <td>556.468366</td>\n",
       "    </tr>\n",
       "    <tr>\n",
       "      <th>50%</th>\n",
       "      <td>515.045250</td>\n",
       "      <td>524.519920</td>\n",
       "      <td>500.479263</td>\n",
       "      <td>533.247767</td>\n",
       "      <td>635.273973</td>\n",
       "    </tr>\n",
       "    <tr>\n",
       "      <th>75%</th>\n",
       "      <td>571.635876</td>\n",
       "      <td>581.401952</td>\n",
       "      <td>548.751678</td>\n",
       "      <td>592.912963</td>\n",
       "      <td>715.989868</td>\n",
       "    </tr>\n",
       "    <tr>\n",
       "      <th>max</th>\n",
       "      <td>804.456317</td>\n",
       "      <td>763.919695</td>\n",
       "      <td>802.004568</td>\n",
       "      <td>807.877902</td>\n",
       "      <td>1000.000000</td>\n",
       "    </tr>\n",
       "  </tbody>\n",
       "</table>\n",
       "</div>"
      ],
      "text/plain": [
       "       Linguagens  Ciências humanas  Ciências da natureza  Matemática  \\\n",
       "count  897.000000        936.000000            824.000000  924.000000   \n",
       "mean   514.524809        527.042281            499.315583  535.965660   \n",
       "std     84.009313         77.811519             78.760404   86.648100   \n",
       "min    287.000000        289.900000            314.400000  319.800000   \n",
       "25%    458.360558        475.424546            444.709076  479.172971   \n",
       "50%    515.045250        524.519920            500.479263  533.247767   \n",
       "75%    571.635876        581.401952            548.751678  592.912963   \n",
       "max    804.456317        763.919695            802.004568  807.877902   \n",
       "\n",
       "           Redação  \n",
       "count   860.000000  \n",
       "mean    637.783532  \n",
       "std     115.339972  \n",
       "min     270.839965  \n",
       "25%     556.468366  \n",
       "50%     635.273973  \n",
       "75%     715.989868  \n",
       "max    1000.000000  "
      ]
     },
     "execution_count": 51,
     "metadata": {},
     "output_type": "execute_result"
    }
   ],
   "source": [
    "enem.describe()"
   ]
  },
  {
   "cell_type": "code",
   "execution_count": 52,
   "metadata": {},
   "outputs": [],
   "source": [
    "def amplitudes(df):\n",
    "    df1 = df.describe()\n",
    "    df1.loc[\"amplitude\"] = df1.loc['max'] - df1.loc['min']\n",
    "    \n",
    "    return df1"
   ]
  },
  {
   "cell_type": "code",
   "execution_count": 53,
   "metadata": {},
   "outputs": [
    {
     "data": {
      "text/html": [
       "<div>\n",
       "<style scoped>\n",
       "    .dataframe tbody tr th:only-of-type {\n",
       "        vertical-align: middle;\n",
       "    }\n",
       "\n",
       "    .dataframe tbody tr th {\n",
       "        vertical-align: top;\n",
       "    }\n",
       "\n",
       "    .dataframe thead th {\n",
       "        text-align: right;\n",
       "    }\n",
       "</style>\n",
       "<table border=\"1\" class=\"dataframe\">\n",
       "  <thead>\n",
       "    <tr style=\"text-align: right;\">\n",
       "      <th></th>\n",
       "      <th>Linguagens</th>\n",
       "      <th>Ciências humanas</th>\n",
       "      <th>Ciências da natureza</th>\n",
       "      <th>Matemática</th>\n",
       "      <th>Redação</th>\n",
       "    </tr>\n",
       "  </thead>\n",
       "  <tbody>\n",
       "    <tr>\n",
       "      <th>count</th>\n",
       "      <td>897.000000</td>\n",
       "      <td>936.000000</td>\n",
       "      <td>824.000000</td>\n",
       "      <td>924.000000</td>\n",
       "      <td>860.000000</td>\n",
       "    </tr>\n",
       "    <tr>\n",
       "      <th>mean</th>\n",
       "      <td>514.524809</td>\n",
       "      <td>527.042281</td>\n",
       "      <td>499.315583</td>\n",
       "      <td>535.965660</td>\n",
       "      <td>637.783532</td>\n",
       "    </tr>\n",
       "    <tr>\n",
       "      <th>std</th>\n",
       "      <td>84.009313</td>\n",
       "      <td>77.811519</td>\n",
       "      <td>78.760404</td>\n",
       "      <td>86.648100</td>\n",
       "      <td>115.339972</td>\n",
       "    </tr>\n",
       "    <tr>\n",
       "      <th>min</th>\n",
       "      <td>287.000000</td>\n",
       "      <td>289.900000</td>\n",
       "      <td>314.400000</td>\n",
       "      <td>319.800000</td>\n",
       "      <td>270.839965</td>\n",
       "    </tr>\n",
       "    <tr>\n",
       "      <th>25%</th>\n",
       "      <td>458.360558</td>\n",
       "      <td>475.424546</td>\n",
       "      <td>444.709076</td>\n",
       "      <td>479.172971</td>\n",
       "      <td>556.468366</td>\n",
       "    </tr>\n",
       "    <tr>\n",
       "      <th>50%</th>\n",
       "      <td>515.045250</td>\n",
       "      <td>524.519920</td>\n",
       "      <td>500.479263</td>\n",
       "      <td>533.247767</td>\n",
       "      <td>635.273973</td>\n",
       "    </tr>\n",
       "    <tr>\n",
       "      <th>75%</th>\n",
       "      <td>571.635876</td>\n",
       "      <td>581.401952</td>\n",
       "      <td>548.751678</td>\n",
       "      <td>592.912963</td>\n",
       "      <td>715.989868</td>\n",
       "    </tr>\n",
       "    <tr>\n",
       "      <th>max</th>\n",
       "      <td>804.456317</td>\n",
       "      <td>763.919695</td>\n",
       "      <td>802.004568</td>\n",
       "      <td>807.877902</td>\n",
       "      <td>1000.000000</td>\n",
       "    </tr>\n",
       "    <tr>\n",
       "      <th>amplitude</th>\n",
       "      <td>517.456317</td>\n",
       "      <td>474.019695</td>\n",
       "      <td>487.604568</td>\n",
       "      <td>488.077902</td>\n",
       "      <td>729.160035</td>\n",
       "    </tr>\n",
       "  </tbody>\n",
       "</table>\n",
       "</div>"
      ],
      "text/plain": [
       "           Linguagens  Ciências humanas  Ciências da natureza  Matemática  \\\n",
       "count      897.000000        936.000000            824.000000  924.000000   \n",
       "mean       514.524809        527.042281            499.315583  535.965660   \n",
       "std         84.009313         77.811519             78.760404   86.648100   \n",
       "min        287.000000        289.900000            314.400000  319.800000   \n",
       "25%        458.360558        475.424546            444.709076  479.172971   \n",
       "50%        515.045250        524.519920            500.479263  533.247767   \n",
       "75%        571.635876        581.401952            548.751678  592.912963   \n",
       "max        804.456317        763.919695            802.004568  807.877902   \n",
       "amplitude  517.456317        474.019695            487.604568  488.077902   \n",
       "\n",
       "               Redação  \n",
       "count       860.000000  \n",
       "mean        637.783532  \n",
       "std         115.339972  \n",
       "min         270.839965  \n",
       "25%         556.468366  \n",
       "50%         635.273973  \n",
       "75%         715.989868  \n",
       "max        1000.000000  \n",
       "amplitude   729.160035  "
      ]
     },
     "execution_count": 53,
     "metadata": {},
     "output_type": "execute_result"
    }
   ],
   "source": [
    "amplitudes(enem)"
   ]
  },
  {
   "cell_type": "code",
   "execution_count": 54,
   "metadata": {},
   "outputs": [],
   "source": [
    "def maior_amplitude(df):\n",
    "    df1 = df.describe()\n",
    "    df1.loc['amplitude'] = df1.loc['max'] - df1.loc['min']\n",
    "    max_amplitude = df1.loc['amplitude'].max()\n",
    "    coluna = df1.columns[df1.isin([max_amplitude]).any()]\n",
    "\n",
    "    return print (f'A maior amplitude é {max_amplitude} que fica na coluna {coluna}')"
   ]
  },
  {
   "cell_type": "code",
   "execution_count": 55,
   "metadata": {},
   "outputs": [
    {
     "name": "stdout",
     "output_type": "stream",
     "text": [
      "A maior amplitude é 729.1600351395 que fica na coluna Index(['Redação'], dtype='object')\n"
     ]
    }
   ],
   "source": [
    "maior_amplitude(enem)"
   ]
  },
  {
   "cell_type": "markdown",
   "metadata": {},
   "source": [
    "2. Qual é a média e a mediana para cada uma das disciplinas? (Lembre-se de remover todos os valores nulos quando considerar a mediana)\n"
   ]
  },
  {
   "cell_type": "code",
   "execution_count": 56,
   "metadata": {},
   "outputs": [
    {
     "data": {
      "text/plain": [
       "Index(['Linguagens', 'Ciências humanas', 'Ciências da natureza', 'Matemática',\n",
       "       'Redação', 'Sexo'],\n",
       "      dtype='object')"
      ]
     },
     "execution_count": 56,
     "metadata": {},
     "output_type": "execute_result"
    }
   ],
   "source": [
    "enem.columns"
   ]
  },
  {
   "cell_type": "code",
   "execution_count": 57,
   "metadata": {},
   "outputs": [],
   "source": [
    "enem_tendencias = enem.dropna(subset=['Linguagens', \n",
    "                                      'Ciências humanas', \n",
    "                                      'Ciências da natureza', \n",
    "                                      'Matemática', \n",
    "                                      'Redação', \n",
    "                                      'Sexo'])"
   ]
  },
  {
   "cell_type": "code",
   "execution_count": 58,
   "metadata": {},
   "outputs": [],
   "source": [
    "enem_tendencias = enem_tendencias.drop(columns=['Sexo'])"
   ]
  },
  {
   "cell_type": "code",
   "execution_count": 59,
   "metadata": {},
   "outputs": [
    {
     "data": {
      "text/html": [
       "<div>\n",
       "<style scoped>\n",
       "    .dataframe tbody tr th:only-of-type {\n",
       "        vertical-align: middle;\n",
       "    }\n",
       "\n",
       "    .dataframe tbody tr th {\n",
       "        vertical-align: top;\n",
       "    }\n",
       "\n",
       "    .dataframe thead th {\n",
       "        text-align: right;\n",
       "    }\n",
       "</style>\n",
       "<table border=\"1\" class=\"dataframe\">\n",
       "  <thead>\n",
       "    <tr style=\"text-align: right;\">\n",
       "      <th></th>\n",
       "      <th>Linguagens</th>\n",
       "      <th>Ciências humanas</th>\n",
       "      <th>Ciências da natureza</th>\n",
       "      <th>Matemática</th>\n",
       "      <th>Redação</th>\n",
       "    </tr>\n",
       "  </thead>\n",
       "  <tbody>\n",
       "    <tr>\n",
       "      <th>0</th>\n",
       "      <td>585.669300</td>\n",
       "      <td>686.512178</td>\n",
       "      <td>390.482473</td>\n",
       "      <td>452.281333</td>\n",
       "      <td>546.371706</td>\n",
       "    </tr>\n",
       "    <tr>\n",
       "      <th>2</th>\n",
       "      <td>622.732384</td>\n",
       "      <td>495.510719</td>\n",
       "      <td>443.183580</td>\n",
       "      <td>669.683401</td>\n",
       "      <td>684.515750</td>\n",
       "    </tr>\n",
       "    <tr>\n",
       "      <th>3</th>\n",
       "      <td>350.164605</td>\n",
       "      <td>602.041588</td>\n",
       "      <td>413.979810</td>\n",
       "      <td>676.608952</td>\n",
       "      <td>671.237114</td>\n",
       "    </tr>\n",
       "    <tr>\n",
       "      <th>4</th>\n",
       "      <td>384.093657</td>\n",
       "      <td>489.249140</td>\n",
       "      <td>609.758123</td>\n",
       "      <td>520.426698</td>\n",
       "      <td>744.375048</td>\n",
       "    </tr>\n",
       "    <tr>\n",
       "      <th>5</th>\n",
       "      <td>616.043360</td>\n",
       "      <td>502.007005</td>\n",
       "      <td>497.777935</td>\n",
       "      <td>615.902547</td>\n",
       "      <td>507.365147</td>\n",
       "    </tr>\n",
       "  </tbody>\n",
       "</table>\n",
       "</div>"
      ],
      "text/plain": [
       "   Linguagens  Ciências humanas  Ciências da natureza  Matemática     Redação\n",
       "0  585.669300        686.512178            390.482473  452.281333  546.371706\n",
       "2  622.732384        495.510719            443.183580  669.683401  684.515750\n",
       "3  350.164605        602.041588            413.979810  676.608952  671.237114\n",
       "4  384.093657        489.249140            609.758123  520.426698  744.375048\n",
       "5  616.043360        502.007005            497.777935  615.902547  507.365147"
      ]
     },
     "execution_count": 59,
     "metadata": {},
     "output_type": "execute_result"
    }
   ],
   "source": [
    "enem_tendencias.head()"
   ]
  },
  {
   "cell_type": "code",
   "execution_count": 60,
   "metadata": {},
   "outputs": [],
   "source": [
    "enem_tendencias2 = pd.DataFrame()"
   ]
  },
  {
   "cell_type": "code",
   "execution_count": 61,
   "metadata": {},
   "outputs": [],
   "source": [
    "enem_tendencias2['Matéria'] = list(enem_tendencias.columns)"
   ]
  },
  {
   "cell_type": "code",
   "execution_count": 62,
   "metadata": {},
   "outputs": [
    {
     "name": "stdout",
     "output_type": "stream",
     "text": [
      "[517.4671621383926, 528.3514542155493, 502.1421008280391, 537.1724797842875, 641.1931234629293]\n"
     ]
    }
   ],
   "source": [
    "lista_medias = []\n",
    "\n",
    "for coluna in enem_tendencias.columns:\n",
    "    lista_medias.append(enem_tendencias[coluna].mean())\n",
    "\n",
    "print(lista_medias)"
   ]
  },
  {
   "cell_type": "code",
   "execution_count": 63,
   "metadata": {},
   "outputs": [],
   "source": [
    "enem_tendencias2['Média'] = lista_medias"
   ]
  },
  {
   "cell_type": "code",
   "execution_count": 64,
   "metadata": {},
   "outputs": [
    {
     "name": "stdout",
     "output_type": "stream",
     "text": [
      "[517.1288314442, 528.50326342525, 502.93520944194995, 532.9614855364, 639.60269114995]\n"
     ]
    }
   ],
   "source": [
    "lista_medianas = []\n",
    "\n",
    "for coluna in enem_tendencias.columns:\n",
    "    lista_medianas.append(enem_tendencias[coluna].median())\n",
    "\n",
    "print(lista_medianas)"
   ]
  },
  {
   "cell_type": "code",
   "execution_count": 65,
   "metadata": {},
   "outputs": [],
   "source": [
    "enem_tendencias2['Mediana'] = lista_medianas"
   ]
  },
  {
   "cell_type": "code",
   "execution_count": 66,
   "metadata": {},
   "outputs": [
    {
     "data": {
      "text/html": [
       "<div>\n",
       "<style scoped>\n",
       "    .dataframe tbody tr th:only-of-type {\n",
       "        vertical-align: middle;\n",
       "    }\n",
       "\n",
       "    .dataframe tbody tr th {\n",
       "        vertical-align: top;\n",
       "    }\n",
       "\n",
       "    .dataframe thead th {\n",
       "        text-align: right;\n",
       "    }\n",
       "</style>\n",
       "<table border=\"1\" class=\"dataframe\">\n",
       "  <thead>\n",
       "    <tr style=\"text-align: right;\">\n",
       "      <th></th>\n",
       "      <th>Matéria</th>\n",
       "      <th>Média</th>\n",
       "      <th>Mediana</th>\n",
       "    </tr>\n",
       "  </thead>\n",
       "  <tbody>\n",
       "    <tr>\n",
       "      <th>0</th>\n",
       "      <td>Linguagens</td>\n",
       "      <td>517.467162</td>\n",
       "      <td>517.128831</td>\n",
       "    </tr>\n",
       "    <tr>\n",
       "      <th>1</th>\n",
       "      <td>Ciências humanas</td>\n",
       "      <td>528.351454</td>\n",
       "      <td>528.503263</td>\n",
       "    </tr>\n",
       "    <tr>\n",
       "      <th>2</th>\n",
       "      <td>Ciências da natureza</td>\n",
       "      <td>502.142101</td>\n",
       "      <td>502.935209</td>\n",
       "    </tr>\n",
       "    <tr>\n",
       "      <th>3</th>\n",
       "      <td>Matemática</td>\n",
       "      <td>537.172480</td>\n",
       "      <td>532.961486</td>\n",
       "    </tr>\n",
       "    <tr>\n",
       "      <th>4</th>\n",
       "      <td>Redação</td>\n",
       "      <td>641.193123</td>\n",
       "      <td>639.602691</td>\n",
       "    </tr>\n",
       "  </tbody>\n",
       "</table>\n",
       "</div>"
      ],
      "text/plain": [
       "                Matéria       Média     Mediana\n",
       "0            Linguagens  517.467162  517.128831\n",
       "1      Ciências humanas  528.351454  528.503263\n",
       "2  Ciências da natureza  502.142101  502.935209\n",
       "3            Matemática  537.172480  532.961486\n",
       "4               Redação  641.193123  639.602691"
      ]
     },
     "execution_count": 66,
     "metadata": {},
     "output_type": "execute_result"
    }
   ],
   "source": [
    "enem_tendencias2.head()"
   ]
  },
  {
   "cell_type": "markdown",
   "metadata": {},
   "source": [
    "3. Considerando o curso de Ciência da Computação da UFPE, onde o peso cada uma das disciplinas ponderado:\n",
    "\n",
    "a. Redação - 2\n",
    "\n",
    "b. Matemática e suas Tecnologias - 4\n",
    "\n",
    "c. Linguagens, Códigos e suas Tecnologias - 2\n",
    "\n",
    "d. Ciências Humanas e suas Tecnologias - 1\n",
    "\n",
    "e. Ciências da Natureza e suas Tecnologias - 1\n",
    "\n",
    "Qual o desvio padrão e média das notas dos 500 estudantes mais bem colocados considerando esses pesos?\n"
   ]
  },
  {
   "cell_type": "code",
   "execution_count": 72,
   "metadata": {},
   "outputs": [
    {
     "data": {
      "text/html": [
       "<div>\n",
       "<style scoped>\n",
       "    .dataframe tbody tr th:only-of-type {\n",
       "        vertical-align: middle;\n",
       "    }\n",
       "\n",
       "    .dataframe tbody tr th {\n",
       "        vertical-align: top;\n",
       "    }\n",
       "\n",
       "    .dataframe thead th {\n",
       "        text-align: right;\n",
       "    }\n",
       "</style>\n",
       "<table border=\"1\" class=\"dataframe\">\n",
       "  <thead>\n",
       "    <tr style=\"text-align: right;\">\n",
       "      <th></th>\n",
       "      <th>Linguagens</th>\n",
       "      <th>Ciências humanas</th>\n",
       "      <th>Ciências da natureza</th>\n",
       "      <th>Matemática</th>\n",
       "      <th>Redação</th>\n",
       "    </tr>\n",
       "  </thead>\n",
       "  <tbody>\n",
       "    <tr>\n",
       "      <th>0</th>\n",
       "      <td>585.669300</td>\n",
       "      <td>686.512178</td>\n",
       "      <td>390.482473</td>\n",
       "      <td>452.281333</td>\n",
       "      <td>546.371706</td>\n",
       "    </tr>\n",
       "    <tr>\n",
       "      <th>2</th>\n",
       "      <td>622.732384</td>\n",
       "      <td>495.510719</td>\n",
       "      <td>443.183580</td>\n",
       "      <td>669.683401</td>\n",
       "      <td>684.515750</td>\n",
       "    </tr>\n",
       "    <tr>\n",
       "      <th>3</th>\n",
       "      <td>350.164605</td>\n",
       "      <td>602.041588</td>\n",
       "      <td>413.979810</td>\n",
       "      <td>676.608952</td>\n",
       "      <td>671.237114</td>\n",
       "    </tr>\n",
       "    <tr>\n",
       "      <th>4</th>\n",
       "      <td>384.093657</td>\n",
       "      <td>489.249140</td>\n",
       "      <td>609.758123</td>\n",
       "      <td>520.426698</td>\n",
       "      <td>744.375048</td>\n",
       "    </tr>\n",
       "    <tr>\n",
       "      <th>5</th>\n",
       "      <td>616.043360</td>\n",
       "      <td>502.007005</td>\n",
       "      <td>497.777935</td>\n",
       "      <td>615.902547</td>\n",
       "      <td>507.365147</td>\n",
       "    </tr>\n",
       "  </tbody>\n",
       "</table>\n",
       "</div>"
      ],
      "text/plain": [
       "   Linguagens  Ciências humanas  Ciências da natureza  Matemática     Redação\n",
       "0  585.669300        686.512178            390.482473  452.281333  546.371706\n",
       "2  622.732384        495.510719            443.183580  669.683401  684.515750\n",
       "3  350.164605        602.041588            413.979810  676.608952  671.237114\n",
       "4  384.093657        489.249140            609.758123  520.426698  744.375048\n",
       "5  616.043360        502.007005            497.777935  615.902547  507.365147"
      ]
     },
     "execution_count": 72,
     "metadata": {},
     "output_type": "execute_result"
    }
   ],
   "source": [
    "enem_tendencias.head()"
   ]
  },
  {
   "cell_type": "code",
   "execution_count": 73,
   "metadata": {},
   "outputs": [],
   "source": [
    "enem_ponderado = enem_tendencias.copy()"
   ]
  },
  {
   "cell_type": "code",
   "execution_count": 74,
   "metadata": {},
   "outputs": [],
   "source": [
    "enem_ponderado[\"Linguagens\"] = enem_ponderado[\"Linguagens\"] * 2"
   ]
  },
  {
   "cell_type": "code",
   "execution_count": 75,
   "metadata": {},
   "outputs": [],
   "source": [
    "enem_ponderado[\"Matemática\"] = enem_ponderado[\"Matemática\"] * 4\n",
    "enem_ponderado[\"Redação\"] = enem_ponderado[\"Redação\"] * 2"
   ]
  },
  {
   "cell_type": "code",
   "execution_count": 77,
   "metadata": {},
   "outputs": [
    {
     "data": {
      "text/html": [
       "<div>\n",
       "<style scoped>\n",
       "    .dataframe tbody tr th:only-of-type {\n",
       "        vertical-align: middle;\n",
       "    }\n",
       "\n",
       "    .dataframe tbody tr th {\n",
       "        vertical-align: top;\n",
       "    }\n",
       "\n",
       "    .dataframe thead th {\n",
       "        text-align: right;\n",
       "    }\n",
       "</style>\n",
       "<table border=\"1\" class=\"dataframe\">\n",
       "  <thead>\n",
       "    <tr style=\"text-align: right;\">\n",
       "      <th></th>\n",
       "      <th>Linguagens</th>\n",
       "      <th>Ciências humanas</th>\n",
       "      <th>Ciências da natureza</th>\n",
       "      <th>Matemática</th>\n",
       "      <th>Redação</th>\n",
       "    </tr>\n",
       "  </thead>\n",
       "  <tbody>\n",
       "    <tr>\n",
       "      <th>0</th>\n",
       "      <td>1171.338599</td>\n",
       "      <td>686.512178</td>\n",
       "      <td>390.482473</td>\n",
       "      <td>1809.125330</td>\n",
       "      <td>1092.743412</td>\n",
       "    </tr>\n",
       "    <tr>\n",
       "      <th>2</th>\n",
       "      <td>1245.464768</td>\n",
       "      <td>495.510719</td>\n",
       "      <td>443.183580</td>\n",
       "      <td>2678.733603</td>\n",
       "      <td>1369.031501</td>\n",
       "    </tr>\n",
       "    <tr>\n",
       "      <th>3</th>\n",
       "      <td>700.329209</td>\n",
       "      <td>602.041588</td>\n",
       "      <td>413.979810</td>\n",
       "      <td>2706.435806</td>\n",
       "      <td>1342.474229</td>\n",
       "    </tr>\n",
       "    <tr>\n",
       "      <th>4</th>\n",
       "      <td>768.187315</td>\n",
       "      <td>489.249140</td>\n",
       "      <td>609.758123</td>\n",
       "      <td>2081.706791</td>\n",
       "      <td>1488.750095</td>\n",
       "    </tr>\n",
       "    <tr>\n",
       "      <th>5</th>\n",
       "      <td>1232.086720</td>\n",
       "      <td>502.007005</td>\n",
       "      <td>497.777935</td>\n",
       "      <td>2463.610189</td>\n",
       "      <td>1014.730294</td>\n",
       "    </tr>\n",
       "  </tbody>\n",
       "</table>\n",
       "</div>"
      ],
      "text/plain": [
       "    Linguagens  Ciências humanas  Ciências da natureza   Matemática  \\\n",
       "0  1171.338599        686.512178            390.482473  1809.125330   \n",
       "2  1245.464768        495.510719            443.183580  2678.733603   \n",
       "3   700.329209        602.041588            413.979810  2706.435806   \n",
       "4   768.187315        489.249140            609.758123  2081.706791   \n",
       "5  1232.086720        502.007005            497.777935  2463.610189   \n",
       "\n",
       "       Redação  \n",
       "0  1092.743412  \n",
       "2  1369.031501  \n",
       "3  1342.474229  \n",
       "4  1488.750095  \n",
       "5  1014.730294  "
      ]
     },
     "execution_count": 77,
     "metadata": {},
     "output_type": "execute_result"
    }
   ],
   "source": [
    "enem_ponderado.head()"
   ]
  },
  {
   "cell_type": "code",
   "execution_count": 78,
   "metadata": {},
   "outputs": [],
   "source": [
    "enem_ponderado[\"Média ponderada\"] = enem_ponderado.loc[0:].sum(axis=1) / 10"
   ]
  },
  {
   "cell_type": "code",
   "execution_count": 79,
   "metadata": {},
   "outputs": [
    {
     "data": {
      "text/plain": [
       "25     682.987732\n",
       "824    680.103191\n",
       "702    671.265814\n",
       "129    664.384364\n",
       "60     658.597791\n",
       "          ...    \n",
       "400    491.878059\n",
       "160    491.409454\n",
       "529    491.032952\n",
       "386    490.069750\n",
       "384    489.969900\n",
       "Name: Média ponderada, Length: 500, dtype: float64"
      ]
     },
     "execution_count": 79,
     "metadata": {},
     "output_type": "execute_result"
    }
   ],
   "source": [
    "enem_ponderado[\"Média ponderada\"].sort_values(ascending=False).head(500)"
   ]
  },
  {
   "cell_type": "code",
   "execution_count": 80,
   "metadata": {},
   "outputs": [
    {
     "data": {
      "text/plain": [
       "557.2896772018769"
      ]
     },
     "execution_count": 80,
     "metadata": {},
     "output_type": "execute_result"
    }
   ],
   "source": [
    "enem_ponderado['Média ponderada'].sort_values(ascending=False).head(500).mean() #média dos 500 alunos mais bem colocados"
   ]
  },
  {
   "cell_type": "code",
   "execution_count": 81,
   "metadata": {},
   "outputs": [
    {
     "data": {
      "text/plain": [
       "40.435866299464266"
      ]
     },
     "execution_count": 81,
     "metadata": {},
     "output_type": "execute_result"
    }
   ],
   "source": [
    "enem_ponderado['Média ponderada'].sort_values(ascending=False).head(500).std() #desvio padrão dos 500 alunos mais bem colocados"
   ]
  },
  {
   "cell_type": "markdown",
   "metadata": {},
   "source": [
    "4. Se todos esses estudantes aplicassem para ciência da computação e existem apenas 40 vagas, qual seria a variância e média da nota dos estudantes que entraram no curso de ciência da computação?\n"
   ]
  },
  {
   "cell_type": "code",
   "execution_count": 82,
   "metadata": {},
   "outputs": [
    {
     "data": {
      "text/plain": [
       "636.6827415075188"
      ]
     },
     "execution_count": 82,
     "metadata": {},
     "output_type": "execute_result"
    }
   ],
   "source": [
    "enem_ponderado['Média ponderada'].sort_values(ascending=False).head(40).mean() #média dos 40 alunos mais bem colocados"
   ]
  },
  {
   "cell_type": "code",
   "execution_count": 83,
   "metadata": {},
   "outputs": [
    {
     "data": {
      "text/plain": [
       "295.76750360041024"
      ]
     },
     "execution_count": 83,
     "metadata": {},
     "output_type": "execute_result"
    }
   ],
   "source": [
    "enem_ponderado['Média ponderada'].sort_values(ascending=False).head(40).var() #variância dos 40 alunos mais bem colocados"
   ]
  },
  {
   "cell_type": "markdown",
   "metadata": {},
   "source": [
    "5. Qual o valor do teto do terceiro quartil para as disciplinas de matemática e linguagens? \n"
   ]
  },
  {
   "cell_type": "code",
   "execution_count": 84,
   "metadata": {},
   "outputs": [
    {
     "data": {
      "text/html": [
       "<div>\n",
       "<style scoped>\n",
       "    .dataframe tbody tr th:only-of-type {\n",
       "        vertical-align: middle;\n",
       "    }\n",
       "\n",
       "    .dataframe tbody tr th {\n",
       "        vertical-align: top;\n",
       "    }\n",
       "\n",
       "    .dataframe thead th {\n",
       "        text-align: right;\n",
       "    }\n",
       "</style>\n",
       "<table border=\"1\" class=\"dataframe\">\n",
       "  <thead>\n",
       "    <tr style=\"text-align: right;\">\n",
       "      <th></th>\n",
       "      <th>Matemática</th>\n",
       "      <th>Linguagens</th>\n",
       "    </tr>\n",
       "  </thead>\n",
       "  <tbody>\n",
       "    <tr>\n",
       "      <th>count</th>\n",
       "      <td>548.000000</td>\n",
       "      <td>548.000000</td>\n",
       "    </tr>\n",
       "    <tr>\n",
       "      <th>mean</th>\n",
       "      <td>537.172480</td>\n",
       "      <td>517.467162</td>\n",
       "    </tr>\n",
       "    <tr>\n",
       "      <th>std</th>\n",
       "      <td>87.850751</td>\n",
       "      <td>82.113520</td>\n",
       "    </tr>\n",
       "    <tr>\n",
       "      <th>min</th>\n",
       "      <td>319.800000</td>\n",
       "      <td>287.000000</td>\n",
       "    </tr>\n",
       "    <tr>\n",
       "      <th>25%</th>\n",
       "      <td>477.018471</td>\n",
       "      <td>462.647968</td>\n",
       "    </tr>\n",
       "    <tr>\n",
       "      <th>50%</th>\n",
       "      <td>532.961486</td>\n",
       "      <td>517.128831</td>\n",
       "    </tr>\n",
       "    <tr>\n",
       "      <th>75%</th>\n",
       "      <td>591.335247</td>\n",
       "      <td>572.645407</td>\n",
       "    </tr>\n",
       "    <tr>\n",
       "      <th>max</th>\n",
       "      <td>807.877902</td>\n",
       "      <td>804.456317</td>\n",
       "    </tr>\n",
       "  </tbody>\n",
       "</table>\n",
       "</div>"
      ],
      "text/plain": [
       "       Matemática  Linguagens\n",
       "count  548.000000  548.000000\n",
       "mean   537.172480  517.467162\n",
       "std     87.850751   82.113520\n",
       "min    319.800000  287.000000\n",
       "25%    477.018471  462.647968\n",
       "50%    532.961486  517.128831\n",
       "75%    591.335247  572.645407\n",
       "max    807.877902  804.456317"
      ]
     },
     "execution_count": 84,
     "metadata": {},
     "output_type": "execute_result"
    }
   ],
   "source": [
    "enem_tendencias[['Matemática', 'Linguagens']].describe()"
   ]
  },
  {
   "cell_type": "markdown",
   "metadata": {},
   "source": [
    "6. Faça o histograma de Redação e Linguagens, de 20 em 20 pontos. Podemos dizer que são histogramas simétricos, justifique e classifique se não assimétricas?\n"
   ]
  },
  {
   "cell_type": "code",
   "execution_count": 85,
   "metadata": {},
   "outputs": [
    {
     "data": {
      "text/html": [
       "<div>\n",
       "<style scoped>\n",
       "    .dataframe tbody tr th:only-of-type {\n",
       "        vertical-align: middle;\n",
       "    }\n",
       "\n",
       "    .dataframe tbody tr th {\n",
       "        vertical-align: top;\n",
       "    }\n",
       "\n",
       "    .dataframe thead th {\n",
       "        text-align: right;\n",
       "    }\n",
       "</style>\n",
       "<table border=\"1\" class=\"dataframe\">\n",
       "  <thead>\n",
       "    <tr style=\"text-align: right;\">\n",
       "      <th></th>\n",
       "      <th>Linguagens</th>\n",
       "      <th>Ciências humanas</th>\n",
       "      <th>Ciências da natureza</th>\n",
       "      <th>Matemática</th>\n",
       "      <th>Redação</th>\n",
       "    </tr>\n",
       "  </thead>\n",
       "  <tbody>\n",
       "    <tr>\n",
       "      <th>0</th>\n",
       "      <td>585.669300</td>\n",
       "      <td>686.512178</td>\n",
       "      <td>390.482473</td>\n",
       "      <td>452.281333</td>\n",
       "      <td>546.371706</td>\n",
       "    </tr>\n",
       "    <tr>\n",
       "      <th>2</th>\n",
       "      <td>622.732384</td>\n",
       "      <td>495.510719</td>\n",
       "      <td>443.183580</td>\n",
       "      <td>669.683401</td>\n",
       "      <td>684.515750</td>\n",
       "    </tr>\n",
       "    <tr>\n",
       "      <th>3</th>\n",
       "      <td>350.164605</td>\n",
       "      <td>602.041588</td>\n",
       "      <td>413.979810</td>\n",
       "      <td>676.608952</td>\n",
       "      <td>671.237114</td>\n",
       "    </tr>\n",
       "    <tr>\n",
       "      <th>4</th>\n",
       "      <td>384.093657</td>\n",
       "      <td>489.249140</td>\n",
       "      <td>609.758123</td>\n",
       "      <td>520.426698</td>\n",
       "      <td>744.375048</td>\n",
       "    </tr>\n",
       "    <tr>\n",
       "      <th>5</th>\n",
       "      <td>616.043360</td>\n",
       "      <td>502.007005</td>\n",
       "      <td>497.777935</td>\n",
       "      <td>615.902547</td>\n",
       "      <td>507.365147</td>\n",
       "    </tr>\n",
       "  </tbody>\n",
       "</table>\n",
       "</div>"
      ],
      "text/plain": [
       "   Linguagens  Ciências humanas  Ciências da natureza  Matemática     Redação\n",
       "0  585.669300        686.512178            390.482473  452.281333  546.371706\n",
       "2  622.732384        495.510719            443.183580  669.683401  684.515750\n",
       "3  350.164605        602.041588            413.979810  676.608952  671.237114\n",
       "4  384.093657        489.249140            609.758123  520.426698  744.375048\n",
       "5  616.043360        502.007005            497.777935  615.902547  507.365147"
      ]
     },
     "execution_count": 85,
     "metadata": {},
     "output_type": "execute_result"
    }
   ],
   "source": [
    "enem_tendencias.head()"
   ]
  },
  {
   "cell_type": "code",
   "execution_count": 86,
   "metadata": {},
   "outputs": [
    {
     "data": {
      "image/png": "[encoded data removed]",
      "text/plain": [
       "<Figure size 640x480 with 1 Axes>"
      ]
     },
     "metadata": {},
     "output_type": "display_data"
    }
   ],
   "source": [
    "plt.hist(enem_tendencias['Linguagens'], bins = 20)\n",
    "plt.title(\"Histograma das notas de linguagens\")\n",
    "plt.show()"
   ]
  },
  {
   "cell_type": "code",
   "execution_count": 87,
   "metadata": {},
   "outputs": [
    {
     "data": {
      "image/png": "[encoded data removed]",
      "text/plain": [
       "<Figure size 640x480 with 1 Axes>"
      ]
     },
     "metadata": {},
     "output_type": "display_data"
    }
   ],
   "source": [
    "plt.hist(enem_tendencias['Redação'], bins = 20)\n",
    "plt.title(\"Histograma das notas de Redação\")\n",
    "plt.show()"
   ]
  },
  {
   "cell_type": "markdown",
   "metadata": {},
   "source": [
    "7. Agora coloque um range fixo de 0 até 1000, você ainda tem a mesma opinião quanto a simetria? [plt.hist(dado, bins=_, range=[0, 1000])\n"
   ]
  },
  {
   "cell_type": "code",
   "execution_count": 88,
   "metadata": {},
   "outputs": [
    {
     "data": {
      "image/png": "[encoded data removed]",
      "text/plain": [
       "<Figure size 640x480 with 1 Axes>"
      ]
     },
     "metadata": {},
     "output_type": "display_data"
    }
   ],
   "source": [
    "plt.hist(enem_tendencias['Linguagens'], bins = 20, range = [0,1000])\n",
    "plt.title(\"Histograma das notas de linguagens\")\n",
    "plt.show()"
   ]
  },
  {
   "cell_type": "code",
   "execution_count": 89,
   "metadata": {},
   "outputs": [
    {
     "data": {
      "image/png": "[encoded data removed]",
      "text/plain": [
       "<Figure size 640x480 with 1 Axes>"
      ]
     },
     "metadata": {},
     "output_type": "display_data"
    }
   ],
   "source": [
    "plt.hist(enem_tendencias['Redação'], bins = 20, range = [0,1000])\n",
    "plt.title(\"Histograma das notas de Redação\")\n",
    "plt.show()"
   ]
  },
  {
   "cell_type": "markdown",
   "metadata": {},
   "source": [
    "8. Faça um boxplot do quartil de todas as disciplinas de ciências da natureza e redação. É possível enxergar outliers? Utilize o método IQR.\n"
   ]
  },
  {
   "cell_type": "code",
   "execution_count": 90,
   "metadata": {},
   "outputs": [
    {
     "data": {
      "text/plain": [
       "Text(0.5, 1.0, 'Boxplot: Redação')"
      ]
     },
     "execution_count": 90,
     "metadata": {},
     "output_type": "execute_result"
    },
    {
     "data": {
      "image/png": "[encoded data removed]",
      "text/plain": [
       "<Figure size 640x480 with 1 Axes>"
      ]
     },
     "metadata": {},
     "output_type": "display_data"
    }
   ],
   "source": [
    "plt.figure()\n",
    "sns.boxplot(data = enem_tendencias, x= 'Redação', color = 'cyan', showfliers=True)\n",
    "plt.title(\"Boxplot: Redação\")"
   ]
  },
  {
   "cell_type": "code",
   "execution_count": 91,
   "metadata": {},
   "outputs": [
    {
     "data": {
      "text/plain": [
       "Text(0.5, 1.0, 'Boxplot: Ciências Humanas')"
      ]
     },
     "execution_count": 91,
     "metadata": {},
     "output_type": "execute_result"
    },
    {
     "data": {
      "image/png": "[encoded data removed]",
      "text/plain": [
       "<Figure size 640x480 with 1 Axes>"
      ]
     },
     "metadata": {},
     "output_type": "display_data"
    }
   ],
   "source": [
    "plt.figure()\n",
    "sns.boxplot(data = enem_tendencias, x = 'Ciências humanas', color = 'red', showfliers = True)\n",
    "plt.title('Boxplot: Ciências Humanas')\n"
   ]
  },
  {
   "cell_type": "code",
   "execution_count": 93,
   "metadata": {},
   "outputs": [
    {
     "data": {
      "text/plain": [
       "Text(0.5, 1.0, 'Boxplot: Ciências da natureza')"
      ]
     },
     "execution_count": 93,
     "metadata": {},
     "output_type": "execute_result"
    },
    {
     "data": {
      "image/png": "[encoded data removed]",
      "text/plain": [
       "<Figure size 640x480 with 1 Axes>"
      ]
     },
     "metadata": {},
     "output_type": "display_data"
    }
   ],
   "source": [
    "plt.figure()\n",
    "sns.boxenplot(data = enem_tendencias, x = 'Ciências da natureza', color = 'blue', showfliers=True)\n",
    "plt.title('Boxplot: Ciências da natureza')\n"
   ]
  },
  {
   "cell_type": "code",
   "execution_count": 94,
   "metadata": {},
   "outputs": [],
   "source": [
    "def find_outlier_iqr(dataset, colname):\n",
    "    q25, q75 = np.quantile(dataset[colname], 0.25), np.quantile(dataset[colname], 0.75)\n",
    "\n",
    "    #calcula iqr\n",
    "    iqr = q75 - q25\n",
    "\n",
    "    #calcula outlier cutoff\n",
    "    cut_off = iqr * 1.5\n",
    "\n",
    "    #calcula margens inferiores, lower e superiores upper\n",
    "    lower, upper = q25 - cut_off, q75 + cut_off\n",
    "    print (' IQR é: ', iqr)\n",
    "\n",
    "    outliers = []\n",
    "\n",
    "    for i in dataset[colname].values:\n",
    "      if((i > upper)or(i < lower)):\n",
    "        outliers.append(i)\n",
    "        \n",
    "    print('O numero de outliers encontrado foi de', len(outliers))\n",
    "    return lower, upper, outliers"
   ]
  },
  {
   "cell_type": "code",
   "execution_count": 95,
   "metadata": {},
   "outputs": [
    {
     "name": "stdout",
     "output_type": "stream",
     "text": [
      " IQR é:  102.26240025932503\n",
      "O numero de outliers encontrado foi de 2\n"
     ]
    },
    {
     "data": {
      "text/plain": [
       "(296.6045346095625, 705.6541356468626, [802.0045683513, 732.5029639878])"
      ]
     },
     "execution_count": 95,
     "metadata": {},
     "output_type": "execute_result"
    }
   ],
   "source": [
    "find_outlier_iqr(enem_tendencias, \"Ciências da natureza\")"
   ]
  },
  {
   "cell_type": "code",
   "execution_count": 96,
   "metadata": {},
   "outputs": [
    {
     "name": "stdout",
     "output_type": "stream",
     "text": [
      " IQR é:  102.26240025932503\n",
      "O numero de outliers encontrado foi de 2\n"
     ]
    },
    {
     "data": {
      "text/plain": [
       "<Figure size 1000x600 with 0 Axes>"
      ]
     },
     "metadata": {},
     "output_type": "display_data"
    },
    {
     "data": {
      "image/png": "[encoded data removed]",
      "text/plain": [
       "<Figure size 500x500 with 1 Axes>"
      ]
     },
     "metadata": {},
     "output_type": "display_data"
    }
   ],
   "source": [
    "lower, upper, out = find_outlier_iqr(enem_tendencias, \"Ciências da natureza\")\n",
    "\n",
    "if (len(out)> 0):\n",
    "    plt.figure(figsize=(10,6))\n",
    "    sns.displot(enem_tendencias['Ciências da natureza'], kde = False)\n",
    "    plt.axvspan(xmin=lower, xmax = enem_tendencias['Ciências da natureza'].min(), alpha=0.2, color='red')\n",
    "    plt.axvspan(xmin = upper, xmax = enem_tendencias['Ciências da natureza'].max(), alpha=0.2, color='red')\n",
    "    plt.title(\"Outliers detectados em {}\".format(\"Ciências da natureza\"))"
   ]
  },
  {
   "cell_type": "code",
   "execution_count": 97,
   "metadata": {},
   "outputs": [
    {
     "name": "stdout",
     "output_type": "stream",
     "text": [
      " IQR é:  108.25660959517495\n",
      "O numero de outliers encontrado foi de 3\n"
     ]
    },
    {
     "data": {
      "text/plain": [
       "(313.4737071952626, 746.5001455759624, [748.8395773643, 763.9196954613, 289.9])"
      ]
     },
     "execution_count": 97,
     "metadata": {},
     "output_type": "execute_result"
    }
   ],
   "source": [
    "find_outlier_iqr(enem_tendencias, \"Ciências humanas\")"
   ]
  },
  {
   "cell_type": "code",
   "execution_count": 98,
   "metadata": {},
   "outputs": [
    {
     "name": "stdout",
     "output_type": "stream",
     "text": [
      " IQR é:  108.25660959517495\n",
      "O numero de outliers encontrado foi de 3\n"
     ]
    },
    {
     "data": {
      "text/plain": [
       "<Figure size 1000x600 with 0 Axes>"
      ]
     },
     "metadata": {},
     "output_type": "display_data"
    },
    {
     "data": {
      "image/png": "[encoded data removed]",
      "text/plain": [
       "<Figure size 500x500 with 1 Axes>"
      ]
     },
     "metadata": {},
     "output_type": "display_data"
    }
   ],
   "source": [
    "lower, upper, out =  find_outlier_iqr(enem_tendencias, \"Ciências humanas\")\n",
    "if (len(out) > 0):\n",
    "   plt.figure(figsize = (10,6))\n",
    "   sns.displot(enem_tendencias[\"Ciências da natureza\"], kde=False)\n",
    "   plt.axvspan(xmin = lower,xmax= enem_tendencias[\"Ciências humanas\"].min(),alpha=0.2, color='red')\n",
    "   plt.axvspan(xmin = upper,xmax= enem_tendencias[\"Ciências humanas\"].max(),alpha=0.2, color='red')\n",
    "   plt.title(\"Outliers detectados em {}\".format(\"Ciências humanas\"))"
   ]
  },
  {
   "cell_type": "code",
   "execution_count": 99,
   "metadata": {},
   "outputs": [
    {
     "name": "stdout",
     "output_type": "stream",
     "text": [
      " IQR é:  157.02513490047488\n",
      "O numero de outliers encontrado foi de 1\n"
     ]
    },
    {
     "data": {
      "text/plain": [
       "(322.98725564181274, 951.0877952437122, [290.3086081677])"
      ]
     },
     "execution_count": 99,
     "metadata": {},
     "output_type": "execute_result"
    }
   ],
   "source": [
    "find_outlier_iqr(enem_tendencias, \"Redação\")"
   ]
  },
  {
   "cell_type": "code",
   "execution_count": 100,
   "metadata": {},
   "outputs": [
    {
     "name": "stdout",
     "output_type": "stream",
     "text": [
      " IQR é:  157.02513490047488\n",
      "O numero de outliers encontrado foi de 1\n"
     ]
    },
    {
     "data": {
      "text/plain": [
       "<Figure size 1000x600 with 0 Axes>"
      ]
     },
     "metadata": {},
     "output_type": "display_data"
    },
    {
     "data": {
      "image/png": "[encoded data removed]",
      "text/plain": [
       "<Figure size 500x500 with 1 Axes>"
      ]
     },
     "metadata": {},
     "output_type": "display_data"
    }
   ],
   "source": [
    "lower, upper, out =  find_outlier_iqr(enem_tendencias, \"Redação\")\n",
    "if (len(out) > 0):\n",
    "   plt.figure(figsize = (10,6))\n",
    "   sns.displot(enem_tendencias[\"Redação\"], kde=False)\n",
    "   plt.axvspan(xmin = lower,xmax= enem_tendencias[\"Redação\"].min(),alpha=0.2, color='red')\n",
    "   plt.axvspan(xmin = upper,xmax= enem_tendencias[\"Redação\"].max(),alpha=0.2, color='red')\n",
    "   plt.title(\"Outliers detectados em {}\".format(\"Redação\"))"
   ]
  },
  {
   "cell_type": "markdown",
   "metadata": {},
   "source": [
    "9. Remova todos os outliers e verifique se eles são passíveis de alterar a média nacional significativamente? (considere significativamente um valor acima de 5%)\n"
   ]
  },
  {
   "cell_type": "code",
   "execution_count": 101,
   "metadata": {},
   "outputs": [
    {
     "data": {
      "text/plain": [
       "Linguagens              517.467162\n",
       "Ciências humanas        528.351454\n",
       "Ciências da natureza    502.142101\n",
       "Matemática              537.172480\n",
       "Redação                 641.193123\n",
       "dtype: float64"
      ]
     },
     "execution_count": 101,
     "metadata": {},
     "output_type": "execute_result"
    }
   ],
   "source": [
    "enem_tendencias.mean()"
   ]
  },
  {
   "cell_type": "code",
   "execution_count": 102,
   "metadata": {},
   "outputs": [],
   "source": [
    "enem_outlier_redacao = enem_tendencias.copy()"
   ]
  },
  {
   "cell_type": "code",
   "execution_count": 104,
   "metadata": {},
   "outputs": [],
   "source": [
    "enem_outlier_redacao = enem_outlier_redacao[enem_outlier_redacao.Redação != 290.3086081677]"
   ]
  },
  {
   "cell_type": "code",
   "execution_count": 105,
   "metadata": {},
   "outputs": [
    {
     "data": {
      "text/plain": [
       "641.8345942404343"
      ]
     },
     "execution_count": 105,
     "metadata": {},
     "output_type": "execute_result"
    }
   ],
   "source": [
    "enem_outlier_redacao['Redação'].mean()"
   ]
  },
  {
   "cell_type": "code",
   "execution_count": 106,
   "metadata": {},
   "outputs": [],
   "source": [
    "enem_outlier_natureza = enem_tendencias.copy()"
   ]
  },
  {
   "cell_type": "code",
   "execution_count": 107,
   "metadata": {},
   "outputs": [],
   "source": [
    "outliers_natureza = (802.0045683513, 732.5029639878)"
   ]
  },
  {
   "cell_type": "code",
   "execution_count": 108,
   "metadata": {},
   "outputs": [],
   "source": [
    "enem_outlier_natureza = enem_outlier_natureza[enem_outlier_natureza[\"Ciências da natureza\"].isin(outliers_natureza) == False]"
   ]
  },
  {
   "cell_type": "code",
   "execution_count": 109,
   "metadata": {},
   "outputs": [
    {
     "data": {
      "text/plain": [
       "501.17099582678804"
      ]
     },
     "execution_count": 109,
     "metadata": {},
     "output_type": "execute_result"
    }
   ],
   "source": [
    "enem_outlier_natureza['Ciências da natureza'].mean()"
   ]
  },
  {
   "cell_type": "code",
   "execution_count": 110,
   "metadata": {},
   "outputs": [],
   "source": [
    "enem_outlier_humanas = enem_tendencias.copy()"
   ]
  },
  {
   "cell_type": "code",
   "execution_count": 111,
   "metadata": {},
   "outputs": [],
   "source": [
    "outliers_humanas = [748.8395773643, 763.9196954613, 289.9]"
   ]
  },
  {
   "cell_type": "code",
   "execution_count": 112,
   "metadata": {},
   "outputs": [],
   "source": [
    "enem_outlier_humanas = enem_outlier_humanas[enem_outlier_humanas[\"Ciências humanas\"].isin(outliers_humanas) == False]"
   ]
  },
  {
   "cell_type": "code",
   "execution_count": 113,
   "metadata": {},
   "outputs": [
    {
     "data": {
      "text/plain": [
       "527.9521791510007"
      ]
     },
     "execution_count": 113,
     "metadata": {},
     "output_type": "execute_result"
    }
   ],
   "source": [
    "enem_outlier_humanas[\"Ciências humanas\"].mean()"
   ]
  },
  {
   "cell_type": "code",
   "execution_count": 114,
   "metadata": {},
   "outputs": [],
   "source": [
    "def porcentagem_diferenca(val1, val2):\n",
    "    diferenca = abs(val1 - val2)\n",
    "    media = (val1 + val2) / 2\n",
    "    porcentagem = diferenca / media * 100\n",
    "    return print(f\"A diferença dos dois valores é de aproximadamente {porcentagem:.4f}%.\")"
   ]
  },
  {
   "cell_type": "code",
   "execution_count": 115,
   "metadata": {},
   "outputs": [
    {
     "name": "stdout",
     "output_type": "stream",
     "text": [
      "A diferença dos dois valores é de aproximadamente 0.1000%.\n"
     ]
    }
   ],
   "source": [
    "porcentagem_diferenca(enem_tendencias[\"Redação\"].mean(), enem_outlier_redacao[\"Redação\"].mean())"
   ]
  },
  {
   "cell_type": "code",
   "execution_count": 116,
   "metadata": {},
   "outputs": [
    {
     "name": "stdout",
     "output_type": "stream",
     "text": [
      "A diferença dos dois valores é de aproximadamente 0.0233%.\n"
     ]
    }
   ],
   "source": [
    "porcentagem_diferenca(enem_tendencias[\"Ciências da natureza\"].mean(), enem_outlier_redacao[\"Ciências da natureza\"].mean())"
   ]
  },
  {
   "cell_type": "code",
   "execution_count": 117,
   "metadata": {},
   "outputs": [
    {
     "name": "stdout",
     "output_type": "stream",
     "text": [
      "A diferença dos dois valores é de aproximadamente 0.0114%.\n"
     ]
    }
   ],
   "source": [
    "porcentagem_diferenca(enem_tendencias[\"Ciências humanas\"].mean(), enem_outlier_redacao[\"Ciências humanas\"].mean())"
   ]
  },
  {
   "cell_type": "markdown",
   "metadata": {},
   "source": [
    "10. Considerando valores nulos, tente encontrar qual seria a melhor medida de tendência que pode substituir as notas nulas. Média, moda ou mediana? Substitua o valor por todos os três e diga qual delas altera menos a média geral e o desvio padrão."
   ]
  },
  {
   "cell_type": "code",
   "execution_count": 118,
   "metadata": {},
   "outputs": [
    {
     "data": {
      "text/plain": [
       "Linguagens              514.524809\n",
       "Ciências humanas        527.042281\n",
       "Ciências da natureza    499.315583\n",
       "Matemática              535.965660\n",
       "Redação                 637.783532\n",
       "dtype: float64"
      ]
     },
     "execution_count": 118,
     "metadata": {},
     "output_type": "execute_result"
    }
   ],
   "source": [
    "enem.mean(numeric_only=True)"
   ]
  },
  {
   "cell_type": "code",
   "execution_count": 119,
   "metadata": {},
   "outputs": [],
   "source": [
    "def substituicao_media(database):\n",
    "    for coluna in database.columns:\n",
    "        media = database[coluna].mean()\n",
    "        database.head()\n",
    "        database[coluna] = database[coluna].fillna(media)\n",
    "    return database.mean()"
   ]
  },
  {
   "cell_type": "code",
   "execution_count": 120,
   "metadata": {},
   "outputs": [],
   "source": [
    "def substituicao_mediana(database):\n",
    "    for coluna in database.columns:\n",
    "        mediana = database[coluna].median()\n",
    "        database[coluna] = database[coluna].fillna(mediana)\n",
    "    return database.mean()"
   ]
  },
  {
   "cell_type": "code",
   "execution_count": 121,
   "metadata": {},
   "outputs": [],
   "source": [
    "def substituicao_moda(database):\n",
    "    for coluna in database.columns:\n",
    "        moda = database[coluna].mode()[0]\n",
    "        database[coluna] = database[coluna].fillna(moda)\n",
    "    return database.mean()"
   ]
  },
  {
   "cell_type": "code",
   "execution_count": 123,
   "metadata": {},
   "outputs": [],
   "source": [
    "enem_substituicao_medias = enem.drop(columns=[\"Sexo\"])"
   ]
  },
  {
   "cell_type": "code",
   "execution_count": 124,
   "metadata": {},
   "outputs": [],
   "source": [
    "enem_substituicao_mediana = enem.drop(columns=[\"Sexo\"])"
   ]
  },
  {
   "cell_type": "code",
   "execution_count": 125,
   "metadata": {},
   "outputs": [],
   "source": [
    "enem_substituicao_moda = enem.drop(columns=[\"Sexo\"])"
   ]
  },
  {
   "cell_type": "code",
   "execution_count": 126,
   "metadata": {},
   "outputs": [
    {
     "data": {
      "text/plain": [
       "Linguagens              514.524809\n",
       "Ciências humanas        527.042281\n",
       "Ciências da natureza    499.315583\n",
       "Matemática              535.965660\n",
       "Redação                 637.783532\n",
       "dtype: float64"
      ]
     },
     "execution_count": 126,
     "metadata": {},
     "output_type": "execute_result"
    }
   ],
   "source": [
    "substituicao_media(enem_substituicao_medias)"
   ]
  },
  {
   "cell_type": "code",
   "execution_count": 127,
   "metadata": {},
   "outputs": [
    {
     "data": {
      "text/plain": [
       "Linguagens              514.578415\n",
       "Ciências humanas        526.880850\n",
       "Ciências da natureza    499.520391\n",
       "Matemática              535.759100\n",
       "Redação                 637.432194\n",
       "dtype: float64"
      ]
     },
     "execution_count": 127,
     "metadata": {},
     "output_type": "execute_result"
    }
   ],
   "source": [
    "substituicao_mediana(enem_substituicao_mediana)"
   ]
  },
  {
   "cell_type": "code",
   "execution_count": 128,
   "metadata": {},
   "outputs": [
    {
     "data": {
      "text/plain": [
       "Linguagens              491.089754\n",
       "Ciências humanas        511.865175\n",
       "Ciências da natureza    466.770440\n",
       "Matemática              519.537070\n",
       "Redação                 586.411433\n",
       "dtype: float64"
      ]
     },
     "execution_count": 128,
     "metadata": {},
     "output_type": "execute_result"
    }
   ],
   "source": [
    "substituicao_moda(enem_substituicao_moda)"
   ]
  },
  {
   "cell_type": "code",
   "execution_count": 129,
   "metadata": {},
   "outputs": [
    {
     "data": {
      "text/html": [
       "<div>\n",
       "<style scoped>\n",
       "    .dataframe tbody tr th:only-of-type {\n",
       "        vertical-align: middle;\n",
       "    }\n",
       "\n",
       "    .dataframe tbody tr th {\n",
       "        vertical-align: top;\n",
       "    }\n",
       "\n",
       "    .dataframe thead th {\n",
       "        text-align: right;\n",
       "    }\n",
       "</style>\n",
       "<table border=\"1\" class=\"dataframe\">\n",
       "  <thead>\n",
       "    <tr style=\"text-align: right;\">\n",
       "      <th></th>\n",
       "      <th>Linguagens</th>\n",
       "      <th>Ciências humanas</th>\n",
       "      <th>Ciências da natureza</th>\n",
       "      <th>Matemática</th>\n",
       "      <th>Redação</th>\n",
       "      <th>Sexo</th>\n",
       "    </tr>\n",
       "  </thead>\n",
       "  <tbody>\n",
       "    <tr>\n",
       "      <th>0</th>\n",
       "      <td>585.669300</td>\n",
       "      <td>686.512178</td>\n",
       "      <td>390.482473</td>\n",
       "      <td>452.281333</td>\n",
       "      <td>546.371706</td>\n",
       "      <td>Homem</td>\n",
       "    </tr>\n",
       "    <tr>\n",
       "      <th>1</th>\n",
       "      <td>359.384608</td>\n",
       "      <td>642.084134</td>\n",
       "      <td>NaN</td>\n",
       "      <td>412.205207</td>\n",
       "      <td>741.825256</td>\n",
       "      <td>Mulher</td>\n",
       "    </tr>\n",
       "    <tr>\n",
       "      <th>2</th>\n",
       "      <td>622.732384</td>\n",
       "      <td>495.510719</td>\n",
       "      <td>443.183580</td>\n",
       "      <td>669.683401</td>\n",
       "      <td>684.515750</td>\n",
       "      <td>Homem</td>\n",
       "    </tr>\n",
       "    <tr>\n",
       "      <th>3</th>\n",
       "      <td>350.164605</td>\n",
       "      <td>602.041588</td>\n",
       "      <td>413.979810</td>\n",
       "      <td>676.608952</td>\n",
       "      <td>671.237114</td>\n",
       "      <td>Homem</td>\n",
       "    </tr>\n",
       "    <tr>\n",
       "      <th>4</th>\n",
       "      <td>384.093657</td>\n",
       "      <td>489.249140</td>\n",
       "      <td>609.758123</td>\n",
       "      <td>520.426698</td>\n",
       "      <td>744.375048</td>\n",
       "      <td>Homem</td>\n",
       "    </tr>\n",
       "  </tbody>\n",
       "</table>\n",
       "</div>"
      ],
      "text/plain": [
       "   Linguagens  Ciências humanas  Ciências da natureza  Matemática     Redação  \\\n",
       "0  585.669300        686.512178            390.482473  452.281333  546.371706   \n",
       "1  359.384608        642.084134                   NaN  412.205207  741.825256   \n",
       "2  622.732384        495.510719            443.183580  669.683401  684.515750   \n",
       "3  350.164605        602.041588            413.979810  676.608952  671.237114   \n",
       "4  384.093657        489.249140            609.758123  520.426698  744.375048   \n",
       "\n",
       "     Sexo  \n",
       "0   Homem  \n",
       "1  Mulher  \n",
       "2   Homem  \n",
       "3   Homem  \n",
       "4   Homem  "
      ]
     },
     "execution_count": 129,
     "metadata": {},
     "output_type": "execute_result"
    }
   ],
   "source": [
    "enem.head()"
   ]
  },
  {
   "cell_type": "code",
   "execution_count": 130,
   "metadata": {},
   "outputs": [
    {
     "data": {
      "text/html": [
       "<div>\n",
       "<style scoped>\n",
       "    .dataframe tbody tr th:only-of-type {\n",
       "        vertical-align: middle;\n",
       "    }\n",
       "\n",
       "    .dataframe tbody tr th {\n",
       "        vertical-align: top;\n",
       "    }\n",
       "\n",
       "    .dataframe thead th {\n",
       "        text-align: right;\n",
       "    }\n",
       "</style>\n",
       "<table border=\"1\" class=\"dataframe\">\n",
       "  <thead>\n",
       "    <tr style=\"text-align: right;\">\n",
       "      <th></th>\n",
       "      <th>Linguagens</th>\n",
       "      <th>Ciências humanas</th>\n",
       "      <th>Ciências da natureza</th>\n",
       "      <th>Matemática</th>\n",
       "      <th>Redação</th>\n",
       "    </tr>\n",
       "  </thead>\n",
       "  <tbody>\n",
       "    <tr>\n",
       "      <th>0</th>\n",
       "      <td>585.669300</td>\n",
       "      <td>686.512178</td>\n",
       "      <td>390.482473</td>\n",
       "      <td>452.281333</td>\n",
       "      <td>546.371706</td>\n",
       "    </tr>\n",
       "    <tr>\n",
       "      <th>1</th>\n",
       "      <td>359.384608</td>\n",
       "      <td>642.084134</td>\n",
       "      <td>499.315583</td>\n",
       "      <td>412.205207</td>\n",
       "      <td>741.825256</td>\n",
       "    </tr>\n",
       "    <tr>\n",
       "      <th>2</th>\n",
       "      <td>622.732384</td>\n",
       "      <td>495.510719</td>\n",
       "      <td>443.183580</td>\n",
       "      <td>669.683401</td>\n",
       "      <td>684.515750</td>\n",
       "    </tr>\n",
       "    <tr>\n",
       "      <th>3</th>\n",
       "      <td>350.164605</td>\n",
       "      <td>602.041588</td>\n",
       "      <td>413.979810</td>\n",
       "      <td>676.608952</td>\n",
       "      <td>671.237114</td>\n",
       "    </tr>\n",
       "    <tr>\n",
       "      <th>4</th>\n",
       "      <td>384.093657</td>\n",
       "      <td>489.249140</td>\n",
       "      <td>609.758123</td>\n",
       "      <td>520.426698</td>\n",
       "      <td>744.375048</td>\n",
       "    </tr>\n",
       "  </tbody>\n",
       "</table>\n",
       "</div>"
      ],
      "text/plain": [
       "   Linguagens  Ciências humanas  Ciências da natureza  Matemática     Redação\n",
       "0  585.669300        686.512178            390.482473  452.281333  546.371706\n",
       "1  359.384608        642.084134            499.315583  412.205207  741.825256\n",
       "2  622.732384        495.510719            443.183580  669.683401  684.515750\n",
       "3  350.164605        602.041588            413.979810  676.608952  671.237114\n",
       "4  384.093657        489.249140            609.758123  520.426698  744.375048"
      ]
     },
     "execution_count": 130,
     "metadata": {},
     "output_type": "execute_result"
    }
   ],
   "source": [
    "enem_substituicao_medias.head()"
   ]
  },
  {
   "cell_type": "code",
   "execution_count": 131,
   "metadata": {},
   "outputs": [
    {
     "data": {
      "text/html": [
       "<div>\n",
       "<style scoped>\n",
       "    .dataframe tbody tr th:only-of-type {\n",
       "        vertical-align: middle;\n",
       "    }\n",
       "\n",
       "    .dataframe tbody tr th {\n",
       "        vertical-align: top;\n",
       "    }\n",
       "\n",
       "    .dataframe thead th {\n",
       "        text-align: right;\n",
       "    }\n",
       "</style>\n",
       "<table border=\"1\" class=\"dataframe\">\n",
       "  <thead>\n",
       "    <tr style=\"text-align: right;\">\n",
       "      <th></th>\n",
       "      <th>Linguagens</th>\n",
       "      <th>Ciências humanas</th>\n",
       "      <th>Ciências da natureza</th>\n",
       "      <th>Matemática</th>\n",
       "      <th>Redação</th>\n",
       "    </tr>\n",
       "  </thead>\n",
       "  <tbody>\n",
       "    <tr>\n",
       "      <th>0</th>\n",
       "      <td>585.669300</td>\n",
       "      <td>686.512178</td>\n",
       "      <td>390.482473</td>\n",
       "      <td>452.281333</td>\n",
       "      <td>546.371706</td>\n",
       "    </tr>\n",
       "    <tr>\n",
       "      <th>1</th>\n",
       "      <td>359.384608</td>\n",
       "      <td>642.084134</td>\n",
       "      <td>500.479263</td>\n",
       "      <td>412.205207</td>\n",
       "      <td>741.825256</td>\n",
       "    </tr>\n",
       "    <tr>\n",
       "      <th>2</th>\n",
       "      <td>622.732384</td>\n",
       "      <td>495.510719</td>\n",
       "      <td>443.183580</td>\n",
       "      <td>669.683401</td>\n",
       "      <td>684.515750</td>\n",
       "    </tr>\n",
       "    <tr>\n",
       "      <th>3</th>\n",
       "      <td>350.164605</td>\n",
       "      <td>602.041588</td>\n",
       "      <td>413.979810</td>\n",
       "      <td>676.608952</td>\n",
       "      <td>671.237114</td>\n",
       "    </tr>\n",
       "    <tr>\n",
       "      <th>4</th>\n",
       "      <td>384.093657</td>\n",
       "      <td>489.249140</td>\n",
       "      <td>609.758123</td>\n",
       "      <td>520.426698</td>\n",
       "      <td>744.375048</td>\n",
       "    </tr>\n",
       "  </tbody>\n",
       "</table>\n",
       "</div>"
      ],
      "text/plain": [
       "   Linguagens  Ciências humanas  Ciências da natureza  Matemática     Redação\n",
       "0  585.669300        686.512178            390.482473  452.281333  546.371706\n",
       "1  359.384608        642.084134            500.479263  412.205207  741.825256\n",
       "2  622.732384        495.510719            443.183580  669.683401  684.515750\n",
       "3  350.164605        602.041588            413.979810  676.608952  671.237114\n",
       "4  384.093657        489.249140            609.758123  520.426698  744.375048"
      ]
     },
     "execution_count": 131,
     "metadata": {},
     "output_type": "execute_result"
    }
   ],
   "source": [
    "enem_substituicao_mediana.head()"
   ]
  },
  {
   "cell_type": "code",
   "execution_count": 132,
   "metadata": {},
   "outputs": [
    {
     "data": {
      "text/html": [
       "<div>\n",
       "<style scoped>\n",
       "    .dataframe tbody tr th:only-of-type {\n",
       "        vertical-align: middle;\n",
       "    }\n",
       "\n",
       "    .dataframe tbody tr th {\n",
       "        vertical-align: top;\n",
       "    }\n",
       "\n",
       "    .dataframe thead th {\n",
       "        text-align: right;\n",
       "    }\n",
       "</style>\n",
       "<table border=\"1\" class=\"dataframe\">\n",
       "  <thead>\n",
       "    <tr style=\"text-align: right;\">\n",
       "      <th></th>\n",
       "      <th>Linguagens</th>\n",
       "      <th>Ciências humanas</th>\n",
       "      <th>Ciências da natureza</th>\n",
       "      <th>Matemática</th>\n",
       "      <th>Redação</th>\n",
       "    </tr>\n",
       "  </thead>\n",
       "  <tbody>\n",
       "    <tr>\n",
       "      <th>0</th>\n",
       "      <td>585.669300</td>\n",
       "      <td>686.512178</td>\n",
       "      <td>390.482473</td>\n",
       "      <td>452.281333</td>\n",
       "      <td>546.371706</td>\n",
       "    </tr>\n",
       "    <tr>\n",
       "      <th>1</th>\n",
       "      <td>359.384608</td>\n",
       "      <td>642.084134</td>\n",
       "      <td>314.400000</td>\n",
       "      <td>412.205207</td>\n",
       "      <td>741.825256</td>\n",
       "    </tr>\n",
       "    <tr>\n",
       "      <th>2</th>\n",
       "      <td>622.732384</td>\n",
       "      <td>495.510719</td>\n",
       "      <td>443.183580</td>\n",
       "      <td>669.683401</td>\n",
       "      <td>684.515750</td>\n",
       "    </tr>\n",
       "    <tr>\n",
       "      <th>3</th>\n",
       "      <td>350.164605</td>\n",
       "      <td>602.041588</td>\n",
       "      <td>413.979810</td>\n",
       "      <td>676.608952</td>\n",
       "      <td>671.237114</td>\n",
       "    </tr>\n",
       "    <tr>\n",
       "      <th>4</th>\n",
       "      <td>384.093657</td>\n",
       "      <td>489.249140</td>\n",
       "      <td>609.758123</td>\n",
       "      <td>520.426698</td>\n",
       "      <td>744.375048</td>\n",
       "    </tr>\n",
       "  </tbody>\n",
       "</table>\n",
       "</div>"
      ],
      "text/plain": [
       "   Linguagens  Ciências humanas  Ciências da natureza  Matemática     Redação\n",
       "0  585.669300        686.512178            390.482473  452.281333  546.371706\n",
       "1  359.384608        642.084134            314.400000  412.205207  741.825256\n",
       "2  622.732384        495.510719            443.183580  669.683401  684.515750\n",
       "3  350.164605        602.041588            413.979810  676.608952  671.237114\n",
       "4  384.093657        489.249140            609.758123  520.426698  744.375048"
      ]
     },
     "execution_count": 132,
     "metadata": {},
     "output_type": "execute_result"
    }
   ],
   "source": [
    "enem_substituicao_moda.head()"
   ]
  },
  {
   "cell_type": "code",
   "execution_count": 133,
   "metadata": {},
   "outputs": [],
   "source": [
    "def porcentagem_diferenca_colunas(database1, database2):\n",
    "    for coluna in database1.columns:\n",
    "        diferenca = abs(database1[coluna].mean() - database2[coluna].mean())\n",
    "        media = (database1[coluna].mean() + database2[coluna].mean()) / 2\n",
    "        porcentagem = diferenca / media * 100\n",
    "        print(f\"A diferença da média das duas colunas é de aproximadamente {porcentagem:.4f}%.\")\n",
    "    return "
   ]
  },
  {
   "cell_type": "code",
   "execution_count": 134,
   "metadata": {},
   "outputs": [
    {
     "name": "stdout",
     "output_type": "stream",
     "text": [
      "A diferença da média das duas colunas é de aproximadamente 0.0000%.\n",
      "A diferença da média das duas colunas é de aproximadamente 0.0000%.\n",
      "A diferença da média das duas colunas é de aproximadamente 0.0000%.\n",
      "A diferença da média das duas colunas é de aproximadamente 0.0000%.\n",
      "A diferença da média das duas colunas é de aproximadamente 0.0000%.\n"
     ]
    }
   ],
   "source": [
    "porcentagem_diferenca_colunas(enem_substituicao_medias, enem)"
   ]
  },
  {
   "cell_type": "code",
   "execution_count": 135,
   "metadata": {},
   "outputs": [
    {
     "name": "stdout",
     "output_type": "stream",
     "text": [
      "A diferença da média das duas colunas é de aproximadamente 0.0104%.\n",
      "A diferença da média das duas colunas é de aproximadamente 0.0306%.\n",
      "A diferença da média das duas colunas é de aproximadamente 0.0410%.\n",
      "A diferença da média das duas colunas é de aproximadamente 0.0385%.\n",
      "A diferença da média das duas colunas é de aproximadamente 0.0551%.\n"
     ]
    }
   ],
   "source": [
    "porcentagem_diferenca_colunas(enem_substituicao_mediana, enem)"
   ]
  },
  {
   "cell_type": "code",
   "execution_count": 136,
   "metadata": {},
   "outputs": [
    {
     "name": "stdout",
     "output_type": "stream",
     "text": [
      "A diferença da média das duas colunas é de aproximadamente 4.6608%.\n",
      "A diferença da média das duas colunas é de aproximadamente 2.9217%.\n",
      "A diferença da média das duas colunas é de aproximadamente 6.7375%.\n",
      "A diferença da média das duas colunas é de aproximadamente 3.1129%.\n",
      "A diferença da média das duas colunas é de aproximadamente 8.3928%.\n"
     ]
    }
   ],
   "source": [
    "porcentagem_diferenca_colunas(enem_substituicao_moda, enem)"
   ]
  }
 ],
 "metadata": {
  "kernelspec": {
   "display_name": "Python 3",
   "language": "python",
   "name": "python3"
  },
  "language_info": {
   "codemirror_mode": {
    "name": "ipython",
    "version": 3
   },
   "file_extension": ".py",
   "mimetype": "text/x-python",
   "name": "python",
   "nbconvert_exporter": "python",
   "pygments_lexer": "ipython3",
   "version": "3.10.13"
  }
 },
 "nbformat": 4,
 "nbformat_minor": 2
}
