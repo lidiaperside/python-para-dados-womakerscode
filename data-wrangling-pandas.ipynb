{
 "cells": [
  {
   "cell_type": "markdown",
   "metadata": {},
   "source": [
    "Data Wrangling -> Manipulação ou Tratamento de Dados\n",
    "\n",
    "Exploração -> Limpeza -> Transformação -> Análise (modelos de ML, dashboard)"
   ]
  },
  {
   "cell_type": "markdown",
   "metadata": {},
   "source": [
    "Exploração e coleta de dados\n",
    "\n",
    "Verificação dos tipos de dados das características, valores únicos e descrição dos dados"
   ]
  },
  {
   "cell_type": "markdown",
   "metadata": {},
   "source": [
    "Limpeza de Dados\n",
    "\n",
    "Com a limpeza de dados, é garantido: \n",
    "- qualidade,\n",
    "- consistêcia,\n",
    "- integridade, \n",
    "- padronização,\n",
    "- melhor precisão,\n",
    "- melhor eficiência,\n",
    "- prevenção de viés,\n",
    "- conformidade com regulamentação"
   ]
  },
  {
   "cell_type": "markdown",
   "metadata": {},
   "source": [
    "Manipulando o dataframe para limpeza:\n",
    "\n",
    "- Remove colunas e linhas: o pandas oferece uma maneira prática de remover colunas ou linhas indesejadas de um dataframe usando o drop()\n",
    "- Mudando o index: é possível utilizar um campo de identificação com valores únicos nos dados como seu indíce\n",
    "- Remove duplicados"
   ]
  },
  {
   "cell_type": "markdown",
   "metadata": {},
   "source": [
    "Lidando com dados faltosos (missing data)\n",
    "\n",
    "- Identificar dados ausentes: antes de lidar com dados ausentes, é importante identificá-los. df.isna() identifica celulas com valores nules\n",
    "- Remover dados ausentes: se a quantidade de dados ausentes for pequena e não compromete a análise, pode ser optado em remover as linhas ou colunas correspondentes\n",
    "- Preencher dados ausentes: pode ser especificado o conteúdo do que se quer substituir o dado ausente utilizando o método fillna(). Métodos mais avançados, como média e mediana para dados faltosos também podem ser utilizados\n",
    "- Imputação Estatística: os dados ausentes são preenchidos tomando como base os modelos estatísticos"
   ]
  },
  {
   "cell_type": "markdown",
   "metadata": {},
   "source": [
    "Transformação:\n",
    "\n",
    "- Tratamento de valores ausentes: preencher ou remover valores ausentes para evitar problemas durante a análise\n",
    "- Codificação de variáveis categóricos: converter variáveis categóricos em uma forma numérica, como one-hot enconding, para que possam ser utilizadas em algoritmos de machine learning\n",
    "- Normalização ou padronização: escalar valores numéricos para uma escala comum, como normalização (escala de 0 a 1) ou padronização (média 0, desvio padrão 1)\n",
    "- Conversão de tipos de dados: garantir que os tipos de dados das colunas estão corretos para a análise, convertendo string em datas, números inteiros, etc\n",
    "- Remoção de dados duplicados: identificar e remover entradas duplicadas podem prejudicar a precisão da análise\n",
    "- Agregação de dados: agrupar dados com base em determinadas características e calcular estatísticas agregadas como média, soma, minimo ou máximo\n",
    "- Criação de novas variáveis (feature engineering): criar novas variáveis que podem ser mais informativas para a análise, como calcular a idade a partir da data de nascimento \n",
    "- Divisão de dados: separar conjuntos de dados em subconjuntos como base em condições específicas\n",
    "- Renomeação de colunas: modificar os nomes das colunas para torná-los mais descritivos e compreensíveis\n",
    "- Mudança do formato do dataframe: reorganizar ou pivotar o dataframe para facilitar a análise ou a criação de visualizações"
   ]
  },
  {
   "cell_type": "code",
   "execution_count": null,
   "metadata": {},
   "outputs": [],
   "source": []
  },
  {
   "cell_type": "code",
   "execution_count": null,
   "metadata": {},
   "outputs": [],
   "source": []
  }
 ],
 "metadata": {
  "language_info": {
   "name": "python"
  }
 },
 "nbformat": 4,
 "nbformat_minor": 2
}
