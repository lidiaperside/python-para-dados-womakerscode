{
 "cells": [
  {
   "cell_type": "markdown",
   "metadata": {},
   "source": [
    "Estatística - Probabilidade e Amostragem \n",
    "\n",
    "Considerando a base de dados de populacao_brasileira.json responda as questões abaixo (os dados são fictícios).\n",
    "Você é uma pesquisadora desenvolvendo uma análise sobre as características da força de trabalho nos estados brasileiros. Responda as perguntas abaixo:\n"
   ]
  },
  {
   "cell_type": "code",
   "execution_count": 1,
   "metadata": {},
   "outputs": [],
   "source": [
    "import pandas as pd\n",
    "import numpy as np\n",
    "\n",
    "import seaborn as sns\n",
    "import matplotlib.pyplot as plt\n",
    "\n",
    "import scipy.stats as stat"
   ]
  },
  {
   "cell_type": "code",
   "execution_count": 2,
   "metadata": {},
   "outputs": [],
   "source": [
    "populacao = pd.read_csv('populacao_brasileira.csv')"
   ]
  },
  {
   "cell_type": "markdown",
   "metadata": {},
   "source": [
    "1. Considere pessoas fluentes em inglês, qual a probabilidade complementar? Ou seja, qual a probabilidade de escolhermos uma pessoa aleatória e ela não ser fluente em inglês. Considere fluente quem tem o nível avançado.\n"
   ]
  },
  {
   "cell_type": "code",
   "execution_count": 3,
   "metadata": {},
   "outputs": [
    {
     "data": {
      "text/html": [
       "<div>\n",
       "<style scoped>\n",
       "    .dataframe tbody tr th:only-of-type {\n",
       "        vertical-align: middle;\n",
       "    }\n",
       "\n",
       "    .dataframe tbody tr th {\n",
       "        vertical-align: top;\n",
       "    }\n",
       "\n",
       "    .dataframe thead th {\n",
       "        text-align: right;\n",
       "    }\n",
       "</style>\n",
       "<table border=\"1\" class=\"dataframe\">\n",
       "  <thead>\n",
       "    <tr style=\"text-align: right;\">\n",
       "      <th></th>\n",
       "      <th>Unnamed: 0</th>\n",
       "      <th>estado</th>\n",
       "      <th>idade</th>\n",
       "      <th>escolaridade</th>\n",
       "      <th>nível de proficiência em inglês</th>\n",
       "      <th>renda</th>\n",
       "      <th>sexo</th>\n",
       "    </tr>\n",
       "  </thead>\n",
       "  <tbody>\n",
       "    <tr>\n",
       "      <th>0</th>\n",
       "      <td>0</td>\n",
       "      <td>MA</td>\n",
       "      <td>56</td>\n",
       "      <td>Fundamental</td>\n",
       "      <td>Intermediário</td>\n",
       "      <td>4006.29</td>\n",
       "      <td>F</td>\n",
       "    </tr>\n",
       "    <tr>\n",
       "      <th>1</th>\n",
       "      <td>1</td>\n",
       "      <td>BA</td>\n",
       "      <td>46</td>\n",
       "      <td>Superior</td>\n",
       "      <td>Básico</td>\n",
       "      <td>2423.11</td>\n",
       "      <td>M</td>\n",
       "    </tr>\n",
       "    <tr>\n",
       "      <th>2</th>\n",
       "      <td>2</td>\n",
       "      <td>AM</td>\n",
       "      <td>32</td>\n",
       "      <td>Fundamental</td>\n",
       "      <td>Intermediário</td>\n",
       "      <td>3835.69</td>\n",
       "      <td>M</td>\n",
       "    </tr>\n",
       "    <tr>\n",
       "      <th>3</th>\n",
       "      <td>3</td>\n",
       "      <td>CE</td>\n",
       "      <td>60</td>\n",
       "      <td>Superior</td>\n",
       "      <td>Básico</td>\n",
       "      <td>1870.29</td>\n",
       "      <td>M</td>\n",
       "    </tr>\n",
       "    <tr>\n",
       "      <th>4</th>\n",
       "      <td>4</td>\n",
       "      <td>SE</td>\n",
       "      <td>25</td>\n",
       "      <td>Fundamental</td>\n",
       "      <td>Avançado</td>\n",
       "      <td>3529.80</td>\n",
       "      <td>M</td>\n",
       "    </tr>\n",
       "  </tbody>\n",
       "</table>\n",
       "</div>"
      ],
      "text/plain": [
       "   Unnamed: 0 estado  idade escolaridade nível de proficiência em inglês  \\\n",
       "0           0     MA     56  Fundamental                   Intermediário   \n",
       "1           1     BA     46     Superior                          Básico   \n",
       "2           2     AM     32  Fundamental                   Intermediário   \n",
       "3           3     CE     60     Superior                          Básico   \n",
       "4           4     SE     25  Fundamental                        Avançado   \n",
       "\n",
       "     renda sexo  \n",
       "0  4006.29    F  \n",
       "1  2423.11    M  \n",
       "2  3835.69    M  \n",
       "3  1870.29    M  \n",
       "4  3529.80    M  "
      ]
     },
     "execution_count": 3,
     "metadata": {},
     "output_type": "execute_result"
    }
   ],
   "source": [
    "populacao.head()"
   ]
  },
  {
   "cell_type": "code",
   "execution_count": 4,
   "metadata": {},
   "outputs": [
    {
     "data": {
      "text/plain": [
       "1000"
      ]
     },
     "execution_count": 4,
     "metadata": {},
     "output_type": "execute_result"
    }
   ],
   "source": [
    "populacao.shape[0]"
   ]
  },
  {
   "cell_type": "code",
   "execution_count": 5,
   "metadata": {},
   "outputs": [
    {
     "data": {
      "text/plain": [
       "Index(['Unnamed: 0', 'estado', 'idade', 'escolaridade',\n",
       "       'nível de proficiência em inglês', 'renda', 'sexo'],\n",
       "      dtype='object')"
      ]
     },
     "execution_count": 5,
     "metadata": {},
     "output_type": "execute_result"
    }
   ],
   "source": [
    "populacao.columns"
   ]
  },
  {
   "cell_type": "code",
   "execution_count": 6,
   "metadata": {},
   "outputs": [],
   "source": [
    "populacao.drop('Unnamed: 0', axis='columns', inplace=True)"
   ]
  },
  {
   "cell_type": "code",
   "execution_count": 7,
   "metadata": {},
   "outputs": [],
   "source": [
    "fluencia = ['Avançado']\n",
    "fluencia_mask = populacao['nível de proficiência em inglês'].isin(fluencia)"
   ]
  },
  {
   "cell_type": "code",
   "execution_count": 8,
   "metadata": {},
   "outputs": [
    {
     "data": {
      "text/plain": [
       "344"
      ]
     },
     "execution_count": 8,
     "metadata": {},
     "output_type": "execute_result"
    }
   ],
   "source": [
    "populacao[fluencia_mask].shape[0]"
   ]
  },
  {
   "cell_type": "code",
   "execution_count": 9,
   "metadata": {},
   "outputs": [],
   "source": [
    "probabilidade_fluencia = populacao[fluencia_mask].shape[0]/populacao.shape[0]"
   ]
  },
  {
   "cell_type": "code",
   "execution_count": 10,
   "metadata": {},
   "outputs": [
    {
     "name": "stdout",
     "output_type": "stream",
     "text": [
      "65.60000000000001\n"
     ]
    }
   ],
   "source": [
    "probabilidade_complementar_fluencia = 1 - probabilidade_fluencia\n",
    "print(probabilidade_complementar_fluencia * 100)"
   ]
  },
  {
   "cell_type": "markdown",
   "metadata": {},
   "source": [
    "2. Se uma pessoa escolhida aleatoriamente for de Alagoas ou do Pará, qual é a probabilidade de ela ter uma renda superior a 5 mil reais?\n"
   ]
  },
  {
   "cell_type": "code",
   "execution_count": 11,
   "metadata": {},
   "outputs": [],
   "source": [
    "AL_PA = ['AL', 'PA']\n",
    "AL_PA_mask = populacao['estado'].isin(AL_PA)"
   ]
  },
  {
   "cell_type": "code",
   "execution_count": 12,
   "metadata": {},
   "outputs": [
    {
     "data": {
      "text/plain": [
       "79"
      ]
     },
     "execution_count": 12,
     "metadata": {},
     "output_type": "execute_result"
    }
   ],
   "source": [
    "populacao[AL_PA_mask].shape[0]"
   ]
  },
  {
   "cell_type": "code",
   "execution_count": 13,
   "metadata": {},
   "outputs": [
    {
     "name": "stderr",
     "output_type": "stream",
     "text": [
      "/tmp/ipykernel_15728/3926858937.py:1: UserWarning: Boolean Series key will be reindexed to match DataFrame index.\n",
      "  populacao[AL_PA_mask][populacao['renda'] > 5000.00].shape[0] #Quantidade de pessoas que são do AL ou PA, com renda superior a 5000.00\n"
     ]
    },
    {
     "data": {
      "text/plain": [
       "4"
      ]
     },
     "execution_count": 13,
     "metadata": {},
     "output_type": "execute_result"
    }
   ],
   "source": [
    "populacao[AL_PA_mask][populacao['renda'] > 5000.00].shape[0] #Quantidade de pessoas que são do AL ou PA, com renda superior a 5000.00"
   ]
  },
  {
   "cell_type": "code",
   "execution_count": 14,
   "metadata": {},
   "outputs": [
    {
     "name": "stderr",
     "output_type": "stream",
     "text": [
      "/tmp/ipykernel_15728/1883281988.py:1: UserWarning: Boolean Series key will be reindexed to match DataFrame index.\n",
      "  probabilidade_ALPA_renda = (populacao[AL_PA_mask][populacao['renda'] > 5000.00].shape[0] / populacao[AL_PA_mask].shape[0]) * 100\n"
     ]
    }
   ],
   "source": [
    "probabilidade_ALPA_renda = (populacao[AL_PA_mask][populacao['renda'] > 5000.00].shape[0] / populacao[AL_PA_mask].shape[0]) * 100"
   ]
  },
  {
   "cell_type": "code",
   "execution_count": 15,
   "metadata": {},
   "outputs": [
    {
     "name": "stdout",
     "output_type": "stream",
     "text": [
      "A probabilidade de uma pessoa do AL ou PA ter uma renda superior a 5 mil é de 5.063291139240507%.\n"
     ]
    }
   ],
   "source": [
    "print(f'A probabilidade de uma pessoa do AL ou PA ter uma renda superior a 5 mil é de {probabilidade_ALPA_renda}%.')"
   ]
  },
  {
   "cell_type": "markdown",
   "metadata": {},
   "source": [
    "3. Descubra a probabilidade de uma pessoa ter ensino superior completo no estado do Amazonas. Qual a probabilidade da quinta pessoa que você conversar, que é amazonense, ter ensino superior completo?\n"
   ]
  },
  {
   "cell_type": "code",
   "execution_count": 16,
   "metadata": {},
   "outputs": [],
   "source": [
    "populacao_AM = populacao[populacao['estado'] == \"AM\"]"
   ]
  },
  {
   "cell_type": "code",
   "execution_count": 17,
   "metadata": {},
   "outputs": [
    {
     "data": {
      "text/html": [
       "<div>\n",
       "<style scoped>\n",
       "    .dataframe tbody tr th:only-of-type {\n",
       "        vertical-align: middle;\n",
       "    }\n",
       "\n",
       "    .dataframe tbody tr th {\n",
       "        vertical-align: top;\n",
       "    }\n",
       "\n",
       "    .dataframe thead th {\n",
       "        text-align: right;\n",
       "    }\n",
       "</style>\n",
       "<table border=\"1\" class=\"dataframe\">\n",
       "  <thead>\n",
       "    <tr style=\"text-align: right;\">\n",
       "      <th></th>\n",
       "      <th>estado</th>\n",
       "      <th>idade</th>\n",
       "      <th>escolaridade</th>\n",
       "      <th>nível de proficiência em inglês</th>\n",
       "      <th>renda</th>\n",
       "      <th>sexo</th>\n",
       "    </tr>\n",
       "  </thead>\n",
       "  <tbody>\n",
       "    <tr>\n",
       "      <th>2</th>\n",
       "      <td>AM</td>\n",
       "      <td>32</td>\n",
       "      <td>Fundamental</td>\n",
       "      <td>Intermediário</td>\n",
       "      <td>3835.69</td>\n",
       "      <td>M</td>\n",
       "    </tr>\n",
       "    <tr>\n",
       "      <th>5</th>\n",
       "      <td>AM</td>\n",
       "      <td>38</td>\n",
       "      <td>Fundamental</td>\n",
       "      <td>Avançado</td>\n",
       "      <td>4441.57</td>\n",
       "      <td>F</td>\n",
       "    </tr>\n",
       "    <tr>\n",
       "      <th>13</th>\n",
       "      <td>AM</td>\n",
       "      <td>57</td>\n",
       "      <td>Médio</td>\n",
       "      <td>Básico</td>\n",
       "      <td>2844.32</td>\n",
       "      <td>M</td>\n",
       "    </tr>\n",
       "    <tr>\n",
       "      <th>23</th>\n",
       "      <td>AM</td>\n",
       "      <td>38</td>\n",
       "      <td>Médio</td>\n",
       "      <td>Intermediário</td>\n",
       "      <td>5075.40</td>\n",
       "      <td>M</td>\n",
       "    </tr>\n",
       "    <tr>\n",
       "      <th>45</th>\n",
       "      <td>AM</td>\n",
       "      <td>31</td>\n",
       "      <td>Pós-graduação</td>\n",
       "      <td>Básico</td>\n",
       "      <td>5270.69</td>\n",
       "      <td>F</td>\n",
       "    </tr>\n",
       "    <tr>\n",
       "      <th>54</th>\n",
       "      <td>AM</td>\n",
       "      <td>25</td>\n",
       "      <td>Superior</td>\n",
       "      <td>Intermediário</td>\n",
       "      <td>3478.98</td>\n",
       "      <td>M</td>\n",
       "    </tr>\n",
       "    <tr>\n",
       "      <th>97</th>\n",
       "      <td>AM</td>\n",
       "      <td>41</td>\n",
       "      <td>Superior</td>\n",
       "      <td>Intermediário</td>\n",
       "      <td>1345.14</td>\n",
       "      <td>F</td>\n",
       "    </tr>\n",
       "    <tr>\n",
       "      <th>149</th>\n",
       "      <td>AM</td>\n",
       "      <td>21</td>\n",
       "      <td>Superior</td>\n",
       "      <td>Básico</td>\n",
       "      <td>2625.18</td>\n",
       "      <td>F</td>\n",
       "    </tr>\n",
       "    <tr>\n",
       "      <th>195</th>\n",
       "      <td>AM</td>\n",
       "      <td>49</td>\n",
       "      <td>Fundamental</td>\n",
       "      <td>Básico</td>\n",
       "      <td>1297.42</td>\n",
       "      <td>M</td>\n",
       "    </tr>\n",
       "    <tr>\n",
       "      <th>230</th>\n",
       "      <td>AM</td>\n",
       "      <td>33</td>\n",
       "      <td>Pós-graduação</td>\n",
       "      <td>Intermediário</td>\n",
       "      <td>2373.03</td>\n",
       "      <td>M</td>\n",
       "    </tr>\n",
       "    <tr>\n",
       "      <th>248</th>\n",
       "      <td>AM</td>\n",
       "      <td>57</td>\n",
       "      <td>Médio</td>\n",
       "      <td>Avançado</td>\n",
       "      <td>3833.92</td>\n",
       "      <td>M</td>\n",
       "    </tr>\n",
       "    <tr>\n",
       "      <th>258</th>\n",
       "      <td>AM</td>\n",
       "      <td>47</td>\n",
       "      <td>Médio</td>\n",
       "      <td>Intermediário</td>\n",
       "      <td>2960.44</td>\n",
       "      <td>M</td>\n",
       "    </tr>\n",
       "    <tr>\n",
       "      <th>330</th>\n",
       "      <td>AM</td>\n",
       "      <td>21</td>\n",
       "      <td>Pós-graduação</td>\n",
       "      <td>Avançado</td>\n",
       "      <td>3658.54</td>\n",
       "      <td>M</td>\n",
       "    </tr>\n",
       "    <tr>\n",
       "      <th>344</th>\n",
       "      <td>AM</td>\n",
       "      <td>63</td>\n",
       "      <td>Pós-graduação</td>\n",
       "      <td>Básico</td>\n",
       "      <td>2510.56</td>\n",
       "      <td>F</td>\n",
       "    </tr>\n",
       "    <tr>\n",
       "      <th>366</th>\n",
       "      <td>AM</td>\n",
       "      <td>44</td>\n",
       "      <td>Fundamental</td>\n",
       "      <td>Avançado</td>\n",
       "      <td>3191.10</td>\n",
       "      <td>F</td>\n",
       "    </tr>\n",
       "    <tr>\n",
       "      <th>407</th>\n",
       "      <td>AM</td>\n",
       "      <td>60</td>\n",
       "      <td>Pós-graduação</td>\n",
       "      <td>Intermediário</td>\n",
       "      <td>1929.92</td>\n",
       "      <td>F</td>\n",
       "    </tr>\n",
       "    <tr>\n",
       "      <th>423</th>\n",
       "      <td>AM</td>\n",
       "      <td>33</td>\n",
       "      <td>Pós-graduação</td>\n",
       "      <td>Intermediário</td>\n",
       "      <td>4329.15</td>\n",
       "      <td>F</td>\n",
       "    </tr>\n",
       "    <tr>\n",
       "      <th>425</th>\n",
       "      <td>AM</td>\n",
       "      <td>59</td>\n",
       "      <td>Pós-graduação</td>\n",
       "      <td>Intermediário</td>\n",
       "      <td>3709.00</td>\n",
       "      <td>F</td>\n",
       "    </tr>\n",
       "    <tr>\n",
       "      <th>454</th>\n",
       "      <td>AM</td>\n",
       "      <td>33</td>\n",
       "      <td>Fundamental</td>\n",
       "      <td>Básico</td>\n",
       "      <td>2752.82</td>\n",
       "      <td>F</td>\n",
       "    </tr>\n",
       "    <tr>\n",
       "      <th>483</th>\n",
       "      <td>AM</td>\n",
       "      <td>49</td>\n",
       "      <td>Pós-graduação</td>\n",
       "      <td>Intermediário</td>\n",
       "      <td>2426.30</td>\n",
       "      <td>F</td>\n",
       "    </tr>\n",
       "    <tr>\n",
       "      <th>486</th>\n",
       "      <td>AM</td>\n",
       "      <td>62</td>\n",
       "      <td>Pós-graduação</td>\n",
       "      <td>Básico</td>\n",
       "      <td>4727.54</td>\n",
       "      <td>F</td>\n",
       "    </tr>\n",
       "    <tr>\n",
       "      <th>599</th>\n",
       "      <td>AM</td>\n",
       "      <td>29</td>\n",
       "      <td>Médio</td>\n",
       "      <td>Intermediário</td>\n",
       "      <td>1772.39</td>\n",
       "      <td>F</td>\n",
       "    </tr>\n",
       "    <tr>\n",
       "      <th>601</th>\n",
       "      <td>AM</td>\n",
       "      <td>27</td>\n",
       "      <td>Fundamental</td>\n",
       "      <td>Básico</td>\n",
       "      <td>3701.17</td>\n",
       "      <td>M</td>\n",
       "    </tr>\n",
       "    <tr>\n",
       "      <th>664</th>\n",
       "      <td>AM</td>\n",
       "      <td>54</td>\n",
       "      <td>Fundamental</td>\n",
       "      <td>Básico</td>\n",
       "      <td>3122.30</td>\n",
       "      <td>M</td>\n",
       "    </tr>\n",
       "    <tr>\n",
       "      <th>687</th>\n",
       "      <td>AM</td>\n",
       "      <td>41</td>\n",
       "      <td>Fundamental</td>\n",
       "      <td>Avançado</td>\n",
       "      <td>2870.18</td>\n",
       "      <td>F</td>\n",
       "    </tr>\n",
       "    <tr>\n",
       "      <th>695</th>\n",
       "      <td>AM</td>\n",
       "      <td>45</td>\n",
       "      <td>Pós-graduação</td>\n",
       "      <td>Básico</td>\n",
       "      <td>5579.71</td>\n",
       "      <td>M</td>\n",
       "    </tr>\n",
       "    <tr>\n",
       "      <th>722</th>\n",
       "      <td>AM</td>\n",
       "      <td>35</td>\n",
       "      <td>Superior</td>\n",
       "      <td>Avançado</td>\n",
       "      <td>3558.33</td>\n",
       "      <td>M</td>\n",
       "    </tr>\n",
       "    <tr>\n",
       "      <th>733</th>\n",
       "      <td>AM</td>\n",
       "      <td>51</td>\n",
       "      <td>Superior</td>\n",
       "      <td>Básico</td>\n",
       "      <td>3609.14</td>\n",
       "      <td>F</td>\n",
       "    </tr>\n",
       "    <tr>\n",
       "      <th>756</th>\n",
       "      <td>AM</td>\n",
       "      <td>63</td>\n",
       "      <td>Superior</td>\n",
       "      <td>Avançado</td>\n",
       "      <td>3081.83</td>\n",
       "      <td>M</td>\n",
       "    </tr>\n",
       "    <tr>\n",
       "      <th>768</th>\n",
       "      <td>AM</td>\n",
       "      <td>56</td>\n",
       "      <td>Fundamental</td>\n",
       "      <td>Básico</td>\n",
       "      <td>3028.18</td>\n",
       "      <td>M</td>\n",
       "    </tr>\n",
       "    <tr>\n",
       "      <th>795</th>\n",
       "      <td>AM</td>\n",
       "      <td>44</td>\n",
       "      <td>Fundamental</td>\n",
       "      <td>Intermediário</td>\n",
       "      <td>4490.73</td>\n",
       "      <td>F</td>\n",
       "    </tr>\n",
       "    <tr>\n",
       "      <th>804</th>\n",
       "      <td>AM</td>\n",
       "      <td>22</td>\n",
       "      <td>Médio</td>\n",
       "      <td>Avançado</td>\n",
       "      <td>3436.94</td>\n",
       "      <td>F</td>\n",
       "    </tr>\n",
       "    <tr>\n",
       "      <th>822</th>\n",
       "      <td>AM</td>\n",
       "      <td>40</td>\n",
       "      <td>Superior</td>\n",
       "      <td>Básico</td>\n",
       "      <td>2984.69</td>\n",
       "      <td>F</td>\n",
       "    </tr>\n",
       "    <tr>\n",
       "      <th>858</th>\n",
       "      <td>AM</td>\n",
       "      <td>26</td>\n",
       "      <td>Superior</td>\n",
       "      <td>Intermediário</td>\n",
       "      <td>1652.87</td>\n",
       "      <td>F</td>\n",
       "    </tr>\n",
       "    <tr>\n",
       "      <th>879</th>\n",
       "      <td>AM</td>\n",
       "      <td>41</td>\n",
       "      <td>Pós-graduação</td>\n",
       "      <td>Avançado</td>\n",
       "      <td>3268.59</td>\n",
       "      <td>M</td>\n",
       "    </tr>\n",
       "    <tr>\n",
       "      <th>932</th>\n",
       "      <td>AM</td>\n",
       "      <td>51</td>\n",
       "      <td>Médio</td>\n",
       "      <td>Avançado</td>\n",
       "      <td>4196.63</td>\n",
       "      <td>M</td>\n",
       "    </tr>\n",
       "    <tr>\n",
       "      <th>944</th>\n",
       "      <td>AM</td>\n",
       "      <td>47</td>\n",
       "      <td>Superior</td>\n",
       "      <td>Avançado</td>\n",
       "      <td>4726.96</td>\n",
       "      <td>M</td>\n",
       "    </tr>\n",
       "    <tr>\n",
       "      <th>953</th>\n",
       "      <td>AM</td>\n",
       "      <td>41</td>\n",
       "      <td>Pós-graduação</td>\n",
       "      <td>Básico</td>\n",
       "      <td>5558.20</td>\n",
       "      <td>F</td>\n",
       "    </tr>\n",
       "  </tbody>\n",
       "</table>\n",
       "</div>"
      ],
      "text/plain": [
       "    estado  idade   escolaridade nível de proficiência em inglês    renda sexo\n",
       "2       AM     32    Fundamental                   Intermediário  3835.69    M\n",
       "5       AM     38    Fundamental                        Avançado  4441.57    F\n",
       "13      AM     57          Médio                          Básico  2844.32    M\n",
       "23      AM     38          Médio                   Intermediário  5075.40    M\n",
       "45      AM     31  Pós-graduação                          Básico  5270.69    F\n",
       "54      AM     25       Superior                   Intermediário  3478.98    M\n",
       "97      AM     41       Superior                   Intermediário  1345.14    F\n",
       "149     AM     21       Superior                          Básico  2625.18    F\n",
       "195     AM     49    Fundamental                          Básico  1297.42    M\n",
       "230     AM     33  Pós-graduação                   Intermediário  2373.03    M\n",
       "248     AM     57          Médio                        Avançado  3833.92    M\n",
       "258     AM     47          Médio                   Intermediário  2960.44    M\n",
       "330     AM     21  Pós-graduação                        Avançado  3658.54    M\n",
       "344     AM     63  Pós-graduação                          Básico  2510.56    F\n",
       "366     AM     44    Fundamental                        Avançado  3191.10    F\n",
       "407     AM     60  Pós-graduação                   Intermediário  1929.92    F\n",
       "423     AM     33  Pós-graduação                   Intermediário  4329.15    F\n",
       "425     AM     59  Pós-graduação                   Intermediário  3709.00    F\n",
       "454     AM     33    Fundamental                          Básico  2752.82    F\n",
       "483     AM     49  Pós-graduação                   Intermediário  2426.30    F\n",
       "486     AM     62  Pós-graduação                          Básico  4727.54    F\n",
       "599     AM     29          Médio                   Intermediário  1772.39    F\n",
       "601     AM     27    Fundamental                          Básico  3701.17    M\n",
       "664     AM     54    Fundamental                          Básico  3122.30    M\n",
       "687     AM     41    Fundamental                        Avançado  2870.18    F\n",
       "695     AM     45  Pós-graduação                          Básico  5579.71    M\n",
       "722     AM     35       Superior                        Avançado  3558.33    M\n",
       "733     AM     51       Superior                          Básico  3609.14    F\n",
       "756     AM     63       Superior                        Avançado  3081.83    M\n",
       "768     AM     56    Fundamental                          Básico  3028.18    M\n",
       "795     AM     44    Fundamental                   Intermediário  4490.73    F\n",
       "804     AM     22          Médio                        Avançado  3436.94    F\n",
       "822     AM     40       Superior                          Básico  2984.69    F\n",
       "858     AM     26       Superior                   Intermediário  1652.87    F\n",
       "879     AM     41  Pós-graduação                        Avançado  3268.59    M\n",
       "932     AM     51          Médio                        Avançado  4196.63    M\n",
       "944     AM     47       Superior                        Avançado  4726.96    M\n",
       "953     AM     41  Pós-graduação                          Básico  5558.20    F"
      ]
     },
     "execution_count": 17,
     "metadata": {},
     "output_type": "execute_result"
    }
   ],
   "source": [
    "populacao_AM"
   ]
  },
  {
   "cell_type": "code",
   "execution_count": 18,
   "metadata": {},
   "outputs": [],
   "source": [
    "superior_pos = [\"Superior\", \"Pós-graduação\"]"
   ]
  },
  {
   "cell_type": "code",
   "execution_count": 19,
   "metadata": {},
   "outputs": [],
   "source": [
    "superior_pos_mask = populacao_AM['escolaridade'].isin(superior_pos)"
   ]
  },
  {
   "cell_type": "code",
   "execution_count": 20,
   "metadata": {},
   "outputs": [
    {
     "data": {
      "text/html": [
       "<div>\n",
       "<style scoped>\n",
       "    .dataframe tbody tr th:only-of-type {\n",
       "        vertical-align: middle;\n",
       "    }\n",
       "\n",
       "    .dataframe tbody tr th {\n",
       "        vertical-align: top;\n",
       "    }\n",
       "\n",
       "    .dataframe thead th {\n",
       "        text-align: right;\n",
       "    }\n",
       "</style>\n",
       "<table border=\"1\" class=\"dataframe\">\n",
       "  <thead>\n",
       "    <tr style=\"text-align: right;\">\n",
       "      <th></th>\n",
       "      <th>estado</th>\n",
       "      <th>idade</th>\n",
       "      <th>escolaridade</th>\n",
       "      <th>nível de proficiência em inglês</th>\n",
       "      <th>renda</th>\n",
       "      <th>sexo</th>\n",
       "    </tr>\n",
       "  </thead>\n",
       "  <tbody>\n",
       "    <tr>\n",
       "      <th>45</th>\n",
       "      <td>AM</td>\n",
       "      <td>31</td>\n",
       "      <td>Pós-graduação</td>\n",
       "      <td>Básico</td>\n",
       "      <td>5270.69</td>\n",
       "      <td>F</td>\n",
       "    </tr>\n",
       "    <tr>\n",
       "      <th>54</th>\n",
       "      <td>AM</td>\n",
       "      <td>25</td>\n",
       "      <td>Superior</td>\n",
       "      <td>Intermediário</td>\n",
       "      <td>3478.98</td>\n",
       "      <td>M</td>\n",
       "    </tr>\n",
       "    <tr>\n",
       "      <th>97</th>\n",
       "      <td>AM</td>\n",
       "      <td>41</td>\n",
       "      <td>Superior</td>\n",
       "      <td>Intermediário</td>\n",
       "      <td>1345.14</td>\n",
       "      <td>F</td>\n",
       "    </tr>\n",
       "    <tr>\n",
       "      <th>149</th>\n",
       "      <td>AM</td>\n",
       "      <td>21</td>\n",
       "      <td>Superior</td>\n",
       "      <td>Básico</td>\n",
       "      <td>2625.18</td>\n",
       "      <td>F</td>\n",
       "    </tr>\n",
       "    <tr>\n",
       "      <th>230</th>\n",
       "      <td>AM</td>\n",
       "      <td>33</td>\n",
       "      <td>Pós-graduação</td>\n",
       "      <td>Intermediário</td>\n",
       "      <td>2373.03</td>\n",
       "      <td>M</td>\n",
       "    </tr>\n",
       "    <tr>\n",
       "      <th>330</th>\n",
       "      <td>AM</td>\n",
       "      <td>21</td>\n",
       "      <td>Pós-graduação</td>\n",
       "      <td>Avançado</td>\n",
       "      <td>3658.54</td>\n",
       "      <td>M</td>\n",
       "    </tr>\n",
       "    <tr>\n",
       "      <th>344</th>\n",
       "      <td>AM</td>\n",
       "      <td>63</td>\n",
       "      <td>Pós-graduação</td>\n",
       "      <td>Básico</td>\n",
       "      <td>2510.56</td>\n",
       "      <td>F</td>\n",
       "    </tr>\n",
       "    <tr>\n",
       "      <th>407</th>\n",
       "      <td>AM</td>\n",
       "      <td>60</td>\n",
       "      <td>Pós-graduação</td>\n",
       "      <td>Intermediário</td>\n",
       "      <td>1929.92</td>\n",
       "      <td>F</td>\n",
       "    </tr>\n",
       "    <tr>\n",
       "      <th>423</th>\n",
       "      <td>AM</td>\n",
       "      <td>33</td>\n",
       "      <td>Pós-graduação</td>\n",
       "      <td>Intermediário</td>\n",
       "      <td>4329.15</td>\n",
       "      <td>F</td>\n",
       "    </tr>\n",
       "    <tr>\n",
       "      <th>425</th>\n",
       "      <td>AM</td>\n",
       "      <td>59</td>\n",
       "      <td>Pós-graduação</td>\n",
       "      <td>Intermediário</td>\n",
       "      <td>3709.00</td>\n",
       "      <td>F</td>\n",
       "    </tr>\n",
       "    <tr>\n",
       "      <th>483</th>\n",
       "      <td>AM</td>\n",
       "      <td>49</td>\n",
       "      <td>Pós-graduação</td>\n",
       "      <td>Intermediário</td>\n",
       "      <td>2426.30</td>\n",
       "      <td>F</td>\n",
       "    </tr>\n",
       "    <tr>\n",
       "      <th>486</th>\n",
       "      <td>AM</td>\n",
       "      <td>62</td>\n",
       "      <td>Pós-graduação</td>\n",
       "      <td>Básico</td>\n",
       "      <td>4727.54</td>\n",
       "      <td>F</td>\n",
       "    </tr>\n",
       "    <tr>\n",
       "      <th>695</th>\n",
       "      <td>AM</td>\n",
       "      <td>45</td>\n",
       "      <td>Pós-graduação</td>\n",
       "      <td>Básico</td>\n",
       "      <td>5579.71</td>\n",
       "      <td>M</td>\n",
       "    </tr>\n",
       "    <tr>\n",
       "      <th>722</th>\n",
       "      <td>AM</td>\n",
       "      <td>35</td>\n",
       "      <td>Superior</td>\n",
       "      <td>Avançado</td>\n",
       "      <td>3558.33</td>\n",
       "      <td>M</td>\n",
       "    </tr>\n",
       "    <tr>\n",
       "      <th>733</th>\n",
       "      <td>AM</td>\n",
       "      <td>51</td>\n",
       "      <td>Superior</td>\n",
       "      <td>Básico</td>\n",
       "      <td>3609.14</td>\n",
       "      <td>F</td>\n",
       "    </tr>\n",
       "    <tr>\n",
       "      <th>756</th>\n",
       "      <td>AM</td>\n",
       "      <td>63</td>\n",
       "      <td>Superior</td>\n",
       "      <td>Avançado</td>\n",
       "      <td>3081.83</td>\n",
       "      <td>M</td>\n",
       "    </tr>\n",
       "    <tr>\n",
       "      <th>822</th>\n",
       "      <td>AM</td>\n",
       "      <td>40</td>\n",
       "      <td>Superior</td>\n",
       "      <td>Básico</td>\n",
       "      <td>2984.69</td>\n",
       "      <td>F</td>\n",
       "    </tr>\n",
       "    <tr>\n",
       "      <th>858</th>\n",
       "      <td>AM</td>\n",
       "      <td>26</td>\n",
       "      <td>Superior</td>\n",
       "      <td>Intermediário</td>\n",
       "      <td>1652.87</td>\n",
       "      <td>F</td>\n",
       "    </tr>\n",
       "    <tr>\n",
       "      <th>879</th>\n",
       "      <td>AM</td>\n",
       "      <td>41</td>\n",
       "      <td>Pós-graduação</td>\n",
       "      <td>Avançado</td>\n",
       "      <td>3268.59</td>\n",
       "      <td>M</td>\n",
       "    </tr>\n",
       "    <tr>\n",
       "      <th>944</th>\n",
       "      <td>AM</td>\n",
       "      <td>47</td>\n",
       "      <td>Superior</td>\n",
       "      <td>Avançado</td>\n",
       "      <td>4726.96</td>\n",
       "      <td>M</td>\n",
       "    </tr>\n",
       "    <tr>\n",
       "      <th>953</th>\n",
       "      <td>AM</td>\n",
       "      <td>41</td>\n",
       "      <td>Pós-graduação</td>\n",
       "      <td>Básico</td>\n",
       "      <td>5558.20</td>\n",
       "      <td>F</td>\n",
       "    </tr>\n",
       "  </tbody>\n",
       "</table>\n",
       "</div>"
      ],
      "text/plain": [
       "    estado  idade   escolaridade nível de proficiência em inglês    renda sexo\n",
       "45      AM     31  Pós-graduação                          Básico  5270.69    F\n",
       "54      AM     25       Superior                   Intermediário  3478.98    M\n",
       "97      AM     41       Superior                   Intermediário  1345.14    F\n",
       "149     AM     21       Superior                          Básico  2625.18    F\n",
       "230     AM     33  Pós-graduação                   Intermediário  2373.03    M\n",
       "330     AM     21  Pós-graduação                        Avançado  3658.54    M\n",
       "344     AM     63  Pós-graduação                          Básico  2510.56    F\n",
       "407     AM     60  Pós-graduação                   Intermediário  1929.92    F\n",
       "423     AM     33  Pós-graduação                   Intermediário  4329.15    F\n",
       "425     AM     59  Pós-graduação                   Intermediário  3709.00    F\n",
       "483     AM     49  Pós-graduação                   Intermediário  2426.30    F\n",
       "486     AM     62  Pós-graduação                          Básico  4727.54    F\n",
       "695     AM     45  Pós-graduação                          Básico  5579.71    M\n",
       "722     AM     35       Superior                        Avançado  3558.33    M\n",
       "733     AM     51       Superior                          Básico  3609.14    F\n",
       "756     AM     63       Superior                        Avançado  3081.83    M\n",
       "822     AM     40       Superior                          Básico  2984.69    F\n",
       "858     AM     26       Superior                   Intermediário  1652.87    F\n",
       "879     AM     41  Pós-graduação                        Avançado  3268.59    M\n",
       "944     AM     47       Superior                        Avançado  4726.96    M\n",
       "953     AM     41  Pós-graduação                          Básico  5558.20    F"
      ]
     },
     "execution_count": 20,
     "metadata": {},
     "output_type": "execute_result"
    }
   ],
   "source": [
    "populacao_AM[superior_pos_mask]"
   ]
  },
  {
   "cell_type": "code",
   "execution_count": 21,
   "metadata": {},
   "outputs": [
    {
     "name": "stdout",
     "output_type": "stream",
     "text": [
      " A probabilidade de uma pessoa do Amazonas ter ensino superior ou pós é 55.26315789473685 %\n"
     ]
    }
   ],
   "source": [
    "probabilidade_AM_superior = populacao_AM[superior_pos_mask].shape[0] / populacao_AM.shape[0]\n",
    "print(f' A probabilidade de uma pessoa do Amazonas ter ensino superior ou pós é {probabilidade_AM_superior * 100} %')"
   ]
  },
  {
   "cell_type": "code",
   "execution_count": 22,
   "metadata": {},
   "outputs": [],
   "source": [
    "probabilidade_complementar_AM_superior = 1 - probabilidade_AM_superior"
   ]
  },
  {
   "cell_type": "code",
   "execution_count": 23,
   "metadata": {},
   "outputs": [],
   "source": [
    "probabilidade_AM_quinta_pessoa = probabilidade_complementar_AM_superior * probabilidade_complementar_AM_superior * probabilidade_complementar_AM_superior * probabilidade_complementar_AM_superior * probabilidade_AM_superior"
   ]
  },
  {
   "cell_type": "code",
   "execution_count": 24,
   "metadata": {},
   "outputs": [
    {
     "name": "stdout",
     "output_type": "stream",
     "text": [
      "A probabilidade da quinta pessoa do AM ter ensino superior ou pós é de 2.2135890467222827%.\n"
     ]
    }
   ],
   "source": [
    "print(f'A probabilidade da quinta pessoa do AM ter ensino superior ou pós é de {probabilidade_AM_quinta_pessoa * 100}%.')"
   ]
  },
  {
   "cell_type": "markdown",
   "metadata": {},
   "source": [
    "4. Considerando a renda das pessoas do nosso conjunto, podemos dizer que a renda de uma pessoa brasileira está na sua maioria em que faixa (faça faixa de 1.500 reais)? Qual é a sua função densidade de probabilidade?\n"
   ]
  },
  {
   "cell_type": "code",
   "execution_count": 25,
   "metadata": {},
   "outputs": [
    {
     "data": {
      "text/plain": [
       "count    1000.000000\n",
       "mean     3082.537180\n",
       "std       996.572239\n",
       "min       103.740000\n",
       "25%      2425.815000\n",
       "50%      3076.415000\n",
       "75%      3714.487500\n",
       "max      5632.380000\n",
       "Name: renda, dtype: float64"
      ]
     },
     "execution_count": 25,
     "metadata": {},
     "output_type": "execute_result"
    }
   ],
   "source": [
    "populacao['renda'].describe()"
   ]
  },
  {
   "cell_type": "code",
   "execution_count": 26,
   "metadata": {},
   "outputs": [],
   "source": [
    "ranges = [0, 1500.00, 3000.00, 4500.00, 6000.00]"
   ]
  },
  {
   "cell_type": "code",
   "execution_count": 27,
   "metadata": {},
   "outputs": [
    {
     "name": "stderr",
     "output_type": "stream",
     "text": [
      "/tmp/ipykernel_15728/1424291042.py:1: FutureWarning: The default of observed=False is deprecated and will be changed to True in a future version of pandas. Pass observed=False to retain current behavior or observed=True to adopt the future default and silence this warning.\n",
      "  populacao.groupby(pd.cut(populacao['renda'], ranges)).count()\n"
     ]
    },
    {
     "data": {
      "text/html": [
       "<div>\n",
       "<style scoped>\n",
       "    .dataframe tbody tr th:only-of-type {\n",
       "        vertical-align: middle;\n",
       "    }\n",
       "\n",
       "    .dataframe tbody tr th {\n",
       "        vertical-align: top;\n",
       "    }\n",
       "\n",
       "    .dataframe thead th {\n",
       "        text-align: right;\n",
       "    }\n",
       "</style>\n",
       "<table border=\"1\" class=\"dataframe\">\n",
       "  <thead>\n",
       "    <tr style=\"text-align: right;\">\n",
       "      <th></th>\n",
       "      <th>estado</th>\n",
       "      <th>idade</th>\n",
       "      <th>escolaridade</th>\n",
       "      <th>nível de proficiência em inglês</th>\n",
       "      <th>renda</th>\n",
       "      <th>sexo</th>\n",
       "    </tr>\n",
       "    <tr>\n",
       "      <th>renda</th>\n",
       "      <th></th>\n",
       "      <th></th>\n",
       "      <th></th>\n",
       "      <th></th>\n",
       "      <th></th>\n",
       "      <th></th>\n",
       "    </tr>\n",
       "  </thead>\n",
       "  <tbody>\n",
       "    <tr>\n",
       "      <th>(0.0, 1500.0]</th>\n",
       "      <td>55</td>\n",
       "      <td>55</td>\n",
       "      <td>55</td>\n",
       "      <td>55</td>\n",
       "      <td>55</td>\n",
       "      <td>55</td>\n",
       "    </tr>\n",
       "    <tr>\n",
       "      <th>(1500.0, 3000.0]</th>\n",
       "      <td>414</td>\n",
       "      <td>414</td>\n",
       "      <td>414</td>\n",
       "      <td>414</td>\n",
       "      <td>414</td>\n",
       "      <td>414</td>\n",
       "    </tr>\n",
       "    <tr>\n",
       "      <th>(3000.0, 4500.0]</th>\n",
       "      <td>442</td>\n",
       "      <td>442</td>\n",
       "      <td>442</td>\n",
       "      <td>442</td>\n",
       "      <td>442</td>\n",
       "      <td>442</td>\n",
       "    </tr>\n",
       "    <tr>\n",
       "      <th>(4500.0, 6000.0]</th>\n",
       "      <td>89</td>\n",
       "      <td>89</td>\n",
       "      <td>89</td>\n",
       "      <td>89</td>\n",
       "      <td>89</td>\n",
       "      <td>89</td>\n",
       "    </tr>\n",
       "  </tbody>\n",
       "</table>\n",
       "</div>"
      ],
      "text/plain": [
       "                  estado  idade  escolaridade  \\\n",
       "renda                                           \n",
       "(0.0, 1500.0]         55     55            55   \n",
       "(1500.0, 3000.0]     414    414           414   \n",
       "(3000.0, 4500.0]     442    442           442   \n",
       "(4500.0, 6000.0]      89     89            89   \n",
       "\n",
       "                  nível de proficiência em inglês  renda  sexo  \n",
       "renda                                                           \n",
       "(0.0, 1500.0]                                  55     55    55  \n",
       "(1500.0, 3000.0]                              414    414   414  \n",
       "(3000.0, 4500.0]                              442    442   442  \n",
       "(4500.0, 6000.0]                               89     89    89  "
      ]
     },
     "execution_count": 27,
     "metadata": {},
     "output_type": "execute_result"
    }
   ],
   "source": [
    "populacao.groupby(pd.cut(populacao['renda'], ranges)).count()"
   ]
  },
  {
   "cell_type": "markdown",
   "metadata": {},
   "source": [
    "5. Calcule a média e a variância da renda da amostra. Depois faça a distribuição normal, inclua o gráfico.\n"
   ]
  },
  {
   "cell_type": "code",
   "execution_count": 28,
   "metadata": {},
   "outputs": [
    {
     "data": {
      "text/plain": [
       "count    1000.000000\n",
       "mean     3082.537180\n",
       "std       996.572239\n",
       "min       103.740000\n",
       "25%      2425.815000\n",
       "50%      3076.415000\n",
       "75%      3714.487500\n",
       "max      5632.380000\n",
       "Name: renda, dtype: float64"
      ]
     },
     "execution_count": 28,
     "metadata": {},
     "output_type": "execute_result"
    }
   ],
   "source": [
    "populacao['renda'].describe()"
   ]
  },
  {
   "cell_type": "code",
   "execution_count": 29,
   "metadata": {},
   "outputs": [
    {
     "name": "stdout",
     "output_type": "stream",
     "text": [
      "993156.2281676152\n"
     ]
    }
   ],
   "source": [
    "variancia = populacao['renda'].var()\n",
    "print(variancia)"
   ]
  },
  {
   "cell_type": "code",
   "execution_count": 30,
   "metadata": {},
   "outputs": [
    {
     "data": {
      "image/png": "[encoded data removed]",
      "text/plain": [
       "<Figure size 640x480 with 1 Axes>"
      ]
     },
     "metadata": {},
     "output_type": "display_data"
    }
   ],
   "source": [
    "# Plotando o histograma dos dados\n",
    "plt.hist(populacao['renda'], bins=1500, density=True, alpha=0.6, color='blue')\n",
    "\n",
    "# Plotando a função de densidade de probabilidade\n",
    "\n",
    "plt.title('Distribuição Normal')\n",
    "plt.xlabel('Renda')\n",
    "plt.ylabel('Densidade de Probabilidade')\n",
    "plt.show()"
   ]
  },
  {
   "cell_type": "markdown",
   "metadata": {},
   "source": [
    "6. Primeiro considere a probabilidade encontrada no nosso conjunto de pessoas com escolaridade de pós-graduação. Considerando a amostra de população brasileira com 1 milhão de habitantes, qual a probabilidade de encontrarmos 243 mil pessoas com pós-graduação?\n"
   ]
  },
  {
   "cell_type": "code",
   "execution_count": 31,
   "metadata": {},
   "outputs": [],
   "source": [
    "pos_grad = [\"Pós-graduação\"]\n",
    "pos_grad_mask = populacao['escolaridade'].isin(pos_grad)"
   ]
  },
  {
   "cell_type": "code",
   "execution_count": 36,
   "metadata": {},
   "outputs": [
    {
     "data": {
      "text/plain": [
       "253"
      ]
     },
     "execution_count": 36,
     "metadata": {},
     "output_type": "execute_result"
    }
   ],
   "source": [
    "populacao[pos_grad_mask].shape[0]"
   ]
  },
  {
   "cell_type": "code",
   "execution_count": 37,
   "metadata": {},
   "outputs": [
    {
     "name": "stdout",
     "output_type": "stream",
     "text": [
      "0.253\n"
     ]
    }
   ],
   "source": [
    "probabilidade_pos_grad = populacao[pos_grad_mask].shape[0] / populacao.shape[0]\n",
    "print(probabilidade_pos_grad)"
   ]
  },
  {
   "cell_type": "code",
   "execution_count": 38,
   "metadata": {},
   "outputs": [
    {
     "name": "stdout",
     "output_type": "stream",
     "text": [
      "A probabilidade de alguém ter pós graduação na amostra original é de 25.3%.\n"
     ]
    }
   ],
   "source": [
    "print(f\"A probabilidade de alguém ter pós graduação na amostra original é de {probabilidade_pos_grad * 100}%.\")"
   ]
  },
  {
   "cell_type": "code",
   "execution_count": 39,
   "metadata": {},
   "outputs": [
    {
     "name": "stdout",
     "output_type": "stream",
     "text": [
      "Em uma amostra com 1 milhão de pessoas, a probabilidade é de 253000.0 pessoas terem pós graduação.\n"
     ]
    }
   ],
   "source": [
    "nova_amostra = 1000000\n",
    "print(f\"Em uma amostra com 1 milhão de pessoas, a probabilidade é de {probabilidade_pos_grad * nova_amostra} pessoas terem pós graduação.\")"
   ]
  },
  {
   "cell_type": "markdown",
   "metadata": {},
   "source": [
    "7. Somando as densidades nós temos a função de densidade acumulada. Considerando a coluna ‘Escolaridade’ faça a função de densidade acumulada discreta para cada nível de escolaridade.\n"
   ]
  },
  {
   "cell_type": "code",
   "execution_count": 40,
   "metadata": {},
   "outputs": [
    {
     "data": {
      "text/html": [
       "<div>\n",
       "<style scoped>\n",
       "    .dataframe tbody tr th:only-of-type {\n",
       "        vertical-align: middle;\n",
       "    }\n",
       "\n",
       "    .dataframe tbody tr th {\n",
       "        vertical-align: top;\n",
       "    }\n",
       "\n",
       "    .dataframe thead th {\n",
       "        text-align: right;\n",
       "    }\n",
       "</style>\n",
       "<table border=\"1\" class=\"dataframe\">\n",
       "  <thead>\n",
       "    <tr style=\"text-align: right;\">\n",
       "      <th></th>\n",
       "      <th>estado</th>\n",
       "      <th>idade</th>\n",
       "      <th>nível de proficiência em inglês</th>\n",
       "      <th>renda</th>\n",
       "      <th>sexo</th>\n",
       "    </tr>\n",
       "    <tr>\n",
       "      <th>escolaridade</th>\n",
       "      <th></th>\n",
       "      <th></th>\n",
       "      <th></th>\n",
       "      <th></th>\n",
       "      <th></th>\n",
       "    </tr>\n",
       "  </thead>\n",
       "  <tbody>\n",
       "    <tr>\n",
       "      <th>Fundamental</th>\n",
       "      <td>266</td>\n",
       "      <td>266</td>\n",
       "      <td>266</td>\n",
       "      <td>266</td>\n",
       "      <td>266</td>\n",
       "    </tr>\n",
       "    <tr>\n",
       "      <th>Médio</th>\n",
       "      <td>238</td>\n",
       "      <td>238</td>\n",
       "      <td>238</td>\n",
       "      <td>238</td>\n",
       "      <td>238</td>\n",
       "    </tr>\n",
       "    <tr>\n",
       "      <th>Pós-graduação</th>\n",
       "      <td>253</td>\n",
       "      <td>253</td>\n",
       "      <td>253</td>\n",
       "      <td>253</td>\n",
       "      <td>253</td>\n",
       "    </tr>\n",
       "    <tr>\n",
       "      <th>Superior</th>\n",
       "      <td>243</td>\n",
       "      <td>243</td>\n",
       "      <td>243</td>\n",
       "      <td>243</td>\n",
       "      <td>243</td>\n",
       "    </tr>\n",
       "  </tbody>\n",
       "</table>\n",
       "</div>"
      ],
      "text/plain": [
       "               estado  idade  nível de proficiência em inglês  renda  sexo\n",
       "escolaridade                                                              \n",
       "Fundamental       266    266                              266    266   266\n",
       "Médio             238    238                              238    238   238\n",
       "Pós-graduação     253    253                              253    253   253\n",
       "Superior          243    243                              243    243   243"
      ]
     },
     "execution_count": 40,
     "metadata": {},
     "output_type": "execute_result"
    }
   ],
   "source": [
    "populacao.groupby(['escolaridade']).count()"
   ]
  },
  {
   "cell_type": "code",
   "execution_count": 41,
   "metadata": {},
   "outputs": [
    {
     "data": {
      "text/html": [
       "<div>\n",
       "<style scoped>\n",
       "    .dataframe tbody tr th:only-of-type {\n",
       "        vertical-align: middle;\n",
       "    }\n",
       "\n",
       "    .dataframe tbody tr th {\n",
       "        vertical-align: top;\n",
       "    }\n",
       "\n",
       "    .dataframe thead th {\n",
       "        text-align: right;\n",
       "    }\n",
       "</style>\n",
       "<table border=\"1\" class=\"dataframe\">\n",
       "  <thead>\n",
       "    <tr style=\"text-align: right;\">\n",
       "      <th></th>\n",
       "      <th>estado</th>\n",
       "      <th>idade</th>\n",
       "      <th>nível de proficiência em inglês</th>\n",
       "      <th>renda</th>\n",
       "      <th>sexo</th>\n",
       "    </tr>\n",
       "    <tr>\n",
       "      <th>escolaridade</th>\n",
       "      <th></th>\n",
       "      <th></th>\n",
       "      <th></th>\n",
       "      <th></th>\n",
       "      <th></th>\n",
       "    </tr>\n",
       "  </thead>\n",
       "  <tbody>\n",
       "    <tr>\n",
       "      <th>Fundamental</th>\n",
       "      <td>266</td>\n",
       "      <td>266</td>\n",
       "      <td>266</td>\n",
       "      <td>266</td>\n",
       "      <td>266</td>\n",
       "    </tr>\n",
       "    <tr>\n",
       "      <th>Médio</th>\n",
       "      <td>504</td>\n",
       "      <td>504</td>\n",
       "      <td>504</td>\n",
       "      <td>504</td>\n",
       "      <td>504</td>\n",
       "    </tr>\n",
       "    <tr>\n",
       "      <th>Pós-graduação</th>\n",
       "      <td>757</td>\n",
       "      <td>757</td>\n",
       "      <td>757</td>\n",
       "      <td>757</td>\n",
       "      <td>757</td>\n",
       "    </tr>\n",
       "    <tr>\n",
       "      <th>Superior</th>\n",
       "      <td>1000</td>\n",
       "      <td>1000</td>\n",
       "      <td>1000</td>\n",
       "      <td>1000</td>\n",
       "      <td>1000</td>\n",
       "    </tr>\n",
       "  </tbody>\n",
       "</table>\n",
       "</div>"
      ],
      "text/plain": [
       "               estado  idade  nível de proficiência em inglês  renda  sexo\n",
       "escolaridade                                                              \n",
       "Fundamental       266    266                              266    266   266\n",
       "Médio             504    504                              504    504   504\n",
       "Pós-graduação     757    757                              757    757   757\n",
       "Superior         1000   1000                             1000   1000  1000"
      ]
     },
     "execution_count": 41,
     "metadata": {},
     "output_type": "execute_result"
    }
   ],
   "source": [
    "populacao.groupby(['escolaridade']).count().cumsum()"
   ]
  },
  {
   "cell_type": "markdown",
   "metadata": {},
   "source": [
    "8. Qual a margem de erro amostral da proporção populacional considerando a proporção de pessoas com nível de inglês\n",
    "intermediário?\n"
   ]
  },
  {
   "cell_type": "code",
   "execution_count": 42,
   "metadata": {},
   "outputs": [],
   "source": [
    "fluencia_int = ['Intermediário']\n",
    "fluencia_int_mask = populacao['nível de proficiência em inglês'].isin(fluencia_int)"
   ]
  },
  {
   "cell_type": "code",
   "execution_count": 43,
   "metadata": {},
   "outputs": [
    {
     "data": {
      "text/plain": [
       "329"
      ]
     },
     "execution_count": 43,
     "metadata": {},
     "output_type": "execute_result"
    }
   ],
   "source": [
    "populacao[fluencia_int_mask].shape[0]"
   ]
  },
  {
   "cell_type": "code",
   "execution_count": 44,
   "metadata": {},
   "outputs": [],
   "source": [
    "prob_fluencia_int = populacao[fluencia_int_mask].shape[0] / populacao.shape[0]"
   ]
  },
  {
   "cell_type": "code",
   "execution_count": 45,
   "metadata": {},
   "outputs": [],
   "source": [
    "prob_complementar_fluencia_int = 1 - populacao[fluencia_int_mask].shape[0] / populacao.shape[0]"
   ]
  },
  {
   "cell_type": "code",
   "execution_count": 46,
   "metadata": {},
   "outputs": [
    {
     "name": "stdout",
     "output_type": "stream",
     "text": [
      "0.671\n"
     ]
    }
   ],
   "source": [
    "print(prob_complementar_fluencia_int)"
   ]
  },
  {
   "cell_type": "code",
   "execution_count": 47,
   "metadata": {},
   "outputs": [
    {
     "name": "stdout",
     "output_type": "stream",
     "text": [
      "A margem de erro amostral da população ter nível de inglês intermediário é de 2.912160322509734%.\n"
     ]
    }
   ],
   "source": [
    "margem_erro = (1.96 * np.sqrt((prob_fluencia_int * prob_complementar_fluencia_int) / 1000)) * 100\n",
    "print(f'A margem de erro amostral da população ter nível de inglês intermediário é de {margem_erro}%.')"
   ]
  },
  {
   "cell_type": "markdown",
   "metadata": {},
   "source": [
    "9. Calcula a renda da população. Qual a probabilidade de encontrar 60 pessoas com uma renda mil reais superior à média?\n"
   ]
  },
  {
   "cell_type": "code",
   "execution_count": 48,
   "metadata": {},
   "outputs": [
    {
     "data": {
      "text/plain": [
       "count    1000.000000\n",
       "mean     3082.537180\n",
       "std       996.572239\n",
       "min       103.740000\n",
       "25%      2425.815000\n",
       "50%      3076.415000\n",
       "75%      3714.487500\n",
       "max      5632.380000\n",
       "Name: renda, dtype: float64"
      ]
     },
     "execution_count": 48,
     "metadata": {},
     "output_type": "execute_result"
    }
   ],
   "source": [
    "populacao['renda'].describe()"
   ]
  },
  {
   "cell_type": "code",
   "execution_count": 49,
   "metadata": {},
   "outputs": [],
   "source": [
    "renda_acima = populacao[populacao['renda'] > 4082.54].shape[0]"
   ]
  },
  {
   "cell_type": "code",
   "execution_count": 50,
   "metadata": {},
   "outputs": [
    {
     "name": "stdout",
     "output_type": "stream",
     "text": [
      "A probabilidade de encontrar alguém com renda acima de 4082.54 é de 16.1%.\n"
     ]
    }
   ],
   "source": [
    "print(f'A probabilidade de encontrar alguém com renda acima de 4082.54 é de {renda_acima / populacao.shape[0] * 100}%.')"
   ]
  },
  {
   "cell_type": "markdown",
   "metadata": {},
   "source": [
    "10. Qual a probabilidade de escolhermos alguém do Sudeste que seja homem, com ensino fundamental e com renda maior que 2 mil reais por mês? "
   ]
  },
  {
   "cell_type": "code",
   "execution_count": 51,
   "metadata": {},
   "outputs": [],
   "source": [
    "sudeste = ['RJ', 'SP', 'MG', 'ES']\n",
    "populacao_sudeste_mask = populacao['estado'].isin(sudeste)"
   ]
  },
  {
   "cell_type": "code",
   "execution_count": 52,
   "metadata": {},
   "outputs": [],
   "source": [
    "qtd_sudeste = populacao[populacao_sudeste_mask].shape[0]"
   ]
  },
  {
   "cell_type": "code",
   "execution_count": 53,
   "metadata": {},
   "outputs": [],
   "source": [
    "qtd_homem = populacao[populacao['sexo'] == \"M\"].shape[0]"
   ]
  },
  {
   "cell_type": "code",
   "execution_count": 54,
   "metadata": {},
   "outputs": [],
   "source": [
    "qtd_fundamental = populacao[populacao['escolaridade'] == \"Fundamental\"].shape[0]"
   ]
  },
  {
   "cell_type": "code",
   "execution_count": 55,
   "metadata": {},
   "outputs": [],
   "source": [
    "qtd_renda_doismil = populacao[populacao['renda'] > 2000.00].shape[0]"
   ]
  },
  {
   "cell_type": "code",
   "execution_count": 56,
   "metadata": {},
   "outputs": [],
   "source": [
    "prob_sudeste = qtd_sudeste / 1000\n",
    "prob_homem = qtd_homem / 1000\n",
    "prob_fundamental = qtd_fundamental / 1000\n",
    "prob_renda_doismil = qtd_renda_doismil / 1000"
   ]
  },
  {
   "cell_type": "code",
   "execution_count": 57,
   "metadata": {},
   "outputs": [],
   "source": [
    "prob_final = prob_sudeste * prob_homem * prob_fundamental * prob_renda_doismil"
   ]
  },
  {
   "cell_type": "code",
   "execution_count": 58,
   "metadata": {},
   "outputs": [
    {
     "name": "stdout",
     "output_type": "stream",
     "text": [
      "A probabilidade de encontrar uma pessoa com essas características é de 1.7414252856%.\n"
     ]
    }
   ],
   "source": [
    "print(f'A probabilidade de encontrar uma pessoa com essas características é de {prob_final * 100}%.')"
   ]
  },
  {
   "cell_type": "code",
   "execution_count": 59,
   "metadata": {},
   "outputs": [
    {
     "data": {
      "text/html": [
       "<div>\n",
       "<style scoped>\n",
       "    .dataframe tbody tr th:only-of-type {\n",
       "        vertical-align: middle;\n",
       "    }\n",
       "\n",
       "    .dataframe tbody tr th {\n",
       "        vertical-align: top;\n",
       "    }\n",
       "\n",
       "    .dataframe thead th {\n",
       "        text-align: right;\n",
       "    }\n",
       "</style>\n",
       "<table border=\"1\" class=\"dataframe\">\n",
       "  <thead>\n",
       "    <tr style=\"text-align: right;\">\n",
       "      <th></th>\n",
       "      <th>estado</th>\n",
       "      <th>idade</th>\n",
       "      <th>escolaridade</th>\n",
       "      <th>nível de proficiência em inglês</th>\n",
       "      <th>renda</th>\n",
       "      <th>sexo</th>\n",
       "    </tr>\n",
       "  </thead>\n",
       "  <tbody>\n",
       "    <tr>\n",
       "      <th>0</th>\n",
       "      <td>MA</td>\n",
       "      <td>56</td>\n",
       "      <td>Fundamental</td>\n",
       "      <td>Intermediário</td>\n",
       "      <td>4006.29</td>\n",
       "      <td>F</td>\n",
       "    </tr>\n",
       "    <tr>\n",
       "      <th>1</th>\n",
       "      <td>BA</td>\n",
       "      <td>46</td>\n",
       "      <td>Superior</td>\n",
       "      <td>Básico</td>\n",
       "      <td>2423.11</td>\n",
       "      <td>M</td>\n",
       "    </tr>\n",
       "    <tr>\n",
       "      <th>2</th>\n",
       "      <td>AM</td>\n",
       "      <td>32</td>\n",
       "      <td>Fundamental</td>\n",
       "      <td>Intermediário</td>\n",
       "      <td>3835.69</td>\n",
       "      <td>M</td>\n",
       "    </tr>\n",
       "    <tr>\n",
       "      <th>3</th>\n",
       "      <td>CE</td>\n",
       "      <td>60</td>\n",
       "      <td>Superior</td>\n",
       "      <td>Básico</td>\n",
       "      <td>1870.29</td>\n",
       "      <td>M</td>\n",
       "    </tr>\n",
       "    <tr>\n",
       "      <th>4</th>\n",
       "      <td>SE</td>\n",
       "      <td>25</td>\n",
       "      <td>Fundamental</td>\n",
       "      <td>Avançado</td>\n",
       "      <td>3529.80</td>\n",
       "      <td>M</td>\n",
       "    </tr>\n",
       "  </tbody>\n",
       "</table>\n",
       "</div>"
      ],
      "text/plain": [
       "  estado  idade escolaridade nível de proficiência em inglês    renda sexo\n",
       "0     MA     56  Fundamental                   Intermediário  4006.29    F\n",
       "1     BA     46     Superior                          Básico  2423.11    M\n",
       "2     AM     32  Fundamental                   Intermediário  3835.69    M\n",
       "3     CE     60     Superior                          Básico  1870.29    M\n",
       "4     SE     25  Fundamental                        Avançado  3529.80    M"
      ]
     },
     "execution_count": 59,
     "metadata": {},
     "output_type": "execute_result"
    }
   ],
   "source": [
    "populacao.head()"
   ]
  }
 ],
 "metadata": {
  "kernelspec": {
   "display_name": "Python 3",
   "language": "python",
   "name": "python3"
  },
  "language_info": {
   "codemirror_mode": {
    "name": "ipython",
    "version": 3
   },
   "file_extension": ".py",
   "mimetype": "text/x-python",
   "name": "python",
   "nbconvert_exporter": "python",
   "pygments_lexer": "ipython3",
   "version": "3.10.13"
  }
 },
 "nbformat": 4,
 "nbformat_minor": 2
}
