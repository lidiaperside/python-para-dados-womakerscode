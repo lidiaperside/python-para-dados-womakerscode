{
 "cells": [
  {
   "cell_type": "code",
   "execution_count": 2,
   "metadata": {},
   "outputs": [
    {
     "name": "stderr",
     "output_type": "stream",
     "text": [
      "C:\\Users\\lpgn\\AppData\\Local\\Temp\\ipykernel_10092\\4080736814.py:1: DeprecationWarning: \n",
      "Pyarrow will become a required dependency of pandas in the next major release of pandas (pandas 3.0),\n",
      "(to allow more performant data types, such as the Arrow string type, and better interoperability with other libraries)\n",
      "but was not found to be installed on your system.\n",
      "If this would cause problems for you,\n",
      "please provide us feedback at https://github.com/pandas-dev/pandas/issues/54466\n",
      "        \n",
      "  import pandas as pd\n"
     ]
    }
   ],
   "source": [
    "import pandas as pd"
   ]
  },
  {
   "cell_type": "code",
   "execution_count": 3,
   "metadata": {},
   "outputs": [],
   "source": [
    "#Existem diferentes formas de se ter dados utilizando o pandas, uma dessas formas é com a utilização de dicionários e listas:\n",
    "dados = {\n",
    "    'Nome': ['Max', 'Bella', 'Rocky', 'Luna'],\n",
    "    'Raça': ['Labrador', 'Poodle', 'Boxer', 'Golder Retriever'],\n",
    "    'Cor': ['Amarelo', 'Branco', 'Marrom', 'Dourado'],\n",
    "    'Peso (kg)': [60,35,35,55],\n",
    "    'Altura (cm)': [30,7,28,25],\n",
    "    'Data de Nascimento': ['01/05/2018', '10/12/2019', '03/08/2017', '12/02/2016']\n",
    "}"
   ]
  },
  {
   "cell_type": "code",
   "execution_count": 5,
   "metadata": {},
   "outputs": [
    {
     "data": {
      "text/html": [
       "<div>\n",
       "<style scoped>\n",
       "    .dataframe tbody tr th:only-of-type {\n",
       "        vertical-align: middle;\n",
       "    }\n",
       "\n",
       "    .dataframe tbody tr th {\n",
       "        vertical-align: top;\n",
       "    }\n",
       "\n",
       "    .dataframe thead th {\n",
       "        text-align: right;\n",
       "    }\n",
       "</style>\n",
       "<table border=\"1\" class=\"dataframe\">\n",
       "  <thead>\n",
       "    <tr style=\"text-align: right;\">\n",
       "      <th></th>\n",
       "      <th>Nome</th>\n",
       "      <th>Raça</th>\n",
       "      <th>Cor</th>\n",
       "      <th>Peso (kg)</th>\n",
       "      <th>Altura (cm)</th>\n",
       "      <th>Data de Nascimento</th>\n",
       "    </tr>\n",
       "  </thead>\n",
       "  <tbody>\n",
       "    <tr>\n",
       "      <th>0</th>\n",
       "      <td>Max</td>\n",
       "      <td>Labrador</td>\n",
       "      <td>Amarelo</td>\n",
       "      <td>60</td>\n",
       "      <td>30</td>\n",
       "      <td>01/05/2018</td>\n",
       "    </tr>\n",
       "    <tr>\n",
       "      <th>1</th>\n",
       "      <td>Bella</td>\n",
       "      <td>Poodle</td>\n",
       "      <td>Branco</td>\n",
       "      <td>35</td>\n",
       "      <td>7</td>\n",
       "      <td>10/112/2019</td>\n",
       "    </tr>\n",
       "    <tr>\n",
       "      <th>2</th>\n",
       "      <td>Rocky</td>\n",
       "      <td>Boxer</td>\n",
       "      <td>Marrom</td>\n",
       "      <td>35</td>\n",
       "      <td>28</td>\n",
       "      <td>03/08/2017</td>\n",
       "    </tr>\n",
       "    <tr>\n",
       "      <th>3</th>\n",
       "      <td>Luna</td>\n",
       "      <td>Golder Retriever</td>\n",
       "      <td>Dourado</td>\n",
       "      <td>55</td>\n",
       "      <td>25</td>\n",
       "      <td>12/02/2016</td>\n",
       "    </tr>\n",
       "  </tbody>\n",
       "</table>\n",
       "</div>"
      ],
      "text/plain": [
       "    Nome              Raça      Cor  Peso (kg)  Altura (cm) Data de Nascimento\n",
       "0    Max          Labrador  Amarelo         60           30         01/05/2018\n",
       "1  Bella            Poodle   Branco         35            7        10/112/2019\n",
       "2  Rocky             Boxer   Marrom         35           28         03/08/2017\n",
       "3   Luna  Golder Retriever  Dourado         55           25         12/02/2016"
      ]
     },
     "execution_count": 5,
     "metadata": {},
     "output_type": "execute_result"
    }
   ],
   "source": [
    "#Criando o dataframe\n",
    "df_cachorros = pd.DataFrame(dados)\n",
    "df_cachorros"
   ]
  },
  {
   "cell_type": "code",
   "execution_count": 6,
   "metadata": {},
   "outputs": [],
   "source": [
    "#Lendo um arquivo e transformando em dataframe\n",
    "# df_csv = pd.read_csv('arquivo.csv)\n",
    "# df_excel = pd.read_excel('planilha.xlsx', sheet_name='nome_da_planilha)\n",
    "# df_jason = pd.read_json('arquivo.json')\n",
    "# df_parquet = pd.read_parquet('arquivo.parquet')\n",
    "# from sqlalchemy import create_engine\n",
    "# engine = create_engine('sqlite://banco_de_dados.bd')\n",
    "# query = 'SELECT * FROM tabela'\n",
    "# df_sql = pd.read_sql(query, engine)\n"
   ]
  },
  {
   "cell_type": "markdown",
   "metadata": {},
   "source": [
    "Primeiros métodos para entender o dataframe"
   ]
  },
  {
   "cell_type": "code",
   "execution_count": 7,
   "metadata": {},
   "outputs": [
    {
     "data": {
      "text/html": [
       "<div>\n",
       "<style scoped>\n",
       "    .dataframe tbody tr th:only-of-type {\n",
       "        vertical-align: middle;\n",
       "    }\n",
       "\n",
       "    .dataframe tbody tr th {\n",
       "        vertical-align: top;\n",
       "    }\n",
       "\n",
       "    .dataframe thead th {\n",
       "        text-align: right;\n",
       "    }\n",
       "</style>\n",
       "<table border=\"1\" class=\"dataframe\">\n",
       "  <thead>\n",
       "    <tr style=\"text-align: right;\">\n",
       "      <th></th>\n",
       "      <th>Nome</th>\n",
       "      <th>Raça</th>\n",
       "      <th>Cor</th>\n",
       "      <th>Peso (kg)</th>\n",
       "      <th>Altura (cm)</th>\n",
       "      <th>Data de Nascimento</th>\n",
       "    </tr>\n",
       "  </thead>\n",
       "  <tbody>\n",
       "    <tr>\n",
       "      <th>0</th>\n",
       "      <td>Max</td>\n",
       "      <td>Labrador</td>\n",
       "      <td>Amarelo</td>\n",
       "      <td>60</td>\n",
       "      <td>30</td>\n",
       "      <td>01/05/2018</td>\n",
       "    </tr>\n",
       "    <tr>\n",
       "      <th>1</th>\n",
       "      <td>Bella</td>\n",
       "      <td>Poodle</td>\n",
       "      <td>Branco</td>\n",
       "      <td>35</td>\n",
       "      <td>7</td>\n",
       "      <td>10/112/2019</td>\n",
       "    </tr>\n",
       "    <tr>\n",
       "      <th>2</th>\n",
       "      <td>Rocky</td>\n",
       "      <td>Boxer</td>\n",
       "      <td>Marrom</td>\n",
       "      <td>35</td>\n",
       "      <td>28</td>\n",
       "      <td>03/08/2017</td>\n",
       "    </tr>\n",
       "    <tr>\n",
       "      <th>3</th>\n",
       "      <td>Luna</td>\n",
       "      <td>Golder Retriever</td>\n",
       "      <td>Dourado</td>\n",
       "      <td>55</td>\n",
       "      <td>25</td>\n",
       "      <td>12/02/2016</td>\n",
       "    </tr>\n",
       "  </tbody>\n",
       "</table>\n",
       "</div>"
      ],
      "text/plain": [
       "    Nome              Raça      Cor  Peso (kg)  Altura (cm) Data de Nascimento\n",
       "0    Max          Labrador  Amarelo         60           30         01/05/2018\n",
       "1  Bella            Poodle   Branco         35            7        10/112/2019\n",
       "2  Rocky             Boxer   Marrom         35           28         03/08/2017\n",
       "3   Luna  Golder Retriever  Dourado         55           25         12/02/2016"
      ]
     },
     "execution_count": 7,
     "metadata": {},
     "output_type": "execute_result"
    }
   ],
   "source": [
    "#visualizar os pontos iniciais de uma tabela: \n",
    "df_cachorros.head()"
   ]
  },
  {
   "cell_type": "code",
   "execution_count": 8,
   "metadata": {},
   "outputs": [
    {
     "name": "stdout",
     "output_type": "stream",
     "text": [
      "<class 'pandas.core.frame.DataFrame'>\n",
      "RangeIndex: 4 entries, 0 to 3\n",
      "Data columns (total 6 columns):\n",
      " #   Column              Non-Null Count  Dtype \n",
      "---  ------              --------------  ----- \n",
      " 0   Nome                4 non-null      object\n",
      " 1   Raça                4 non-null      object\n",
      " 2   Cor                 4 non-null      object\n",
      " 3   Peso (kg)           4 non-null      int64 \n",
      " 4   Altura (cm)         4 non-null      int64 \n",
      " 5   Data de Nascimento  4 non-null      object\n",
      "dtypes: int64(2), object(4)\n",
      "memory usage: 324.0+ bytes\n"
     ]
    }
   ],
   "source": [
    "# df.info informa as colunas das tabelas e há dado faltante\n",
    "df_cachorros.info()"
   ]
  },
  {
   "cell_type": "code",
   "execution_count": 10,
   "metadata": {},
   "outputs": [
    {
     "data": {
      "text/plain": [
       "(4, 6)"
      ]
     },
     "execution_count": 10,
     "metadata": {},
     "output_type": "execute_result"
    }
   ],
   "source": [
    "# df.shape informa o tamanho\n",
    "df_cachorros.shape"
   ]
  },
  {
   "cell_type": "code",
   "execution_count": 12,
   "metadata": {},
   "outputs": [
    {
     "data": {
      "text/html": [
       "<div>\n",
       "<style scoped>\n",
       "    .dataframe tbody tr th:only-of-type {\n",
       "        vertical-align: middle;\n",
       "    }\n",
       "\n",
       "    .dataframe tbody tr th {\n",
       "        vertical-align: top;\n",
       "    }\n",
       "\n",
       "    .dataframe thead th {\n",
       "        text-align: right;\n",
       "    }\n",
       "</style>\n",
       "<table border=\"1\" class=\"dataframe\">\n",
       "  <thead>\n",
       "    <tr style=\"text-align: right;\">\n",
       "      <th></th>\n",
       "      <th>Peso (kg)</th>\n",
       "      <th>Altura (cm)</th>\n",
       "    </tr>\n",
       "  </thead>\n",
       "  <tbody>\n",
       "    <tr>\n",
       "      <th>count</th>\n",
       "      <td>4.000000</td>\n",
       "      <td>4.000000</td>\n",
       "    </tr>\n",
       "    <tr>\n",
       "      <th>mean</th>\n",
       "      <td>46.250000</td>\n",
       "      <td>22.500000</td>\n",
       "    </tr>\n",
       "    <tr>\n",
       "      <th>std</th>\n",
       "      <td>13.149778</td>\n",
       "      <td>10.535654</td>\n",
       "    </tr>\n",
       "    <tr>\n",
       "      <th>min</th>\n",
       "      <td>35.000000</td>\n",
       "      <td>7.000000</td>\n",
       "    </tr>\n",
       "    <tr>\n",
       "      <th>25%</th>\n",
       "      <td>35.000000</td>\n",
       "      <td>20.500000</td>\n",
       "    </tr>\n",
       "    <tr>\n",
       "      <th>50%</th>\n",
       "      <td>45.000000</td>\n",
       "      <td>26.500000</td>\n",
       "    </tr>\n",
       "    <tr>\n",
       "      <th>75%</th>\n",
       "      <td>56.250000</td>\n",
       "      <td>28.500000</td>\n",
       "    </tr>\n",
       "    <tr>\n",
       "      <th>max</th>\n",
       "      <td>60.000000</td>\n",
       "      <td>30.000000</td>\n",
       "    </tr>\n",
       "  </tbody>\n",
       "</table>\n",
       "</div>"
      ],
      "text/plain": [
       "       Peso (kg)  Altura (cm)\n",
       "count   4.000000     4.000000\n",
       "mean   46.250000    22.500000\n",
       "std    13.149778    10.535654\n",
       "min    35.000000     7.000000\n",
       "25%    35.000000    20.500000\n",
       "50%    45.000000    26.500000\n",
       "75%    56.250000    28.500000\n",
       "max    60.000000    30.000000"
      ]
     },
     "execution_count": 12,
     "metadata": {},
     "output_type": "execute_result"
    }
   ],
   "source": [
    "#df.describe informa valores e calculos e estatisticas\n",
    "df_cachorros.describe()"
   ]
  },
  {
   "cell_type": "markdown",
   "metadata": {},
   "source": [
    "Componentes de um dataframe"
   ]
  },
  {
   "cell_type": "code",
   "execution_count": 14,
   "metadata": {},
   "outputs": [
    {
     "data": {
      "text/plain": [
       "array([['Max', 'Labrador', 'Amarelo', 60, 30, '01/05/2018'],\n",
       "       ['Bella', 'Poodle', 'Branco', 35, 7, '10/112/2019'],\n",
       "       ['Rocky', 'Boxer', 'Marrom', 35, 28, '03/08/2017'],\n",
       "       ['Luna', 'Golder Retriever', 'Dourado', 55, 25, '12/02/2016']],\n",
       "      dtype=object)"
      ]
     },
     "execution_count": 14,
     "metadata": {},
     "output_type": "execute_result"
    }
   ],
   "source": [
    "# As tabelas no pandas funcionam com três pilares:\n",
    "# .values -> os valores (que são os próprios dados)\n",
    "df_cachorros.values"
   ]
  },
  {
   "cell_type": "code",
   "execution_count": 15,
   "metadata": {},
   "outputs": [
    {
     "data": {
      "text/plain": [
       "Index(['Nome', 'Raça', 'Cor', 'Peso (kg)', 'Altura (cm)',\n",
       "       'Data de Nascimento'],\n",
       "      dtype='object')"
      ]
     },
     "execution_count": 15,
     "metadata": {},
     "output_type": "execute_result"
    }
   ],
   "source": [
    "# .columns -> as etiquetas (labels) das colunas\n",
    "df_cachorros.columns"
   ]
  },
  {
   "cell_type": "code",
   "execution_count": 16,
   "metadata": {},
   "outputs": [
    {
     "data": {
      "text/plain": [
       "RangeIndex(start=0, stop=4, step=1)"
      ]
     },
     "execution_count": 16,
     "metadata": {},
     "output_type": "execute_result"
    }
   ],
   "source": [
    "# .index -> as etiquetas das linhas\n",
    "df_cachorros.index"
   ]
  },
  {
   "cell_type": "markdown",
   "metadata": {},
   "source": [
    "Ordenação e subconjuntos"
   ]
  },
  {
   "cell_type": "code",
   "execution_count": 18,
   "metadata": {},
   "outputs": [
    {
     "data": {
      "text/html": [
       "<div>\n",
       "<style scoped>\n",
       "    .dataframe tbody tr th:only-of-type {\n",
       "        vertical-align: middle;\n",
       "    }\n",
       "\n",
       "    .dataframe tbody tr th {\n",
       "        vertical-align: top;\n",
       "    }\n",
       "\n",
       "    .dataframe thead th {\n",
       "        text-align: right;\n",
       "    }\n",
       "</style>\n",
       "<table border=\"1\" class=\"dataframe\">\n",
       "  <thead>\n",
       "    <tr style=\"text-align: right;\">\n",
       "      <th></th>\n",
       "      <th>Nome</th>\n",
       "      <th>Raça</th>\n",
       "      <th>Cor</th>\n",
       "      <th>Peso (kg)</th>\n",
       "      <th>Altura (cm)</th>\n",
       "      <th>Data de Nascimento</th>\n",
       "    </tr>\n",
       "  </thead>\n",
       "  <tbody>\n",
       "    <tr>\n",
       "      <th>1</th>\n",
       "      <td>Bella</td>\n",
       "      <td>Poodle</td>\n",
       "      <td>Branco</td>\n",
       "      <td>35</td>\n",
       "      <td>7</td>\n",
       "      <td>10/112/2019</td>\n",
       "    </tr>\n",
       "    <tr>\n",
       "      <th>3</th>\n",
       "      <td>Luna</td>\n",
       "      <td>Golder Retriever</td>\n",
       "      <td>Dourado</td>\n",
       "      <td>55</td>\n",
       "      <td>25</td>\n",
       "      <td>12/02/2016</td>\n",
       "    </tr>\n",
       "    <tr>\n",
       "      <th>2</th>\n",
       "      <td>Rocky</td>\n",
       "      <td>Boxer</td>\n",
       "      <td>Marrom</td>\n",
       "      <td>35</td>\n",
       "      <td>28</td>\n",
       "      <td>03/08/2017</td>\n",
       "    </tr>\n",
       "    <tr>\n",
       "      <th>0</th>\n",
       "      <td>Max</td>\n",
       "      <td>Labrador</td>\n",
       "      <td>Amarelo</td>\n",
       "      <td>60</td>\n",
       "      <td>30</td>\n",
       "      <td>01/05/2018</td>\n",
       "    </tr>\n",
       "  </tbody>\n",
       "</table>\n",
       "</div>"
      ],
      "text/plain": [
       "    Nome              Raça      Cor  Peso (kg)  Altura (cm) Data de Nascimento\n",
       "1  Bella            Poodle   Branco         35            7        10/112/2019\n",
       "3   Luna  Golder Retriever  Dourado         55           25         12/02/2016\n",
       "2  Rocky             Boxer   Marrom         35           28         03/08/2017\n",
       "0    Max          Labrador  Amarelo         60           30         01/05/2018"
      ]
     },
     "execution_count": 18,
     "metadata": {},
     "output_type": "execute_result"
    }
   ],
   "source": [
    "#ordenação -> ordena a tabela conforme o parâmetro passado. no caso abaixo, conforme a altura.\n",
    "df_cachorros.sort_values('Altura (cm)')"
   ]
  },
  {
   "cell_type": "code",
   "execution_count": 19,
   "metadata": {},
   "outputs": [
    {
     "data": {
      "text/html": [
       "<div>\n",
       "<style scoped>\n",
       "    .dataframe tbody tr th:only-of-type {\n",
       "        vertical-align: middle;\n",
       "    }\n",
       "\n",
       "    .dataframe tbody tr th {\n",
       "        vertical-align: top;\n",
       "    }\n",
       "\n",
       "    .dataframe thead th {\n",
       "        text-align: right;\n",
       "    }\n",
       "</style>\n",
       "<table border=\"1\" class=\"dataframe\">\n",
       "  <thead>\n",
       "    <tr style=\"text-align: right;\">\n",
       "      <th></th>\n",
       "      <th>Nome</th>\n",
       "      <th>Raça</th>\n",
       "      <th>Cor</th>\n",
       "      <th>Peso (kg)</th>\n",
       "      <th>Altura (cm)</th>\n",
       "      <th>Data de Nascimento</th>\n",
       "    </tr>\n",
       "  </thead>\n",
       "  <tbody>\n",
       "    <tr>\n",
       "      <th>0</th>\n",
       "      <td>Max</td>\n",
       "      <td>Labrador</td>\n",
       "      <td>Amarelo</td>\n",
       "      <td>60</td>\n",
       "      <td>30</td>\n",
       "      <td>01/05/2018</td>\n",
       "    </tr>\n",
       "    <tr>\n",
       "      <th>2</th>\n",
       "      <td>Rocky</td>\n",
       "      <td>Boxer</td>\n",
       "      <td>Marrom</td>\n",
       "      <td>35</td>\n",
       "      <td>28</td>\n",
       "      <td>03/08/2017</td>\n",
       "    </tr>\n",
       "    <tr>\n",
       "      <th>3</th>\n",
       "      <td>Luna</td>\n",
       "      <td>Golder Retriever</td>\n",
       "      <td>Dourado</td>\n",
       "      <td>55</td>\n",
       "      <td>25</td>\n",
       "      <td>12/02/2016</td>\n",
       "    </tr>\n",
       "    <tr>\n",
       "      <th>1</th>\n",
       "      <td>Bella</td>\n",
       "      <td>Poodle</td>\n",
       "      <td>Branco</td>\n",
       "      <td>35</td>\n",
       "      <td>7</td>\n",
       "      <td>10/112/2019</td>\n",
       "    </tr>\n",
       "  </tbody>\n",
       "</table>\n",
       "</div>"
      ],
      "text/plain": [
       "    Nome              Raça      Cor  Peso (kg)  Altura (cm) Data de Nascimento\n",
       "0    Max          Labrador  Amarelo         60           30         01/05/2018\n",
       "2  Rocky             Boxer   Marrom         35           28         03/08/2017\n",
       "3   Luna  Golder Retriever  Dourado         55           25         12/02/2016\n",
       "1  Bella            Poodle   Branco         35            7        10/112/2019"
      ]
     },
     "execution_count": 19,
     "metadata": {},
     "output_type": "execute_result"
    }
   ],
   "source": [
    "#ordenação descresncente-> ordena a tabela conforme o parâmetro passado. no caso abaixo, conforme a altura.\n",
    "df_cachorros.sort_values('Altura (cm)', ascending=False)"
   ]
  },
  {
   "cell_type": "code",
   "execution_count": 20,
   "metadata": {},
   "outputs": [
    {
     "data": {
      "text/html": [
       "<div>\n",
       "<style scoped>\n",
       "    .dataframe tbody tr th:only-of-type {\n",
       "        vertical-align: middle;\n",
       "    }\n",
       "\n",
       "    .dataframe tbody tr th {\n",
       "        vertical-align: top;\n",
       "    }\n",
       "\n",
       "    .dataframe thead th {\n",
       "        text-align: right;\n",
       "    }\n",
       "</style>\n",
       "<table border=\"1\" class=\"dataframe\">\n",
       "  <thead>\n",
       "    <tr style=\"text-align: right;\">\n",
       "      <th></th>\n",
       "      <th>Nome</th>\n",
       "      <th>Raça</th>\n",
       "      <th>Cor</th>\n",
       "      <th>Peso (kg)</th>\n",
       "      <th>Altura (cm)</th>\n",
       "      <th>Data de Nascimento</th>\n",
       "    </tr>\n",
       "  </thead>\n",
       "  <tbody>\n",
       "    <tr>\n",
       "      <th>1</th>\n",
       "      <td>Bella</td>\n",
       "      <td>Poodle</td>\n",
       "      <td>Branco</td>\n",
       "      <td>35</td>\n",
       "      <td>7</td>\n",
       "      <td>10/112/2019</td>\n",
       "    </tr>\n",
       "    <tr>\n",
       "      <th>3</th>\n",
       "      <td>Luna</td>\n",
       "      <td>Golder Retriever</td>\n",
       "      <td>Dourado</td>\n",
       "      <td>55</td>\n",
       "      <td>25</td>\n",
       "      <td>12/02/2016</td>\n",
       "    </tr>\n",
       "    <tr>\n",
       "      <th>2</th>\n",
       "      <td>Rocky</td>\n",
       "      <td>Boxer</td>\n",
       "      <td>Marrom</td>\n",
       "      <td>35</td>\n",
       "      <td>28</td>\n",
       "      <td>03/08/2017</td>\n",
       "    </tr>\n",
       "    <tr>\n",
       "      <th>0</th>\n",
       "      <td>Max</td>\n",
       "      <td>Labrador</td>\n",
       "      <td>Amarelo</td>\n",
       "      <td>60</td>\n",
       "      <td>30</td>\n",
       "      <td>01/05/2018</td>\n",
       "    </tr>\n",
       "  </tbody>\n",
       "</table>\n",
       "</div>"
      ],
      "text/plain": [
       "    Nome              Raça      Cor  Peso (kg)  Altura (cm) Data de Nascimento\n",
       "1  Bella            Poodle   Branco         35            7        10/112/2019\n",
       "3   Luna  Golder Retriever  Dourado         55           25         12/02/2016\n",
       "2  Rocky             Boxer   Marrom         35           28         03/08/2017\n",
       "0    Max          Labrador  Amarelo         60           30         01/05/2018"
      ]
     },
     "execution_count": 20,
     "metadata": {},
     "output_type": "execute_result"
    }
   ],
   "source": [
    "#ordenação por multiplas variáveis-> ordena a tabela conforme o parâmetro passado. no caso abaixo, \n",
    "#conforme a altura e peso. Neste caso, é primeiro o peso e depois a altura\n",
    "df_cachorros.sort_values(['Altura (cm)', 'Peso (kg)'])"
   ]
  },
  {
   "cell_type": "code",
   "execution_count": 21,
   "metadata": {},
   "outputs": [
    {
     "data": {
      "text/html": [
       "<div>\n",
       "<style scoped>\n",
       "    .dataframe tbody tr th:only-of-type {\n",
       "        vertical-align: middle;\n",
       "    }\n",
       "\n",
       "    .dataframe tbody tr th {\n",
       "        vertical-align: top;\n",
       "    }\n",
       "\n",
       "    .dataframe thead th {\n",
       "        text-align: right;\n",
       "    }\n",
       "</style>\n",
       "<table border=\"1\" class=\"dataframe\">\n",
       "  <thead>\n",
       "    <tr style=\"text-align: right;\">\n",
       "      <th></th>\n",
       "      <th>Nome</th>\n",
       "      <th>Raça</th>\n",
       "      <th>Cor</th>\n",
       "      <th>Peso (kg)</th>\n",
       "      <th>Altura (cm)</th>\n",
       "      <th>Data de Nascimento</th>\n",
       "    </tr>\n",
       "  </thead>\n",
       "  <tbody>\n",
       "    <tr>\n",
       "      <th>0</th>\n",
       "      <td>Max</td>\n",
       "      <td>Labrador</td>\n",
       "      <td>Amarelo</td>\n",
       "      <td>60</td>\n",
       "      <td>30</td>\n",
       "      <td>01/05/2018</td>\n",
       "    </tr>\n",
       "    <tr>\n",
       "      <th>2</th>\n",
       "      <td>Rocky</td>\n",
       "      <td>Boxer</td>\n",
       "      <td>Marrom</td>\n",
       "      <td>35</td>\n",
       "      <td>28</td>\n",
       "      <td>03/08/2017</td>\n",
       "    </tr>\n",
       "    <tr>\n",
       "      <th>3</th>\n",
       "      <td>Luna</td>\n",
       "      <td>Golder Retriever</td>\n",
       "      <td>Dourado</td>\n",
       "      <td>55</td>\n",
       "      <td>25</td>\n",
       "      <td>12/02/2016</td>\n",
       "    </tr>\n",
       "    <tr>\n",
       "      <th>1</th>\n",
       "      <td>Bella</td>\n",
       "      <td>Poodle</td>\n",
       "      <td>Branco</td>\n",
       "      <td>35</td>\n",
       "      <td>7</td>\n",
       "      <td>10/112/2019</td>\n",
       "    </tr>\n",
       "  </tbody>\n",
       "</table>\n",
       "</div>"
      ],
      "text/plain": [
       "    Nome              Raça      Cor  Peso (kg)  Altura (cm) Data de Nascimento\n",
       "0    Max          Labrador  Amarelo         60           30         01/05/2018\n",
       "2  Rocky             Boxer   Marrom         35           28         03/08/2017\n",
       "3   Luna  Golder Retriever  Dourado         55           25         12/02/2016\n",
       "1  Bella            Poodle   Branco         35            7        10/112/2019"
      ]
     },
     "execution_count": 21,
     "metadata": {},
     "output_type": "execute_result"
    }
   ],
   "source": [
    "#ordenação por multiplas variáveis descresncete-> ordena a tabela conforme o parâmetro passado. no caso abaixo, \n",
    "#conforme a altura e peso. Neste caso, é primeiro o peso e depois a altura\n",
    "df_cachorros.sort_values(['Altura (cm)', 'Peso (kg)'], ascending=False)"
   ]
  },
  {
   "cell_type": "code",
   "execution_count": 22,
   "metadata": {},
   "outputs": [
    {
     "data": {
      "text/html": [
       "<div>\n",
       "<style scoped>\n",
       "    .dataframe tbody tr th:only-of-type {\n",
       "        vertical-align: middle;\n",
       "    }\n",
       "\n",
       "    .dataframe tbody tr th {\n",
       "        vertical-align: top;\n",
       "    }\n",
       "\n",
       "    .dataframe thead th {\n",
       "        text-align: right;\n",
       "    }\n",
       "</style>\n",
       "<table border=\"1\" class=\"dataframe\">\n",
       "  <thead>\n",
       "    <tr style=\"text-align: right;\">\n",
       "      <th></th>\n",
       "      <th>Nome</th>\n",
       "      <th>Raça</th>\n",
       "      <th>Cor</th>\n",
       "      <th>Peso (kg)</th>\n",
       "      <th>Altura (cm)</th>\n",
       "      <th>Data de Nascimento</th>\n",
       "    </tr>\n",
       "  </thead>\n",
       "  <tbody>\n",
       "    <tr>\n",
       "      <th>1</th>\n",
       "      <td>Bella</td>\n",
       "      <td>Poodle</td>\n",
       "      <td>Branco</td>\n",
       "      <td>35</td>\n",
       "      <td>7</td>\n",
       "      <td>10/112/2019</td>\n",
       "    </tr>\n",
       "    <tr>\n",
       "      <th>3</th>\n",
       "      <td>Luna</td>\n",
       "      <td>Golder Retriever</td>\n",
       "      <td>Dourado</td>\n",
       "      <td>55</td>\n",
       "      <td>25</td>\n",
       "      <td>12/02/2016</td>\n",
       "    </tr>\n",
       "    <tr>\n",
       "      <th>2</th>\n",
       "      <td>Rocky</td>\n",
       "      <td>Boxer</td>\n",
       "      <td>Marrom</td>\n",
       "      <td>35</td>\n",
       "      <td>28</td>\n",
       "      <td>03/08/2017</td>\n",
       "    </tr>\n",
       "    <tr>\n",
       "      <th>0</th>\n",
       "      <td>Max</td>\n",
       "      <td>Labrador</td>\n",
       "      <td>Amarelo</td>\n",
       "      <td>60</td>\n",
       "      <td>30</td>\n",
       "      <td>01/05/2018</td>\n",
       "    </tr>\n",
       "  </tbody>\n",
       "</table>\n",
       "</div>"
      ],
      "text/plain": [
       "    Nome              Raça      Cor  Peso (kg)  Altura (cm) Data de Nascimento\n",
       "1  Bella            Poodle   Branco         35            7        10/112/2019\n",
       "3   Luna  Golder Retriever  Dourado         55           25         12/02/2016\n",
       "2  Rocky             Boxer   Marrom         35           28         03/08/2017\n",
       "0    Max          Labrador  Amarelo         60           30         01/05/2018"
      ]
     },
     "execution_count": 22,
     "metadata": {},
     "output_type": "execute_result"
    }
   ],
   "source": [
    "#ordenação por multiplas variáveis crescente e descrescente-> ordena a tabela conforme o parâmetro passado. no caso abaixo, \n",
    "#conforme a altura e peso. Neste caso, é primeiro o peso e depois a altura\n",
    "#Neste caso, altura é crescente e peso é decrescente\n",
    "df_cachorros.sort_values(['Altura (cm)', 'Peso (kg)'], ascending=[True, False])"
   ]
  },
  {
   "cell_type": "markdown",
   "metadata": {},
   "source": [
    "Subconjuntos de colunas"
   ]
  },
  {
   "cell_type": "code",
   "execution_count": 23,
   "metadata": {},
   "outputs": [
    {
     "data": {
      "text/plain": [
       "0      Max\n",
       "1    Bella\n",
       "2    Rocky\n",
       "3     Luna\n",
       "Name: Nome, dtype: object"
      ]
     },
     "execution_count": 23,
     "metadata": {},
     "output_type": "execute_result"
    }
   ],
   "source": [
    "#subconjunto de apenas uma coluna\n",
    "df_cachorros['Nome']"
   ]
  },
  {
   "cell_type": "code",
   "execution_count": 24,
   "metadata": {},
   "outputs": [
    {
     "data": {
      "text/html": [
       "<div>\n",
       "<style scoped>\n",
       "    .dataframe tbody tr th:only-of-type {\n",
       "        vertical-align: middle;\n",
       "    }\n",
       "\n",
       "    .dataframe tbody tr th {\n",
       "        vertical-align: top;\n",
       "    }\n",
       "\n",
       "    .dataframe thead th {\n",
       "        text-align: right;\n",
       "    }\n",
       "</style>\n",
       "<table border=\"1\" class=\"dataframe\">\n",
       "  <thead>\n",
       "    <tr style=\"text-align: right;\">\n",
       "      <th></th>\n",
       "      <th>Nome</th>\n",
       "      <th>Altura (cm)</th>\n",
       "    </tr>\n",
       "  </thead>\n",
       "  <tbody>\n",
       "    <tr>\n",
       "      <th>0</th>\n",
       "      <td>Max</td>\n",
       "      <td>30</td>\n",
       "    </tr>\n",
       "    <tr>\n",
       "      <th>1</th>\n",
       "      <td>Bella</td>\n",
       "      <td>7</td>\n",
       "    </tr>\n",
       "    <tr>\n",
       "      <th>2</th>\n",
       "      <td>Rocky</td>\n",
       "      <td>28</td>\n",
       "    </tr>\n",
       "    <tr>\n",
       "      <th>3</th>\n",
       "      <td>Luna</td>\n",
       "      <td>25</td>\n",
       "    </tr>\n",
       "  </tbody>\n",
       "</table>\n",
       "</div>"
      ],
      "text/plain": [
       "    Nome  Altura (cm)\n",
       "0    Max           30\n",
       "1  Bella            7\n",
       "2  Rocky           28\n",
       "3   Luna           25"
      ]
     },
     "execution_count": 24,
     "metadata": {},
     "output_type": "execute_result"
    }
   ],
   "source": [
    "#subconjunto de multiplas coluns\n",
    "df_cachorros[['Nome', 'Altura (cm)']]"
   ]
  },
  {
   "cell_type": "code",
   "execution_count": 29,
   "metadata": {},
   "outputs": [
    {
     "data": {
      "text/plain": [
       "0     True\n",
       "1    False\n",
       "2     True\n",
       "3    False\n",
       "Name: Altura (cm), dtype: bool"
      ]
     },
     "execution_count": 29,
     "metadata": {},
     "output_type": "execute_result"
    }
   ],
   "source": [
    "#Subconjuntos de uma única linha\n",
    "df_cachorros['Altura (cm)'] > 25"
   ]
  },
  {
   "cell_type": "code",
   "execution_count": 30,
   "metadata": {},
   "outputs": [
    {
     "data": {
      "text/html": [
       "<div>\n",
       "<style scoped>\n",
       "    .dataframe tbody tr th:only-of-type {\n",
       "        vertical-align: middle;\n",
       "    }\n",
       "\n",
       "    .dataframe tbody tr th {\n",
       "        vertical-align: top;\n",
       "    }\n",
       "\n",
       "    .dataframe thead th {\n",
       "        text-align: right;\n",
       "    }\n",
       "</style>\n",
       "<table border=\"1\" class=\"dataframe\">\n",
       "  <thead>\n",
       "    <tr style=\"text-align: right;\">\n",
       "      <th></th>\n",
       "      <th>Nome</th>\n",
       "      <th>Raça</th>\n",
       "      <th>Cor</th>\n",
       "      <th>Peso (kg)</th>\n",
       "      <th>Altura (cm)</th>\n",
       "      <th>Data de Nascimento</th>\n",
       "    </tr>\n",
       "  </thead>\n",
       "  <tbody>\n",
       "    <tr>\n",
       "      <th>0</th>\n",
       "      <td>Max</td>\n",
       "      <td>Labrador</td>\n",
       "      <td>Amarelo</td>\n",
       "      <td>60</td>\n",
       "      <td>30</td>\n",
       "      <td>01/05/2018</td>\n",
       "    </tr>\n",
       "    <tr>\n",
       "      <th>2</th>\n",
       "      <td>Rocky</td>\n",
       "      <td>Boxer</td>\n",
       "      <td>Marrom</td>\n",
       "      <td>35</td>\n",
       "      <td>28</td>\n",
       "      <td>03/08/2017</td>\n",
       "    </tr>\n",
       "  </tbody>\n",
       "</table>\n",
       "</div>"
      ],
      "text/plain": [
       "    Nome      Raça      Cor  Peso (kg)  Altura (cm) Data de Nascimento\n",
       "0    Max  Labrador  Amarelo         60           30         01/05/2018\n",
       "2  Rocky     Boxer   Marrom         35           28         03/08/2017"
      ]
     },
     "execution_count": 30,
     "metadata": {},
     "output_type": "execute_result"
    }
   ],
   "source": [
    "#Uma condição lógica também pode ser aplicada para imprimir apenas os que são verdadeiros\n",
    "df_cachorros[df_cachorros['Altura (cm)']> 25]"
   ]
  },
  {
   "cell_type": "code",
   "execution_count": 31,
   "metadata": {},
   "outputs": [
    {
     "data": {
      "text/html": [
       "<div>\n",
       "<style scoped>\n",
       "    .dataframe tbody tr th:only-of-type {\n",
       "        vertical-align: middle;\n",
       "    }\n",
       "\n",
       "    .dataframe tbody tr th {\n",
       "        vertical-align: top;\n",
       "    }\n",
       "\n",
       "    .dataframe thead th {\n",
       "        text-align: right;\n",
       "    }\n",
       "</style>\n",
       "<table border=\"1\" class=\"dataframe\">\n",
       "  <thead>\n",
       "    <tr style=\"text-align: right;\">\n",
       "      <th></th>\n",
       "      <th>Nome</th>\n",
       "      <th>Raça</th>\n",
       "      <th>Cor</th>\n",
       "      <th>Peso (kg)</th>\n",
       "      <th>Altura (cm)</th>\n",
       "      <th>Data de Nascimento</th>\n",
       "    </tr>\n",
       "  </thead>\n",
       "  <tbody>\n",
       "    <tr>\n",
       "      <th>2</th>\n",
       "      <td>Rocky</td>\n",
       "      <td>Boxer</td>\n",
       "      <td>Marrom</td>\n",
       "      <td>35</td>\n",
       "      <td>28</td>\n",
       "      <td>03/08/2017</td>\n",
       "    </tr>\n",
       "  </tbody>\n",
       "</table>\n",
       "</div>"
      ],
      "text/plain": [
       "    Nome   Raça     Cor  Peso (kg)  Altura (cm) Data de Nascimento\n",
       "2  Rocky  Boxer  Marrom         35           28         03/08/2017"
      ]
     },
     "execution_count": 31,
     "metadata": {},
     "output_type": "execute_result"
    }
   ],
   "source": [
    "#Subconjunto com base em dado de texto\n",
    "df_cachorros[df_cachorros['Raça'] == 'Boxer']"
   ]
  },
  {
   "cell_type": "code",
   "execution_count": 32,
   "metadata": {},
   "outputs": [
    {
     "data": {
      "text/html": [
       "<div>\n",
       "<style scoped>\n",
       "    .dataframe tbody tr th:only-of-type {\n",
       "        vertical-align: middle;\n",
       "    }\n",
       "\n",
       "    .dataframe tbody tr th {\n",
       "        vertical-align: top;\n",
       "    }\n",
       "\n",
       "    .dataframe thead th {\n",
       "        text-align: right;\n",
       "    }\n",
       "</style>\n",
       "<table border=\"1\" class=\"dataframe\">\n",
       "  <thead>\n",
       "    <tr style=\"text-align: right;\">\n",
       "      <th></th>\n",
       "      <th>Nome</th>\n",
       "      <th>Raça</th>\n",
       "      <th>Cor</th>\n",
       "      <th>Peso (kg)</th>\n",
       "      <th>Altura (cm)</th>\n",
       "      <th>Data de Nascimento</th>\n",
       "    </tr>\n",
       "  </thead>\n",
       "  <tbody>\n",
       "    <tr>\n",
       "      <th>0</th>\n",
       "      <td>Max</td>\n",
       "      <td>Labrador</td>\n",
       "      <td>Amarelo</td>\n",
       "      <td>60</td>\n",
       "      <td>30</td>\n",
       "      <td>01/05/2018</td>\n",
       "    </tr>\n",
       "    <tr>\n",
       "      <th>1</th>\n",
       "      <td>Bella</td>\n",
       "      <td>Poodle</td>\n",
       "      <td>Branco</td>\n",
       "      <td>35</td>\n",
       "      <td>7</td>\n",
       "      <td>10/112/2019</td>\n",
       "    </tr>\n",
       "    <tr>\n",
       "      <th>2</th>\n",
       "      <td>Rocky</td>\n",
       "      <td>Boxer</td>\n",
       "      <td>Marrom</td>\n",
       "      <td>35</td>\n",
       "      <td>28</td>\n",
       "      <td>03/08/2017</td>\n",
       "    </tr>\n",
       "    <tr>\n",
       "      <th>3</th>\n",
       "      <td>Luna</td>\n",
       "      <td>Golder Retriever</td>\n",
       "      <td>Dourado</td>\n",
       "      <td>55</td>\n",
       "      <td>25</td>\n",
       "      <td>12/02/2016</td>\n",
       "    </tr>\n",
       "  </tbody>\n",
       "</table>\n",
       "</div>"
      ],
      "text/plain": [
       "    Nome              Raça      Cor  Peso (kg)  Altura (cm) Data de Nascimento\n",
       "0    Max          Labrador  Amarelo         60           30         01/05/2018\n",
       "1  Bella            Poodle   Branco         35            7        10/112/2019\n",
       "2  Rocky             Boxer   Marrom         35           28         03/08/2017\n",
       "3   Luna  Golder Retriever  Dourado         55           25         12/02/2016"
      ]
     },
     "execution_count": 32,
     "metadata": {},
     "output_type": "execute_result"
    }
   ],
   "source": [
    "df_cachorros[df_cachorros['Data de Nascimento'] < '12/05/2017']"
   ]
  },
  {
   "cell_type": "code",
   "execution_count": 33,
   "metadata": {},
   "outputs": [
    {
     "data": {
      "text/html": [
       "<div>\n",
       "<style scoped>\n",
       "    .dataframe tbody tr th:only-of-type {\n",
       "        vertical-align: middle;\n",
       "    }\n",
       "\n",
       "    .dataframe tbody tr th {\n",
       "        vertical-align: top;\n",
       "    }\n",
       "\n",
       "    .dataframe thead th {\n",
       "        text-align: right;\n",
       "    }\n",
       "</style>\n",
       "<table border=\"1\" class=\"dataframe\">\n",
       "  <thead>\n",
       "    <tr style=\"text-align: right;\">\n",
       "      <th></th>\n",
       "      <th>Nome</th>\n",
       "      <th>Raça</th>\n",
       "      <th>Cor</th>\n",
       "      <th>Peso (kg)</th>\n",
       "      <th>Altura (cm)</th>\n",
       "      <th>Data de Nascimento</th>\n",
       "    </tr>\n",
       "  </thead>\n",
       "  <tbody>\n",
       "    <tr>\n",
       "      <th>0</th>\n",
       "      <td>Max</td>\n",
       "      <td>Labrador</td>\n",
       "      <td>Amarelo</td>\n",
       "      <td>60</td>\n",
       "      <td>30</td>\n",
       "      <td>01/05/2018</td>\n",
       "    </tr>\n",
       "  </tbody>\n",
       "</table>\n",
       "</div>"
      ],
      "text/plain": [
       "  Nome      Raça      Cor  Peso (kg)  Altura (cm) Data de Nascimento\n",
       "0  Max  Labrador  Amarelo         60           30         01/05/2018"
      ]
     },
     "execution_count": 33,
     "metadata": {},
     "output_type": "execute_result"
    }
   ],
   "source": [
    "#Subconjunto com base em múltiplas condições\n",
    "is_labrador = df_cachorros['Raça'] == 'Labrador'\n",
    "is_amarelo = df_cachorros['Cor'] == 'Amarelo'\n",
    "df_cachorros [is_labrador&is_amarelo]"
   ]
  },
  {
   "cell_type": "code",
   "execution_count": 34,
   "metadata": {},
   "outputs": [
    {
     "data": {
      "text/html": [
       "<div>\n",
       "<style scoped>\n",
       "    .dataframe tbody tr th:only-of-type {\n",
       "        vertical-align: middle;\n",
       "    }\n",
       "\n",
       "    .dataframe tbody tr th {\n",
       "        vertical-align: top;\n",
       "    }\n",
       "\n",
       "    .dataframe thead th {\n",
       "        text-align: right;\n",
       "    }\n",
       "</style>\n",
       "<table border=\"1\" class=\"dataframe\">\n",
       "  <thead>\n",
       "    <tr style=\"text-align: right;\">\n",
       "      <th></th>\n",
       "      <th>Nome</th>\n",
       "      <th>Raça</th>\n",
       "      <th>Cor</th>\n",
       "      <th>Peso (kg)</th>\n",
       "      <th>Altura (cm)</th>\n",
       "      <th>Data de Nascimento</th>\n",
       "    </tr>\n",
       "  </thead>\n",
       "  <tbody>\n",
       "    <tr>\n",
       "      <th>0</th>\n",
       "      <td>Max</td>\n",
       "      <td>Labrador</td>\n",
       "      <td>Amarelo</td>\n",
       "      <td>60</td>\n",
       "      <td>30</td>\n",
       "      <td>01/05/2018</td>\n",
       "    </tr>\n",
       "  </tbody>\n",
       "</table>\n",
       "</div>"
      ],
      "text/plain": [
       "  Nome      Raça      Cor  Peso (kg)  Altura (cm) Data de Nascimento\n",
       "0  Max  Labrador  Amarelo         60           30         01/05/2018"
      ]
     },
     "execution_count": 34,
     "metadata": {},
     "output_type": "execute_result"
    }
   ],
   "source": [
    "df_cachorros[(df_cachorros['Raça']=='Labrador') & (df_cachorros['Cor'] == 'Amarelo')]"
   ]
  },
  {
   "cell_type": "code",
   "execution_count": 35,
   "metadata": {},
   "outputs": [
    {
     "data": {
      "text/html": [
       "<div>\n",
       "<style scoped>\n",
       "    .dataframe tbody tr th:only-of-type {\n",
       "        vertical-align: middle;\n",
       "    }\n",
       "\n",
       "    .dataframe tbody tr th {\n",
       "        vertical-align: top;\n",
       "    }\n",
       "\n",
       "    .dataframe thead th {\n",
       "        text-align: right;\n",
       "    }\n",
       "</style>\n",
       "<table border=\"1\" class=\"dataframe\">\n",
       "  <thead>\n",
       "    <tr style=\"text-align: right;\">\n",
       "      <th></th>\n",
       "      <th>Nome</th>\n",
       "      <th>Raça</th>\n",
       "      <th>Cor</th>\n",
       "      <th>Peso (kg)</th>\n",
       "      <th>Altura (cm)</th>\n",
       "      <th>Data de Nascimento</th>\n",
       "    </tr>\n",
       "  </thead>\n",
       "  <tbody>\n",
       "    <tr>\n",
       "      <th>1</th>\n",
       "      <td>Bella</td>\n",
       "      <td>Poodle</td>\n",
       "      <td>Branco</td>\n",
       "      <td>35</td>\n",
       "      <td>7</td>\n",
       "      <td>10/112/2019</td>\n",
       "    </tr>\n",
       "    <tr>\n",
       "      <th>2</th>\n",
       "      <td>Rocky</td>\n",
       "      <td>Boxer</td>\n",
       "      <td>Marrom</td>\n",
       "      <td>35</td>\n",
       "      <td>28</td>\n",
       "      <td>03/08/2017</td>\n",
       "    </tr>\n",
       "  </tbody>\n",
       "</table>\n",
       "</div>"
      ],
      "text/plain": [
       "    Nome    Raça     Cor  Peso (kg)  Altura (cm) Data de Nascimento\n",
       "1  Bella  Poodle  Branco         35            7        10/112/2019\n",
       "2  Rocky   Boxer  Marrom         35           28         03/08/2017"
      ]
     },
     "execution_count": 35,
     "metadata": {},
     "output_type": "execute_result"
    }
   ],
   "source": [
    "#Subconjunto usando .isin() -> retorno aquilo que filtro\n",
    "is_marrom_ou_branco = df_cachorros['Cor'].isin(['Marrom', 'Branco'])\n",
    "df_cachorros[is_marrom_ou_branco]"
   ]
  },
  {
   "cell_type": "markdown",
   "metadata": {},
   "source": [
    "Adicionando uma nova coluna no dataframe"
   ]
  },
  {
   "cell_type": "code",
   "execution_count": 36,
   "metadata": {},
   "outputs": [
    {
     "data": {
      "text/html": [
       "<div>\n",
       "<style scoped>\n",
       "    .dataframe tbody tr th:only-of-type {\n",
       "        vertical-align: middle;\n",
       "    }\n",
       "\n",
       "    .dataframe tbody tr th {\n",
       "        vertical-align: top;\n",
       "    }\n",
       "\n",
       "    .dataframe thead th {\n",
       "        text-align: right;\n",
       "    }\n",
       "</style>\n",
       "<table border=\"1\" class=\"dataframe\">\n",
       "  <thead>\n",
       "    <tr style=\"text-align: right;\">\n",
       "      <th></th>\n",
       "      <th>Nome</th>\n",
       "      <th>Raça</th>\n",
       "      <th>Cor</th>\n",
       "      <th>Peso (kg)</th>\n",
       "      <th>Altura (cm)</th>\n",
       "      <th>Data de Nascimento</th>\n",
       "      <th>Altura (m)</th>\n",
       "    </tr>\n",
       "  </thead>\n",
       "  <tbody>\n",
       "    <tr>\n",
       "      <th>0</th>\n",
       "      <td>Max</td>\n",
       "      <td>Labrador</td>\n",
       "      <td>Amarelo</td>\n",
       "      <td>60</td>\n",
       "      <td>30</td>\n",
       "      <td>01/05/2018</td>\n",
       "      <td>0.30</td>\n",
       "    </tr>\n",
       "    <tr>\n",
       "      <th>1</th>\n",
       "      <td>Bella</td>\n",
       "      <td>Poodle</td>\n",
       "      <td>Branco</td>\n",
       "      <td>35</td>\n",
       "      <td>7</td>\n",
       "      <td>10/112/2019</td>\n",
       "      <td>0.07</td>\n",
       "    </tr>\n",
       "    <tr>\n",
       "      <th>2</th>\n",
       "      <td>Rocky</td>\n",
       "      <td>Boxer</td>\n",
       "      <td>Marrom</td>\n",
       "      <td>35</td>\n",
       "      <td>28</td>\n",
       "      <td>03/08/2017</td>\n",
       "      <td>0.28</td>\n",
       "    </tr>\n",
       "    <tr>\n",
       "      <th>3</th>\n",
       "      <td>Luna</td>\n",
       "      <td>Golder Retriever</td>\n",
       "      <td>Dourado</td>\n",
       "      <td>55</td>\n",
       "      <td>25</td>\n",
       "      <td>12/02/2016</td>\n",
       "      <td>0.25</td>\n",
       "    </tr>\n",
       "  </tbody>\n",
       "</table>\n",
       "</div>"
      ],
      "text/plain": [
       "    Nome              Raça      Cor  Peso (kg)  Altura (cm)  \\\n",
       "0    Max          Labrador  Amarelo         60           30   \n",
       "1  Bella            Poodle   Branco         35            7   \n",
       "2  Rocky             Boxer   Marrom         35           28   \n",
       "3   Luna  Golder Retriever  Dourado         55           25   \n",
       "\n",
       "  Data de Nascimento  Altura (m)  \n",
       "0         01/05/2018        0.30  \n",
       "1        10/112/2019        0.07  \n",
       "2         03/08/2017        0.28  \n",
       "3         12/02/2016        0.25  "
      ]
     },
     "execution_count": 36,
     "metadata": {},
     "output_type": "execute_result"
    }
   ],
   "source": [
    "#Criar uma nova coluna é como se estivesse adicionando uma nova 'característica'\n",
    "df_cachorros['Altura (m)'] = df_cachorros['Altura (cm)']/100\n",
    "df_cachorros"
   ]
  },
  {
   "cell_type": "code",
   "execution_count": 37,
   "metadata": {},
   "outputs": [
    {
     "data": {
      "text/html": [
       "<div>\n",
       "<style scoped>\n",
       "    .dataframe tbody tr th:only-of-type {\n",
       "        vertical-align: middle;\n",
       "    }\n",
       "\n",
       "    .dataframe tbody tr th {\n",
       "        vertical-align: top;\n",
       "    }\n",
       "\n",
       "    .dataframe thead th {\n",
       "        text-align: right;\n",
       "    }\n",
       "</style>\n",
       "<table border=\"1\" class=\"dataframe\">\n",
       "  <thead>\n",
       "    <tr style=\"text-align: right;\">\n",
       "      <th></th>\n",
       "      <th>Nome</th>\n",
       "      <th>Altura (cm)</th>\n",
       "      <th>Peso (kg)</th>\n",
       "    </tr>\n",
       "  </thead>\n",
       "  <tbody>\n",
       "    <tr>\n",
       "      <th>0</th>\n",
       "      <td>Max</td>\n",
       "      <td>30</td>\n",
       "      <td>60</td>\n",
       "    </tr>\n",
       "    <tr>\n",
       "      <th>2</th>\n",
       "      <td>Rocky</td>\n",
       "      <td>28</td>\n",
       "      <td>35</td>\n",
       "    </tr>\n",
       "    <tr>\n",
       "      <th>3</th>\n",
       "      <td>Luna</td>\n",
       "      <td>25</td>\n",
       "      <td>55</td>\n",
       "    </tr>\n",
       "    <tr>\n",
       "      <th>1</th>\n",
       "      <td>Bella</td>\n",
       "      <td>7</td>\n",
       "      <td>35</td>\n",
       "    </tr>\n",
       "  </tbody>\n",
       "</table>\n",
       "</div>"
      ],
      "text/plain": [
       "    Nome  Altura (cm)  Peso (kg)\n",
       "0    Max           30         60\n",
       "2  Rocky           28         35\n",
       "3   Luna           25         55\n",
       "1  Bella            7         35"
      ]
     },
     "execution_count": 37,
     "metadata": {},
     "output_type": "execute_result"
    }
   ],
   "source": [
    "#Multiplas manipulações -> multiplos filtros\n",
    "dog_pequeno = df_cachorros[df_cachorros['Altura (m)']<=0.5]\n",
    "dog_pequeno = dog_pequeno.sort_values('Altura (cm)', ascending=False)\n",
    "dog_pequeno[['Nome', 'Altura (cm)', 'Peso (kg)']] "
   ]
  }
 ],
 "metadata": {
  "kernelspec": {
   "display_name": "Python 3",
   "language": "python",
   "name": "python3"
  },
  "language_info": {
   "codemirror_mode": {
    "name": "ipython",
    "version": 3
   },
   "file_extension": ".py",
   "mimetype": "text/x-python",
   "name": "python",
   "nbconvert_exporter": "python",
   "pygments_lexer": "ipython3",
   "version": "3.12.1"
  }
 },
 "nbformat": 4,
 "nbformat_minor": 2
}
