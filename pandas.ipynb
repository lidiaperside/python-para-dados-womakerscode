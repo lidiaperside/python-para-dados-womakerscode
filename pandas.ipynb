{
 "cells": [
  {
   "cell_type": "code",
   "execution_count": 60,
   "metadata": {},
   "outputs": [],
   "source": [
    "import pandas as pd\n",
    "import numpy as np"
   ]
  },
  {
   "cell_type": "code",
   "execution_count": 2,
   "metadata": {},
   "outputs": [],
   "source": [
    "#Existem diferentes formas de se ter dados utilizando o pandas, uma dessas formas é com a utilização de dicionários e listas:\n",
    "dados = {\n",
    "    'Nome': ['Max', 'Bella', 'Rocky', 'Luna'],\n",
    "    'Raça': ['Labrador', 'Poodle', 'Boxer', 'Golder Retriever'],\n",
    "    'Cor': ['Amarelo', 'Branco', 'Marrom', 'Dourado'],\n",
    "    'Peso (kg)': [60,35,35,55],\n",
    "    'Altura (cm)': [30,7,28,25],\n",
    "    'Data de Nascimento': ['01/05/2018', '10/12/2019', '03/08/2017', '12/02/2016']\n",
    "}"
   ]
  },
  {
   "cell_type": "code",
   "execution_count": 3,
   "metadata": {},
   "outputs": [
    {
     "data": {
      "text/html": [
       "<div>\n",
       "<style scoped>\n",
       "    .dataframe tbody tr th:only-of-type {\n",
       "        vertical-align: middle;\n",
       "    }\n",
       "\n",
       "    .dataframe tbody tr th {\n",
       "        vertical-align: top;\n",
       "    }\n",
       "\n",
       "    .dataframe thead th {\n",
       "        text-align: right;\n",
       "    }\n",
       "</style>\n",
       "<table border=\"1\" class=\"dataframe\">\n",
       "  <thead>\n",
       "    <tr style=\"text-align: right;\">\n",
       "      <th></th>\n",
       "      <th>Nome</th>\n",
       "      <th>Raça</th>\n",
       "      <th>Cor</th>\n",
       "      <th>Peso (kg)</th>\n",
       "      <th>Altura (cm)</th>\n",
       "      <th>Data de Nascimento</th>\n",
       "    </tr>\n",
       "  </thead>\n",
       "  <tbody>\n",
       "    <tr>\n",
       "      <th>0</th>\n",
       "      <td>Max</td>\n",
       "      <td>Labrador</td>\n",
       "      <td>Amarelo</td>\n",
       "      <td>60</td>\n",
       "      <td>30</td>\n",
       "      <td>01/05/2018</td>\n",
       "    </tr>\n",
       "    <tr>\n",
       "      <th>1</th>\n",
       "      <td>Bella</td>\n",
       "      <td>Poodle</td>\n",
       "      <td>Branco</td>\n",
       "      <td>35</td>\n",
       "      <td>7</td>\n",
       "      <td>10/12/2019</td>\n",
       "    </tr>\n",
       "    <tr>\n",
       "      <th>2</th>\n",
       "      <td>Rocky</td>\n",
       "      <td>Boxer</td>\n",
       "      <td>Marrom</td>\n",
       "      <td>35</td>\n",
       "      <td>28</td>\n",
       "      <td>03/08/2017</td>\n",
       "    </tr>\n",
       "    <tr>\n",
       "      <th>3</th>\n",
       "      <td>Luna</td>\n",
       "      <td>Golder Retriever</td>\n",
       "      <td>Dourado</td>\n",
       "      <td>55</td>\n",
       "      <td>25</td>\n",
       "      <td>12/02/2016</td>\n",
       "    </tr>\n",
       "  </tbody>\n",
       "</table>\n",
       "</div>"
      ],
      "text/plain": [
       "    Nome              Raça      Cor  Peso (kg)  Altura (cm) Data de Nascimento\n",
       "0    Max          Labrador  Amarelo         60           30         01/05/2018\n",
       "1  Bella            Poodle   Branco         35            7         10/12/2019\n",
       "2  Rocky             Boxer   Marrom         35           28         03/08/2017\n",
       "3   Luna  Golder Retriever  Dourado         55           25         12/02/2016"
      ]
     },
     "execution_count": 3,
     "metadata": {},
     "output_type": "execute_result"
    }
   ],
   "source": [
    "#Criando o dataframe\n",
    "df_cachorros = pd.DataFrame(dados)\n",
    "df_cachorros"
   ]
  },
  {
   "cell_type": "code",
   "execution_count": 4,
   "metadata": {},
   "outputs": [],
   "source": [
    "#Lendo um arquivo e transformando em dataframe\n",
    "# df_csv = pd.read_csv('arquivo.csv)\n",
    "# df_excel = pd.read_excel('planilha.xlsx', sheet_name='nome_da_planilha)\n",
    "# df_jason = pd.read_json('arquivo.json')\n",
    "# df_parquet = pd.read_parquet('arquivo.parquet')\n",
    "# from sqlalchemy import create_engine\n",
    "# engine = create_engine('sqlite://banco_de_dados.bd')\n",
    "# query = 'SELECT * FROM tabela'\n",
    "# df_sql = pd.read_sql(query, engine)\n"
   ]
  },
  {
   "cell_type": "markdown",
   "metadata": {},
   "source": [
    "Primeiros métodos para entender o dataframe"
   ]
  },
  {
   "cell_type": "code",
   "execution_count": 5,
   "metadata": {},
   "outputs": [
    {
     "data": {
      "text/html": [
       "<div>\n",
       "<style scoped>\n",
       "    .dataframe tbody tr th:only-of-type {\n",
       "        vertical-align: middle;\n",
       "    }\n",
       "\n",
       "    .dataframe tbody tr th {\n",
       "        vertical-align: top;\n",
       "    }\n",
       "\n",
       "    .dataframe thead th {\n",
       "        text-align: right;\n",
       "    }\n",
       "</style>\n",
       "<table border=\"1\" class=\"dataframe\">\n",
       "  <thead>\n",
       "    <tr style=\"text-align: right;\">\n",
       "      <th></th>\n",
       "      <th>Nome</th>\n",
       "      <th>Raça</th>\n",
       "      <th>Cor</th>\n",
       "      <th>Peso (kg)</th>\n",
       "      <th>Altura (cm)</th>\n",
       "      <th>Data de Nascimento</th>\n",
       "    </tr>\n",
       "  </thead>\n",
       "  <tbody>\n",
       "    <tr>\n",
       "      <th>0</th>\n",
       "      <td>Max</td>\n",
       "      <td>Labrador</td>\n",
       "      <td>Amarelo</td>\n",
       "      <td>60</td>\n",
       "      <td>30</td>\n",
       "      <td>01/05/2018</td>\n",
       "    </tr>\n",
       "    <tr>\n",
       "      <th>1</th>\n",
       "      <td>Bella</td>\n",
       "      <td>Poodle</td>\n",
       "      <td>Branco</td>\n",
       "      <td>35</td>\n",
       "      <td>7</td>\n",
       "      <td>10/12/2019</td>\n",
       "    </tr>\n",
       "    <tr>\n",
       "      <th>2</th>\n",
       "      <td>Rocky</td>\n",
       "      <td>Boxer</td>\n",
       "      <td>Marrom</td>\n",
       "      <td>35</td>\n",
       "      <td>28</td>\n",
       "      <td>03/08/2017</td>\n",
       "    </tr>\n",
       "    <tr>\n",
       "      <th>3</th>\n",
       "      <td>Luna</td>\n",
       "      <td>Golder Retriever</td>\n",
       "      <td>Dourado</td>\n",
       "      <td>55</td>\n",
       "      <td>25</td>\n",
       "      <td>12/02/2016</td>\n",
       "    </tr>\n",
       "  </tbody>\n",
       "</table>\n",
       "</div>"
      ],
      "text/plain": [
       "    Nome              Raça      Cor  Peso (kg)  Altura (cm) Data de Nascimento\n",
       "0    Max          Labrador  Amarelo         60           30         01/05/2018\n",
       "1  Bella            Poodle   Branco         35            7         10/12/2019\n",
       "2  Rocky             Boxer   Marrom         35           28         03/08/2017\n",
       "3   Luna  Golder Retriever  Dourado         55           25         12/02/2016"
      ]
     },
     "execution_count": 5,
     "metadata": {},
     "output_type": "execute_result"
    }
   ],
   "source": [
    "#visualizar os pontos iniciais de uma tabela: \n",
    "df_cachorros.head()"
   ]
  },
  {
   "cell_type": "code",
   "execution_count": 6,
   "metadata": {},
   "outputs": [
    {
     "name": "stdout",
     "output_type": "stream",
     "text": [
      "<class 'pandas.core.frame.DataFrame'>\n",
      "RangeIndex: 4 entries, 0 to 3\n",
      "Data columns (total 6 columns):\n",
      " #   Column              Non-Null Count  Dtype \n",
      "---  ------              --------------  ----- \n",
      " 0   Nome                4 non-null      object\n",
      " 1   Raça                4 non-null      object\n",
      " 2   Cor                 4 non-null      object\n",
      " 3   Peso (kg)           4 non-null      int64 \n",
      " 4   Altura (cm)         4 non-null      int64 \n",
      " 5   Data de Nascimento  4 non-null      object\n",
      "dtypes: int64(2), object(4)\n",
      "memory usage: 324.0+ bytes\n"
     ]
    }
   ],
   "source": [
    "# df.info informa as colunas das tabelas e há dado faltante\n",
    "df_cachorros.info()"
   ]
  },
  {
   "cell_type": "code",
   "execution_count": 7,
   "metadata": {},
   "outputs": [
    {
     "data": {
      "text/plain": [
       "(4, 6)"
      ]
     },
     "execution_count": 7,
     "metadata": {},
     "output_type": "execute_result"
    }
   ],
   "source": [
    "# df.shape informa o tamanho\n",
    "df_cachorros.shape"
   ]
  },
  {
   "cell_type": "code",
   "execution_count": 8,
   "metadata": {},
   "outputs": [
    {
     "data": {
      "text/html": [
       "<div>\n",
       "<style scoped>\n",
       "    .dataframe tbody tr th:only-of-type {\n",
       "        vertical-align: middle;\n",
       "    }\n",
       "\n",
       "    .dataframe tbody tr th {\n",
       "        vertical-align: top;\n",
       "    }\n",
       "\n",
       "    .dataframe thead th {\n",
       "        text-align: right;\n",
       "    }\n",
       "</style>\n",
       "<table border=\"1\" class=\"dataframe\">\n",
       "  <thead>\n",
       "    <tr style=\"text-align: right;\">\n",
       "      <th></th>\n",
       "      <th>Peso (kg)</th>\n",
       "      <th>Altura (cm)</th>\n",
       "    </tr>\n",
       "  </thead>\n",
       "  <tbody>\n",
       "    <tr>\n",
       "      <th>count</th>\n",
       "      <td>4.000000</td>\n",
       "      <td>4.000000</td>\n",
       "    </tr>\n",
       "    <tr>\n",
       "      <th>mean</th>\n",
       "      <td>46.250000</td>\n",
       "      <td>22.500000</td>\n",
       "    </tr>\n",
       "    <tr>\n",
       "      <th>std</th>\n",
       "      <td>13.149778</td>\n",
       "      <td>10.535654</td>\n",
       "    </tr>\n",
       "    <tr>\n",
       "      <th>min</th>\n",
       "      <td>35.000000</td>\n",
       "      <td>7.000000</td>\n",
       "    </tr>\n",
       "    <tr>\n",
       "      <th>25%</th>\n",
       "      <td>35.000000</td>\n",
       "      <td>20.500000</td>\n",
       "    </tr>\n",
       "    <tr>\n",
       "      <th>50%</th>\n",
       "      <td>45.000000</td>\n",
       "      <td>26.500000</td>\n",
       "    </tr>\n",
       "    <tr>\n",
       "      <th>75%</th>\n",
       "      <td>56.250000</td>\n",
       "      <td>28.500000</td>\n",
       "    </tr>\n",
       "    <tr>\n",
       "      <th>max</th>\n",
       "      <td>60.000000</td>\n",
       "      <td>30.000000</td>\n",
       "    </tr>\n",
       "  </tbody>\n",
       "</table>\n",
       "</div>"
      ],
      "text/plain": [
       "       Peso (kg)  Altura (cm)\n",
       "count   4.000000     4.000000\n",
       "mean   46.250000    22.500000\n",
       "std    13.149778    10.535654\n",
       "min    35.000000     7.000000\n",
       "25%    35.000000    20.500000\n",
       "50%    45.000000    26.500000\n",
       "75%    56.250000    28.500000\n",
       "max    60.000000    30.000000"
      ]
     },
     "execution_count": 8,
     "metadata": {},
     "output_type": "execute_result"
    }
   ],
   "source": [
    "#df.describe informa valores e calculos e estatisticas\n",
    "df_cachorros.describe()"
   ]
  },
  {
   "cell_type": "markdown",
   "metadata": {},
   "source": [
    "Componentes de um dataframe"
   ]
  },
  {
   "cell_type": "code",
   "execution_count": 9,
   "metadata": {},
   "outputs": [
    {
     "data": {
      "text/plain": [
       "array([['Max', 'Labrador', 'Amarelo', 60, 30, '01/05/2018'],\n",
       "       ['Bella', 'Poodle', 'Branco', 35, 7, '10/12/2019'],\n",
       "       ['Rocky', 'Boxer', 'Marrom', 35, 28, '03/08/2017'],\n",
       "       ['Luna', 'Golder Retriever', 'Dourado', 55, 25, '12/02/2016']],\n",
       "      dtype=object)"
      ]
     },
     "execution_count": 9,
     "metadata": {},
     "output_type": "execute_result"
    }
   ],
   "source": [
    "# As tabelas no pandas funcionam com três pilares:\n",
    "# .values -> os valores (que são os próprios dados)\n",
    "df_cachorros.values"
   ]
  },
  {
   "cell_type": "code",
   "execution_count": 10,
   "metadata": {},
   "outputs": [
    {
     "data": {
      "text/plain": [
       "Index(['Nome', 'Raça', 'Cor', 'Peso (kg)', 'Altura (cm)',\n",
       "       'Data de Nascimento'],\n",
       "      dtype='object')"
      ]
     },
     "execution_count": 10,
     "metadata": {},
     "output_type": "execute_result"
    }
   ],
   "source": [
    "# .columns -> as etiquetas (labels) das colunas\n",
    "df_cachorros.columns"
   ]
  },
  {
   "cell_type": "code",
   "execution_count": 11,
   "metadata": {},
   "outputs": [
    {
     "data": {
      "text/plain": [
       "RangeIndex(start=0, stop=4, step=1)"
      ]
     },
     "execution_count": 11,
     "metadata": {},
     "output_type": "execute_result"
    }
   ],
   "source": [
    "# .index -> as etiquetas das linhas\n",
    "df_cachorros.index"
   ]
  },
  {
   "cell_type": "markdown",
   "metadata": {},
   "source": [
    "Ordenação e subconjuntos"
   ]
  },
  {
   "cell_type": "code",
   "execution_count": 12,
   "metadata": {},
   "outputs": [
    {
     "data": {
      "text/html": [
       "<div>\n",
       "<style scoped>\n",
       "    .dataframe tbody tr th:only-of-type {\n",
       "        vertical-align: middle;\n",
       "    }\n",
       "\n",
       "    .dataframe tbody tr th {\n",
       "        vertical-align: top;\n",
       "    }\n",
       "\n",
       "    .dataframe thead th {\n",
       "        text-align: right;\n",
       "    }\n",
       "</style>\n",
       "<table border=\"1\" class=\"dataframe\">\n",
       "  <thead>\n",
       "    <tr style=\"text-align: right;\">\n",
       "      <th></th>\n",
       "      <th>Nome</th>\n",
       "      <th>Raça</th>\n",
       "      <th>Cor</th>\n",
       "      <th>Peso (kg)</th>\n",
       "      <th>Altura (cm)</th>\n",
       "      <th>Data de Nascimento</th>\n",
       "    </tr>\n",
       "  </thead>\n",
       "  <tbody>\n",
       "    <tr>\n",
       "      <th>1</th>\n",
       "      <td>Bella</td>\n",
       "      <td>Poodle</td>\n",
       "      <td>Branco</td>\n",
       "      <td>35</td>\n",
       "      <td>7</td>\n",
       "      <td>10/12/2019</td>\n",
       "    </tr>\n",
       "    <tr>\n",
       "      <th>3</th>\n",
       "      <td>Luna</td>\n",
       "      <td>Golder Retriever</td>\n",
       "      <td>Dourado</td>\n",
       "      <td>55</td>\n",
       "      <td>25</td>\n",
       "      <td>12/02/2016</td>\n",
       "    </tr>\n",
       "    <tr>\n",
       "      <th>2</th>\n",
       "      <td>Rocky</td>\n",
       "      <td>Boxer</td>\n",
       "      <td>Marrom</td>\n",
       "      <td>35</td>\n",
       "      <td>28</td>\n",
       "      <td>03/08/2017</td>\n",
       "    </tr>\n",
       "    <tr>\n",
       "      <th>0</th>\n",
       "      <td>Max</td>\n",
       "      <td>Labrador</td>\n",
       "      <td>Amarelo</td>\n",
       "      <td>60</td>\n",
       "      <td>30</td>\n",
       "      <td>01/05/2018</td>\n",
       "    </tr>\n",
       "  </tbody>\n",
       "</table>\n",
       "</div>"
      ],
      "text/plain": [
       "    Nome              Raça      Cor  Peso (kg)  Altura (cm) Data de Nascimento\n",
       "1  Bella            Poodle   Branco         35            7         10/12/2019\n",
       "3   Luna  Golder Retriever  Dourado         55           25         12/02/2016\n",
       "2  Rocky             Boxer   Marrom         35           28         03/08/2017\n",
       "0    Max          Labrador  Amarelo         60           30         01/05/2018"
      ]
     },
     "execution_count": 12,
     "metadata": {},
     "output_type": "execute_result"
    }
   ],
   "source": [
    "#ordenação -> ordena a tabela conforme o parâmetro passado. no caso abaixo, conforme a altura.\n",
    "df_cachorros.sort_values('Altura (cm)')"
   ]
  },
  {
   "cell_type": "code",
   "execution_count": 13,
   "metadata": {},
   "outputs": [
    {
     "data": {
      "text/html": [
       "<div>\n",
       "<style scoped>\n",
       "    .dataframe tbody tr th:only-of-type {\n",
       "        vertical-align: middle;\n",
       "    }\n",
       "\n",
       "    .dataframe tbody tr th {\n",
       "        vertical-align: top;\n",
       "    }\n",
       "\n",
       "    .dataframe thead th {\n",
       "        text-align: right;\n",
       "    }\n",
       "</style>\n",
       "<table border=\"1\" class=\"dataframe\">\n",
       "  <thead>\n",
       "    <tr style=\"text-align: right;\">\n",
       "      <th></th>\n",
       "      <th>Nome</th>\n",
       "      <th>Raça</th>\n",
       "      <th>Cor</th>\n",
       "      <th>Peso (kg)</th>\n",
       "      <th>Altura (cm)</th>\n",
       "      <th>Data de Nascimento</th>\n",
       "    </tr>\n",
       "  </thead>\n",
       "  <tbody>\n",
       "    <tr>\n",
       "      <th>0</th>\n",
       "      <td>Max</td>\n",
       "      <td>Labrador</td>\n",
       "      <td>Amarelo</td>\n",
       "      <td>60</td>\n",
       "      <td>30</td>\n",
       "      <td>01/05/2018</td>\n",
       "    </tr>\n",
       "    <tr>\n",
       "      <th>2</th>\n",
       "      <td>Rocky</td>\n",
       "      <td>Boxer</td>\n",
       "      <td>Marrom</td>\n",
       "      <td>35</td>\n",
       "      <td>28</td>\n",
       "      <td>03/08/2017</td>\n",
       "    </tr>\n",
       "    <tr>\n",
       "      <th>3</th>\n",
       "      <td>Luna</td>\n",
       "      <td>Golder Retriever</td>\n",
       "      <td>Dourado</td>\n",
       "      <td>55</td>\n",
       "      <td>25</td>\n",
       "      <td>12/02/2016</td>\n",
       "    </tr>\n",
       "    <tr>\n",
       "      <th>1</th>\n",
       "      <td>Bella</td>\n",
       "      <td>Poodle</td>\n",
       "      <td>Branco</td>\n",
       "      <td>35</td>\n",
       "      <td>7</td>\n",
       "      <td>10/12/2019</td>\n",
       "    </tr>\n",
       "  </tbody>\n",
       "</table>\n",
       "</div>"
      ],
      "text/plain": [
       "    Nome              Raça      Cor  Peso (kg)  Altura (cm) Data de Nascimento\n",
       "0    Max          Labrador  Amarelo         60           30         01/05/2018\n",
       "2  Rocky             Boxer   Marrom         35           28         03/08/2017\n",
       "3   Luna  Golder Retriever  Dourado         55           25         12/02/2016\n",
       "1  Bella            Poodle   Branco         35            7         10/12/2019"
      ]
     },
     "execution_count": 13,
     "metadata": {},
     "output_type": "execute_result"
    }
   ],
   "source": [
    "#ordenação descresncente-> ordena a tabela conforme o parâmetro passado. no caso abaixo, conforme a altura.\n",
    "df_cachorros.sort_values('Altura (cm)', ascending=False)"
   ]
  },
  {
   "cell_type": "code",
   "execution_count": 14,
   "metadata": {},
   "outputs": [
    {
     "data": {
      "text/html": [
       "<div>\n",
       "<style scoped>\n",
       "    .dataframe tbody tr th:only-of-type {\n",
       "        vertical-align: middle;\n",
       "    }\n",
       "\n",
       "    .dataframe tbody tr th {\n",
       "        vertical-align: top;\n",
       "    }\n",
       "\n",
       "    .dataframe thead th {\n",
       "        text-align: right;\n",
       "    }\n",
       "</style>\n",
       "<table border=\"1\" class=\"dataframe\">\n",
       "  <thead>\n",
       "    <tr style=\"text-align: right;\">\n",
       "      <th></th>\n",
       "      <th>Nome</th>\n",
       "      <th>Raça</th>\n",
       "      <th>Cor</th>\n",
       "      <th>Peso (kg)</th>\n",
       "      <th>Altura (cm)</th>\n",
       "      <th>Data de Nascimento</th>\n",
       "    </tr>\n",
       "  </thead>\n",
       "  <tbody>\n",
       "    <tr>\n",
       "      <th>1</th>\n",
       "      <td>Bella</td>\n",
       "      <td>Poodle</td>\n",
       "      <td>Branco</td>\n",
       "      <td>35</td>\n",
       "      <td>7</td>\n",
       "      <td>10/12/2019</td>\n",
       "    </tr>\n",
       "    <tr>\n",
       "      <th>3</th>\n",
       "      <td>Luna</td>\n",
       "      <td>Golder Retriever</td>\n",
       "      <td>Dourado</td>\n",
       "      <td>55</td>\n",
       "      <td>25</td>\n",
       "      <td>12/02/2016</td>\n",
       "    </tr>\n",
       "    <tr>\n",
       "      <th>2</th>\n",
       "      <td>Rocky</td>\n",
       "      <td>Boxer</td>\n",
       "      <td>Marrom</td>\n",
       "      <td>35</td>\n",
       "      <td>28</td>\n",
       "      <td>03/08/2017</td>\n",
       "    </tr>\n",
       "    <tr>\n",
       "      <th>0</th>\n",
       "      <td>Max</td>\n",
       "      <td>Labrador</td>\n",
       "      <td>Amarelo</td>\n",
       "      <td>60</td>\n",
       "      <td>30</td>\n",
       "      <td>01/05/2018</td>\n",
       "    </tr>\n",
       "  </tbody>\n",
       "</table>\n",
       "</div>"
      ],
      "text/plain": [
       "    Nome              Raça      Cor  Peso (kg)  Altura (cm) Data de Nascimento\n",
       "1  Bella            Poodle   Branco         35            7         10/12/2019\n",
       "3   Luna  Golder Retriever  Dourado         55           25         12/02/2016\n",
       "2  Rocky             Boxer   Marrom         35           28         03/08/2017\n",
       "0    Max          Labrador  Amarelo         60           30         01/05/2018"
      ]
     },
     "execution_count": 14,
     "metadata": {},
     "output_type": "execute_result"
    }
   ],
   "source": [
    "#ordenação por multiplas variáveis-> ordena a tabela conforme o parâmetro passado. no caso abaixo, \n",
    "#conforme a altura e peso. Neste caso, é primeiro o peso e depois a altura\n",
    "df_cachorros.sort_values(['Altura (cm)', 'Peso (kg)'])"
   ]
  },
  {
   "cell_type": "code",
   "execution_count": 15,
   "metadata": {},
   "outputs": [
    {
     "data": {
      "text/html": [
       "<div>\n",
       "<style scoped>\n",
       "    .dataframe tbody tr th:only-of-type {\n",
       "        vertical-align: middle;\n",
       "    }\n",
       "\n",
       "    .dataframe tbody tr th {\n",
       "        vertical-align: top;\n",
       "    }\n",
       "\n",
       "    .dataframe thead th {\n",
       "        text-align: right;\n",
       "    }\n",
       "</style>\n",
       "<table border=\"1\" class=\"dataframe\">\n",
       "  <thead>\n",
       "    <tr style=\"text-align: right;\">\n",
       "      <th></th>\n",
       "      <th>Nome</th>\n",
       "      <th>Raça</th>\n",
       "      <th>Cor</th>\n",
       "      <th>Peso (kg)</th>\n",
       "      <th>Altura (cm)</th>\n",
       "      <th>Data de Nascimento</th>\n",
       "    </tr>\n",
       "  </thead>\n",
       "  <tbody>\n",
       "    <tr>\n",
       "      <th>0</th>\n",
       "      <td>Max</td>\n",
       "      <td>Labrador</td>\n",
       "      <td>Amarelo</td>\n",
       "      <td>60</td>\n",
       "      <td>30</td>\n",
       "      <td>01/05/2018</td>\n",
       "    </tr>\n",
       "    <tr>\n",
       "      <th>2</th>\n",
       "      <td>Rocky</td>\n",
       "      <td>Boxer</td>\n",
       "      <td>Marrom</td>\n",
       "      <td>35</td>\n",
       "      <td>28</td>\n",
       "      <td>03/08/2017</td>\n",
       "    </tr>\n",
       "    <tr>\n",
       "      <th>3</th>\n",
       "      <td>Luna</td>\n",
       "      <td>Golder Retriever</td>\n",
       "      <td>Dourado</td>\n",
       "      <td>55</td>\n",
       "      <td>25</td>\n",
       "      <td>12/02/2016</td>\n",
       "    </tr>\n",
       "    <tr>\n",
       "      <th>1</th>\n",
       "      <td>Bella</td>\n",
       "      <td>Poodle</td>\n",
       "      <td>Branco</td>\n",
       "      <td>35</td>\n",
       "      <td>7</td>\n",
       "      <td>10/12/2019</td>\n",
       "    </tr>\n",
       "  </tbody>\n",
       "</table>\n",
       "</div>"
      ],
      "text/plain": [
       "    Nome              Raça      Cor  Peso (kg)  Altura (cm) Data de Nascimento\n",
       "0    Max          Labrador  Amarelo         60           30         01/05/2018\n",
       "2  Rocky             Boxer   Marrom         35           28         03/08/2017\n",
       "3   Luna  Golder Retriever  Dourado         55           25         12/02/2016\n",
       "1  Bella            Poodle   Branco         35            7         10/12/2019"
      ]
     },
     "execution_count": 15,
     "metadata": {},
     "output_type": "execute_result"
    }
   ],
   "source": [
    "#ordenação por multiplas variáveis descresncete-> ordena a tabela conforme o parâmetro passado. no caso abaixo, \n",
    "#conforme a altura e peso. Neste caso, é primeiro o peso e depois a altura\n",
    "df_cachorros.sort_values(['Altura (cm)', 'Peso (kg)'], ascending=False)"
   ]
  },
  {
   "cell_type": "code",
   "execution_count": 16,
   "metadata": {},
   "outputs": [
    {
     "data": {
      "text/html": [
       "<div>\n",
       "<style scoped>\n",
       "    .dataframe tbody tr th:only-of-type {\n",
       "        vertical-align: middle;\n",
       "    }\n",
       "\n",
       "    .dataframe tbody tr th {\n",
       "        vertical-align: top;\n",
       "    }\n",
       "\n",
       "    .dataframe thead th {\n",
       "        text-align: right;\n",
       "    }\n",
       "</style>\n",
       "<table border=\"1\" class=\"dataframe\">\n",
       "  <thead>\n",
       "    <tr style=\"text-align: right;\">\n",
       "      <th></th>\n",
       "      <th>Nome</th>\n",
       "      <th>Raça</th>\n",
       "      <th>Cor</th>\n",
       "      <th>Peso (kg)</th>\n",
       "      <th>Altura (cm)</th>\n",
       "      <th>Data de Nascimento</th>\n",
       "    </tr>\n",
       "  </thead>\n",
       "  <tbody>\n",
       "    <tr>\n",
       "      <th>1</th>\n",
       "      <td>Bella</td>\n",
       "      <td>Poodle</td>\n",
       "      <td>Branco</td>\n",
       "      <td>35</td>\n",
       "      <td>7</td>\n",
       "      <td>10/12/2019</td>\n",
       "    </tr>\n",
       "    <tr>\n",
       "      <th>3</th>\n",
       "      <td>Luna</td>\n",
       "      <td>Golder Retriever</td>\n",
       "      <td>Dourado</td>\n",
       "      <td>55</td>\n",
       "      <td>25</td>\n",
       "      <td>12/02/2016</td>\n",
       "    </tr>\n",
       "    <tr>\n",
       "      <th>2</th>\n",
       "      <td>Rocky</td>\n",
       "      <td>Boxer</td>\n",
       "      <td>Marrom</td>\n",
       "      <td>35</td>\n",
       "      <td>28</td>\n",
       "      <td>03/08/2017</td>\n",
       "    </tr>\n",
       "    <tr>\n",
       "      <th>0</th>\n",
       "      <td>Max</td>\n",
       "      <td>Labrador</td>\n",
       "      <td>Amarelo</td>\n",
       "      <td>60</td>\n",
       "      <td>30</td>\n",
       "      <td>01/05/2018</td>\n",
       "    </tr>\n",
       "  </tbody>\n",
       "</table>\n",
       "</div>"
      ],
      "text/plain": [
       "    Nome              Raça      Cor  Peso (kg)  Altura (cm) Data de Nascimento\n",
       "1  Bella            Poodle   Branco         35            7         10/12/2019\n",
       "3   Luna  Golder Retriever  Dourado         55           25         12/02/2016\n",
       "2  Rocky             Boxer   Marrom         35           28         03/08/2017\n",
       "0    Max          Labrador  Amarelo         60           30         01/05/2018"
      ]
     },
     "execution_count": 16,
     "metadata": {},
     "output_type": "execute_result"
    }
   ],
   "source": [
    "#ordenação por multiplas variáveis crescente e descrescente-> ordena a tabela conforme o parâmetro passado. no caso abaixo, \n",
    "#conforme a altura e peso. Neste caso, é primeiro o peso e depois a altura\n",
    "#Neste caso, altura é crescente e peso é decrescente\n",
    "df_cachorros.sort_values(['Altura (cm)', 'Peso (kg)'], ascending=[True, False])"
   ]
  },
  {
   "cell_type": "markdown",
   "metadata": {},
   "source": [
    "Subconjuntos de colunas"
   ]
  },
  {
   "cell_type": "code",
   "execution_count": 17,
   "metadata": {},
   "outputs": [
    {
     "data": {
      "text/plain": [
       "0      Max\n",
       "1    Bella\n",
       "2    Rocky\n",
       "3     Luna\n",
       "Name: Nome, dtype: object"
      ]
     },
     "execution_count": 17,
     "metadata": {},
     "output_type": "execute_result"
    }
   ],
   "source": [
    "#subconjunto de apenas uma coluna\n",
    "df_cachorros['Nome']"
   ]
  },
  {
   "cell_type": "code",
   "execution_count": 18,
   "metadata": {},
   "outputs": [
    {
     "data": {
      "text/html": [
       "<div>\n",
       "<style scoped>\n",
       "    .dataframe tbody tr th:only-of-type {\n",
       "        vertical-align: middle;\n",
       "    }\n",
       "\n",
       "    .dataframe tbody tr th {\n",
       "        vertical-align: top;\n",
       "    }\n",
       "\n",
       "    .dataframe thead th {\n",
       "        text-align: right;\n",
       "    }\n",
       "</style>\n",
       "<table border=\"1\" class=\"dataframe\">\n",
       "  <thead>\n",
       "    <tr style=\"text-align: right;\">\n",
       "      <th></th>\n",
       "      <th>Nome</th>\n",
       "      <th>Altura (cm)</th>\n",
       "    </tr>\n",
       "  </thead>\n",
       "  <tbody>\n",
       "    <tr>\n",
       "      <th>0</th>\n",
       "      <td>Max</td>\n",
       "      <td>30</td>\n",
       "    </tr>\n",
       "    <tr>\n",
       "      <th>1</th>\n",
       "      <td>Bella</td>\n",
       "      <td>7</td>\n",
       "    </tr>\n",
       "    <tr>\n",
       "      <th>2</th>\n",
       "      <td>Rocky</td>\n",
       "      <td>28</td>\n",
       "    </tr>\n",
       "    <tr>\n",
       "      <th>3</th>\n",
       "      <td>Luna</td>\n",
       "      <td>25</td>\n",
       "    </tr>\n",
       "  </tbody>\n",
       "</table>\n",
       "</div>"
      ],
      "text/plain": [
       "    Nome  Altura (cm)\n",
       "0    Max           30\n",
       "1  Bella            7\n",
       "2  Rocky           28\n",
       "3   Luna           25"
      ]
     },
     "execution_count": 18,
     "metadata": {},
     "output_type": "execute_result"
    }
   ],
   "source": [
    "#subconjunto de multiplas coluns\n",
    "df_cachorros[['Nome', 'Altura (cm)']]"
   ]
  },
  {
   "cell_type": "code",
   "execution_count": 19,
   "metadata": {},
   "outputs": [
    {
     "data": {
      "text/plain": [
       "0     True\n",
       "1    False\n",
       "2     True\n",
       "3    False\n",
       "Name: Altura (cm), dtype: bool"
      ]
     },
     "execution_count": 19,
     "metadata": {},
     "output_type": "execute_result"
    }
   ],
   "source": [
    "#Subconjuntos de uma única linha\n",
    "df_cachorros['Altura (cm)'] > 25"
   ]
  },
  {
   "cell_type": "code",
   "execution_count": 20,
   "metadata": {},
   "outputs": [
    {
     "data": {
      "text/html": [
       "<div>\n",
       "<style scoped>\n",
       "    .dataframe tbody tr th:only-of-type {\n",
       "        vertical-align: middle;\n",
       "    }\n",
       "\n",
       "    .dataframe tbody tr th {\n",
       "        vertical-align: top;\n",
       "    }\n",
       "\n",
       "    .dataframe thead th {\n",
       "        text-align: right;\n",
       "    }\n",
       "</style>\n",
       "<table border=\"1\" class=\"dataframe\">\n",
       "  <thead>\n",
       "    <tr style=\"text-align: right;\">\n",
       "      <th></th>\n",
       "      <th>Nome</th>\n",
       "      <th>Raça</th>\n",
       "      <th>Cor</th>\n",
       "      <th>Peso (kg)</th>\n",
       "      <th>Altura (cm)</th>\n",
       "      <th>Data de Nascimento</th>\n",
       "    </tr>\n",
       "  </thead>\n",
       "  <tbody>\n",
       "    <tr>\n",
       "      <th>0</th>\n",
       "      <td>Max</td>\n",
       "      <td>Labrador</td>\n",
       "      <td>Amarelo</td>\n",
       "      <td>60</td>\n",
       "      <td>30</td>\n",
       "      <td>01/05/2018</td>\n",
       "    </tr>\n",
       "    <tr>\n",
       "      <th>2</th>\n",
       "      <td>Rocky</td>\n",
       "      <td>Boxer</td>\n",
       "      <td>Marrom</td>\n",
       "      <td>35</td>\n",
       "      <td>28</td>\n",
       "      <td>03/08/2017</td>\n",
       "    </tr>\n",
       "  </tbody>\n",
       "</table>\n",
       "</div>"
      ],
      "text/plain": [
       "    Nome      Raça      Cor  Peso (kg)  Altura (cm) Data de Nascimento\n",
       "0    Max  Labrador  Amarelo         60           30         01/05/2018\n",
       "2  Rocky     Boxer   Marrom         35           28         03/08/2017"
      ]
     },
     "execution_count": 20,
     "metadata": {},
     "output_type": "execute_result"
    }
   ],
   "source": [
    "#Uma condição lógica também pode ser aplicada para imprimir apenas os que são verdadeiros\n",
    "df_cachorros[df_cachorros['Altura (cm)']> 25]"
   ]
  },
  {
   "cell_type": "code",
   "execution_count": 21,
   "metadata": {},
   "outputs": [
    {
     "data": {
      "text/html": [
       "<div>\n",
       "<style scoped>\n",
       "    .dataframe tbody tr th:only-of-type {\n",
       "        vertical-align: middle;\n",
       "    }\n",
       "\n",
       "    .dataframe tbody tr th {\n",
       "        vertical-align: top;\n",
       "    }\n",
       "\n",
       "    .dataframe thead th {\n",
       "        text-align: right;\n",
       "    }\n",
       "</style>\n",
       "<table border=\"1\" class=\"dataframe\">\n",
       "  <thead>\n",
       "    <tr style=\"text-align: right;\">\n",
       "      <th></th>\n",
       "      <th>Nome</th>\n",
       "      <th>Raça</th>\n",
       "      <th>Cor</th>\n",
       "      <th>Peso (kg)</th>\n",
       "      <th>Altura (cm)</th>\n",
       "      <th>Data de Nascimento</th>\n",
       "    </tr>\n",
       "  </thead>\n",
       "  <tbody>\n",
       "    <tr>\n",
       "      <th>2</th>\n",
       "      <td>Rocky</td>\n",
       "      <td>Boxer</td>\n",
       "      <td>Marrom</td>\n",
       "      <td>35</td>\n",
       "      <td>28</td>\n",
       "      <td>03/08/2017</td>\n",
       "    </tr>\n",
       "  </tbody>\n",
       "</table>\n",
       "</div>"
      ],
      "text/plain": [
       "    Nome   Raça     Cor  Peso (kg)  Altura (cm) Data de Nascimento\n",
       "2  Rocky  Boxer  Marrom         35           28         03/08/2017"
      ]
     },
     "execution_count": 21,
     "metadata": {},
     "output_type": "execute_result"
    }
   ],
   "source": [
    "#Subconjunto com base em dado de texto\n",
    "df_cachorros[df_cachorros['Raça'] == 'Boxer']"
   ]
  },
  {
   "cell_type": "code",
   "execution_count": 22,
   "metadata": {},
   "outputs": [
    {
     "data": {
      "text/html": [
       "<div>\n",
       "<style scoped>\n",
       "    .dataframe tbody tr th:only-of-type {\n",
       "        vertical-align: middle;\n",
       "    }\n",
       "\n",
       "    .dataframe tbody tr th {\n",
       "        vertical-align: top;\n",
       "    }\n",
       "\n",
       "    .dataframe thead th {\n",
       "        text-align: right;\n",
       "    }\n",
       "</style>\n",
       "<table border=\"1\" class=\"dataframe\">\n",
       "  <thead>\n",
       "    <tr style=\"text-align: right;\">\n",
       "      <th></th>\n",
       "      <th>Nome</th>\n",
       "      <th>Raça</th>\n",
       "      <th>Cor</th>\n",
       "      <th>Peso (kg)</th>\n",
       "      <th>Altura (cm)</th>\n",
       "      <th>Data de Nascimento</th>\n",
       "    </tr>\n",
       "  </thead>\n",
       "  <tbody>\n",
       "    <tr>\n",
       "      <th>0</th>\n",
       "      <td>Max</td>\n",
       "      <td>Labrador</td>\n",
       "      <td>Amarelo</td>\n",
       "      <td>60</td>\n",
       "      <td>30</td>\n",
       "      <td>01/05/2018</td>\n",
       "    </tr>\n",
       "    <tr>\n",
       "      <th>1</th>\n",
       "      <td>Bella</td>\n",
       "      <td>Poodle</td>\n",
       "      <td>Branco</td>\n",
       "      <td>35</td>\n",
       "      <td>7</td>\n",
       "      <td>10/12/2019</td>\n",
       "    </tr>\n",
       "    <tr>\n",
       "      <th>2</th>\n",
       "      <td>Rocky</td>\n",
       "      <td>Boxer</td>\n",
       "      <td>Marrom</td>\n",
       "      <td>35</td>\n",
       "      <td>28</td>\n",
       "      <td>03/08/2017</td>\n",
       "    </tr>\n",
       "    <tr>\n",
       "      <th>3</th>\n",
       "      <td>Luna</td>\n",
       "      <td>Golder Retriever</td>\n",
       "      <td>Dourado</td>\n",
       "      <td>55</td>\n",
       "      <td>25</td>\n",
       "      <td>12/02/2016</td>\n",
       "    </tr>\n",
       "  </tbody>\n",
       "</table>\n",
       "</div>"
      ],
      "text/plain": [
       "    Nome              Raça      Cor  Peso (kg)  Altura (cm) Data de Nascimento\n",
       "0    Max          Labrador  Amarelo         60           30         01/05/2018\n",
       "1  Bella            Poodle   Branco         35            7         10/12/2019\n",
       "2  Rocky             Boxer   Marrom         35           28         03/08/2017\n",
       "3   Luna  Golder Retriever  Dourado         55           25         12/02/2016"
      ]
     },
     "execution_count": 22,
     "metadata": {},
     "output_type": "execute_result"
    }
   ],
   "source": [
    "df_cachorros[df_cachorros['Data de Nascimento'] < '12/05/2017']"
   ]
  },
  {
   "cell_type": "code",
   "execution_count": 23,
   "metadata": {},
   "outputs": [
    {
     "data": {
      "text/html": [
       "<div>\n",
       "<style scoped>\n",
       "    .dataframe tbody tr th:only-of-type {\n",
       "        vertical-align: middle;\n",
       "    }\n",
       "\n",
       "    .dataframe tbody tr th {\n",
       "        vertical-align: top;\n",
       "    }\n",
       "\n",
       "    .dataframe thead th {\n",
       "        text-align: right;\n",
       "    }\n",
       "</style>\n",
       "<table border=\"1\" class=\"dataframe\">\n",
       "  <thead>\n",
       "    <tr style=\"text-align: right;\">\n",
       "      <th></th>\n",
       "      <th>Nome</th>\n",
       "      <th>Raça</th>\n",
       "      <th>Cor</th>\n",
       "      <th>Peso (kg)</th>\n",
       "      <th>Altura (cm)</th>\n",
       "      <th>Data de Nascimento</th>\n",
       "    </tr>\n",
       "  </thead>\n",
       "  <tbody>\n",
       "    <tr>\n",
       "      <th>0</th>\n",
       "      <td>Max</td>\n",
       "      <td>Labrador</td>\n",
       "      <td>Amarelo</td>\n",
       "      <td>60</td>\n",
       "      <td>30</td>\n",
       "      <td>01/05/2018</td>\n",
       "    </tr>\n",
       "  </tbody>\n",
       "</table>\n",
       "</div>"
      ],
      "text/plain": [
       "  Nome      Raça      Cor  Peso (kg)  Altura (cm) Data de Nascimento\n",
       "0  Max  Labrador  Amarelo         60           30         01/05/2018"
      ]
     },
     "execution_count": 23,
     "metadata": {},
     "output_type": "execute_result"
    }
   ],
   "source": [
    "#Subconjunto com base em múltiplas condições\n",
    "is_labrador = df_cachorros['Raça'] == 'Labrador'\n",
    "is_amarelo = df_cachorros['Cor'] == 'Amarelo'\n",
    "df_cachorros [is_labrador&is_amarelo]"
   ]
  },
  {
   "cell_type": "code",
   "execution_count": 24,
   "metadata": {},
   "outputs": [
    {
     "data": {
      "text/html": [
       "<div>\n",
       "<style scoped>\n",
       "    .dataframe tbody tr th:only-of-type {\n",
       "        vertical-align: middle;\n",
       "    }\n",
       "\n",
       "    .dataframe tbody tr th {\n",
       "        vertical-align: top;\n",
       "    }\n",
       "\n",
       "    .dataframe thead th {\n",
       "        text-align: right;\n",
       "    }\n",
       "</style>\n",
       "<table border=\"1\" class=\"dataframe\">\n",
       "  <thead>\n",
       "    <tr style=\"text-align: right;\">\n",
       "      <th></th>\n",
       "      <th>Nome</th>\n",
       "      <th>Raça</th>\n",
       "      <th>Cor</th>\n",
       "      <th>Peso (kg)</th>\n",
       "      <th>Altura (cm)</th>\n",
       "      <th>Data de Nascimento</th>\n",
       "    </tr>\n",
       "  </thead>\n",
       "  <tbody>\n",
       "    <tr>\n",
       "      <th>0</th>\n",
       "      <td>Max</td>\n",
       "      <td>Labrador</td>\n",
       "      <td>Amarelo</td>\n",
       "      <td>60</td>\n",
       "      <td>30</td>\n",
       "      <td>01/05/2018</td>\n",
       "    </tr>\n",
       "  </tbody>\n",
       "</table>\n",
       "</div>"
      ],
      "text/plain": [
       "  Nome      Raça      Cor  Peso (kg)  Altura (cm) Data de Nascimento\n",
       "0  Max  Labrador  Amarelo         60           30         01/05/2018"
      ]
     },
     "execution_count": 24,
     "metadata": {},
     "output_type": "execute_result"
    }
   ],
   "source": [
    "df_cachorros[(df_cachorros['Raça']=='Labrador') & (df_cachorros['Cor'] == 'Amarelo')]"
   ]
  },
  {
   "cell_type": "code",
   "execution_count": 25,
   "metadata": {},
   "outputs": [
    {
     "data": {
      "text/html": [
       "<div>\n",
       "<style scoped>\n",
       "    .dataframe tbody tr th:only-of-type {\n",
       "        vertical-align: middle;\n",
       "    }\n",
       "\n",
       "    .dataframe tbody tr th {\n",
       "        vertical-align: top;\n",
       "    }\n",
       "\n",
       "    .dataframe thead th {\n",
       "        text-align: right;\n",
       "    }\n",
       "</style>\n",
       "<table border=\"1\" class=\"dataframe\">\n",
       "  <thead>\n",
       "    <tr style=\"text-align: right;\">\n",
       "      <th></th>\n",
       "      <th>Nome</th>\n",
       "      <th>Raça</th>\n",
       "      <th>Cor</th>\n",
       "      <th>Peso (kg)</th>\n",
       "      <th>Altura (cm)</th>\n",
       "      <th>Data de Nascimento</th>\n",
       "    </tr>\n",
       "  </thead>\n",
       "  <tbody>\n",
       "    <tr>\n",
       "      <th>1</th>\n",
       "      <td>Bella</td>\n",
       "      <td>Poodle</td>\n",
       "      <td>Branco</td>\n",
       "      <td>35</td>\n",
       "      <td>7</td>\n",
       "      <td>10/12/2019</td>\n",
       "    </tr>\n",
       "    <tr>\n",
       "      <th>2</th>\n",
       "      <td>Rocky</td>\n",
       "      <td>Boxer</td>\n",
       "      <td>Marrom</td>\n",
       "      <td>35</td>\n",
       "      <td>28</td>\n",
       "      <td>03/08/2017</td>\n",
       "    </tr>\n",
       "  </tbody>\n",
       "</table>\n",
       "</div>"
      ],
      "text/plain": [
       "    Nome    Raça     Cor  Peso (kg)  Altura (cm) Data de Nascimento\n",
       "1  Bella  Poodle  Branco         35            7         10/12/2019\n",
       "2  Rocky   Boxer  Marrom         35           28         03/08/2017"
      ]
     },
     "execution_count": 25,
     "metadata": {},
     "output_type": "execute_result"
    }
   ],
   "source": [
    "#Subconjunto usando .isin() -> retorno aquilo que filtro\n",
    "is_marrom_ou_branco = df_cachorros['Cor'].isin(['Marrom', 'Branco'])\n",
    "df_cachorros[is_marrom_ou_branco]"
   ]
  },
  {
   "cell_type": "markdown",
   "metadata": {},
   "source": [
    "Adicionando uma nova coluna no dataframe"
   ]
  },
  {
   "cell_type": "code",
   "execution_count": 26,
   "metadata": {},
   "outputs": [
    {
     "data": {
      "text/html": [
       "<div>\n",
       "<style scoped>\n",
       "    .dataframe tbody tr th:only-of-type {\n",
       "        vertical-align: middle;\n",
       "    }\n",
       "\n",
       "    .dataframe tbody tr th {\n",
       "        vertical-align: top;\n",
       "    }\n",
       "\n",
       "    .dataframe thead th {\n",
       "        text-align: right;\n",
       "    }\n",
       "</style>\n",
       "<table border=\"1\" class=\"dataframe\">\n",
       "  <thead>\n",
       "    <tr style=\"text-align: right;\">\n",
       "      <th></th>\n",
       "      <th>Nome</th>\n",
       "      <th>Raça</th>\n",
       "      <th>Cor</th>\n",
       "      <th>Peso (kg)</th>\n",
       "      <th>Altura (cm)</th>\n",
       "      <th>Data de Nascimento</th>\n",
       "      <th>Altura (m)</th>\n",
       "    </tr>\n",
       "  </thead>\n",
       "  <tbody>\n",
       "    <tr>\n",
       "      <th>0</th>\n",
       "      <td>Max</td>\n",
       "      <td>Labrador</td>\n",
       "      <td>Amarelo</td>\n",
       "      <td>60</td>\n",
       "      <td>30</td>\n",
       "      <td>01/05/2018</td>\n",
       "      <td>0.30</td>\n",
       "    </tr>\n",
       "    <tr>\n",
       "      <th>1</th>\n",
       "      <td>Bella</td>\n",
       "      <td>Poodle</td>\n",
       "      <td>Branco</td>\n",
       "      <td>35</td>\n",
       "      <td>7</td>\n",
       "      <td>10/12/2019</td>\n",
       "      <td>0.07</td>\n",
       "    </tr>\n",
       "    <tr>\n",
       "      <th>2</th>\n",
       "      <td>Rocky</td>\n",
       "      <td>Boxer</td>\n",
       "      <td>Marrom</td>\n",
       "      <td>35</td>\n",
       "      <td>28</td>\n",
       "      <td>03/08/2017</td>\n",
       "      <td>0.28</td>\n",
       "    </tr>\n",
       "    <tr>\n",
       "      <th>3</th>\n",
       "      <td>Luna</td>\n",
       "      <td>Golder Retriever</td>\n",
       "      <td>Dourado</td>\n",
       "      <td>55</td>\n",
       "      <td>25</td>\n",
       "      <td>12/02/2016</td>\n",
       "      <td>0.25</td>\n",
       "    </tr>\n",
       "  </tbody>\n",
       "</table>\n",
       "</div>"
      ],
      "text/plain": [
       "    Nome              Raça      Cor  Peso (kg)  Altura (cm)  \\\n",
       "0    Max          Labrador  Amarelo         60           30   \n",
       "1  Bella            Poodle   Branco         35            7   \n",
       "2  Rocky             Boxer   Marrom         35           28   \n",
       "3   Luna  Golder Retriever  Dourado         55           25   \n",
       "\n",
       "  Data de Nascimento  Altura (m)  \n",
       "0         01/05/2018        0.30  \n",
       "1         10/12/2019        0.07  \n",
       "2         03/08/2017        0.28  \n",
       "3         12/02/2016        0.25  "
      ]
     },
     "execution_count": 26,
     "metadata": {},
     "output_type": "execute_result"
    }
   ],
   "source": [
    "#Criar uma nova coluna é como se estivesse adicionando uma nova 'característica'\n",
    "df_cachorros['Altura (m)'] = df_cachorros['Altura (cm)']/100\n",
    "df_cachorros"
   ]
  },
  {
   "cell_type": "code",
   "execution_count": 27,
   "metadata": {},
   "outputs": [
    {
     "data": {
      "text/html": [
       "<div>\n",
       "<style scoped>\n",
       "    .dataframe tbody tr th:only-of-type {\n",
       "        vertical-align: middle;\n",
       "    }\n",
       "\n",
       "    .dataframe tbody tr th {\n",
       "        vertical-align: top;\n",
       "    }\n",
       "\n",
       "    .dataframe thead th {\n",
       "        text-align: right;\n",
       "    }\n",
       "</style>\n",
       "<table border=\"1\" class=\"dataframe\">\n",
       "  <thead>\n",
       "    <tr style=\"text-align: right;\">\n",
       "      <th></th>\n",
       "      <th>Nome</th>\n",
       "      <th>Altura (cm)</th>\n",
       "      <th>Peso (kg)</th>\n",
       "    </tr>\n",
       "  </thead>\n",
       "  <tbody>\n",
       "    <tr>\n",
       "      <th>0</th>\n",
       "      <td>Max</td>\n",
       "      <td>30</td>\n",
       "      <td>60</td>\n",
       "    </tr>\n",
       "    <tr>\n",
       "      <th>2</th>\n",
       "      <td>Rocky</td>\n",
       "      <td>28</td>\n",
       "      <td>35</td>\n",
       "    </tr>\n",
       "    <tr>\n",
       "      <th>3</th>\n",
       "      <td>Luna</td>\n",
       "      <td>25</td>\n",
       "      <td>55</td>\n",
       "    </tr>\n",
       "    <tr>\n",
       "      <th>1</th>\n",
       "      <td>Bella</td>\n",
       "      <td>7</td>\n",
       "      <td>35</td>\n",
       "    </tr>\n",
       "  </tbody>\n",
       "</table>\n",
       "</div>"
      ],
      "text/plain": [
       "    Nome  Altura (cm)  Peso (kg)\n",
       "0    Max           30         60\n",
       "2  Rocky           28         35\n",
       "3   Luna           25         55\n",
       "1  Bella            7         35"
      ]
     },
     "execution_count": 27,
     "metadata": {},
     "output_type": "execute_result"
    }
   ],
   "source": [
    "#Multiplas manipulações -> multiplos filtros\n",
    "dog_pequeno = df_cachorros[df_cachorros['Altura (m)']<=0.5]\n",
    "dog_pequeno = dog_pequeno.sort_values('Altura (cm)', ascending=False)\n",
    "dog_pequeno[['Nome', 'Altura (cm)', 'Peso (kg)']] "
   ]
  },
  {
   "cell_type": "markdown",
   "metadata": {},
   "source": [
    "Estatísticas resumidas:\n",
    "\n",
    ".median() -> calcula a mediada\n",
    "\n",
    ".mode() -> identifica os valores mais frequentes\n",
    "\n",
    ".min() -> retorna o valor mínimo\n",
    "\n",
    ".max() -> retorna o valor máximo\n",
    "\n",
    ".var() -> calcula a variância, uma medida de dispersão dos dados\n",
    "\n",
    ".std() -> calcula o desvio padrão, indicando a dispersão média dos dados em relação a média\n",
    "\n",
    ".sum() -> soma todos os valores\n",
    "\n",
    ".quantile() -> calcula um percentil específico do conjunto de dados"
   ]
  },
  {
   "cell_type": "code",
   "execution_count": 29,
   "metadata": {},
   "outputs": [
    {
     "data": {
      "text/plain": [
       "7"
      ]
     },
     "execution_count": 29,
     "metadata": {},
     "output_type": "execute_result"
    }
   ],
   "source": [
    "#.min() -> retorna o valor mínimo\n",
    "df_cachorros['Altura (cm)'].min()"
   ]
  },
  {
   "cell_type": "code",
   "execution_count": 30,
   "metadata": {},
   "outputs": [
    {
     "data": {
      "text/plain": [
       "30"
      ]
     },
     "execution_count": 30,
     "metadata": {},
     "output_type": "execute_result"
    }
   ],
   "source": [
    "#.max() -> retorna o valor máximo\n",
    "df_cachorros['Altura (cm)'].max()\n"
   ]
  },
  {
   "cell_type": "code",
   "execution_count": 31,
   "metadata": {},
   "outputs": [
    {
     "data": {
      "text/plain": [
       "'Rocky'"
      ]
     },
     "execution_count": 31,
     "metadata": {},
     "output_type": "execute_result"
    }
   ],
   "source": [
    "df_cachorros['Nome'].max()"
   ]
  },
  {
   "cell_type": "markdown",
   "metadata": {},
   "source": [
    "Agregação, ou agg, permite calcular estatísticas personalizadas"
   ]
  },
  {
   "cell_type": "code",
   "execution_count": 36,
   "metadata": {},
   "outputs": [
    {
     "data": {
      "text/plain": [
       "26.5"
      ]
     },
     "execution_count": 36,
     "metadata": {},
     "output_type": "execute_result"
    }
   ],
   "source": [
    "def pct50(coluna):\n",
    "    return coluna.quantile(0.50)\n",
    "\n",
    "df_cachorros['Altura (cm)'].agg(pct50)\n"
   ]
  },
  {
   "cell_type": "code",
   "execution_count": 35,
   "metadata": {},
   "outputs": [
    {
     "data": {
      "text/plain": [
       "Altura (cm)    26.5\n",
       "Peso (kg)      45.0\n",
       "dtype: float64"
      ]
     },
     "execution_count": 35,
     "metadata": {},
     "output_type": "execute_result"
    }
   ],
   "source": [
    "df_cachorros[['Altura (cm)', 'Peso (kg)']].agg(pct50)"
   ]
  },
  {
   "cell_type": "code",
   "execution_count": 37,
   "metadata": {},
   "outputs": [
    {
     "data": {
      "text/html": [
       "<div>\n",
       "<style scoped>\n",
       "    .dataframe tbody tr th:only-of-type {\n",
       "        vertical-align: middle;\n",
       "    }\n",
       "\n",
       "    .dataframe tbody tr th {\n",
       "        vertical-align: top;\n",
       "    }\n",
       "\n",
       "    .dataframe thead th {\n",
       "        text-align: right;\n",
       "    }\n",
       "</style>\n",
       "<table border=\"1\" class=\"dataframe\">\n",
       "  <thead>\n",
       "    <tr style=\"text-align: right;\">\n",
       "      <th></th>\n",
       "      <th>Altura (cm)</th>\n",
       "      <th>Peso (kg)</th>\n",
       "    </tr>\n",
       "  </thead>\n",
       "  <tbody>\n",
       "    <tr>\n",
       "      <th>0</th>\n",
       "      <td>30</td>\n",
       "      <td>60</td>\n",
       "    </tr>\n",
       "    <tr>\n",
       "      <th>1</th>\n",
       "      <td>&lt;bound method Series.min of 0    30\\n1     7\\n...</td>\n",
       "      <td>&lt;bound method Series.min of 0    60\\n1    35\\n...</td>\n",
       "    </tr>\n",
       "  </tbody>\n",
       "</table>\n",
       "</div>"
      ],
      "text/plain": [
       "                                         Altura (cm)  \\\n",
       "0                                                 30   \n",
       "1  <bound method Series.min of 0    30\\n1     7\\n...   \n",
       "\n",
       "                                           Peso (kg)  \n",
       "0                                                 60  \n",
       "1  <bound method Series.min of 0    60\\n1    35\\n...  "
      ]
     },
     "execution_count": 37,
     "metadata": {},
     "output_type": "execute_result"
    }
   ],
   "source": [
    "def max_min(coluna):\n",
    "\treturn coluna.max(), coluna.min\n",
    "df_cachorros[['Altura (cm)', 'Peso (kg)']].agg(max_min)"
   ]
  },
  {
   "cell_type": "markdown",
   "metadata": {},
   "source": [
    "O pandas tem métodos para calcular estatísticas "
   ]
  },
  {
   "cell_type": "code",
   "execution_count": 38,
   "metadata": {},
   "outputs": [
    {
     "data": {
      "text/plain": [
       "0    60\n",
       "1    35\n",
       "2    35\n",
       "3    55\n",
       "Name: Peso (kg), dtype: int64"
      ]
     },
     "execution_count": 38,
     "metadata": {},
     "output_type": "execute_result"
    }
   ],
   "source": [
    "df_cachorros['Peso (kg)']"
   ]
  },
  {
   "cell_type": "code",
   "execution_count": 39,
   "metadata": {},
   "outputs": [
    {
     "data": {
      "text/plain": [
       "0     60\n",
       "1     95\n",
       "2    130\n",
       "3    185\n",
       "Name: Peso (kg), dtype: int64"
      ]
     },
     "execution_count": 39,
     "metadata": {},
     "output_type": "execute_result"
    }
   ],
   "source": [
    "#soma cumulativa\n",
    "df_cachorros['Peso (kg)'].cumsum()"
   ]
  },
  {
   "cell_type": "code",
   "execution_count": 40,
   "metadata": {},
   "outputs": [
    {
     "data": {
      "text/plain": [
       "0    60\n",
       "1    35\n",
       "2    35\n",
       "3    35\n",
       "Name: Peso (kg), dtype: int64"
      ]
     },
     "execution_count": 40,
     "metadata": {},
     "output_type": "execute_result"
    }
   ],
   "source": [
    "#min cumulativo\n",
    "df_cachorros['Peso (kg)'].cummin()"
   ]
  },
  {
   "cell_type": "code",
   "execution_count": 41,
   "metadata": {},
   "outputs": [
    {
     "data": {
      "text/plain": [
       "0    60\n",
       "1    60\n",
       "2    60\n",
       "3    60\n",
       "Name: Peso (kg), dtype: int64"
      ]
     },
     "execution_count": 41,
     "metadata": {},
     "output_type": "execute_result"
    }
   ],
   "source": [
    "#max cumulativo\n",
    "df_cachorros['Peso (kg)'].cummax()"
   ]
  },
  {
   "cell_type": "markdown",
   "metadata": {},
   "source": [
    "Lidando com valores duplicados"
   ]
  },
  {
   "cell_type": "code",
   "execution_count": 42,
   "metadata": {},
   "outputs": [
    {
     "data": {
      "text/html": [
       "<div>\n",
       "<style scoped>\n",
       "    .dataframe tbody tr th:only-of-type {\n",
       "        vertical-align: middle;\n",
       "    }\n",
       "\n",
       "    .dataframe tbody tr th {\n",
       "        vertical-align: top;\n",
       "    }\n",
       "\n",
       "    .dataframe thead th {\n",
       "        text-align: right;\n",
       "    }\n",
       "</style>\n",
       "<table border=\"1\" class=\"dataframe\">\n",
       "  <thead>\n",
       "    <tr style=\"text-align: right;\">\n",
       "      <th></th>\n",
       "      <th>Nome</th>\n",
       "      <th>Raça</th>\n",
       "      <th>Cor</th>\n",
       "      <th>Peso (kg)</th>\n",
       "      <th>Altura (cm)</th>\n",
       "      <th>Data de Nascimento</th>\n",
       "      <th>Altura (m)</th>\n",
       "    </tr>\n",
       "  </thead>\n",
       "  <tbody>\n",
       "    <tr>\n",
       "      <th>0</th>\n",
       "      <td>Max</td>\n",
       "      <td>Labrador</td>\n",
       "      <td>Amarelo</td>\n",
       "      <td>60</td>\n",
       "      <td>30</td>\n",
       "      <td>01/05/2018</td>\n",
       "      <td>0.30</td>\n",
       "    </tr>\n",
       "    <tr>\n",
       "      <th>1</th>\n",
       "      <td>Bella</td>\n",
       "      <td>Poodle</td>\n",
       "      <td>Branco</td>\n",
       "      <td>35</td>\n",
       "      <td>7</td>\n",
       "      <td>10/12/2019</td>\n",
       "      <td>0.07</td>\n",
       "    </tr>\n",
       "    <tr>\n",
       "      <th>2</th>\n",
       "      <td>Rocky</td>\n",
       "      <td>Boxer</td>\n",
       "      <td>Marrom</td>\n",
       "      <td>35</td>\n",
       "      <td>28</td>\n",
       "      <td>03/08/2017</td>\n",
       "      <td>0.28</td>\n",
       "    </tr>\n",
       "    <tr>\n",
       "      <th>3</th>\n",
       "      <td>Luna</td>\n",
       "      <td>Golder Retriever</td>\n",
       "      <td>Dourado</td>\n",
       "      <td>55</td>\n",
       "      <td>25</td>\n",
       "      <td>12/02/2016</td>\n",
       "      <td>0.25</td>\n",
       "    </tr>\n",
       "  </tbody>\n",
       "</table>\n",
       "</div>"
      ],
      "text/plain": [
       "    Nome              Raça      Cor  Peso (kg)  Altura (cm)  \\\n",
       "0    Max          Labrador  Amarelo         60           30   \n",
       "1  Bella            Poodle   Branco         35            7   \n",
       "2  Rocky             Boxer   Marrom         35           28   \n",
       "3   Luna  Golder Retriever  Dourado         55           25   \n",
       "\n",
       "  Data de Nascimento  Altura (m)  \n",
       "0         01/05/2018        0.30  \n",
       "1         10/12/2019        0.07  \n",
       "2         03/08/2017        0.28  \n",
       "3         12/02/2016        0.25  "
      ]
     },
     "execution_count": 42,
     "metadata": {},
     "output_type": "execute_result"
    }
   ],
   "source": [
    "#drop_duplicates\n",
    "df_cachorros.drop_duplicates(subset='Nome')"
   ]
  },
  {
   "cell_type": "code",
   "execution_count": 43,
   "metadata": {},
   "outputs": [
    {
     "data": {
      "text/html": [
       "<div>\n",
       "<style scoped>\n",
       "    .dataframe tbody tr th:only-of-type {\n",
       "        vertical-align: middle;\n",
       "    }\n",
       "\n",
       "    .dataframe tbody tr th {\n",
       "        vertical-align: top;\n",
       "    }\n",
       "\n",
       "    .dataframe thead th {\n",
       "        text-align: right;\n",
       "    }\n",
       "</style>\n",
       "<table border=\"1\" class=\"dataframe\">\n",
       "  <thead>\n",
       "    <tr style=\"text-align: right;\">\n",
       "      <th></th>\n",
       "      <th>Nome</th>\n",
       "      <th>Raça</th>\n",
       "      <th>Cor</th>\n",
       "      <th>Peso (kg)</th>\n",
       "      <th>Altura (cm)</th>\n",
       "      <th>Data de Nascimento</th>\n",
       "      <th>Altura (m)</th>\n",
       "    </tr>\n",
       "  </thead>\n",
       "  <tbody>\n",
       "    <tr>\n",
       "      <th>0</th>\n",
       "      <td>Max</td>\n",
       "      <td>Labrador</td>\n",
       "      <td>Amarelo</td>\n",
       "      <td>60</td>\n",
       "      <td>30</td>\n",
       "      <td>01/05/2018</td>\n",
       "      <td>0.30</td>\n",
       "    </tr>\n",
       "    <tr>\n",
       "      <th>1</th>\n",
       "      <td>Bella</td>\n",
       "      <td>Poodle</td>\n",
       "      <td>Branco</td>\n",
       "      <td>35</td>\n",
       "      <td>7</td>\n",
       "      <td>10/12/2019</td>\n",
       "      <td>0.07</td>\n",
       "    </tr>\n",
       "    <tr>\n",
       "      <th>2</th>\n",
       "      <td>Rocky</td>\n",
       "      <td>Boxer</td>\n",
       "      <td>Marrom</td>\n",
       "      <td>35</td>\n",
       "      <td>28</td>\n",
       "      <td>03/08/2017</td>\n",
       "      <td>0.28</td>\n",
       "    </tr>\n",
       "    <tr>\n",
       "      <th>3</th>\n",
       "      <td>Luna</td>\n",
       "      <td>Golder Retriever</td>\n",
       "      <td>Dourado</td>\n",
       "      <td>55</td>\n",
       "      <td>25</td>\n",
       "      <td>12/02/2016</td>\n",
       "      <td>0.25</td>\n",
       "    </tr>\n",
       "  </tbody>\n",
       "</table>\n",
       "</div>"
      ],
      "text/plain": [
       "    Nome              Raça      Cor  Peso (kg)  Altura (cm)  \\\n",
       "0    Max          Labrador  Amarelo         60           30   \n",
       "1  Bella            Poodle   Branco         35            7   \n",
       "2  Rocky             Boxer   Marrom         35           28   \n",
       "3   Luna  Golder Retriever  Dourado         55           25   \n",
       "\n",
       "  Data de Nascimento  Altura (m)  \n",
       "0         01/05/2018        0.30  \n",
       "1         10/12/2019        0.07  \n",
       "2         03/08/2017        0.28  \n",
       "3         12/02/2016        0.25  "
      ]
     },
     "execution_count": 43,
     "metadata": {},
     "output_type": "execute_result"
    }
   ],
   "source": [
    "#com mais de um critério\n",
    "df_cachorros.drop_duplicates(subset=['Nome', 'Raça'])"
   ]
  },
  {
   "cell_type": "code",
   "execution_count": 46,
   "metadata": {},
   "outputs": [
    {
     "data": {
      "text/plain": [
       "Raça\n",
       "Labrador            1\n",
       "Poodle              1\n",
       "Boxer               1\n",
       "Golder Retriever    1\n",
       "Name: count, dtype: int64"
      ]
     },
     "execution_count": 46,
     "metadata": {},
     "output_type": "execute_result"
    }
   ],
   "source": [
    "#value_count() -> verifica as apariçoes de um registro\n",
    "df_cachorros['Raça'].value_counts()\n"
   ]
  },
  {
   "cell_type": "code",
   "execution_count": 48,
   "metadata": {},
   "outputs": [
    {
     "data": {
      "text/plain": [
       "Raça\n",
       "Labrador            1\n",
       "Poodle              1\n",
       "Boxer               1\n",
       "Golder Retriever    1\n",
       "Name: count, dtype: int64"
      ]
     },
     "execution_count": 48,
     "metadata": {},
     "output_type": "execute_result"
    }
   ],
   "source": [
    "#ordenando\n",
    "df_cachorros['Raça'].value_counts(sort=True)"
   ]
  },
  {
   "cell_type": "code",
   "execution_count": 49,
   "metadata": {},
   "outputs": [
    {
     "data": {
      "text/plain": [
       "Raça\n",
       "Labrador            0.25\n",
       "Poodle              0.25\n",
       "Boxer               0.25\n",
       "Golder Retriever    0.25\n",
       "Name: proportion, dtype: float64"
      ]
     },
     "execution_count": 49,
     "metadata": {},
     "output_type": "execute_result"
    }
   ],
   "source": [
    "#normalize -> retorna a proporção normalizada\n",
    "df_cachorros['Raça'].value_counts(normalize=True)"
   ]
  },
  {
   "cell_type": "markdown",
   "metadata": {},
   "source": [
    "Agrupando dados"
   ]
  },
  {
   "cell_type": "code",
   "execution_count": 50,
   "metadata": {},
   "outputs": [
    {
     "name": "stdout",
     "output_type": "stream",
     "text": [
      "60.0\n",
      "35.0\n",
      "35.0\n"
     ]
    }
   ],
   "source": [
    "#agrupando sem método de agrupamento\n",
    "print(df_cachorros[df_cachorros['Cor'] == 'Amarelo']['Peso (kg)'].mean())\n",
    "print(df_cachorros[df_cachorros['Cor'] == 'Branco']['Peso (kg)'].mean())\n",
    "print(df_cachorros[df_cachorros['Cor'] == 'Marrom']['Peso (kg)'].mean())"
   ]
  },
  {
   "cell_type": "code",
   "execution_count": 51,
   "metadata": {},
   "outputs": [
    {
     "data": {
      "text/plain": [
       "Cor\n",
       "Amarelo    60.0\n",
       "Branco     35.0\n",
       "Dourado    55.0\n",
       "Marrom     35.0\n",
       "Name: Peso (kg), dtype: float64"
      ]
     },
     "execution_count": 51,
     "metadata": {},
     "output_type": "execute_result"
    }
   ],
   "source": [
    "#agrupando com método de agrupamento -> groupby\n",
    "df_cachorros.groupby('Cor')['Peso (kg)'].mean()"
   ]
  },
  {
   "cell_type": "code",
   "execution_count": 52,
   "metadata": {},
   "outputs": [
    {
     "name": "stderr",
     "output_type": "stream",
     "text": [
      "C:\\Users\\lpgn\\AppData\\Local\\Temp\\ipykernel_11156\\2306086515.py:2: FutureWarning: The provided callable <built-in function min> is currently using SeriesGroupBy.min. In a future version of pandas, the provided callable will be used directly. To keep current behavior pass the string \"min\" instead.\n",
      "  df_cachorros.groupby('Cor')['Peso (kg)'].agg([min, max, sum])\n",
      "C:\\Users\\lpgn\\AppData\\Local\\Temp\\ipykernel_11156\\2306086515.py:2: FutureWarning: The provided callable <built-in function max> is currently using SeriesGroupBy.max. In a future version of pandas, the provided callable will be used directly. To keep current behavior pass the string \"max\" instead.\n",
      "  df_cachorros.groupby('Cor')['Peso (kg)'].agg([min, max, sum])\n",
      "C:\\Users\\lpgn\\AppData\\Local\\Temp\\ipykernel_11156\\2306086515.py:2: FutureWarning: The provided callable <built-in function sum> is currently using SeriesGroupBy.sum. In a future version of pandas, the provided callable will be used directly. To keep current behavior pass the string \"sum\" instead.\n",
      "  df_cachorros.groupby('Cor')['Peso (kg)'].agg([min, max, sum])\n"
     ]
    },
    {
     "data": {
      "text/html": [
       "<div>\n",
       "<style scoped>\n",
       "    .dataframe tbody tr th:only-of-type {\n",
       "        vertical-align: middle;\n",
       "    }\n",
       "\n",
       "    .dataframe tbody tr th {\n",
       "        vertical-align: top;\n",
       "    }\n",
       "\n",
       "    .dataframe thead th {\n",
       "        text-align: right;\n",
       "    }\n",
       "</style>\n",
       "<table border=\"1\" class=\"dataframe\">\n",
       "  <thead>\n",
       "    <tr style=\"text-align: right;\">\n",
       "      <th></th>\n",
       "      <th>min</th>\n",
       "      <th>max</th>\n",
       "      <th>sum</th>\n",
       "    </tr>\n",
       "    <tr>\n",
       "      <th>Cor</th>\n",
       "      <th></th>\n",
       "      <th></th>\n",
       "      <th></th>\n",
       "    </tr>\n",
       "  </thead>\n",
       "  <tbody>\n",
       "    <tr>\n",
       "      <th>Amarelo</th>\n",
       "      <td>60</td>\n",
       "      <td>60</td>\n",
       "      <td>60</td>\n",
       "    </tr>\n",
       "    <tr>\n",
       "      <th>Branco</th>\n",
       "      <td>35</td>\n",
       "      <td>35</td>\n",
       "      <td>35</td>\n",
       "    </tr>\n",
       "    <tr>\n",
       "      <th>Dourado</th>\n",
       "      <td>55</td>\n",
       "      <td>55</td>\n",
       "      <td>55</td>\n",
       "    </tr>\n",
       "    <tr>\n",
       "      <th>Marrom</th>\n",
       "      <td>35</td>\n",
       "      <td>35</td>\n",
       "      <td>35</td>\n",
       "    </tr>\n",
       "  </tbody>\n",
       "</table>\n",
       "</div>"
      ],
      "text/plain": [
       "         min  max  sum\n",
       "Cor                   \n",
       "Amarelo   60   60   60\n",
       "Branco    35   35   35\n",
       "Dourado   55   55   55\n",
       "Marrom    35   35   35"
      ]
     },
     "execution_count": 52,
     "metadata": {},
     "output_type": "execute_result"
    }
   ],
   "source": [
    "#o aff pode ser usado para calcular os dados estatisticos\n",
    "df_cachorros.groupby('Cor')['Peso (kg)'].agg([min, max, sum])"
   ]
  },
  {
   "cell_type": "code",
   "execution_count": 53,
   "metadata": {},
   "outputs": [
    {
     "data": {
      "text/plain": [
       "Cor      Raça            \n",
       "Amarelo  Labrador            60.0\n",
       "Branco   Poodle              35.0\n",
       "Dourado  Golder Retriever    55.0\n",
       "Marrom   Boxer               35.0\n",
       "Name: Peso (kg), dtype: float64"
      ]
     },
     "execution_count": 53,
     "metadata": {},
     "output_type": "execute_result"
    }
   ],
   "source": [
    "#groupby com múltiplas variáveis\n",
    "df_cachorros.groupby(['Cor', 'Raça'])['Peso (kg)'].mean()"
   ]
  },
  {
   "cell_type": "code",
   "execution_count": 56,
   "metadata": {},
   "outputs": [
    {
     "data": {
      "text/html": [
       "<div>\n",
       "<style scoped>\n",
       "    .dataframe tbody tr th:only-of-type {\n",
       "        vertical-align: middle;\n",
       "    }\n",
       "\n",
       "    .dataframe tbody tr th {\n",
       "        vertical-align: top;\n",
       "    }\n",
       "\n",
       "    .dataframe thead th {\n",
       "        text-align: right;\n",
       "    }\n",
       "</style>\n",
       "<table border=\"1\" class=\"dataframe\">\n",
       "  <thead>\n",
       "    <tr style=\"text-align: right;\">\n",
       "      <th></th>\n",
       "      <th></th>\n",
       "      <th>Peso (kg)</th>\n",
       "      <th>Altura (cm)</th>\n",
       "    </tr>\n",
       "    <tr>\n",
       "      <th>Cor</th>\n",
       "      <th>Raça</th>\n",
       "      <th></th>\n",
       "      <th></th>\n",
       "    </tr>\n",
       "  </thead>\n",
       "  <tbody>\n",
       "    <tr>\n",
       "      <th>Amarelo</th>\n",
       "      <th>Labrador</th>\n",
       "      <td>60.0</td>\n",
       "      <td>30.0</td>\n",
       "    </tr>\n",
       "    <tr>\n",
       "      <th>Branco</th>\n",
       "      <th>Poodle</th>\n",
       "      <td>35.0</td>\n",
       "      <td>7.0</td>\n",
       "    </tr>\n",
       "    <tr>\n",
       "      <th>Dourado</th>\n",
       "      <th>Golder Retriever</th>\n",
       "      <td>55.0</td>\n",
       "      <td>25.0</td>\n",
       "    </tr>\n",
       "    <tr>\n",
       "      <th>Marrom</th>\n",
       "      <th>Boxer</th>\n",
       "      <td>35.0</td>\n",
       "      <td>28.0</td>\n",
       "    </tr>\n",
       "  </tbody>\n",
       "</table>\n",
       "</div>"
      ],
      "text/plain": [
       "                          Peso (kg)  Altura (cm)\n",
       "Cor     Raça                                    \n",
       "Amarelo Labrador               60.0         30.0\n",
       "Branco  Poodle                 35.0          7.0\n",
       "Dourado Golder Retriever       55.0         25.0\n",
       "Marrom  Boxer                  35.0         28.0"
      ]
     },
     "execution_count": 56,
     "metadata": {},
     "output_type": "execute_result"
    }
   ],
   "source": [
    "#groupby com múltiplas variáveis \n",
    "df_cachorros.groupby(['Cor', 'Raça'])[['Peso (kg)', 'Altura (cm)']].mean()"
   ]
  },
  {
   "cell_type": "markdown",
   "metadata": {},
   "source": [
    "Tabelas pivot ou dinâmicas\n",
    "São tabelas que calculam estatísticas resumidas agrupadas. "
   ]
  },
  {
   "cell_type": "code",
   "execution_count": 57,
   "metadata": {},
   "outputs": [
    {
     "data": {
      "text/plain": [
       "Cor\n",
       "Amarelo    60.0\n",
       "Branco     35.0\n",
       "Dourado    55.0\n",
       "Marrom     35.0\n",
       "Name: Peso (kg), dtype: float64"
      ]
     },
     "execution_count": 57,
     "metadata": {},
     "output_type": "execute_result"
    }
   ],
   "source": [
    "#sem pivot_table\n",
    "df_cachorros.groupby('Cor')['Peso (kg)'].mean()"
   ]
  },
  {
   "cell_type": "code",
   "execution_count": 58,
   "metadata": {},
   "outputs": [
    {
     "data": {
      "text/html": [
       "<div>\n",
       "<style scoped>\n",
       "    .dataframe tbody tr th:only-of-type {\n",
       "        vertical-align: middle;\n",
       "    }\n",
       "\n",
       "    .dataframe tbody tr th {\n",
       "        vertical-align: top;\n",
       "    }\n",
       "\n",
       "    .dataframe thead th {\n",
       "        text-align: right;\n",
       "    }\n",
       "</style>\n",
       "<table border=\"1\" class=\"dataframe\">\n",
       "  <thead>\n",
       "    <tr style=\"text-align: right;\">\n",
       "      <th></th>\n",
       "      <th>Peso (kg)</th>\n",
       "    </tr>\n",
       "    <tr>\n",
       "      <th>Cor</th>\n",
       "      <th></th>\n",
       "    </tr>\n",
       "  </thead>\n",
       "  <tbody>\n",
       "    <tr>\n",
       "      <th>Amarelo</th>\n",
       "      <td>60.0</td>\n",
       "    </tr>\n",
       "    <tr>\n",
       "      <th>Branco</th>\n",
       "      <td>35.0</td>\n",
       "    </tr>\n",
       "    <tr>\n",
       "      <th>Dourado</th>\n",
       "      <td>55.0</td>\n",
       "    </tr>\n",
       "    <tr>\n",
       "      <th>Marrom</th>\n",
       "      <td>35.0</td>\n",
       "    </tr>\n",
       "  </tbody>\n",
       "</table>\n",
       "</div>"
      ],
      "text/plain": [
       "         Peso (kg)\n",
       "Cor               \n",
       "Amarelo       60.0\n",
       "Branco        35.0\n",
       "Dourado       55.0\n",
       "Marrom        35.0"
      ]
     },
     "execution_count": 58,
     "metadata": {},
     "output_type": "execute_result"
    }
   ],
   "source": [
    "#usando pivot_table\n",
    "df_cachorros.pivot_table(values='Peso (kg)', index='Cor')"
   ]
  },
  {
   "cell_type": "code",
   "execution_count": 61,
   "metadata": {},
   "outputs": [
    {
     "name": "stderr",
     "output_type": "stream",
     "text": [
      "C:\\Users\\lpgn\\AppData\\Local\\Temp\\ipykernel_11156\\3003611500.py:2: FutureWarning: The provided callable <function median at 0x000001DABDF13A60> is currently using DataFrameGroupBy.median. In a future version of pandas, the provided callable will be used directly. To keep current behavior pass the string \"median\" instead.\n",
      "  df_cachorros.pivot_table(values='Peso (kg)', index='Cor', aggfunc=np.median)\n"
     ]
    },
    {
     "data": {
      "text/html": [
       "<div>\n",
       "<style scoped>\n",
       "    .dataframe tbody tr th:only-of-type {\n",
       "        vertical-align: middle;\n",
       "    }\n",
       "\n",
       "    .dataframe tbody tr th {\n",
       "        vertical-align: top;\n",
       "    }\n",
       "\n",
       "    .dataframe thead th {\n",
       "        text-align: right;\n",
       "    }\n",
       "</style>\n",
       "<table border=\"1\" class=\"dataframe\">\n",
       "  <thead>\n",
       "    <tr style=\"text-align: right;\">\n",
       "      <th></th>\n",
       "      <th>Peso (kg)</th>\n",
       "    </tr>\n",
       "    <tr>\n",
       "      <th>Cor</th>\n",
       "      <th></th>\n",
       "    </tr>\n",
       "  </thead>\n",
       "  <tbody>\n",
       "    <tr>\n",
       "      <th>Amarelo</th>\n",
       "      <td>60.0</td>\n",
       "    </tr>\n",
       "    <tr>\n",
       "      <th>Branco</th>\n",
       "      <td>35.0</td>\n",
       "    </tr>\n",
       "    <tr>\n",
       "      <th>Dourado</th>\n",
       "      <td>55.0</td>\n",
       "    </tr>\n",
       "    <tr>\n",
       "      <th>Marrom</th>\n",
       "      <td>35.0</td>\n",
       "    </tr>\n",
       "  </tbody>\n",
       "</table>\n",
       "</div>"
      ],
      "text/plain": [
       "         Peso (kg)\n",
       "Cor               \n",
       "Amarelo       60.0\n",
       "Branco        35.0\n",
       "Dourado       55.0\n",
       "Marrom        35.0"
      ]
     },
     "execution_count": 61,
     "metadata": {},
     "output_type": "execute_result"
    }
   ],
   "source": [
    "#Usando aggfunc para ter uma estatística mais organizada\n",
    "df_cachorros.pivot_table(values='Peso (kg)', index='Cor', aggfunc=np.median)"
   ]
  },
  {
   "cell_type": "code",
   "execution_count": 62,
   "metadata": {},
   "outputs": [
    {
     "name": "stderr",
     "output_type": "stream",
     "text": [
      "C:\\Users\\lpgn\\AppData\\Local\\Temp\\ipykernel_11156\\3035076951.py:2: FutureWarning: The provided callable <function mean at 0x000001DABDDE8540> is currently using DataFrameGroupBy.mean. In a future version of pandas, the provided callable will be used directly. To keep current behavior pass the string \"mean\" instead.\n",
      "  df_cachorros.pivot_table(values='Peso (kg)', index='Cor', aggfunc=[np.mean, np.median])\n",
      "C:\\Users\\lpgn\\AppData\\Local\\Temp\\ipykernel_11156\\3035076951.py:2: FutureWarning: The provided callable <function median at 0x000001DABDF13A60> is currently using DataFrameGroupBy.median. In a future version of pandas, the provided callable will be used directly. To keep current behavior pass the string \"median\" instead.\n",
      "  df_cachorros.pivot_table(values='Peso (kg)', index='Cor', aggfunc=[np.mean, np.median])\n"
     ]
    },
    {
     "data": {
      "text/html": [
       "<div>\n",
       "<style scoped>\n",
       "    .dataframe tbody tr th:only-of-type {\n",
       "        vertical-align: middle;\n",
       "    }\n",
       "\n",
       "    .dataframe tbody tr th {\n",
       "        vertical-align: top;\n",
       "    }\n",
       "\n",
       "    .dataframe thead tr th {\n",
       "        text-align: left;\n",
       "    }\n",
       "\n",
       "    .dataframe thead tr:last-of-type th {\n",
       "        text-align: right;\n",
       "    }\n",
       "</style>\n",
       "<table border=\"1\" class=\"dataframe\">\n",
       "  <thead>\n",
       "    <tr>\n",
       "      <th></th>\n",
       "      <th>mean</th>\n",
       "      <th>median</th>\n",
       "    </tr>\n",
       "    <tr>\n",
       "      <th></th>\n",
       "      <th>Peso (kg)</th>\n",
       "      <th>Peso (kg)</th>\n",
       "    </tr>\n",
       "    <tr>\n",
       "      <th>Cor</th>\n",
       "      <th></th>\n",
       "      <th></th>\n",
       "    </tr>\n",
       "  </thead>\n",
       "  <tbody>\n",
       "    <tr>\n",
       "      <th>Amarelo</th>\n",
       "      <td>60.0</td>\n",
       "      <td>60.0</td>\n",
       "    </tr>\n",
       "    <tr>\n",
       "      <th>Branco</th>\n",
       "      <td>35.0</td>\n",
       "      <td>35.0</td>\n",
       "    </tr>\n",
       "    <tr>\n",
       "      <th>Dourado</th>\n",
       "      <td>55.0</td>\n",
       "      <td>55.0</td>\n",
       "    </tr>\n",
       "    <tr>\n",
       "      <th>Marrom</th>\n",
       "      <td>35.0</td>\n",
       "      <td>35.0</td>\n",
       "    </tr>\n",
       "  </tbody>\n",
       "</table>\n",
       "</div>"
      ],
      "text/plain": [
       "             mean    median\n",
       "        Peso (kg) Peso (kg)\n",
       "Cor                        \n",
       "Amarelo      60.0      60.0\n",
       "Branco       35.0      35.0\n",
       "Dourado      55.0      55.0\n",
       "Marrom       35.0      35.0"
      ]
     },
     "execution_count": 62,
     "metadata": {},
     "output_type": "execute_result"
    }
   ],
   "source": [
    "#Usando aggfunc para múltiplas estatísticas\n",
    "df_cachorros.pivot_table(values='Peso (kg)', index='Cor', aggfunc=[np.mean, np.median])"
   ]
  },
  {
   "cell_type": "code",
   "execution_count": 63,
   "metadata": {},
   "outputs": [
    {
     "data": {
      "text/plain": [
       "Cor      Raça            \n",
       "Amarelo  Labrador            60.0\n",
       "Branco   Poodle              35.0\n",
       "Dourado  Golder Retriever    55.0\n",
       "Marrom   Boxer               35.0\n",
       "Name: Peso (kg), dtype: float64"
      ]
     },
     "execution_count": 63,
     "metadata": {},
     "output_type": "execute_result"
    }
   ],
   "source": [
    "#Agrupando várias variáveis\n",
    "df_cachorros.groupby(['Cor', 'Raça'])['Peso (kg)'].mean()"
   ]
  },
  {
   "cell_type": "code",
   "execution_count": 64,
   "metadata": {},
   "outputs": [
    {
     "data": {
      "text/html": [
       "<div>\n",
       "<style scoped>\n",
       "    .dataframe tbody tr th:only-of-type {\n",
       "        vertical-align: middle;\n",
       "    }\n",
       "\n",
       "    .dataframe tbody tr th {\n",
       "        vertical-align: top;\n",
       "    }\n",
       "\n",
       "    .dataframe thead th {\n",
       "        text-align: right;\n",
       "    }\n",
       "</style>\n",
       "<table border=\"1\" class=\"dataframe\">\n",
       "  <thead>\n",
       "    <tr style=\"text-align: right;\">\n",
       "      <th>Raça</th>\n",
       "      <th>Boxer</th>\n",
       "      <th>Golder Retriever</th>\n",
       "      <th>Labrador</th>\n",
       "      <th>Poodle</th>\n",
       "    </tr>\n",
       "    <tr>\n",
       "      <th>Cor</th>\n",
       "      <th></th>\n",
       "      <th></th>\n",
       "      <th></th>\n",
       "      <th></th>\n",
       "    </tr>\n",
       "  </thead>\n",
       "  <tbody>\n",
       "    <tr>\n",
       "      <th>Amarelo</th>\n",
       "      <td>NaN</td>\n",
       "      <td>NaN</td>\n",
       "      <td>60.0</td>\n",
       "      <td>NaN</td>\n",
       "    </tr>\n",
       "    <tr>\n",
       "      <th>Branco</th>\n",
       "      <td>NaN</td>\n",
       "      <td>NaN</td>\n",
       "      <td>NaN</td>\n",
       "      <td>35.0</td>\n",
       "    </tr>\n",
       "    <tr>\n",
       "      <th>Dourado</th>\n",
       "      <td>NaN</td>\n",
       "      <td>55.0</td>\n",
       "      <td>NaN</td>\n",
       "      <td>NaN</td>\n",
       "    </tr>\n",
       "    <tr>\n",
       "      <th>Marrom</th>\n",
       "      <td>35.0</td>\n",
       "      <td>NaN</td>\n",
       "      <td>NaN</td>\n",
       "      <td>NaN</td>\n",
       "    </tr>\n",
       "  </tbody>\n",
       "</table>\n",
       "</div>"
      ],
      "text/plain": [
       "Raça     Boxer  Golder Retriever  Labrador  Poodle\n",
       "Cor                                               \n",
       "Amarelo    NaN               NaN      60.0     NaN\n",
       "Branco     NaN               NaN       NaN    35.0\n",
       "Dourado    NaN              55.0       NaN     NaN\n",
       "Marrom    35.0               NaN       NaN     NaN"
      ]
     },
     "execution_count": 64,
     "metadata": {},
     "output_type": "execute_result"
    }
   ],
   "source": [
    "df_cachorros.pivot_table(values='Peso (kg)', index='Cor', columns='Raça')"
   ]
  },
  {
   "cell_type": "code",
   "execution_count": 65,
   "metadata": {},
   "outputs": [
    {
     "data": {
      "text/html": [
       "<div>\n",
       "<style scoped>\n",
       "    .dataframe tbody tr th:only-of-type {\n",
       "        vertical-align: middle;\n",
       "    }\n",
       "\n",
       "    .dataframe tbody tr th {\n",
       "        vertical-align: top;\n",
       "    }\n",
       "\n",
       "    .dataframe thead th {\n",
       "        text-align: right;\n",
       "    }\n",
       "</style>\n",
       "<table border=\"1\" class=\"dataframe\">\n",
       "  <thead>\n",
       "    <tr style=\"text-align: right;\">\n",
       "      <th>Raça</th>\n",
       "      <th>Boxer</th>\n",
       "      <th>Golder Retriever</th>\n",
       "      <th>Labrador</th>\n",
       "      <th>Poodle</th>\n",
       "    </tr>\n",
       "    <tr>\n",
       "      <th>Cor</th>\n",
       "      <th></th>\n",
       "      <th></th>\n",
       "      <th></th>\n",
       "      <th></th>\n",
       "    </tr>\n",
       "  </thead>\n",
       "  <tbody>\n",
       "    <tr>\n",
       "      <th>Amarelo</th>\n",
       "      <td>0.0</td>\n",
       "      <td>0.0</td>\n",
       "      <td>60.0</td>\n",
       "      <td>0.0</td>\n",
       "    </tr>\n",
       "    <tr>\n",
       "      <th>Branco</th>\n",
       "      <td>0.0</td>\n",
       "      <td>0.0</td>\n",
       "      <td>0.0</td>\n",
       "      <td>35.0</td>\n",
       "    </tr>\n",
       "    <tr>\n",
       "      <th>Dourado</th>\n",
       "      <td>0.0</td>\n",
       "      <td>55.0</td>\n",
       "      <td>0.0</td>\n",
       "      <td>0.0</td>\n",
       "    </tr>\n",
       "    <tr>\n",
       "      <th>Marrom</th>\n",
       "      <td>35.0</td>\n",
       "      <td>0.0</td>\n",
       "      <td>0.0</td>\n",
       "      <td>0.0</td>\n",
       "    </tr>\n",
       "  </tbody>\n",
       "</table>\n",
       "</div>"
      ],
      "text/plain": [
       "Raça     Boxer  Golder Retriever  Labrador  Poodle\n",
       "Cor                                               \n",
       "Amarelo    0.0               0.0      60.0     0.0\n",
       "Branco     0.0               0.0       0.0    35.0\n",
       "Dourado    0.0              55.0       0.0     0.0\n",
       "Marrom    35.0               0.0       0.0     0.0"
      ]
     },
     "execution_count": 65,
     "metadata": {},
     "output_type": "execute_result"
    }
   ],
   "source": [
    "#Susbtituir valores NaN -> fill_value\n",
    "df_cachorros.pivot_table(values='Peso (kg)', index='Cor', columns='Raça', fill_value=0)"
   ]
  },
  {
   "cell_type": "code",
   "execution_count": 66,
   "metadata": {},
   "outputs": [
    {
     "data": {
      "text/html": [
       "<div>\n",
       "<style scoped>\n",
       "    .dataframe tbody tr th:only-of-type {\n",
       "        vertical-align: middle;\n",
       "    }\n",
       "\n",
       "    .dataframe tbody tr th {\n",
       "        vertical-align: top;\n",
       "    }\n",
       "\n",
       "    .dataframe thead th {\n",
       "        text-align: right;\n",
       "    }\n",
       "</style>\n",
       "<table border=\"1\" class=\"dataframe\">\n",
       "  <thead>\n",
       "    <tr style=\"text-align: right;\">\n",
       "      <th>Raça</th>\n",
       "      <th>Boxer</th>\n",
       "      <th>Golder Retriever</th>\n",
       "      <th>Labrador</th>\n",
       "      <th>Poodle</th>\n",
       "      <th>All</th>\n",
       "    </tr>\n",
       "    <tr>\n",
       "      <th>Cor</th>\n",
       "      <th></th>\n",
       "      <th></th>\n",
       "      <th></th>\n",
       "      <th></th>\n",
       "      <th></th>\n",
       "    </tr>\n",
       "  </thead>\n",
       "  <tbody>\n",
       "    <tr>\n",
       "      <th>Amarelo</th>\n",
       "      <td>0.0</td>\n",
       "      <td>0.0</td>\n",
       "      <td>60.0</td>\n",
       "      <td>0.0</td>\n",
       "      <td>60.00</td>\n",
       "    </tr>\n",
       "    <tr>\n",
       "      <th>Branco</th>\n",
       "      <td>0.0</td>\n",
       "      <td>0.0</td>\n",
       "      <td>0.0</td>\n",
       "      <td>35.0</td>\n",
       "      <td>35.00</td>\n",
       "    </tr>\n",
       "    <tr>\n",
       "      <th>Dourado</th>\n",
       "      <td>0.0</td>\n",
       "      <td>55.0</td>\n",
       "      <td>0.0</td>\n",
       "      <td>0.0</td>\n",
       "      <td>55.00</td>\n",
       "    </tr>\n",
       "    <tr>\n",
       "      <th>Marrom</th>\n",
       "      <td>35.0</td>\n",
       "      <td>0.0</td>\n",
       "      <td>0.0</td>\n",
       "      <td>0.0</td>\n",
       "      <td>35.00</td>\n",
       "    </tr>\n",
       "    <tr>\n",
       "      <th>All</th>\n",
       "      <td>35.0</td>\n",
       "      <td>55.0</td>\n",
       "      <td>60.0</td>\n",
       "      <td>35.0</td>\n",
       "      <td>46.25</td>\n",
       "    </tr>\n",
       "  </tbody>\n",
       "</table>\n",
       "</div>"
      ],
      "text/plain": [
       "Raça     Boxer  Golder Retriever  Labrador  Poodle    All\n",
       "Cor                                                      \n",
       "Amarelo    0.0               0.0      60.0     0.0  60.00\n",
       "Branco     0.0               0.0       0.0    35.0  35.00\n",
       "Dourado    0.0              55.0       0.0     0.0  55.00\n",
       "Marrom    35.0               0.0       0.0     0.0  35.00\n",
       "All       35.0              55.0      60.0    35.0  46.25"
      ]
     },
     "execution_count": 66,
     "metadata": {},
     "output_type": "execute_result"
    }
   ],
   "source": [
    "#margins é uma possiblidade para criar uma média final dos valores. Dados faltantes são ignorados.\n",
    "df_cachorros.pivot_table(values='Peso (kg)', index='Cor', columns='Raça', fill_value = 0, margins=True)"
   ]
  }
 ],
 "metadata": {
  "kernelspec": {
   "display_name": "Python 3",
   "language": "python",
   "name": "python3"
  },
  "language_info": {
   "codemirror_mode": {
    "name": "ipython",
    "version": 3
   },
   "file_extension": ".py",
   "mimetype": "text/x-python",
   "name": "python",
   "nbconvert_exporter": "python",
   "pygments_lexer": "ipython3",
   "version": "3.12.1"
  }
 },
 "nbformat": 4,
 "nbformat_minor": 2
}
