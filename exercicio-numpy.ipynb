{
 "cells": [
  {
   "cell_type": "markdown",
   "metadata": {},
   "source": [
    "Introdutórias:\n",
    "\n",
    "1. Crie um array com 4 linhas e 3 colunas com valores aleatórios.\n",
    "2. Crie um array com valores inteiros, 3 linhas e 5 colunas com valores aleatórios.\n",
    "3. Crie um array com 5 colunas e 10 linhas inicializados com zeros. \n",
    "4. Crie um array que vá entre 0 e 90 pulando de 4 em 4.\n",
    "5. Reduza o array(5,7) a apenas uma dimensão.\n",
    "6. Considerando que você é uma organizadora de um jogo de bingo. Crie um array que irá representar a cartilha desses jogos de bingo, os números das suas cartelas variam entre 1 e 30, e você terá 10 participantes. Cada cartela terá 12 números(4,3). Crie um array que representa esse jogo.\n",
    "7. Faça o reshape das suas cartelas para que haja 5 cartelas de 4 linhas e 6 colunas."
   ]
  },
  {
   "cell_type": "code",
   "execution_count": 1,
   "metadata": {},
   "outputs": [],
   "source": [
    "import numpy as np"
   ]
  },
  {
   "cell_type": "code",
   "execution_count": 2,
   "metadata": {},
   "outputs": [
    {
     "data": {
      "text/plain": [
       "array([[0.24100227, 0.72564721, 0.34232325],\n",
       "       [0.77279467, 0.1859839 , 0.90138988],\n",
       "       [0.09907901, 0.71326931, 0.44060581],\n",
       "       [0.36738495, 0.55511792, 0.51627972]])"
      ]
     },
     "execution_count": 2,
     "metadata": {},
     "output_type": "execute_result"
    }
   ],
   "source": [
    "#1. Crie um array com 4 linhas e 3 colunas com valores aleatórios.\n",
    "\n",
    "arr = np.random.random((4,3))\n",
    "arr "
   ]
  },
  {
   "cell_type": "code",
   "execution_count": 3,
   "metadata": {},
   "outputs": [
    {
     "data": {
      "text/plain": [
       "array([[25, 11, 26, 24, 28],\n",
       "       [20, 17, 14, 13, 21],\n",
       "       [11, 27, 27, 11, 16]])"
      ]
     },
     "execution_count": 3,
     "metadata": {},
     "output_type": "execute_result"
    }
   ],
   "source": [
    "#2. Crie um array com valores inteiros, 3 linhas e 5 colunas com valores aleatórios.\n",
    "arr = np.random.randint(10, 30, size=(3,5))\n",
    "arr"
   ]
  },
  {
   "cell_type": "code",
   "execution_count": 4,
   "metadata": {},
   "outputs": [
    {
     "data": {
      "text/plain": [
       "array([[0., 0., 0., 0., 0.],\n",
       "       [0., 0., 0., 0., 0.],\n",
       "       [0., 0., 0., 0., 0.],\n",
       "       [0., 0., 0., 0., 0.],\n",
       "       [0., 0., 0., 0., 0.],\n",
       "       [0., 0., 0., 0., 0.],\n",
       "       [0., 0., 0., 0., 0.],\n",
       "       [0., 0., 0., 0., 0.],\n",
       "       [0., 0., 0., 0., 0.],\n",
       "       [0., 0., 0., 0., 0.]])"
      ]
     },
     "execution_count": 4,
     "metadata": {},
     "output_type": "execute_result"
    }
   ],
   "source": [
    "#3. Crie um array com 5 colunas e 10 linhas inicializados com zeros. \n",
    "arr = np.zeros((10,5))\n",
    "arr"
   ]
  },
  {
   "cell_type": "code",
   "execution_count": 5,
   "metadata": {},
   "outputs": [
    {
     "data": {
      "text/plain": [
       "array([ 0,  4,  8, 12, 16, 20, 24, 28, 32, 36, 40, 44, 48, 52, 56, 60, 64,\n",
       "       68, 72, 76, 80, 84, 88])"
      ]
     },
     "execution_count": 5,
     "metadata": {},
     "output_type": "execute_result"
    }
   ],
   "source": [
    "#4. Crie um array que vá entre 0 e 90 pulando de 4 em 4.\n",
    "arr = np.arange(0, 91, 4)\n",
    "arr"
   ]
  },
  {
   "cell_type": "code",
   "execution_count": 6,
   "metadata": {},
   "outputs": [
    {
     "name": "stdout",
     "output_type": "stream",
     "text": [
      "[[11 21 14 18 20 17 24]\n",
      " [11 15 28 16 18 28 10]\n",
      " [24 16 18 27 20 12 16]\n",
      " [14 16 17 23 21 17 21]\n",
      " [23 23 26 21 26 16 27]]\n"
     ]
    },
    {
     "data": {
      "text/plain": [
       "array([11, 21, 14, 18, 20, 17, 24, 11, 15, 28, 16, 18, 28, 10, 24, 16, 18,\n",
       "       27, 20, 12, 16, 14, 16, 17, 23, 21, 17, 21, 23, 23, 26, 21, 26, 16,\n",
       "       27])"
      ]
     },
     "execution_count": 6,
     "metadata": {},
     "output_type": "execute_result"
    }
   ],
   "source": [
    "#5. Reduza o array(5,7) a apenas uma dimensão.\n",
    "arr = np.random.randint(10, 30, size=(5,7))\n",
    "print (arr)\n",
    "arr = arr.flatten()\n",
    "arr"
   ]
  },
  {
   "cell_type": "code",
   "execution_count": 7,
   "metadata": {},
   "outputs": [
    {
     "data": {
      "text/plain": [
       "array([[[13, 10, 11],\n",
       "        [ 8, 21, 29],\n",
       "        [15,  1, 25],\n",
       "        [11, 25, 16]],\n",
       "\n",
       "       [[ 3, 24,  6],\n",
       "        [28, 21, 17],\n",
       "        [18,  1,  8],\n",
       "        [27, 27, 13]],\n",
       "\n",
       "       [[28,  8, 12],\n",
       "        [ 1, 29, 25],\n",
       "        [ 8, 22, 10],\n",
       "        [11, 14, 17]],\n",
       "\n",
       "       [[22,  9,  5],\n",
       "        [14,  3,  1],\n",
       "        [15, 25,  3],\n",
       "        [19, 24, 20]],\n",
       "\n",
       "       [[28,  8,  9],\n",
       "        [ 7, 29, 13],\n",
       "        [ 6, 20, 15],\n",
       "        [18,  8, 12]],\n",
       "\n",
       "       [[ 4, 23,  3],\n",
       "        [11, 16, 27],\n",
       "        [18, 19, 23],\n",
       "        [13, 11, 26]],\n",
       "\n",
       "       [[ 3,  8,  5],\n",
       "        [29, 26, 18],\n",
       "        [ 1, 11, 16],\n",
       "        [28,  5,  2]],\n",
       "\n",
       "       [[16,  7, 27],\n",
       "        [12, 19, 29],\n",
       "        [ 9,  5, 28],\n",
       "        [29, 20, 18]],\n",
       "\n",
       "       [[15, 18,  9],\n",
       "        [ 8, 23,  5],\n",
       "        [14, 26,  4],\n",
       "        [10,  1,  4]],\n",
       "\n",
       "       [[13,  3,  9],\n",
       "        [12,  6, 15],\n",
       "        [ 4,  7, 14],\n",
       "        [30, 15,  4]]])"
      ]
     },
     "execution_count": 7,
     "metadata": {},
     "output_type": "execute_result"
    }
   ],
   "source": [
    "#6. Considerando que você é uma organizadora de um jogo de bingo. \n",
    "#Crie um array que irá representar a cartilha desses jogos de bingo, \n",
    "#os números das suas cartelas variam entre 1 e 30, e você terá 10 participantes. \n",
    "#Cada cartela terá 10 números(4,3). Crie um array que representa esse jogo.\n",
    "\n",
    "bingo = np.random.randint(1, 31, size=(10, 4, 3))\n",
    "bingo"
   ]
  },
  {
   "cell_type": "code",
   "execution_count": 8,
   "metadata": {},
   "outputs": [
    {
     "data": {
      "text/plain": [
       "array([[[13, 10, 11,  8, 21, 29],\n",
       "        [15,  1, 25, 11, 25, 16],\n",
       "        [ 3, 24,  6, 28, 21, 17],\n",
       "        [18,  1,  8, 27, 27, 13]],\n",
       "\n",
       "       [[28,  8, 12,  1, 29, 25],\n",
       "        [ 8, 22, 10, 11, 14, 17],\n",
       "        [22,  9,  5, 14,  3,  1],\n",
       "        [15, 25,  3, 19, 24, 20]],\n",
       "\n",
       "       [[28,  8,  9,  7, 29, 13],\n",
       "        [ 6, 20, 15, 18,  8, 12],\n",
       "        [ 4, 23,  3, 11, 16, 27],\n",
       "        [18, 19, 23, 13, 11, 26]],\n",
       "\n",
       "       [[ 3,  8,  5, 29, 26, 18],\n",
       "        [ 1, 11, 16, 28,  5,  2],\n",
       "        [16,  7, 27, 12, 19, 29],\n",
       "        [ 9,  5, 28, 29, 20, 18]],\n",
       "\n",
       "       [[15, 18,  9,  8, 23,  5],\n",
       "        [14, 26,  4, 10,  1,  4],\n",
       "        [13,  3,  9, 12,  6, 15],\n",
       "        [ 4,  7, 14, 30, 15,  4]]])"
      ]
     },
     "execution_count": 8,
     "metadata": {},
     "output_type": "execute_result"
    }
   ],
   "source": [
    "#7. Faça o reshape das suas cartelas para que haja 5 cartelas de 4 linhas e 6 colunas.\n",
    "bingo.reshape((5,4,6))"
   ]
  },
  {
   "cell_type": "markdown",
   "metadata": {},
   "source": [
    "Manipulando Arrays \n",
    "1. Explorando Ecossistemas: \n",
    "Como bióloga marinha, me encontrei em uma expedição nas profundezas do Oceano Pacífico, onde estávamos estudando a biodiversidade e a saúde dos recifes de coral. O catálogo abaixo demonstra dados das espécies encontradas. Considere a seguinte ordem de colunas:\n",
    "\n",
    "*ID da espécie, quantidade de representantes encontrados, profundeza, tamanho médio da espécie.*\n",
    "\n",
    "a. Selecione a segunda coluna com a quantidade de espécies encontradas e adicione em um array as qtd_especies.\n",
    "\n",
    "b. De qtd_especies selecione apenas as primeiras 3 quantidades e print.\n",
    "\n",
    "c. Print as 5 últimas quantidades de espécies.\n",
    "\n",
    "d.Crie um array que contenha apenas os tamanhos das espécies e ordene por ordem crescente."
   ]
  },
  {
   "cell_type": "code",
   "execution_count": 9,
   "metadata": {},
   "outputs": [],
   "source": [
    "especies = np.array([\n",
    "                    [747,  89, 33,  5],\n",
    "                    [623, 123, 32, 13],\n",
    "                    [501,  22, 49,  2],\n",
    "                    [116, 101, 42, 10],\n",
    "                    [297,  56, 69, 22],\n",
    "                    [613,  64, 27,  7],\n",
    "                    [295,  84, 29, 14],\n",
    "                    [692, 105, 72, 16],\n",
    "                    [229, 103, 35,  5],\n",
    "                    [374, 124, 70,  1]\n",
    "                    ])"
   ]
  },
  {
   "cell_type": "code",
   "execution_count": 10,
   "metadata": {},
   "outputs": [
    {
     "data": {
      "text/plain": [
       "array([ 89, 123,  22, 101,  56,  64,  84, 105, 103, 124])"
      ]
     },
     "execution_count": 10,
     "metadata": {},
     "output_type": "execute_result"
    }
   ],
   "source": [
    "#a. Selecione a segunda coluna com a quantidade de espécies encontradas e adicione em um array as qtd_especies.\n",
    "qtd_especies = especies[:,1]\n",
    "qtd_especies"
   ]
  },
  {
   "cell_type": "code",
   "execution_count": 11,
   "metadata": {},
   "outputs": [
    {
     "data": {
      "text/plain": [
       "array([ 89, 123,  22])"
      ]
     },
     "execution_count": 11,
     "metadata": {},
     "output_type": "execute_result"
    }
   ],
   "source": [
    "#b. De qtd_especies selecione apenas as primeiras 3 quantidades e print.\n",
    "qtd_especies[0:3]"
   ]
  },
  {
   "cell_type": "code",
   "execution_count": 12,
   "metadata": {},
   "outputs": [
    {
     "data": {
      "text/plain": [
       "array([ 64,  84, 105, 103, 124])"
      ]
     },
     "execution_count": 12,
     "metadata": {},
     "output_type": "execute_result"
    }
   ],
   "source": [
    "#c. Print as 5 últimas quantidades de espécies.\n",
    "qtd_especies[-5:]"
   ]
  },
  {
   "cell_type": "code",
   "execution_count": 13,
   "metadata": {},
   "outputs": [
    {
     "data": {
      "text/plain": [
       "array([ 1,  2,  5,  5,  7, 10, 13, 14, 16, 22])"
      ]
     },
     "execution_count": 13,
     "metadata": {},
     "output_type": "execute_result"
    }
   ],
   "source": [
    "#d.Crie um array que contenha apenas os tamanhos das espécies e ordene por ordem crescente.\n",
    "np.sort(especies[:,3])"
   ]
  },
  {
   "cell_type": "markdown",
   "metadata": {},
   "source": [
    "2. Ainda usando o Array de espécies marítimas.\n",
    "a. Usando um index boolean crie um array que contém os dados da maior espécie encontrada(considerando o seu tamanho),esse valor corresponde ao valor 22.\n",
    "\n",
    "b. Usando fency index faça um array que contém apenas dados da espécie com ID297.\n",
    "\n",
    "c. Usando np.where() faça um array com a linha com dados correspondentes a espécie com 105 representantes encontrados.\n",
    "\n",
    "d. Considere a profundeza em que o espécie foi encontrada substitua valores maiores que 60 com \"Profundo”\n"
   ]
  },
  {
   "cell_type": "code",
   "execution_count": 14,
   "metadata": {},
   "outputs": [
    {
     "data": {
      "text/plain": [
       "array([[297,  56,  69,  22]])"
      ]
     },
     "execution_count": 14,
     "metadata": {},
     "output_type": "execute_result"
    }
   ],
   "source": [
    "#a. Usando um index boolean crie um array que contém os dados da maior espécie encontrada(considerando o seu tamanho),\n",
    "#esse valor corresponde ao valor 22.\n",
    "\n",
    "especies[especies[:,3]==22]"
   ]
  },
  {
   "cell_type": "code",
   "execution_count": 15,
   "metadata": {},
   "outputs": [
    {
     "data": {
      "text/plain": [
       "array([[297,  56,  69,  22]])"
      ]
     },
     "execution_count": 15,
     "metadata": {},
     "output_type": "execute_result"
    }
   ],
   "source": [
    "#b. Usando fency index faça um array que contém apenas dados da espécie com ID297.\n",
    "\n",
    "mask_297 = especies[:,0]==297\n",
    "especies[mask_297]"
   ]
  },
  {
   "cell_type": "code",
   "execution_count": 16,
   "metadata": {},
   "outputs": [
    {
     "data": {
      "text/plain": [
       "array([[692, 105,  72,  16]])"
      ]
     },
     "execution_count": 16,
     "metadata": {},
     "output_type": "execute_result"
    }
   ],
   "source": [
    "#c. Usando np.where() faça um array com a linha com dados correspondentes a espécie com 105 representantes encontrados.\n",
    "\n",
    "especies[np.where(especies[:, 1]==105)]"
   ]
  },
  {
   "cell_type": "code",
   "execution_count": 17,
   "metadata": {},
   "outputs": [
    {
     "data": {
      "text/plain": [
       "array(['33', '32', '49', '42', 'Profundo', '27', '29', 'Profundo', '35',\n",
       "       'Profundo'], dtype='<U11')"
      ]
     },
     "execution_count": 17,
     "metadata": {},
     "output_type": "execute_result"
    }
   ],
   "source": [
    "#d. Considere a profundeza em que o espécie foi encontrada substitua valores maiores que 60 com \"Profundo”\n",
    "np.where(especies[:,2]>60, \"Profundo\", especies[:,2])"
   ]
  },
  {
   "cell_type": "markdown",
   "metadata": {},
   "source": [
    "3. Ainda no conjunto 'especies'.\n",
    "\n",
    "a. Adicione mais 2 espécies ao array:[[204,10,40,12],[392,11,81,11]].\n",
    "\n",
    "b. Adicione mais uma coluna no array original agora com o número de espécies encontradas com que indica se o animal enxerga ou não: [0,1,0,0,0,0,1,0,1,1]"
   ]
  },
  {
   "cell_type": "code",
   "execution_count": 18,
   "metadata": {},
   "outputs": [
    {
     "data": {
      "text/plain": [
       "array([[747,  89,  33,   5],\n",
       "       [623, 123,  32,  13],\n",
       "       [501,  22,  49,   2],\n",
       "       [116, 101,  42,  10],\n",
       "       [297,  56,  69,  22],\n",
       "       [613,  64,  27,   7],\n",
       "       [295,  84,  29,  14],\n",
       "       [692, 105,  72,  16],\n",
       "       [229, 103,  35,   5],\n",
       "       [374, 124,  70,   1],\n",
       "       [204,  10,  40,  12],\n",
       "       [392,  11,  81,  11]])"
      ]
     },
     "execution_count": 18,
     "metadata": {},
     "output_type": "execute_result"
    }
   ],
   "source": [
    "#a. Adicione mais 2 espécies ao array:[[204,10,40,12],[392,11,81,11]].\n",
    "\n",
    "novas_especies = np.array([\n",
    "                            [204, 10, 40, 12],\n",
    "                            [392, 11, 81, 11]]\n",
    "                            )\n",
    "\n",
    "np.concatenate((especies, novas_especies))"
   ]
  },
  {
   "cell_type": "code",
   "execution_count": 19,
   "metadata": {},
   "outputs": [
    {
     "data": {
      "text/plain": [
       "array([[747,  89,  33,   5,   0],\n",
       "       [623, 123,  32,  13,   1],\n",
       "       [501,  22,  49,   2,   0],\n",
       "       [116, 101,  42,  10,   0],\n",
       "       [297,  56,  69,  22,   0],\n",
       "       [613,  64,  27,   7,   0],\n",
       "       [295,  84,  29,  14,   1],\n",
       "       [692, 105,  72,  16,   0],\n",
       "       [229, 103,  35,   5,   1],\n",
       "       [374, 124,  70,   1,   1]])"
      ]
     },
     "execution_count": 19,
     "metadata": {},
     "output_type": "execute_result"
    }
   ],
   "source": [
    "#b. Adicione mais uma coluna no array original agora com o número de espécies encontradas \n",
    "#com que indica se o animal enxerga ou não: [0,1,0,0,0,0,1,0,1,1]\n",
    "especies_ver = np.array([0,1,0,0,0,0,1,0,1,1]).reshape(10,1)\n",
    "np.concatenate((especies, especies_ver), axis=1)"
   ]
  },
  {
   "cell_type": "markdown",
   "metadata": {},
   "source": [
    "Salvando array"
   ]
  },
  {
   "cell_type": "code",
   "execution_count": 24,
   "metadata": {},
   "outputs": [
    {
     "data": {
      "text/plain": [
       "array([[1, 2, 3],\n",
       "       [4, 5, 6]])"
      ]
     },
     "execution_count": 24,
     "metadata": {},
     "output_type": "execute_result"
    }
   ],
   "source": [
    "arr2d = np.array([[1,2,3], [4,5,6]])\n",
    "arr2d"
   ]
  },
  {
   "cell_type": "code",
   "execution_count": 25,
   "metadata": {},
   "outputs": [
    {
     "data": {
      "text/plain": [
       "array([[[1, 2, 3],\n",
       "        [4, 5, 6]],\n",
       "\n",
       "       [[1, 2, 3],\n",
       "        [4, 5, 6]]])"
      ]
     },
     "execution_count": 25,
     "metadata": {},
     "output_type": "execute_result"
    }
   ],
   "source": [
    "arr3d = np.array([[[1,2,3], [4,5,6]], [[1,2,3], [4,5,6]]])\n",
    "arr3d"
   ]
  },
  {
   "cell_type": "code",
   "execution_count": 26,
   "metadata": {},
   "outputs": [],
   "source": [
    "#Salvando txt\n",
    "np.savetxt('array2d', arr2d, delimiter=',')"
   ]
  },
  {
   "cell_type": "code",
   "execution_count": 28,
   "metadata": {},
   "outputs": [],
   "source": [
    "#Salvando csv\n",
    "np.savetxt('array2d.csv', arr2d, delimiter=',')"
   ]
  },
  {
   "cell_type": "code",
   "execution_count": 29,
   "metadata": {},
   "outputs": [],
   "source": [
    "#Salvando 3d, que nao pode ser salvo como txt ou csv\n",
    "\n",
    "np.save('array3d', arr3d)"
   ]
  },
  {
   "cell_type": "code",
   "execution_count": 30,
   "metadata": {},
   "outputs": [
    {
     "data": {
      "text/plain": [
       "array([[[1, 2, 3],\n",
       "        [4, 5, 6]],\n",
       "\n",
       "       [[1, 2, 3],\n",
       "        [4, 5, 6]]])"
      ]
     },
     "execution_count": 30,
     "metadata": {},
     "output_type": "execute_result"
    }
   ],
   "source": [
    "#Carregando o arquivo\n",
    "arrload = np.load('array3d.npy')\n",
    "arrload"
   ]
  },
  {
   "cell_type": "markdown",
   "metadata": {},
   "source": [
    "Cálculo com Array \n",
    "\n",
    "Considerando o array abaixo, responda"
   ]
  },
  {
   "cell_type": "code",
   "execution_count": 20,
   "metadata": {},
   "outputs": [],
   "source": [
    "acidentes = np.array([\n",
    "                     [1, 3, 2],\n",
    "                     [0, 1, 0],\n",
    "                     [2, 1, 4],\n",
    "                     [0, 0, 0],\n",
    "                     [1, 1, 0]\n",
    "                     ])"
   ]
  }
 ],
 "metadata": {
  "kernelspec": {
   "display_name": "Python 3",
   "language": "python",
   "name": "python3"
  },
  "language_info": {
   "codemirror_mode": {
    "name": "ipython",
    "version": 3
   },
   "file_extension": ".py",
   "mimetype": "text/x-python",
   "name": "python",
   "nbconvert_exporter": "python",
   "pygments_lexer": "ipython3",
   "version": "3.12.1"
  }
 },
 "nbformat": 4,
 "nbformat_minor": 2
}
