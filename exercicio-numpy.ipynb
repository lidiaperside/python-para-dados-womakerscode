{
 "cells": [
  {
   "cell_type": "markdown",
   "metadata": {},
   "source": [
    "Introdutórias:\n",
    "\n",
    "1. Crie um array com 4 linhas e 3 colunas com valores aleatórios.\n",
    "2. Crie um array com valores inteiros, 3 linhas e 5 colunas com valores aleatórios.\n",
    "3. Crie um array com 5 colunas e 10 linhas inicializados com zeros. \n",
    "4. Crie um array que vá entre 0 e 90 pulando de 4 em 4.\n",
    "5. Reduza o array(5,7) a apenas uma dimensão.\n",
    "6. Considerando que você é uma organizadora de um jogo de bingo. Crie um array que irá representar a cartilha desses jogos de bingo, os números das suas cartelas variam entre 1 e 30, e você terá 10 participantes. Cada cartela terá 12 números(4,3). Crie um array que representa esse jogo.\n",
    "7. Faça o reshape das suas cartelas para que haja 5 cartelas de 4 linhas e 6 colunas."
   ]
  },
  {
   "cell_type": "code",
   "execution_count": 35,
   "metadata": {},
   "outputs": [],
   "source": [
    "import numpy as np"
   ]
  },
  {
   "cell_type": "code",
   "execution_count": 36,
   "metadata": {},
   "outputs": [
    {
     "data": {
      "text/plain": [
       "array([[0.05998969, 0.4760945 , 0.48750266],\n",
       "       [0.4935142 , 0.86612112, 0.67151896],\n",
       "       [0.87172233, 0.21095284, 0.81864949],\n",
       "       [0.33068614, 0.83906474, 0.08761206]])"
      ]
     },
     "execution_count": 36,
     "metadata": {},
     "output_type": "execute_result"
    }
   ],
   "source": [
    "#1. Crie um array com 4 linhas e 3 colunas com valores aleatórios.\n",
    "\n",
    "arr = np.random.random((4,3))\n",
    "arr "
   ]
  },
  {
   "cell_type": "code",
   "execution_count": 37,
   "metadata": {},
   "outputs": [
    {
     "data": {
      "text/plain": [
       "array([[27, 10, 17, 11, 14],\n",
       "       [22, 20, 10, 16, 24],\n",
       "       [22, 19, 10, 18, 12]])"
      ]
     },
     "execution_count": 37,
     "metadata": {},
     "output_type": "execute_result"
    }
   ],
   "source": [
    "#2. Crie um array com valores inteiros, 3 linhas e 5 colunas com valores aleatórios.\n",
    "arr = np.random.randint(10, 30, size=(3,5))\n",
    "arr"
   ]
  },
  {
   "cell_type": "code",
   "execution_count": 38,
   "metadata": {},
   "outputs": [
    {
     "data": {
      "text/plain": [
       "array([[0., 0., 0., 0., 0.],\n",
       "       [0., 0., 0., 0., 0.],\n",
       "       [0., 0., 0., 0., 0.],\n",
       "       [0., 0., 0., 0., 0.],\n",
       "       [0., 0., 0., 0., 0.],\n",
       "       [0., 0., 0., 0., 0.],\n",
       "       [0., 0., 0., 0., 0.],\n",
       "       [0., 0., 0., 0., 0.],\n",
       "       [0., 0., 0., 0., 0.],\n",
       "       [0., 0., 0., 0., 0.]])"
      ]
     },
     "execution_count": 38,
     "metadata": {},
     "output_type": "execute_result"
    }
   ],
   "source": [
    "#3. Crie um array com 5 colunas e 10 linhas inicializados com zeros. \n",
    "arr = np.zeros((10,5))\n",
    "arr"
   ]
  },
  {
   "cell_type": "code",
   "execution_count": 39,
   "metadata": {},
   "outputs": [
    {
     "data": {
      "text/plain": [
       "array([ 0,  4,  8, 12, 16, 20, 24, 28, 32, 36, 40, 44, 48, 52, 56, 60, 64,\n",
       "       68, 72, 76, 80, 84, 88])"
      ]
     },
     "execution_count": 39,
     "metadata": {},
     "output_type": "execute_result"
    }
   ],
   "source": [
    "#4. Crie um array que vá entre 0 e 90 pulando de 4 em 4.\n",
    "arr = np.arange(0, 91, 4)\n",
    "arr"
   ]
  },
  {
   "cell_type": "code",
   "execution_count": 40,
   "metadata": {},
   "outputs": [
    {
     "name": "stdout",
     "output_type": "stream",
     "text": [
      "[[10 19 13 21 13 27 14]\n",
      " [26 26 26 10 27 14 28]\n",
      " [26 26 23 17 26 18 17]\n",
      " [17 17 25 21 11 20 24]\n",
      " [27 21 29 10 23 14 25]]\n"
     ]
    },
    {
     "data": {
      "text/plain": [
       "array([10, 19, 13, 21, 13, 27, 14, 26, 26, 26, 10, 27, 14, 28, 26, 26, 23,\n",
       "       17, 26, 18, 17, 17, 17, 25, 21, 11, 20, 24, 27, 21, 29, 10, 23, 14,\n",
       "       25])"
      ]
     },
     "execution_count": 40,
     "metadata": {},
     "output_type": "execute_result"
    }
   ],
   "source": [
    "#5. Reduza o array(5,7) a apenas uma dimensão.\n",
    "arr = np.random.randint(10, 30, size=(5,7))\n",
    "print (arr)\n",
    "arr = arr.flatten()\n",
    "arr"
   ]
  },
  {
   "cell_type": "code",
   "execution_count": 41,
   "metadata": {},
   "outputs": [
    {
     "data": {
      "text/plain": [
       "array([[[22, 17, 19],\n",
       "        [ 9,  8, 20],\n",
       "        [ 2,  4, 17],\n",
       "        [28,  1, 30]],\n",
       "\n",
       "       [[23, 26,  7],\n",
       "        [ 1,  5, 11],\n",
       "        [ 7,  6, 30],\n",
       "        [29,  5, 27]],\n",
       "\n",
       "       [[21,  2,  7],\n",
       "        [ 9, 14, 22],\n",
       "        [ 4, 14, 30],\n",
       "        [ 6, 27, 27]],\n",
       "\n",
       "       [[ 7,  6, 20],\n",
       "        [27, 21, 20],\n",
       "        [28, 24,  4],\n",
       "        [16, 10, 27]],\n",
       "\n",
       "       [[27, 18, 26],\n",
       "        [ 9, 25, 20],\n",
       "        [22,  3, 24],\n",
       "        [13,  7,  1]],\n",
       "\n",
       "       [[30,  1, 11],\n",
       "        [16, 10,  9],\n",
       "        [23, 25,  2],\n",
       "        [ 4, 24, 16]],\n",
       "\n",
       "       [[24,  5,  4],\n",
       "        [23,  9, 23],\n",
       "        [ 3, 12, 21],\n",
       "        [13, 17, 23]],\n",
       "\n",
       "       [[ 3, 27, 20],\n",
       "        [28,  3, 12],\n",
       "        [25, 26, 30],\n",
       "        [16, 22,  1]],\n",
       "\n",
       "       [[12, 19, 12],\n",
       "        [25, 10,  9],\n",
       "        [30,  2, 15],\n",
       "        [14, 13,  6]],\n",
       "\n",
       "       [[26, 14, 25],\n",
       "        [29, 17,  4],\n",
       "        [19, 23,  9],\n",
       "        [ 7, 12, 22]]])"
      ]
     },
     "execution_count": 41,
     "metadata": {},
     "output_type": "execute_result"
    }
   ],
   "source": [
    "#6. Considerando que você é uma organizadora de um jogo de bingo. \n",
    "#Crie um array que irá representar a cartilha desses jogos de bingo, \n",
    "#os números das suas cartelas variam entre 1 e 30, e você terá 10 participantes. \n",
    "#Cada cartela terá 10 números(4,3). Crie um array que representa esse jogo.\n",
    "\n",
    "bingo = np.random.randint(1, 31, size=(10, 4, 3))\n",
    "bingo"
   ]
  },
  {
   "cell_type": "code",
   "execution_count": 42,
   "metadata": {},
   "outputs": [
    {
     "data": {
      "text/plain": [
       "array([[[22, 17, 19,  9,  8, 20],\n",
       "        [ 2,  4, 17, 28,  1, 30],\n",
       "        [23, 26,  7,  1,  5, 11],\n",
       "        [ 7,  6, 30, 29,  5, 27]],\n",
       "\n",
       "       [[21,  2,  7,  9, 14, 22],\n",
       "        [ 4, 14, 30,  6, 27, 27],\n",
       "        [ 7,  6, 20, 27, 21, 20],\n",
       "        [28, 24,  4, 16, 10, 27]],\n",
       "\n",
       "       [[27, 18, 26,  9, 25, 20],\n",
       "        [22,  3, 24, 13,  7,  1],\n",
       "        [30,  1, 11, 16, 10,  9],\n",
       "        [23, 25,  2,  4, 24, 16]],\n",
       "\n",
       "       [[24,  5,  4, 23,  9, 23],\n",
       "        [ 3, 12, 21, 13, 17, 23],\n",
       "        [ 3, 27, 20, 28,  3, 12],\n",
       "        [25, 26, 30, 16, 22,  1]],\n",
       "\n",
       "       [[12, 19, 12, 25, 10,  9],\n",
       "        [30,  2, 15, 14, 13,  6],\n",
       "        [26, 14, 25, 29, 17,  4],\n",
       "        [19, 23,  9,  7, 12, 22]]])"
      ]
     },
     "execution_count": 42,
     "metadata": {},
     "output_type": "execute_result"
    }
   ],
   "source": [
    "#7. Faça o reshape das suas cartelas para que haja 5 cartelas de 4 linhas e 6 colunas.\n",
    "bingo.reshape((5,4,6))"
   ]
  },
  {
   "cell_type": "markdown",
   "metadata": {},
   "source": [
    "Manipulando Arrays \n",
    "1. Explorando Ecossistemas: \n",
    "Como bióloga marinha, me encontrei em uma expedição nas profundezas do Oceano Pacífico, onde estávamos estudando a biodiversidade e a saúde dos recifes de coral. O catálogo abaixo demonstra dados das espécies encontradas. Considere a seguinte ordem de colunas:\n",
    "\n",
    "*ID da espécie, quantidade de representantes encontrados, profundeza, tamanho médio da espécie.*\n",
    "\n",
    "a. Selecione a segunda coluna com a quantidade de espécies encontradas e adicione em um array as qtd_especies.\n",
    "\n",
    "b. De qtd_especies selecione apenas as primeiras 3 quantidades e print.\n",
    "\n",
    "c. Print as 5 últimas quantidades de espécies.\n",
    "\n",
    "d.Crie um array que contenha apenas os tamanhos das espécies e ordene por ordem crescente."
   ]
  },
  {
   "cell_type": "code",
   "execution_count": 43,
   "metadata": {},
   "outputs": [],
   "source": [
    "especies = np.array([\n",
    "                    [747,  89, 33,  5],\n",
    "                    [623, 123, 32, 13],\n",
    "                    [501,  22, 49,  2],\n",
    "                    [116, 101, 42, 10],\n",
    "                    [297,  56, 69, 22],\n",
    "                    [613,  64, 27,  7],\n",
    "                    [295,  84, 29, 14],\n",
    "                    [692, 105, 72, 16],\n",
    "                    [229, 103, 35,  5],\n",
    "                    [374, 124, 70,  1]\n",
    "                    ])"
   ]
  },
  {
   "cell_type": "code",
   "execution_count": 44,
   "metadata": {},
   "outputs": [
    {
     "data": {
      "text/plain": [
       "array([ 89, 123,  22, 101,  56,  64,  84, 105, 103, 124])"
      ]
     },
     "execution_count": 44,
     "metadata": {},
     "output_type": "execute_result"
    }
   ],
   "source": [
    "#a. Selecione a segunda coluna com a quantidade de espécies encontradas e adicione em um array as qtd_especies.\n",
    "qtd_especies = especies[:,1]\n",
    "qtd_especies"
   ]
  },
  {
   "cell_type": "code",
   "execution_count": 45,
   "metadata": {},
   "outputs": [
    {
     "data": {
      "text/plain": [
       "array([ 89, 123,  22])"
      ]
     },
     "execution_count": 45,
     "metadata": {},
     "output_type": "execute_result"
    }
   ],
   "source": [
    "#b. De qtd_especies selecione apenas as primeiras 3 quantidades e print.\n",
    "qtd_especies[0:3]"
   ]
  },
  {
   "cell_type": "code",
   "execution_count": 46,
   "metadata": {},
   "outputs": [
    {
     "data": {
      "text/plain": [
       "array([ 64,  84, 105, 103, 124])"
      ]
     },
     "execution_count": 46,
     "metadata": {},
     "output_type": "execute_result"
    }
   ],
   "source": [
    "#c. Print as 5 últimas quantidades de espécies.\n",
    "qtd_especies[-5:]"
   ]
  },
  {
   "cell_type": "code",
   "execution_count": 47,
   "metadata": {},
   "outputs": [
    {
     "data": {
      "text/plain": [
       "array([ 1,  2,  5,  5,  7, 10, 13, 14, 16, 22])"
      ]
     },
     "execution_count": 47,
     "metadata": {},
     "output_type": "execute_result"
    }
   ],
   "source": [
    "#d.Crie um array que contenha apenas os tamanhos das espécies e ordene por ordem crescente.\n",
    "np.sort(especies[:,3])"
   ]
  },
  {
   "cell_type": "markdown",
   "metadata": {},
   "source": [
    "2. Ainda usando o Array de espécies marítimas.\n",
    "a. Usando um index boolean crie um array que contém os dados da maior espécie encontrada(considerando o seu tamanho),esse valor corresponde ao valor 22.\n",
    "\n",
    "b. Usando fency index faça um array que contém apenas dados da espécie com ID297.\n",
    "\n",
    "c. Usando np.where() faça um array com a linha com dados correspondentes a espécie com 105 representantes encontrados.\n",
    "\n",
    "d. Considere a profundeza em que o espécie foi encontrada substitua valores maiores que 60 com \"Profundo”\n"
   ]
  },
  {
   "cell_type": "code",
   "execution_count": 48,
   "metadata": {},
   "outputs": [
    {
     "data": {
      "text/plain": [
       "array([[297,  56,  69,  22]])"
      ]
     },
     "execution_count": 48,
     "metadata": {},
     "output_type": "execute_result"
    }
   ],
   "source": [
    "#a. Usando um index boolean crie um array que contém os dados da maior espécie encontrada(considerando o seu tamanho),\n",
    "#esse valor corresponde ao valor 22.\n",
    "\n",
    "especies[especies[:,3]==22]"
   ]
  },
  {
   "cell_type": "code",
   "execution_count": 49,
   "metadata": {},
   "outputs": [
    {
     "data": {
      "text/plain": [
       "array([[297,  56,  69,  22]])"
      ]
     },
     "execution_count": 49,
     "metadata": {},
     "output_type": "execute_result"
    }
   ],
   "source": [
    "#b. Usando fency index faça um array que contém apenas dados da espécie com ID297.\n",
    "\n",
    "mask_297 = especies[:,0]==297\n",
    "especies[mask_297]"
   ]
  },
  {
   "cell_type": "code",
   "execution_count": 50,
   "metadata": {},
   "outputs": [
    {
     "data": {
      "text/plain": [
       "array([[692, 105,  72,  16]])"
      ]
     },
     "execution_count": 50,
     "metadata": {},
     "output_type": "execute_result"
    }
   ],
   "source": [
    "#c. Usando np.where() faça um array com a linha com dados correspondentes a espécie com 105 representantes encontrados.\n",
    "\n",
    "especies[np.where(especies[:, 1]==105)]"
   ]
  },
  {
   "cell_type": "code",
   "execution_count": 51,
   "metadata": {},
   "outputs": [
    {
     "data": {
      "text/plain": [
       "array(['33', '32', '49', '42', 'Profundo', '27', '29', 'Profundo', '35',\n",
       "       'Profundo'], dtype='<U11')"
      ]
     },
     "execution_count": 51,
     "metadata": {},
     "output_type": "execute_result"
    }
   ],
   "source": [
    "#d. Considere a profundeza em que o espécie foi encontrada substitua valores maiores que 60 com \"Profundo”\n",
    "np.where(especies[:,2]>60, \"Profundo\", especies[:,2])"
   ]
  },
  {
   "cell_type": "markdown",
   "metadata": {},
   "source": [
    "3. Ainda no conjunto 'especies'.\n",
    "\n",
    "a. Adicione mais 2 espécies ao array:[[204,10,40,12],[392,11,81,11]].\n",
    "\n",
    "b. Adicione mais uma coluna no array original agora com o número de espécies encontradas com que indica se o animal enxerga ou não: [0,1,0,0,0,0,1,0,1,1]"
   ]
  },
  {
   "cell_type": "code",
   "execution_count": 52,
   "metadata": {},
   "outputs": [
    {
     "data": {
      "text/plain": [
       "array([[747,  89,  33,   5],\n",
       "       [623, 123,  32,  13],\n",
       "       [501,  22,  49,   2],\n",
       "       [116, 101,  42,  10],\n",
       "       [297,  56,  69,  22],\n",
       "       [613,  64,  27,   7],\n",
       "       [295,  84,  29,  14],\n",
       "       [692, 105,  72,  16],\n",
       "       [229, 103,  35,   5],\n",
       "       [374, 124,  70,   1],\n",
       "       [204,  10,  40,  12],\n",
       "       [392,  11,  81,  11]])"
      ]
     },
     "execution_count": 52,
     "metadata": {},
     "output_type": "execute_result"
    }
   ],
   "source": [
    "#a. Adicione mais 2 espécies ao array:[[204,10,40,12],[392,11,81,11]].\n",
    "\n",
    "novas_especies = np.array([\n",
    "                            [204, 10, 40, 12],\n",
    "                            [392, 11, 81, 11]]\n",
    "                            )\n",
    "\n",
    "np.concatenate((especies, novas_especies))"
   ]
  },
  {
   "cell_type": "code",
   "execution_count": 58,
   "metadata": {},
   "outputs": [
    {
     "data": {
      "text/plain": [
       "array([[747,  89,  33,   5,   0],\n",
       "       [623, 123,  32,  13,   1],\n",
       "       [501,  22,  49,   2,   0],\n",
       "       [116, 101,  42,  10,   0],\n",
       "       [297,  56,  69,  22,   0],\n",
       "       [613,  64,  27,   7,   0],\n",
       "       [295,  84,  29,  14,   1],\n",
       "       [692, 105,  72,  16,   0],\n",
       "       [229, 103,  35,   5,   1],\n",
       "       [374, 124,  70,   1,   1]])"
      ]
     },
     "execution_count": 58,
     "metadata": {},
     "output_type": "execute_result"
    }
   ],
   "source": [
    "#b. Adicione mais uma coluna no array original agora com o número de espécies encontradas \n",
    "#com que indica se o animal enxerga ou não: [0,1,0,0,0,0,1,0,1,1]\n",
    "especies_ver = np.array([0,1,0,0,0,0,1,0,1,1]).reshape(10,1)\n",
    "np.concatenate((especies, especies_ver), axis=1)"
   ]
  },
  {
   "cell_type": "markdown",
   "metadata": {},
   "source": [
    "Cálculo com Array \n",
    "\n",
    "Considerando o array abaixo, responda"
   ]
  },
  {
   "cell_type": "code",
   "execution_count": 59,
   "metadata": {},
   "outputs": [],
   "source": [
    "acidentes = np.array([\n",
    "                     [1, 3, 2],\n",
    "                     [0, 1, 0],\n",
    "                     [2, 1, 4],\n",
    "                     [0, 0, 0],\n",
    "                     [1, 1, 0]\n",
    "                     ])"
   ]
  },
  {
   "cell_type": "markdown",
   "metadata": {},
   "source": [
    "1. O cliente que teve acidente abaixo da média nos últimos 2anos, ganhará um desconto no seu seguro. Identifique-os.\n",
    "2. Qual cliente teve pelo menos 2 anos sem cometer acidentes? \n",
    "3. Uma professora quer que seus alunos apliquem a função (3x+2y+x*y) em um conjunto de dados. Ela dá dois arrays aos estudantes e pede que se ja feita essa operação.\n",
    "4. A mesma professora percebeu que houve um erro em todas asprovas dos estudantes e esqueceu de anotar a nota de trabalhos apresenta dos durante o semestre. Já que foi feito em grupo ela vai adicionar a mesma nota para todos os estudantes. No array cada estudante representa uma linha e cada coluna uma prova. Adicione para cada prova de cada estudante os valores:1, 2, 1"
   ]
  },
  {
   "cell_type": "code",
   "execution_count": null,
   "metadata": {},
   "outputs": [],
   "source": []
  }
 ],
 "metadata": {
  "kernelspec": {
   "display_name": "Python 3",
   "language": "python",
   "name": "python3"
  },
  "language_info": {
   "codemirror_mode": {
    "name": "ipython",
    "version": 3
   },
   "file_extension": ".py",
   "mimetype": "text/x-python",
   "name": "python",
   "nbconvert_exporter": "python",
   "pygments_lexer": "ipython3",
   "version": "3.12.1"
  }
 },
 "nbformat": 4,
 "nbformat_minor": 2
}
