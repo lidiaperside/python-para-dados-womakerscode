{
 "cells": [
  {
   "cell_type": "markdown",
   "metadata": {},
   "source": [
    "- Hipótese: É uma afirmação sobre uma propriedade da população\n",
    "- Teste de Hipótese: Testar se afirmativa de uma propriedade da população é verdadeira (com dados amostrais em um determinado nível de confiança)\n",
    "\n"
   ]
  },
  {
   "cell_type": "markdown",
   "metadata": {},
   "source": [
    "----------"
   ]
  },
  {
   "cell_type": "markdown",
   "metadata": {},
   "source": [
    "Componentes de um teste de hipótese:\n",
    "\n",
    "1. Hipótese Nula (H0): a afirmativa que ser para testar sobre um parâmetro da população (média ou proporção). Conterá sinal de: =, <=, >=\n",
    "    - testa alguma métroca da população, algo que seja mensurável \n",
    "\n",
    "2. Hipótese Alternativa (Ha/H1): é o oposto da hipótese nula. nunca conterá o sinal de = \n",
    "    - proporção é diferente, menor ou maior\n"
   ]
  },
  {
   "cell_type": "markdown",
   "metadata": {},
   "source": [
    "--------"
   ]
  },
  {
   "cell_type": "markdown",
   "metadata": {},
   "source": [
    "Resultados (outputs) de um teste\n",
    "\n",
    "testar se a hipótese numa pode ser validada ou nao. Aqui, a hipótese é rejeitada ou não rejeitada\n",
    "\n",
    "ex: \n",
    "    - rejeitar h0 em valor de ha -> a média diária de vendas de sorvetes em uma loja é diferente de 2000 unidades\n",
    "    - não rejeitar h0 em favor de ha -> a média diária de vendas de sorvete em uma loja é 2000 unidades"
   ]
  }
 ],
 "metadata": {
  "language_info": {
   "name": "python"
  }
 },
 "nbformat": 4,
 "nbformat_minor": 2
}
