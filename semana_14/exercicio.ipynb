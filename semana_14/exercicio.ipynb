{
 "cells": [
  {
   "cell_type": "markdown",
   "metadata": {},
   "source": [
    "Considerando a base de dados experimento_test_ab.csv responda as questões abaixo:\n"
   ]
  },
  {
   "cell_type": "code",
   "execution_count": 1,
   "metadata": {},
   "outputs": [],
   "source": [
    "import scipy.stats as stats\n",
    "import pandas as pd\n",
    "import matplotlib.pyplot as plt\n",
    "import numpy as np\n",
    "import seaborn as sns"
   ]
  },
  {
   "cell_type": "markdown",
   "metadata": {},
   "source": [
    "1. Qual dos cenários tem a maior taxa de conversão?\n"
   ]
  },
  {
   "cell_type": "code",
   "execution_count": 2,
   "metadata": {},
   "outputs": [],
   "source": [
    "df_experimento = pd.read_csv('experimento_teste_ab.csv')"
   ]
  },
  {
   "cell_type": "code",
   "execution_count": 3,
   "metadata": {},
   "outputs": [
    {
     "data": {
      "text/html": [
       "<div>\n",
       "<style scoped>\n",
       "    .dataframe tbody tr th:only-of-type {\n",
       "        vertical-align: middle;\n",
       "    }\n",
       "\n",
       "    .dataframe tbody tr th {\n",
       "        vertical-align: top;\n",
       "    }\n",
       "\n",
       "    .dataframe thead th {\n",
       "        text-align: right;\n",
       "    }\n",
       "</style>\n",
       "<table border=\"1\" class=\"dataframe\">\n",
       "  <thead>\n",
       "    <tr style=\"text-align: right;\">\n",
       "      <th></th>\n",
       "      <th>Visitante_ID</th>\n",
       "      <th>Versão_Página</th>\n",
       "      <th>Visualizações</th>\n",
       "      <th>Conversões</th>\n",
       "    </tr>\n",
       "  </thead>\n",
       "  <tbody>\n",
       "    <tr>\n",
       "      <th>0</th>\n",
       "      <td>1</td>\n",
       "      <td>A</td>\n",
       "      <td>167</td>\n",
       "      <td>1</td>\n",
       "    </tr>\n",
       "    <tr>\n",
       "      <th>1</th>\n",
       "      <td>2</td>\n",
       "      <td>A</td>\n",
       "      <td>160</td>\n",
       "      <td>0</td>\n",
       "    </tr>\n",
       "    <tr>\n",
       "      <th>2</th>\n",
       "      <td>3</td>\n",
       "      <td>A</td>\n",
       "      <td>170</td>\n",
       "      <td>0</td>\n",
       "    </tr>\n",
       "    <tr>\n",
       "      <th>3</th>\n",
       "      <td>4</td>\n",
       "      <td>A</td>\n",
       "      <td>161</td>\n",
       "      <td>1</td>\n",
       "    </tr>\n",
       "    <tr>\n",
       "      <th>4</th>\n",
       "      <td>5</td>\n",
       "      <td>A</td>\n",
       "      <td>104</td>\n",
       "      <td>0</td>\n",
       "    </tr>\n",
       "  </tbody>\n",
       "</table>\n",
       "</div>"
      ],
      "text/plain": [
       "   Visitante_ID Versão_Página  Visualizações  Conversões\n",
       "0             1             A            167           1\n",
       "1             2             A            160           0\n",
       "2             3             A            170           0\n",
       "3             4             A            161           1\n",
       "4             5             A            104           0"
      ]
     },
     "execution_count": 3,
     "metadata": {},
     "output_type": "execute_result"
    }
   ],
   "source": [
    "df_experimento.head()"
   ]
  },
  {
   "cell_type": "code",
   "execution_count": 4,
   "metadata": {},
   "outputs": [
    {
     "name": "stdout",
     "output_type": "stream",
     "text": [
      "<class 'pandas.core.frame.DataFrame'>\n",
      "RangeIndex: 2000 entries, 0 to 1999\n",
      "Data columns (total 4 columns):\n",
      " #   Column         Non-Null Count  Dtype \n",
      "---  ------         --------------  ----- \n",
      " 0   Visitante_ID   2000 non-null   int64 \n",
      " 1   Versão_Página  2000 non-null   object\n",
      " 2   Visualizações  2000 non-null   int64 \n",
      " 3   Conversões     2000 non-null   int64 \n",
      "dtypes: int64(3), object(1)\n",
      "memory usage: 62.6+ KB\n"
     ]
    }
   ],
   "source": [
    "df_experimento.info()"
   ]
  },
  {
   "cell_type": "code",
   "execution_count": 6,
   "metadata": {},
   "outputs": [
    {
     "data": {
      "text/html": [
       "<div>\n",
       "<style scoped>\n",
       "    .dataframe tbody tr th:only-of-type {\n",
       "        vertical-align: middle;\n",
       "    }\n",
       "\n",
       "    .dataframe tbody tr th {\n",
       "        vertical-align: top;\n",
       "    }\n",
       "\n",
       "    .dataframe thead th {\n",
       "        text-align: right;\n",
       "    }\n",
       "</style>\n",
       "<table border=\"1\" class=\"dataframe\">\n",
       "  <thead>\n",
       "    <tr style=\"text-align: right;\">\n",
       "      <th></th>\n",
       "      <th>Visitante_ID</th>\n",
       "      <th>Visualizações</th>\n",
       "      <th>Conversões</th>\n",
       "    </tr>\n",
       "  </thead>\n",
       "  <tbody>\n",
       "    <tr>\n",
       "      <th>count</th>\n",
       "      <td>2000.000000</td>\n",
       "      <td>2000.000000</td>\n",
       "      <td>2000.000000</td>\n",
       "    </tr>\n",
       "    <tr>\n",
       "      <th>mean</th>\n",
       "      <td>1000.500000</td>\n",
       "      <td>150.755500</td>\n",
       "      <td>0.115000</td>\n",
       "    </tr>\n",
       "    <tr>\n",
       "      <th>std</th>\n",
       "      <td>577.494589</td>\n",
       "      <td>28.809421</td>\n",
       "      <td>0.319102</td>\n",
       "    </tr>\n",
       "    <tr>\n",
       "      <th>min</th>\n",
       "      <td>1.000000</td>\n",
       "      <td>100.000000</td>\n",
       "      <td>0.000000</td>\n",
       "    </tr>\n",
       "    <tr>\n",
       "      <th>25%</th>\n",
       "      <td>500.750000</td>\n",
       "      <td>126.000000</td>\n",
       "      <td>0.000000</td>\n",
       "    </tr>\n",
       "    <tr>\n",
       "      <th>50%</th>\n",
       "      <td>1000.500000</td>\n",
       "      <td>151.000000</td>\n",
       "      <td>0.000000</td>\n",
       "    </tr>\n",
       "    <tr>\n",
       "      <th>75%</th>\n",
       "      <td>1500.250000</td>\n",
       "      <td>175.000000</td>\n",
       "      <td>0.000000</td>\n",
       "    </tr>\n",
       "    <tr>\n",
       "      <th>max</th>\n",
       "      <td>2000.000000</td>\n",
       "      <td>199.000000</td>\n",
       "      <td>1.000000</td>\n",
       "    </tr>\n",
       "  </tbody>\n",
       "</table>\n",
       "</div>"
      ],
      "text/plain": [
       "       Visitante_ID  Visualizações   Conversões\n",
       "count   2000.000000    2000.000000  2000.000000\n",
       "mean    1000.500000     150.755500     0.115000\n",
       "std      577.494589      28.809421     0.319102\n",
       "min        1.000000     100.000000     0.000000\n",
       "25%      500.750000     126.000000     0.000000\n",
       "50%     1000.500000     151.000000     0.000000\n",
       "75%     1500.250000     175.000000     0.000000\n",
       "max     2000.000000     199.000000     1.000000"
      ]
     },
     "execution_count": 6,
     "metadata": {},
     "output_type": "execute_result"
    }
   ],
   "source": [
    "df_experimento.describe()"
   ]
  },
  {
   "cell_type": "code",
   "execution_count": 7,
   "metadata": {},
   "outputs": [],
   "source": [
    "df_experimento_a = df_experimento.loc[df_experimento['Versão_Página'] == \"A\"]"
   ]
  },
  {
   "cell_type": "code",
   "execution_count": 8,
   "metadata": {},
   "outputs": [],
   "source": [
    "visualizacoes_a = df_experimento_a['Visualizações'].sum()"
   ]
  },
  {
   "cell_type": "code",
   "execution_count": 9,
   "metadata": {},
   "outputs": [],
   "source": [
    "conversao_a = df_experimento_a['Conversões'].sum()"
   ]
  },
  {
   "cell_type": "code",
   "execution_count": 10,
   "metadata": {},
   "outputs": [],
   "source": [
    "df_experimento_b = df_experimento.loc[df_experimento['Versão_Página'] == \"B\"]"
   ]
  },
  {
   "cell_type": "code",
   "execution_count": 11,
   "metadata": {},
   "outputs": [],
   "source": [
    "visualizacoes_b = df_experimento_b['Visualizações'].sum()"
   ]
  },
  {
   "cell_type": "code",
   "execution_count": 12,
   "metadata": {},
   "outputs": [],
   "source": [
    "conversao_b = df_experimento_b['Conversões'].sum()"
   ]
  },
  {
   "cell_type": "code",
   "execution_count": 13,
   "metadata": {},
   "outputs": [],
   "source": [
    "taxa_conversao_a = conversao_a / visualizacoes_a\n",
    "taxa_conversao_b = conversao_b / visualizacoes_b"
   ]
  },
  {
   "cell_type": "code",
   "execution_count": 14,
   "metadata": {},
   "outputs": [
    {
     "name": "stdout",
     "output_type": "stream",
     "text": [
      "Taxa de conversão da Versão A: 0.06961249046971857%.\n",
      "Taxa de conversão da Versão B: 0.08295946268815206%.\n"
     ]
    }
   ],
   "source": [
    "print(f'Taxa de conversão da Versão A: {taxa_conversao_a * 100}%.')\n",
    "print(f'Taxa de conversão da Versão B: {taxa_conversao_b * 100}%.')"
   ]
  },
  {
   "cell_type": "markdown",
   "metadata": {},
   "source": [
    "2. Calcule qual o tamanho da amostra necessária para o desenvolvimento de um teste A/B, seguindo os seguintes critérios:\n",
    "\n",
    "a. O cenário A, da base, como o inicial, que funciona hoje.\n",
    "\n",
    "b. Considere 95% de confiança de que o efeito na conversão não foi aleatório com um nível de significância de 5% (alpha = 0,05).\n",
    "\n",
    "c. Também considere 80% de certeza conseguir capturar o efeito da nova abordagem.\n",
    "\n",
    "d. O aumento para 10% de conversão.\n",
    "\n"
   ]
  },
  {
   "cell_type": "code",
   "execution_count": 15,
   "metadata": {},
   "outputs": [],
   "source": [
    "q2_alpha = 0.05\n",
    "q2_beta = 0.2\n",
    "nova_conversao = (taxa_conversao_a*(1 + 0.1))\n",
    "variancia_a = df_experimento_a['Conversões'].var()"
   ]
  },
  {
   "cell_type": "code",
   "execution_count": 16,
   "metadata": {},
   "outputs": [
    {
     "name": "stdout",
     "output_type": "stream",
     "text": [
      "0.0006961249046971857\n"
     ]
    }
   ],
   "source": [
    "print(taxa_conversao_a)"
   ]
  },
  {
   "cell_type": "code",
   "execution_count": 17,
   "metadata": {},
   "outputs": [
    {
     "name": "stdout",
     "output_type": "stream",
     "text": [
      "0.0007657373951669042\n"
     ]
    }
   ],
   "source": [
    "print(nova_conversao)"
   ]
  },
  {
   "cell_type": "code",
   "execution_count": 18,
   "metadata": {},
   "outputs": [
    {
     "name": "stdout",
     "output_type": "stream",
     "text": [
      "6.961249046971859e-05\n"
     ]
    }
   ],
   "source": [
    "##Delta\n",
    "delta_a = 0.0007657373951669042 - 0.0006961249046971857\n",
    "print(delta_a)"
   ]
  },
  {
   "cell_type": "code",
   "execution_count": 19,
   "metadata": {},
   "outputs": [
    {
     "name": "stdout",
     "output_type": "stream",
     "text": [
      "1.959963984540054\n"
     ]
    }
   ],
   "source": [
    "## Z(1-alpha/2)\n",
    "alpha_zscore = stats.norm.ppf(1-q2_alpha/2)\n",
    "print(alpha_zscore)"
   ]
  },
  {
   "cell_type": "code",
   "execution_count": 20,
   "metadata": {},
   "outputs": [
    {
     "name": "stdout",
     "output_type": "stream",
     "text": [
      "0.8416212335729143\n"
     ]
    }
   ],
   "source": [
    "## Z(1-beta)\n",
    "beta_zscore = stats.norm.ppf(1-q2_beta)\n",
    "print(beta_zscore)"
   ]
  },
  {
   "cell_type": "code",
   "execution_count": 22,
   "metadata": {},
   "outputs": [
    {
     "name": "stdout",
     "output_type": "stream",
     "text": [
      "Variância estimada: 0.18813813813813812\n"
     ]
    }
   ],
   "source": [
    "var = 2 * variancia_a\n",
    "print('Variância estimada: {}'.format(str(var)))"
   ]
  },
  {
   "cell_type": "code",
   "execution_count": 23,
   "metadata": {},
   "outputs": [
    {
     "name": "stdout",
     "output_type": "stream",
     "text": [
      "Amostra necessária para o grupo A: 21212.768135812556\n",
      "Amostra necessária para o teste AB: 42425.53627162511\n"
     ]
    }
   ],
   "source": [
    "## Fórmula\n",
    "n = (((alpha_zscore + beta_zscore)**2)*var)/delta_a\n",
    "print(f'Amostra necessária para o grupo A: {n}')\n",
    "print(f'Amostra necessária para o teste AB: {n*2}')"
   ]
  },
  {
   "cell_type": "markdown",
   "metadata": {},
   "source": [
    "Verifique a base pacientes.csv, os dados são fictícios. A sintetiza uma base de dados de um hospital que trata de pacientes com problemas cardíacos. Considere a base como a população, portanto as estatísticas da população são conhecidas. Responda as perguntas abaixo:\n"
   ]
  },
  {
   "cell_type": "code",
   "execution_count": 24,
   "metadata": {},
   "outputs": [],
   "source": [
    "df_pacientes = pd.read_csv('pacientes.csv')"
   ]
  },
  {
   "cell_type": "code",
   "execution_count": 25,
   "metadata": {},
   "outputs": [
    {
     "data": {
      "text/html": [
       "<div>\n",
       "<style scoped>\n",
       "    .dataframe tbody tr th:only-of-type {\n",
       "        vertical-align: middle;\n",
       "    }\n",
       "\n",
       "    .dataframe tbody tr th {\n",
       "        vertical-align: top;\n",
       "    }\n",
       "\n",
       "    .dataframe thead th {\n",
       "        text-align: right;\n",
       "    }\n",
       "</style>\n",
       "<table border=\"1\" class=\"dataframe\">\n",
       "  <thead>\n",
       "    <tr style=\"text-align: right;\">\n",
       "      <th></th>\n",
       "      <th>Unnamed: 0</th>\n",
       "      <th>Pressao_Arterial</th>\n",
       "      <th>Idade</th>\n",
       "      <th>Genero</th>\n",
       "      <th>Etnia</th>\n",
       "      <th>Estado_Saude</th>\n",
       "      <th>Nome_Genero</th>\n",
       "      <th>Nome_Etnia</th>\n",
       "      <th>Nome_Estado_Saude</th>\n",
       "    </tr>\n",
       "  </thead>\n",
       "  <tbody>\n",
       "    <tr>\n",
       "      <th>0</th>\n",
       "      <td>0</td>\n",
       "      <td>142.755809</td>\n",
       "      <td>31</td>\n",
       "      <td>1</td>\n",
       "      <td>1</td>\n",
       "      <td>1</td>\n",
       "      <td>Feminino</td>\n",
       "      <td>Afro-americano</td>\n",
       "      <td>Com condições de saúde adicionais</td>\n",
       "    </tr>\n",
       "    <tr>\n",
       "      <th>1</th>\n",
       "      <td>1</td>\n",
       "      <td>161.878468</td>\n",
       "      <td>35</td>\n",
       "      <td>1</td>\n",
       "      <td>1</td>\n",
       "      <td>0</td>\n",
       "      <td>Feminino</td>\n",
       "      <td>Afro-americano</td>\n",
       "      <td>Saudável</td>\n",
       "    </tr>\n",
       "    <tr>\n",
       "      <th>2</th>\n",
       "      <td>2</td>\n",
       "      <td>161.508259</td>\n",
       "      <td>39</td>\n",
       "      <td>0</td>\n",
       "      <td>3</td>\n",
       "      <td>1</td>\n",
       "      <td>Masculino</td>\n",
       "      <td>Asiático</td>\n",
       "      <td>Com condições de saúde adicionais</td>\n",
       "    </tr>\n",
       "    <tr>\n",
       "      <th>3</th>\n",
       "      <td>3</td>\n",
       "      <td>144.979408</td>\n",
       "      <td>43</td>\n",
       "      <td>1</td>\n",
       "      <td>3</td>\n",
       "      <td>1</td>\n",
       "      <td>Feminino</td>\n",
       "      <td>Asiático</td>\n",
       "      <td>Com condições de saúde adicionais</td>\n",
       "    </tr>\n",
       "    <tr>\n",
       "      <th>4</th>\n",
       "      <td>4</td>\n",
       "      <td>162.502954</td>\n",
       "      <td>55</td>\n",
       "      <td>0</td>\n",
       "      <td>2</td>\n",
       "      <td>1</td>\n",
       "      <td>Masculino</td>\n",
       "      <td>Hispânico</td>\n",
       "      <td>Com condições de saúde adicionais</td>\n",
       "    </tr>\n",
       "  </tbody>\n",
       "</table>\n",
       "</div>"
      ],
      "text/plain": [
       "   Unnamed: 0  Pressao_Arterial  Idade  Genero  Etnia  Estado_Saude  \\\n",
       "0           0        142.755809     31       1      1             1   \n",
       "1           1        161.878468     35       1      1             0   \n",
       "2           2        161.508259     39       0      3             1   \n",
       "3           3        144.979408     43       1      3             1   \n",
       "4           4        162.502954     55       0      2             1   \n",
       "\n",
       "  Nome_Genero      Nome_Etnia                  Nome_Estado_Saude  \n",
       "0    Feminino  Afro-americano  Com condições de saúde adicionais  \n",
       "1    Feminino  Afro-americano                           Saudável  \n",
       "2   Masculino        Asiático  Com condições de saúde adicionais  \n",
       "3    Feminino        Asiático  Com condições de saúde adicionais  \n",
       "4   Masculino       Hispânico  Com condições de saúde adicionais  "
      ]
     },
     "execution_count": 25,
     "metadata": {},
     "output_type": "execute_result"
    }
   ],
   "source": [
    "df_pacientes.head()"
   ]
  },
  {
   "cell_type": "code",
   "execution_count": 26,
   "metadata": {},
   "outputs": [],
   "source": [
    "df_pacientes = df_pacientes.drop(columns=[\"Unnamed: 0\", \"Genero\", \"Etnia\", \"Estado_Saude\"])"
   ]
  },
  {
   "cell_type": "code",
   "execution_count": 27,
   "metadata": {},
   "outputs": [],
   "source": [
    "nomes_colunas = {\"Pressao_Arterial\": \"Pressão Arterial\", \n",
    "                \"Idade:\": \"Idade\", \n",
    "                \"Nome_Genero\": \"Gênero\",\n",
    "                \"Nome_Etnia\": \"Etnia\", \n",
    "                \"Nome_Estado_Saude\": \"Estado de Saúde\"\n",
    "                }"
   ]
  },
  {
   "cell_type": "code",
   "execution_count": 28,
   "metadata": {},
   "outputs": [],
   "source": [
    "df_pacientes = df_pacientes.rename(columns=nomes_colunas)"
   ]
  },
  {
   "cell_type": "markdown",
   "metadata": {},
   "source": [
    "3. Considerando uma amostra de 45 números que representam o index do dataframe, índices= ([909, 751, 402, 400, 726, 39, 184, 269, 255, 769, 209, 715, 677, 381, 793, 697, 89, 280, 232, 756, 358, 36, 439, 768, 967, 699, 473, 222, 89, 639, 883, 558, 757, 84, 907, 895, 217, 224, 311, 348, 146, 505, 273, 957, 362]). Considerando essa amostra é possível dizer que a idade média das pessoas com problemas cardíacos é maior que 50 anos? Nível de significância igual a 5%.\n"
   ]
  },
  {
   "cell_type": "code",
   "execution_count": 29,
   "metadata": {},
   "outputs": [],
   "source": [
    "q3_alpha = 0.05"
   ]
  },
  {
   "cell_type": "code",
   "execution_count": 30,
   "metadata": {},
   "outputs": [],
   "source": [
    "q3_indices = [909, 751, 402, 400, 726, 39, 184, 269, 255, 769,\n",
    "209, 715, 677, 381, 793, 697, 89, 280, 232, 756, 358, 36, 439, 768, 967,\n",
    "699, 473, 222, 639, 883, 558, 757, 84, 907, 895, 217, 224, 311, 348,\n",
    "146, 505, 273, 957, 362]"
   ]
  },
  {
   "cell_type": "code",
   "execution_count": 31,
   "metadata": {},
   "outputs": [],
   "source": [
    "q3_indices.sort()"
   ]
  },
  {
   "cell_type": "code",
   "execution_count": 32,
   "metadata": {},
   "outputs": [
    {
     "name": "stdout",
     "output_type": "stream",
     "text": [
      "[36, 39, 84, 89, 146, 184, 209, 217, 222, 224, 232, 255, 269, 273, 280, 311, 348, 358, 362, 381, 400, 402, 439, 473, 505, 558, 639, 677, 697, 699, 715, 726, 751, 756, 757, 768, 769, 793, 883, 895, 907, 909, 957, 967]\n"
     ]
    }
   ],
   "source": [
    "print(q3_indices)"
   ]
  },
  {
   "cell_type": "code",
   "execution_count": 33,
   "metadata": {},
   "outputs": [],
   "source": [
    "q3_df = df_pacientes.iloc[q3_indices, :]"
   ]
  },
  {
   "cell_type": "code",
   "execution_count": 34,
   "metadata": {},
   "outputs": [
    {
     "data": {
      "text/html": [
       "<div>\n",
       "<style scoped>\n",
       "    .dataframe tbody tr th:only-of-type {\n",
       "        vertical-align: middle;\n",
       "    }\n",
       "\n",
       "    .dataframe tbody tr th {\n",
       "        vertical-align: top;\n",
       "    }\n",
       "\n",
       "    .dataframe thead th {\n",
       "        text-align: right;\n",
       "    }\n",
       "</style>\n",
       "<table border=\"1\" class=\"dataframe\">\n",
       "  <thead>\n",
       "    <tr style=\"text-align: right;\">\n",
       "      <th></th>\n",
       "      <th>Pressão Arterial</th>\n",
       "      <th>Idade</th>\n",
       "      <th>Gênero</th>\n",
       "      <th>Etnia</th>\n",
       "      <th>Estado de Saúde</th>\n",
       "    </tr>\n",
       "  </thead>\n",
       "  <tbody>\n",
       "    <tr>\n",
       "      <th>36</th>\n",
       "      <td>168.708224</td>\n",
       "      <td>41</td>\n",
       "      <td>Feminino</td>\n",
       "      <td>Asiático</td>\n",
       "      <td>Com condições de saúde adicionais</td>\n",
       "    </tr>\n",
       "    <tr>\n",
       "      <th>39</th>\n",
       "      <td>144.565778</td>\n",
       "      <td>50</td>\n",
       "      <td>Masculino</td>\n",
       "      <td>Hispânico</td>\n",
       "      <td>Saudável</td>\n",
       "    </tr>\n",
       "    <tr>\n",
       "      <th>84</th>\n",
       "      <td>172.697749</td>\n",
       "      <td>63</td>\n",
       "      <td>Masculino</td>\n",
       "      <td>Asiático</td>\n",
       "      <td>Saudável</td>\n",
       "    </tr>\n",
       "    <tr>\n",
       "      <th>89</th>\n",
       "      <td>154.485901</td>\n",
       "      <td>41</td>\n",
       "      <td>Feminino</td>\n",
       "      <td>Asiático</td>\n",
       "      <td>Saudável</td>\n",
       "    </tr>\n",
       "    <tr>\n",
       "      <th>146</th>\n",
       "      <td>157.727254</td>\n",
       "      <td>69</td>\n",
       "      <td>Feminino</td>\n",
       "      <td>Caucasiano</td>\n",
       "      <td>Saudável</td>\n",
       "    </tr>\n",
       "    <tr>\n",
       "      <th>184</th>\n",
       "      <td>159.939299</td>\n",
       "      <td>47</td>\n",
       "      <td>Feminino</td>\n",
       "      <td>Caucasiano</td>\n",
       "      <td>Saudável</td>\n",
       "    </tr>\n",
       "    <tr>\n",
       "      <th>209</th>\n",
       "      <td>151.856477</td>\n",
       "      <td>36</td>\n",
       "      <td>Masculino</td>\n",
       "      <td>Asiático</td>\n",
       "      <td>Saudável</td>\n",
       "    </tr>\n",
       "    <tr>\n",
       "      <th>217</th>\n",
       "      <td>157.458801</td>\n",
       "      <td>60</td>\n",
       "      <td>Masculino</td>\n",
       "      <td>Hispânico</td>\n",
       "      <td>Saudável</td>\n",
       "    </tr>\n",
       "    <tr>\n",
       "      <th>222</th>\n",
       "      <td>145.933389</td>\n",
       "      <td>64</td>\n",
       "      <td>Feminino</td>\n",
       "      <td>Caucasiano</td>\n",
       "      <td>Saudável</td>\n",
       "    </tr>\n",
       "    <tr>\n",
       "      <th>224</th>\n",
       "      <td>145.340019</td>\n",
       "      <td>49</td>\n",
       "      <td>Masculino</td>\n",
       "      <td>Caucasiano</td>\n",
       "      <td>Saudável</td>\n",
       "    </tr>\n",
       "    <tr>\n",
       "      <th>232</th>\n",
       "      <td>144.777871</td>\n",
       "      <td>69</td>\n",
       "      <td>Masculino</td>\n",
       "      <td>Asiático</td>\n",
       "      <td>Saudável</td>\n",
       "    </tr>\n",
       "    <tr>\n",
       "      <th>255</th>\n",
       "      <td>138.792482</td>\n",
       "      <td>51</td>\n",
       "      <td>Masculino</td>\n",
       "      <td>Hispânico</td>\n",
       "      <td>Com condições de saúde adicionais</td>\n",
       "    </tr>\n",
       "    <tr>\n",
       "      <th>269</th>\n",
       "      <td>150.551782</td>\n",
       "      <td>54</td>\n",
       "      <td>Masculino</td>\n",
       "      <td>Asiático</td>\n",
       "      <td>Saudável</td>\n",
       "    </tr>\n",
       "    <tr>\n",
       "      <th>273</th>\n",
       "      <td>155.225487</td>\n",
       "      <td>30</td>\n",
       "      <td>Feminino</td>\n",
       "      <td>Asiático</td>\n",
       "      <td>Com condições de saúde adicionais</td>\n",
       "    </tr>\n",
       "    <tr>\n",
       "      <th>280</th>\n",
       "      <td>157.210190</td>\n",
       "      <td>35</td>\n",
       "      <td>Masculino</td>\n",
       "      <td>Hispânico</td>\n",
       "      <td>Com condições de saúde adicionais</td>\n",
       "    </tr>\n",
       "    <tr>\n",
       "      <th>311</th>\n",
       "      <td>145.450259</td>\n",
       "      <td>43</td>\n",
       "      <td>Masculino</td>\n",
       "      <td>Afro-americano</td>\n",
       "      <td>Saudável</td>\n",
       "    </tr>\n",
       "    <tr>\n",
       "      <th>348</th>\n",
       "      <td>151.010737</td>\n",
       "      <td>41</td>\n",
       "      <td>Feminino</td>\n",
       "      <td>Asiático</td>\n",
       "      <td>Com condições de saúde adicionais</td>\n",
       "    </tr>\n",
       "    <tr>\n",
       "      <th>358</th>\n",
       "      <td>168.384208</td>\n",
       "      <td>36</td>\n",
       "      <td>Feminino</td>\n",
       "      <td>Afro-americano</td>\n",
       "      <td>Saudável</td>\n",
       "    </tr>\n",
       "    <tr>\n",
       "      <th>362</th>\n",
       "      <td>140.665057</td>\n",
       "      <td>65</td>\n",
       "      <td>Feminino</td>\n",
       "      <td>Caucasiano</td>\n",
       "      <td>Saudável</td>\n",
       "    </tr>\n",
       "    <tr>\n",
       "      <th>381</th>\n",
       "      <td>168.672232</td>\n",
       "      <td>55</td>\n",
       "      <td>Masculino</td>\n",
       "      <td>Caucasiano</td>\n",
       "      <td>Com condições de saúde adicionais</td>\n",
       "    </tr>\n",
       "    <tr>\n",
       "      <th>400</th>\n",
       "      <td>148.277079</td>\n",
       "      <td>54</td>\n",
       "      <td>Feminino</td>\n",
       "      <td>Hispânico</td>\n",
       "      <td>Saudável</td>\n",
       "    </tr>\n",
       "    <tr>\n",
       "      <th>402</th>\n",
       "      <td>156.162341</td>\n",
       "      <td>68</td>\n",
       "      <td>Masculino</td>\n",
       "      <td>Afro-americano</td>\n",
       "      <td>Saudável</td>\n",
       "    </tr>\n",
       "    <tr>\n",
       "      <th>439</th>\n",
       "      <td>133.793399</td>\n",
       "      <td>59</td>\n",
       "      <td>Feminino</td>\n",
       "      <td>Afro-americano</td>\n",
       "      <td>Com condições de saúde adicionais</td>\n",
       "    </tr>\n",
       "    <tr>\n",
       "      <th>473</th>\n",
       "      <td>151.414348</td>\n",
       "      <td>59</td>\n",
       "      <td>Masculino</td>\n",
       "      <td>Asiático</td>\n",
       "      <td>Com condições de saúde adicionais</td>\n",
       "    </tr>\n",
       "    <tr>\n",
       "      <th>505</th>\n",
       "      <td>153.469130</td>\n",
       "      <td>39</td>\n",
       "      <td>Feminino</td>\n",
       "      <td>Afro-americano</td>\n",
       "      <td>Com condições de saúde adicionais</td>\n",
       "    </tr>\n",
       "    <tr>\n",
       "      <th>558</th>\n",
       "      <td>130.817448</td>\n",
       "      <td>36</td>\n",
       "      <td>Masculino</td>\n",
       "      <td>Caucasiano</td>\n",
       "      <td>Saudável</td>\n",
       "    </tr>\n",
       "    <tr>\n",
       "      <th>639</th>\n",
       "      <td>149.722494</td>\n",
       "      <td>35</td>\n",
       "      <td>Feminino</td>\n",
       "      <td>Afro-americano</td>\n",
       "      <td>Com condições de saúde adicionais</td>\n",
       "    </tr>\n",
       "    <tr>\n",
       "      <th>677</th>\n",
       "      <td>168.414802</td>\n",
       "      <td>55</td>\n",
       "      <td>Masculino</td>\n",
       "      <td>Hispânico</td>\n",
       "      <td>Saudável</td>\n",
       "    </tr>\n",
       "    <tr>\n",
       "      <th>697</th>\n",
       "      <td>129.717884</td>\n",
       "      <td>70</td>\n",
       "      <td>Feminino</td>\n",
       "      <td>Caucasiano</td>\n",
       "      <td>Com condições de saúde adicionais</td>\n",
       "    </tr>\n",
       "    <tr>\n",
       "      <th>699</th>\n",
       "      <td>141.629423</td>\n",
       "      <td>53</td>\n",
       "      <td>Feminino</td>\n",
       "      <td>Caucasiano</td>\n",
       "      <td>Com condições de saúde adicionais</td>\n",
       "    </tr>\n",
       "    <tr>\n",
       "      <th>715</th>\n",
       "      <td>144.225759</td>\n",
       "      <td>39</td>\n",
       "      <td>Feminino</td>\n",
       "      <td>Caucasiano</td>\n",
       "      <td>Com condições de saúde adicionais</td>\n",
       "    </tr>\n",
       "    <tr>\n",
       "      <th>726</th>\n",
       "      <td>148.562048</td>\n",
       "      <td>62</td>\n",
       "      <td>Masculino</td>\n",
       "      <td>Afro-americano</td>\n",
       "      <td>Com condições de saúde adicionais</td>\n",
       "    </tr>\n",
       "    <tr>\n",
       "      <th>751</th>\n",
       "      <td>145.660949</td>\n",
       "      <td>34</td>\n",
       "      <td>Masculino</td>\n",
       "      <td>Caucasiano</td>\n",
       "      <td>Com condições de saúde adicionais</td>\n",
       "    </tr>\n",
       "    <tr>\n",
       "      <th>756</th>\n",
       "      <td>156.448176</td>\n",
       "      <td>54</td>\n",
       "      <td>Masculino</td>\n",
       "      <td>Asiático</td>\n",
       "      <td>Saudável</td>\n",
       "    </tr>\n",
       "    <tr>\n",
       "      <th>757</th>\n",
       "      <td>160.218286</td>\n",
       "      <td>61</td>\n",
       "      <td>Feminino</td>\n",
       "      <td>Hispânico</td>\n",
       "      <td>Saudável</td>\n",
       "    </tr>\n",
       "    <tr>\n",
       "      <th>768</th>\n",
       "      <td>156.592028</td>\n",
       "      <td>46</td>\n",
       "      <td>Feminino</td>\n",
       "      <td>Hispânico</td>\n",
       "      <td>Com condições de saúde adicionais</td>\n",
       "    </tr>\n",
       "    <tr>\n",
       "      <th>769</th>\n",
       "      <td>145.820574</td>\n",
       "      <td>47</td>\n",
       "      <td>Feminino</td>\n",
       "      <td>Caucasiano</td>\n",
       "      <td>Saudável</td>\n",
       "    </tr>\n",
       "    <tr>\n",
       "      <th>793</th>\n",
       "      <td>143.326633</td>\n",
       "      <td>41</td>\n",
       "      <td>Masculino</td>\n",
       "      <td>Hispânico</td>\n",
       "      <td>Saudável</td>\n",
       "    </tr>\n",
       "    <tr>\n",
       "      <th>883</th>\n",
       "      <td>150.301921</td>\n",
       "      <td>38</td>\n",
       "      <td>Feminino</td>\n",
       "      <td>Hispânico</td>\n",
       "      <td>Saudável</td>\n",
       "    </tr>\n",
       "    <tr>\n",
       "      <th>895</th>\n",
       "      <td>148.399709</td>\n",
       "      <td>43</td>\n",
       "      <td>Feminino</td>\n",
       "      <td>Afro-americano</td>\n",
       "      <td>Saudável</td>\n",
       "    </tr>\n",
       "    <tr>\n",
       "      <th>907</th>\n",
       "      <td>136.310057</td>\n",
       "      <td>70</td>\n",
       "      <td>Feminino</td>\n",
       "      <td>Afro-americano</td>\n",
       "      <td>Com condições de saúde adicionais</td>\n",
       "    </tr>\n",
       "    <tr>\n",
       "      <th>909</th>\n",
       "      <td>152.940055</td>\n",
       "      <td>49</td>\n",
       "      <td>Masculino</td>\n",
       "      <td>Caucasiano</td>\n",
       "      <td>Com condições de saúde adicionais</td>\n",
       "    </tr>\n",
       "    <tr>\n",
       "      <th>957</th>\n",
       "      <td>164.682666</td>\n",
       "      <td>55</td>\n",
       "      <td>Masculino</td>\n",
       "      <td>Caucasiano</td>\n",
       "      <td>Saudável</td>\n",
       "    </tr>\n",
       "    <tr>\n",
       "      <th>967</th>\n",
       "      <td>155.823408</td>\n",
       "      <td>47</td>\n",
       "      <td>Feminino</td>\n",
       "      <td>Hispânico</td>\n",
       "      <td>Com condições de saúde adicionais</td>\n",
       "    </tr>\n",
       "  </tbody>\n",
       "</table>\n",
       "</div>"
      ],
      "text/plain": [
       "     Pressão Arterial  Idade     Gênero           Etnia  \\\n",
       "36         168.708224     41   Feminino        Asiático   \n",
       "39         144.565778     50  Masculino       Hispânico   \n",
       "84         172.697749     63  Masculino        Asiático   \n",
       "89         154.485901     41   Feminino        Asiático   \n",
       "146        157.727254     69   Feminino      Caucasiano   \n",
       "184        159.939299     47   Feminino      Caucasiano   \n",
       "209        151.856477     36  Masculino        Asiático   \n",
       "217        157.458801     60  Masculino       Hispânico   \n",
       "222        145.933389     64   Feminino      Caucasiano   \n",
       "224        145.340019     49  Masculino      Caucasiano   \n",
       "232        144.777871     69  Masculino        Asiático   \n",
       "255        138.792482     51  Masculino       Hispânico   \n",
       "269        150.551782     54  Masculino        Asiático   \n",
       "273        155.225487     30   Feminino        Asiático   \n",
       "280        157.210190     35  Masculino       Hispânico   \n",
       "311        145.450259     43  Masculino  Afro-americano   \n",
       "348        151.010737     41   Feminino        Asiático   \n",
       "358        168.384208     36   Feminino  Afro-americano   \n",
       "362        140.665057     65   Feminino      Caucasiano   \n",
       "381        168.672232     55  Masculino      Caucasiano   \n",
       "400        148.277079     54   Feminino       Hispânico   \n",
       "402        156.162341     68  Masculino  Afro-americano   \n",
       "439        133.793399     59   Feminino  Afro-americano   \n",
       "473        151.414348     59  Masculino        Asiático   \n",
       "505        153.469130     39   Feminino  Afro-americano   \n",
       "558        130.817448     36  Masculino      Caucasiano   \n",
       "639        149.722494     35   Feminino  Afro-americano   \n",
       "677        168.414802     55  Masculino       Hispânico   \n",
       "697        129.717884     70   Feminino      Caucasiano   \n",
       "699        141.629423     53   Feminino      Caucasiano   \n",
       "715        144.225759     39   Feminino      Caucasiano   \n",
       "726        148.562048     62  Masculino  Afro-americano   \n",
       "751        145.660949     34  Masculino      Caucasiano   \n",
       "756        156.448176     54  Masculino        Asiático   \n",
       "757        160.218286     61   Feminino       Hispânico   \n",
       "768        156.592028     46   Feminino       Hispânico   \n",
       "769        145.820574     47   Feminino      Caucasiano   \n",
       "793        143.326633     41  Masculino       Hispânico   \n",
       "883        150.301921     38   Feminino       Hispânico   \n",
       "895        148.399709     43   Feminino  Afro-americano   \n",
       "907        136.310057     70   Feminino  Afro-americano   \n",
       "909        152.940055     49  Masculino      Caucasiano   \n",
       "957        164.682666     55  Masculino      Caucasiano   \n",
       "967        155.823408     47   Feminino       Hispânico   \n",
       "\n",
       "                       Estado de Saúde  \n",
       "36   Com condições de saúde adicionais  \n",
       "39                            Saudável  \n",
       "84                            Saudável  \n",
       "89                            Saudável  \n",
       "146                           Saudável  \n",
       "184                           Saudável  \n",
       "209                           Saudável  \n",
       "217                           Saudável  \n",
       "222                           Saudável  \n",
       "224                           Saudável  \n",
       "232                           Saudável  \n",
       "255  Com condições de saúde adicionais  \n",
       "269                           Saudável  \n",
       "273  Com condições de saúde adicionais  \n",
       "280  Com condições de saúde adicionais  \n",
       "311                           Saudável  \n",
       "348  Com condições de saúde adicionais  \n",
       "358                           Saudável  \n",
       "362                           Saudável  \n",
       "381  Com condições de saúde adicionais  \n",
       "400                           Saudável  \n",
       "402                           Saudável  \n",
       "439  Com condições de saúde adicionais  \n",
       "473  Com condições de saúde adicionais  \n",
       "505  Com condições de saúde adicionais  \n",
       "558                           Saudável  \n",
       "639  Com condições de saúde adicionais  \n",
       "677                           Saudável  \n",
       "697  Com condições de saúde adicionais  \n",
       "699  Com condições de saúde adicionais  \n",
       "715  Com condições de saúde adicionais  \n",
       "726  Com condições de saúde adicionais  \n",
       "751  Com condições de saúde adicionais  \n",
       "756                           Saudável  \n",
       "757                           Saudável  \n",
       "768  Com condições de saúde adicionais  \n",
       "769                           Saudável  \n",
       "793                           Saudável  \n",
       "883                           Saudável  \n",
       "895                           Saudável  \n",
       "907  Com condições de saúde adicionais  \n",
       "909  Com condições de saúde adicionais  \n",
       "957                           Saudável  \n",
       "967  Com condições de saúde adicionais  "
      ]
     },
     "execution_count": 34,
     "metadata": {},
     "output_type": "execute_result"
    }
   ],
   "source": [
    "q3_df"
   ]
  },
  {
   "cell_type": "code",
   "execution_count": 35,
   "metadata": {},
   "outputs": [],
   "source": [
    "q3_df = q3_df.loc[q3_df[\"Estado de Saúde\"] == \"Com condições de saúde adicionais\"]"
   ]
  },
  {
   "cell_type": "code",
   "execution_count": 36,
   "metadata": {},
   "outputs": [
    {
     "data": {
      "text/plain": [
       "19"
      ]
     },
     "execution_count": 36,
     "metadata": {},
     "output_type": "execute_result"
    }
   ],
   "source": [
    "q3_df.shape[0] #quantidade de pessoas na amostra"
   ]
  },
  {
   "cell_type": "code",
   "execution_count": 38,
   "metadata": {},
   "outputs": [
    {
     "data": {
      "text/plain": [
       "Text(0.5, 1.0, 'Histograma das idades dos pacientes do df3')"
      ]
     },
     "execution_count": 38,
     "metadata": {},
     "output_type": "execute_result"
    },
    {
     "data": {
      "image/png": "[encoded data removed]",
      "text/plain": [
       "<Figure size 500x500 with 1 Axes>"
      ]
     },
     "metadata": {},
     "output_type": "display_data"
    }
   ],
   "source": [
    "sns.displot(q3_df[\"Idade\"], kde=True, bins=10, color = 'darkblue')\n",
    "plt.xlabel(\"Idades\")\n",
    "plt.ylabel(\"Quantidade\")\n",
    "plt.title(\"Histograma das idades dos pacientes do df3\")"
   ]
  },
  {
   "cell_type": "code",
   "execution_count": 39,
   "metadata": {},
   "outputs": [],
   "source": [
    "#Teste T\n",
    "q3_x = q3_df['Idade'].mean()\n",
    "q3_u = 50\n",
    "q3_s = q3_df['Idade'].std()\n",
    "q3_n = q3_df.shape[0]"
   ]
  },
  {
   "cell_type": "code",
   "execution_count": 40,
   "metadata": {},
   "outputs": [],
   "source": [
    "q3_t = (q3_x - q3_u) /(q3_s/(q3_n^2))"
   ]
  },
  {
   "cell_type": "code",
   "execution_count": 41,
   "metadata": {},
   "outputs": [],
   "source": [
    "# P-valor\n",
    "q3_p_valor = stats.norm.sf(abs(q3_t))"
   ]
  },
  {
   "cell_type": "code",
   "execution_count": 42,
   "metadata": {},
   "outputs": [
    {
     "name": "stdout",
     "output_type": "stream",
     "text": [
      "A hipótese nula foi rejeitada, a média das pessoas na amostra possuem menos de 50 anos.\n"
     ]
    }
   ],
   "source": [
    "if q3_alpha > q3_p_valor:\n",
    "    print(\"A hipótese nula foi rejeitada, a média das pessoas na amostra possuem menos de 50 anos.\")\n",
    "else:\n",
    "    print(\"A hipótese nula não foi rejeitada, a média das pessoas na amostra possuem mais de 50 anos.\")"
   ]
  },
  {
   "cell_type": "markdown",
   "metadata": {},
   "source": [
    "4. Queremos entender que tipo de amostra estamos lidando se dividirmos os conjuntos em 2, sendo um com pessoas que têm condições de saúde adicionais e o outro com pessoas saudáveis. Seria dependente ou independente?\n"
   ]
  },
  {
   "cell_type": "markdown",
   "metadata": {},
   "source": [
    "5. Agora considere o um conjunto de pessoas aleatória que representam o index do dataframe, índices = ([690, 894, 67, 201, 364, 19, 60, 319, 588, 643, 855, 623, 530, 174, 105, 693, 6, 462, 973, 607, 811, 346, 354, 966, 943, 372]), podemos dizer que a pressão arterial média para pacientes com condições de saúde adicionais é igual à pressão arterial média para pacientes sem condições adicionais de saúde? Considere o nível de significância a 6%.\n"
   ]
  },
  {
   "cell_type": "code",
   "execution_count": 43,
   "metadata": {},
   "outputs": [],
   "source": [
    "q5_indices = [690, 894, 67, 201, 364, 19, 60, 319, 588, 643, 855, 623, 530, 174, 105, 693, 6, 462, 973, 607, 811, 346, 354, 966, 943, 372]"
   ]
  },
  {
   "cell_type": "code",
   "execution_count": 44,
   "metadata": {},
   "outputs": [],
   "source": [
    "q5_indices.sort()"
   ]
  },
  {
   "cell_type": "code",
   "execution_count": 45,
   "metadata": {},
   "outputs": [],
   "source": [
    "q5_df = df_pacientes.iloc[q5_indices, :]"
   ]
  },
  {
   "cell_type": "code",
   "execution_count": 46,
   "metadata": {},
   "outputs": [
    {
     "data": {
      "text/html": [
       "<div>\n",
       "<style scoped>\n",
       "    .dataframe tbody tr th:only-of-type {\n",
       "        vertical-align: middle;\n",
       "    }\n",
       "\n",
       "    .dataframe tbody tr th {\n",
       "        vertical-align: top;\n",
       "    }\n",
       "\n",
       "    .dataframe thead th {\n",
       "        text-align: right;\n",
       "    }\n",
       "</style>\n",
       "<table border=\"1\" class=\"dataframe\">\n",
       "  <thead>\n",
       "    <tr style=\"text-align: right;\">\n",
       "      <th></th>\n",
       "      <th>Pressão Arterial</th>\n",
       "      <th>Idade</th>\n",
       "      <th>Gênero</th>\n",
       "      <th>Etnia</th>\n",
       "      <th>Estado de Saúde</th>\n",
       "    </tr>\n",
       "  </thead>\n",
       "  <tbody>\n",
       "    <tr>\n",
       "      <th>6</th>\n",
       "      <td>150.750643</td>\n",
       "      <td>52</td>\n",
       "      <td>Feminino</td>\n",
       "      <td>Hispânico</td>\n",
       "      <td>Com condições de saúde adicionais</td>\n",
       "    </tr>\n",
       "    <tr>\n",
       "      <th>19</th>\n",
       "      <td>160.089332</td>\n",
       "      <td>38</td>\n",
       "      <td>Feminino</td>\n",
       "      <td>Afro-americano</td>\n",
       "      <td>Saudável</td>\n",
       "    </tr>\n",
       "    <tr>\n",
       "      <th>60</th>\n",
       "      <td>161.136755</td>\n",
       "      <td>35</td>\n",
       "      <td>Feminino</td>\n",
       "      <td>Afro-americano</td>\n",
       "      <td>Com condições de saúde adicionais</td>\n",
       "    </tr>\n",
       "    <tr>\n",
       "      <th>67</th>\n",
       "      <td>158.427577</td>\n",
       "      <td>45</td>\n",
       "      <td>Feminino</td>\n",
       "      <td>Caucasiano</td>\n",
       "      <td>Com condições de saúde adicionais</td>\n",
       "    </tr>\n",
       "    <tr>\n",
       "      <th>105</th>\n",
       "      <td>151.920500</td>\n",
       "      <td>34</td>\n",
       "      <td>Masculino</td>\n",
       "      <td>Asiático</td>\n",
       "      <td>Com condições de saúde adicionais</td>\n",
       "    </tr>\n",
       "    <tr>\n",
       "      <th>174</th>\n",
       "      <td>148.278546</td>\n",
       "      <td>32</td>\n",
       "      <td>Feminino</td>\n",
       "      <td>Afro-americano</td>\n",
       "      <td>Saudável</td>\n",
       "    </tr>\n",
       "    <tr>\n",
       "      <th>201</th>\n",
       "      <td>152.837941</td>\n",
       "      <td>64</td>\n",
       "      <td>Masculino</td>\n",
       "      <td>Afro-americano</td>\n",
       "      <td>Saudável</td>\n",
       "    </tr>\n",
       "    <tr>\n",
       "      <th>319</th>\n",
       "      <td>161.163704</td>\n",
       "      <td>52</td>\n",
       "      <td>Feminino</td>\n",
       "      <td>Asiático</td>\n",
       "      <td>Com condições de saúde adicionais</td>\n",
       "    </tr>\n",
       "    <tr>\n",
       "      <th>346</th>\n",
       "      <td>164.313189</td>\n",
       "      <td>51</td>\n",
       "      <td>Feminino</td>\n",
       "      <td>Asiático</td>\n",
       "      <td>Com condições de saúde adicionais</td>\n",
       "    </tr>\n",
       "    <tr>\n",
       "      <th>354</th>\n",
       "      <td>152.429706</td>\n",
       "      <td>57</td>\n",
       "      <td>Feminino</td>\n",
       "      <td>Afro-americano</td>\n",
       "      <td>Saudável</td>\n",
       "    </tr>\n",
       "    <tr>\n",
       "      <th>364</th>\n",
       "      <td>149.415598</td>\n",
       "      <td>67</td>\n",
       "      <td>Feminino</td>\n",
       "      <td>Caucasiano</td>\n",
       "      <td>Com condições de saúde adicionais</td>\n",
       "    </tr>\n",
       "    <tr>\n",
       "      <th>372</th>\n",
       "      <td>144.989088</td>\n",
       "      <td>57</td>\n",
       "      <td>Feminino</td>\n",
       "      <td>Afro-americano</td>\n",
       "      <td>Com condições de saúde adicionais</td>\n",
       "    </tr>\n",
       "    <tr>\n",
       "      <th>462</th>\n",
       "      <td>146.691628</td>\n",
       "      <td>31</td>\n",
       "      <td>Masculino</td>\n",
       "      <td>Afro-americano</td>\n",
       "      <td>Com condições de saúde adicionais</td>\n",
       "    </tr>\n",
       "    <tr>\n",
       "      <th>530</th>\n",
       "      <td>160.030070</td>\n",
       "      <td>43</td>\n",
       "      <td>Masculino</td>\n",
       "      <td>Asiático</td>\n",
       "      <td>Saudável</td>\n",
       "    </tr>\n",
       "    <tr>\n",
       "      <th>588</th>\n",
       "      <td>145.063568</td>\n",
       "      <td>64</td>\n",
       "      <td>Masculino</td>\n",
       "      <td>Afro-americano</td>\n",
       "      <td>Com condições de saúde adicionais</td>\n",
       "    </tr>\n",
       "    <tr>\n",
       "      <th>607</th>\n",
       "      <td>146.791367</td>\n",
       "      <td>44</td>\n",
       "      <td>Feminino</td>\n",
       "      <td>Hispânico</td>\n",
       "      <td>Saudável</td>\n",
       "    </tr>\n",
       "    <tr>\n",
       "      <th>623</th>\n",
       "      <td>164.658186</td>\n",
       "      <td>31</td>\n",
       "      <td>Masculino</td>\n",
       "      <td>Hispânico</td>\n",
       "      <td>Saudável</td>\n",
       "    </tr>\n",
       "    <tr>\n",
       "      <th>643</th>\n",
       "      <td>157.556943</td>\n",
       "      <td>45</td>\n",
       "      <td>Masculino</td>\n",
       "      <td>Hispânico</td>\n",
       "      <td>Saudável</td>\n",
       "    </tr>\n",
       "    <tr>\n",
       "      <th>690</th>\n",
       "      <td>156.250881</td>\n",
       "      <td>61</td>\n",
       "      <td>Masculino</td>\n",
       "      <td>Caucasiano</td>\n",
       "      <td>Com condições de saúde adicionais</td>\n",
       "    </tr>\n",
       "    <tr>\n",
       "      <th>693</th>\n",
       "      <td>166.000306</td>\n",
       "      <td>61</td>\n",
       "      <td>Masculino</td>\n",
       "      <td>Hispânico</td>\n",
       "      <td>Com condições de saúde adicionais</td>\n",
       "    </tr>\n",
       "    <tr>\n",
       "      <th>811</th>\n",
       "      <td>150.946805</td>\n",
       "      <td>55</td>\n",
       "      <td>Masculino</td>\n",
       "      <td>Caucasiano</td>\n",
       "      <td>Saudável</td>\n",
       "    </tr>\n",
       "    <tr>\n",
       "      <th>855</th>\n",
       "      <td>149.560501</td>\n",
       "      <td>35</td>\n",
       "      <td>Feminino</td>\n",
       "      <td>Hispânico</td>\n",
       "      <td>Saudável</td>\n",
       "    </tr>\n",
       "    <tr>\n",
       "      <th>894</th>\n",
       "      <td>150.116480</td>\n",
       "      <td>33</td>\n",
       "      <td>Feminino</td>\n",
       "      <td>Caucasiano</td>\n",
       "      <td>Com condições de saúde adicionais</td>\n",
       "    </tr>\n",
       "    <tr>\n",
       "      <th>943</th>\n",
       "      <td>135.823474</td>\n",
       "      <td>67</td>\n",
       "      <td>Feminino</td>\n",
       "      <td>Afro-americano</td>\n",
       "      <td>Com condições de saúde adicionais</td>\n",
       "    </tr>\n",
       "    <tr>\n",
       "      <th>966</th>\n",
       "      <td>155.895428</td>\n",
       "      <td>61</td>\n",
       "      <td>Masculino</td>\n",
       "      <td>Hispânico</td>\n",
       "      <td>Com condições de saúde adicionais</td>\n",
       "    </tr>\n",
       "    <tr>\n",
       "      <th>973</th>\n",
       "      <td>139.194170</td>\n",
       "      <td>64</td>\n",
       "      <td>Masculino</td>\n",
       "      <td>Asiático</td>\n",
       "      <td>Saudável</td>\n",
       "    </tr>\n",
       "  </tbody>\n",
       "</table>\n",
       "</div>"
      ],
      "text/plain": [
       "     Pressão Arterial  Idade     Gênero           Etnia  \\\n",
       "6          150.750643     52   Feminino       Hispânico   \n",
       "19         160.089332     38   Feminino  Afro-americano   \n",
       "60         161.136755     35   Feminino  Afro-americano   \n",
       "67         158.427577     45   Feminino      Caucasiano   \n",
       "105        151.920500     34  Masculino        Asiático   \n",
       "174        148.278546     32   Feminino  Afro-americano   \n",
       "201        152.837941     64  Masculino  Afro-americano   \n",
       "319        161.163704     52   Feminino        Asiático   \n",
       "346        164.313189     51   Feminino        Asiático   \n",
       "354        152.429706     57   Feminino  Afro-americano   \n",
       "364        149.415598     67   Feminino      Caucasiano   \n",
       "372        144.989088     57   Feminino  Afro-americano   \n",
       "462        146.691628     31  Masculino  Afro-americano   \n",
       "530        160.030070     43  Masculino        Asiático   \n",
       "588        145.063568     64  Masculino  Afro-americano   \n",
       "607        146.791367     44   Feminino       Hispânico   \n",
       "623        164.658186     31  Masculino       Hispânico   \n",
       "643        157.556943     45  Masculino       Hispânico   \n",
       "690        156.250881     61  Masculino      Caucasiano   \n",
       "693        166.000306     61  Masculino       Hispânico   \n",
       "811        150.946805     55  Masculino      Caucasiano   \n",
       "855        149.560501     35   Feminino       Hispânico   \n",
       "894        150.116480     33   Feminino      Caucasiano   \n",
       "943        135.823474     67   Feminino  Afro-americano   \n",
       "966        155.895428     61  Masculino       Hispânico   \n",
       "973        139.194170     64  Masculino        Asiático   \n",
       "\n",
       "                       Estado de Saúde  \n",
       "6    Com condições de saúde adicionais  \n",
       "19                            Saudável  \n",
       "60   Com condições de saúde adicionais  \n",
       "67   Com condições de saúde adicionais  \n",
       "105  Com condições de saúde adicionais  \n",
       "174                           Saudável  \n",
       "201                           Saudável  \n",
       "319  Com condições de saúde adicionais  \n",
       "346  Com condições de saúde adicionais  \n",
       "354                           Saudável  \n",
       "364  Com condições de saúde adicionais  \n",
       "372  Com condições de saúde adicionais  \n",
       "462  Com condições de saúde adicionais  \n",
       "530                           Saudável  \n",
       "588  Com condições de saúde adicionais  \n",
       "607                           Saudável  \n",
       "623                           Saudável  \n",
       "643                           Saudável  \n",
       "690  Com condições de saúde adicionais  \n",
       "693  Com condições de saúde adicionais  \n",
       "811                           Saudável  \n",
       "855                           Saudável  \n",
       "894  Com condições de saúde adicionais  \n",
       "943  Com condições de saúde adicionais  \n",
       "966  Com condições de saúde adicionais  \n",
       "973                           Saudável  "
      ]
     },
     "execution_count": 46,
     "metadata": {},
     "output_type": "execute_result"
    }
   ],
   "source": [
    "q5_df"
   ]
  },
  {
   "cell_type": "code",
   "execution_count": 47,
   "metadata": {},
   "outputs": [],
   "source": [
    "saudavel_mask = q5_df[\"Estado de Saúde\"].str.contains(\"Saudável\")"
   ]
  },
  {
   "cell_type": "code",
   "execution_count": 48,
   "metadata": {},
   "outputs": [],
   "source": [
    "n_saudavel_mask = q5_df[\"Estado de Saúde\"].str.contains(\"Com condições de saúde adicionais\")"
   ]
  },
  {
   "cell_type": "code",
   "execution_count": 49,
   "metadata": {},
   "outputs": [
    {
     "data": {
      "text/plain": [
       "152.94305165531088"
      ]
     },
     "execution_count": 49,
     "metadata": {},
     "output_type": "execute_result"
    }
   ],
   "source": [
    "q5_df[saudavel_mask]['Pressão Arterial'].mean()"
   ]
  },
  {
   "cell_type": "code",
   "execution_count": 50,
   "metadata": {},
   "outputs": [
    {
     "data": {
      "text/plain": [
       "153.1972544980592"
      ]
     },
     "execution_count": 50,
     "metadata": {},
     "output_type": "execute_result"
    }
   ],
   "source": [
    "q5_df[n_saudavel_mask]['Pressão Arterial'].mean()"
   ]
  },
  {
   "cell_type": "code",
   "execution_count": 51,
   "metadata": {},
   "outputs": [],
   "source": [
    "q5_alpha = 0.06\n",
    "#Teste T\n",
    "q5_x = q5_df[n_saudavel_mask]['Pressão Arterial'].mean()\n",
    "q5_u = q5_df[saudavel_mask]['Pressão Arterial'].mean()\n",
    "q5_s = q5_df[n_saudavel_mask]['Pressão Arterial'].std()\n",
    "q5_n = q5_df[n_saudavel_mask]['Pressão Arterial'].shape[0]"
   ]
  },
  {
   "cell_type": "code",
   "execution_count": 52,
   "metadata": {},
   "outputs": [],
   "source": [
    "q5_t = (q5_x - q5_u) /(q5_s/(q5_n^2))"
   ]
  },
  {
   "cell_type": "code",
   "execution_count": 53,
   "metadata": {},
   "outputs": [],
   "source": [
    "# P-valor\n",
    "q5_p_valor = stats.norm.sf(abs(q5_t))"
   ]
  },
  {
   "cell_type": "code",
   "execution_count": 54,
   "metadata": {},
   "outputs": [
    {
     "name": "stdout",
     "output_type": "stream",
     "text": [
      "A hipótese nula não foi rejeitada, a média da pressão arterial dos dois grupos é a mesma.\n"
     ]
    }
   ],
   "source": [
    "if q5_alpha > q5_p_valor:\n",
    "    print(\"A hipótese nula foi rejeitada, a média de pressão arterial dos dois grupos não é a mesma.\")\n",
    "else:\n",
    "    print(\"A hipótese nula não foi rejeitada, a média da pressão arterial dos dois grupos é a mesma.\")"
   ]
  },
  {
   "cell_type": "markdown",
   "metadata": {},
   "source": [
    "6. Existe uma diferença significativa na pressão arterial média entre diferentes grupos étnicos nesta população? (Teste ANOVA, alpha é 5%)\n",
    "\n",
    "a. Hipótese Nula (H0): A pressão arterial média é a mesma em todos os grupos étnicos.\n",
    "\n",
    "b. Hipótese Alternativa (H1): Há uma diferença significativa na pressão arterial média entre pelo menos dois grupos étnicos nesta população.\n"
   ]
  },
  {
   "cell_type": "code",
   "execution_count": 55,
   "metadata": {},
   "outputs": [],
   "source": [
    "asiatico_mask = df_pacientes['Etnia'].str.contains(\"Asiático\")\n",
    "hispanico_mask = df_pacientes['Etnia'].str.contains(\"Hispânico\")\n",
    "caucasiano_mask = df_pacientes['Etnia'].str.contains(\"Caucasiano\")\n",
    "afro_ame_mask = df_pacientes['Etnia'].str.contains(\"Afro-americano\")"
   ]
  },
  {
   "cell_type": "code",
   "execution_count": 56,
   "metadata": {},
   "outputs": [],
   "source": [
    "media_asiatico = df_pacientes[asiatico_mask]['Pressão Arterial']\n",
    "media_hispanico = df_pacientes[hispanico_mask]['Pressão Arterial']\n",
    "media_caucasiano = df_pacientes[caucasiano_mask]['Pressão Arterial']\n",
    "media_afro_ame = df_pacientes[afro_ame_mask]['Pressão Arterial']"
   ]
  },
  {
   "cell_type": "code",
   "execution_count": 57,
   "metadata": {},
   "outputs": [],
   "source": [
    "q6_alpha = 0.05"
   ]
  },
  {
   "cell_type": "code",
   "execution_count": 58,
   "metadata": {},
   "outputs": [],
   "source": [
    "q6_anova = stats.f_oneway(media_afro_ame, media_asiatico, media_caucasiano, media_hispanico)"
   ]
  },
  {
   "cell_type": "code",
   "execution_count": 59,
   "metadata": {},
   "outputs": [],
   "source": [
    "q6_p_valor = q6_anova.pvalue"
   ]
  },
  {
   "cell_type": "code",
   "execution_count": 60,
   "metadata": {},
   "outputs": [
    {
     "name": "stdout",
     "output_type": "stream",
     "text": [
      "A hipótese nula não foi rejeitada, a média da pressão arterial é igual entre os grupos.\n"
     ]
    }
   ],
   "source": [
    "if q6_alpha > q6_p_valor:\n",
    "    print(\"A hipótese nula foi rejeitada, a média de pressão arterial é diferente entre ao menos dois grupos.\")\n",
    "else:\n",
    "    print(\"A hipótese nula não foi rejeitada, a média da pressão arterial é igual entre os grupos.\")"
   ]
  },
  {
   "cell_type": "markdown",
   "metadata": {},
   "source": [
    "7. Lúcia é uma pesquisadora e tem o objetivo de entender a relação de gênero neste grupo de pacientes. Acredita-se que há uma relação entre o sexo e condições de saúde adicionais. (Teste qui-quadrado) \n"
   ]
  },
  {
   "cell_type": "code",
   "execution_count": 61,
   "metadata": {},
   "outputs": [],
   "source": [
    "df7 = df_pacientes"
   ]
  },
  {
   "cell_type": "code",
   "execution_count": 62,
   "metadata": {},
   "outputs": [],
   "source": [
    "#Criando tabela de contigência\n",
    "chi = pd.crosstab(df7[\"Gênero\"], df7[\"Estado de Saúde\"])"
   ]
  },
  {
   "cell_type": "code",
   "execution_count": 63,
   "metadata": {},
   "outputs": [],
   "source": [
    "chi_score = stats.chi2_contingency(chi)"
   ]
  },
  {
   "cell_type": "code",
   "execution_count": 64,
   "metadata": {},
   "outputs": [],
   "source": [
    "q7_score = pd.Series(chi_score[0]) #Valor de qui-quadrado\n",
    "q7_pvalue = pd.Series(chi_score[1]) # P-valor"
   ]
  },
  {
   "cell_type": "code",
   "execution_count": 65,
   "metadata": {},
   "outputs": [
    {
     "name": "stdout",
     "output_type": "stream",
     "text": [
      "0    1.0\n",
      "dtype: float64\n"
     ]
    }
   ],
   "source": [
    "print(q7_pvalue)"
   ]
  },
  {
   "cell_type": "code",
   "execution_count": 66,
   "metadata": {},
   "outputs": [
    {
     "name": "stdout",
     "output_type": "stream",
     "text": [
      "A hipótese nula não foi rejeitada.\n"
     ]
    }
   ],
   "source": [
    "if 0.05 > q7_pvalue.all():\n",
    "    print(\"A hipótese nula foi rejeitada, existe uma relação entre gênero e condição de saúde na amostra.\")\n",
    "else:\n",
    "    print(\"A hipótese nula não foi rejeitada.\")"
   ]
  },
  {
   "cell_type": "markdown",
   "metadata": {},
   "source": [
    "8. Existe uma associação entre a idade dos pacientes e sua pressão arterial?\n",
    "\n",
    "a. Hipótese Nula (H0): se a pressão arterial é independente da idade\n",
    "\n",
    "b. Hipótese Alternativa (H1): a pressão arterial esta associada a idade\n"
   ]
  },
  {
   "cell_type": "code",
   "execution_count": 67,
   "metadata": {},
   "outputs": [],
   "source": [
    "#Considerando nível de significância de 95%\n",
    "q8_alpha = 0.05"
   ]
  },
  {
   "cell_type": "code",
   "execution_count": 68,
   "metadata": {},
   "outputs": [],
   "source": [
    "#Dividindo os pacientes em grupos de faixa etária, de 10 anos\n",
    "q8_idade_30 = df_pacientes.loc[df_pacientes['Idade'] < 40]['Pressão Arterial']\n",
    "q8_idade_40 = df_pacientes.loc[(df_pacientes['Idade'] >= 40) & (df_pacientes['Idade'] < 50)]['Pressão Arterial']\n",
    "q8_idade_50 = df_pacientes.loc[(df_pacientes['Idade'] >= 50) & (df_pacientes['Idade'] < 60)]['Pressão Arterial']\n",
    "#Devido a falta de mais pacientes na faixa etária de 70 anos, eles foram incluídos no cálculo da faixa de 60\n",
    "q8_idade_60 = df_pacientes.loc[(df_pacientes['Idade'] >= 60) & (df_pacientes['Idade'] <= 70)]['Pressão Arterial']"
   ]
  },
  {
   "cell_type": "code",
   "execution_count": 69,
   "metadata": {},
   "outputs": [],
   "source": [
    "q8_anova = stats.f_oneway(q8_idade_30, q8_idade_40, q8_idade_50, q8_idade_60)"
   ]
  },
  {
   "cell_type": "code",
   "execution_count": 70,
   "metadata": {},
   "outputs": [],
   "source": [
    "q8_p_valor = q8_anova.pvalue"
   ]
  },
  {
   "cell_type": "code",
   "execution_count": 71,
   "metadata": {},
   "outputs": [
    {
     "name": "stdout",
     "output_type": "stream",
     "text": [
      "A hipótese nula não foi rejeitada, a pressão arterial é independente da idade dos pacientes.\n"
     ]
    }
   ],
   "source": [
    "if q8_alpha > q8_p_valor:\n",
    "    print(\"A hipótese nula foi rejeitada, a idade dos pacientes está associada a sua pressão arterial.\")\n",
    "else:\n",
    "    print(\"A hipótese nula não foi rejeitada, a pressão arterial é independente da idade dos pacientes.\")"
   ]
  },
  {
   "cell_type": "markdown",
   "metadata": {},
   "source": [
    "9. Qual é o intervalo de confiança para a média da pressão arterial entre os pacientes com condições de saúde adicionais? (nível de confiança 95%)\n"
   ]
  },
  {
   "cell_type": "code",
   "execution_count": 72,
   "metadata": {},
   "outputs": [],
   "source": [
    "q9_media_pressao = df_pacientes.loc[df_pacientes['Estado de Saúde'] == 'Com condições de saúde adicionais']['Pressão Arterial'].mean()"
   ]
  },
  {
   "cell_type": "code",
   "execution_count": 73,
   "metadata": {},
   "outputs": [],
   "source": [
    "q9_desvio_padrao = stats.tstd(df_pacientes.loc[df_pacientes['Estado de Saúde'] == 'Com condições de saúde adicionais']['Pressão Arterial'])"
   ]
  },
  {
   "cell_type": "code",
   "execution_count": 74,
   "metadata": {},
   "outputs": [],
   "source": [
    "intervalo_confianca = stats.norm.interval(0.95, loc = q9_media_pressao, scale = q9_desvio_padrao)"
   ]
  },
  {
   "cell_type": "code",
   "execution_count": 75,
   "metadata": {},
   "outputs": [
    {
     "name": "stdout",
     "output_type": "stream",
     "text": [
      "O intervalo de confiança para a média da pressão arterial entre os pacientes com condições de saúde adicionais é: (129.8705879067565, 170.3663159835586).\n"
     ]
    }
   ],
   "source": [
    "print(f'O intervalo de confiança para a média da pressão arterial entre os pacientes com condições de saúde adicionais é: {intervalo_confianca}.')"
   ]
  },
  {
   "cell_type": "markdown",
   "metadata": {},
   "source": [
    "10. A distribuição da pressão arterial na população segue uma distribuição normal?\n",
    "\n",
    "a. Hipótese Nula (H0): A distribuição da pressão arterial na população segue uma distribuição normal.\n",
    "\n",
    "b. Hipótese Alternativa (H1): A distribuição da pressão arterial na população não segue uma distribuição normal"
   ]
  },
  {
   "cell_type": "code",
   "execution_count": 76,
   "metadata": {},
   "outputs": [],
   "source": [
    "q10_shapiro = stats.shapiro(df_pacientes['Pressão Arterial'])"
   ]
  },
  {
   "cell_type": "code",
   "execution_count": 77,
   "metadata": {},
   "outputs": [],
   "source": [
    "#Utilizando nível de significância de 95%\n",
    "q10_alpha = 0.05\n",
    "q10_p_valor = q10_shapiro.pvalue"
   ]
  },
  {
   "cell_type": "code",
   "execution_count": 78,
   "metadata": {},
   "outputs": [
    {
     "name": "stdout",
     "output_type": "stream",
     "text": [
      "A hipótese nula não foi rejeitada, a distribuição da pressão arterial da população segue uma distribuição normal\n"
     ]
    }
   ],
   "source": [
    "if q10_alpha > q10_p_valor:\n",
    "    print(\"A hipótese nula foi rejeitada, a distribuição da pressão arterial da população não segue uma distribuição normal.\")\n",
    "else:\n",
    "    print(\"A hipótese nula não foi rejeitada, a distribuição da pressão arterial da população segue uma distribuição normal\")"
   ]
  }
 ],
 "metadata": {
  "kernelspec": {
   "display_name": "Python 3",
   "language": "python",
   "name": "python3"
  },
  "language_info": {
   "codemirror_mode": {
    "name": "ipython",
    "version": 3
   },
   "file_extension": ".py",
   "mimetype": "text/x-python",
   "name": "python",
   "nbconvert_exporter": "python",
   "pygments_lexer": "ipython3",
   "version": "3.10.13"
  }
 },
 "nbformat": 4,
 "nbformat_minor": 2
}
