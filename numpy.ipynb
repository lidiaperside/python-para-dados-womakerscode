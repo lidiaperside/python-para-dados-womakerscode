{
 "cells": [
  {
   "cell_type": "code",
   "execution_count": 2,
   "metadata": {},
   "outputs": [],
   "source": [
    "import numpy as np"
   ]
  },
  {
   "cell_type": "code",
   "execution_count": 3,
   "metadata": {},
   "outputs": [],
   "source": [
    "l = [1, 2, 3, 4]"
   ]
  },
  {
   "cell_type": "code",
   "execution_count": 4,
   "metadata": {},
   "outputs": [
    {
     "data": {
      "text/plain": [
       "array([1, 2, 3, 4])"
      ]
     },
     "execution_count": 4,
     "metadata": {},
     "output_type": "execute_result"
    }
   ],
   "source": [
    "arr1 = np.array(l)\n",
    "arr1"
   ]
  },
  {
   "cell_type": "code",
   "execution_count": 5,
   "metadata": {},
   "outputs": [
    {
     "data": {
      "text/plain": [
       "array([[0., 0.],\n",
       "       [0., 0.]])"
      ]
     },
     "execution_count": 5,
     "metadata": {},
     "output_type": "execute_result"
    }
   ],
   "source": [
    "#Criando um numpy array do zero\n",
    "a = np.zeros((2,2)) #recebe uma tupla 2x2\n",
    "a"
   ]
  },
  {
   "cell_type": "code",
   "execution_count": 6,
   "metadata": {},
   "outputs": [
    {
     "data": {
      "text/plain": [
       "array([0, 1, 2])"
      ]
     },
     "execution_count": 6,
     "metadata": {},
     "output_type": "execute_result"
    }
   ],
   "source": [
    "b = np.arange(0,3) #sinaliza onde inicializa e onde termina -1\n",
    "b"
   ]
  },
  {
   "cell_type": "code",
   "execution_count": 7,
   "metadata": {},
   "outputs": [
    {
     "data": {
      "text/plain": [
       "array([[0.22405182, 0.35591072, 0.75514998],\n",
       "       [0.21171959, 0.1685462 , 0.81520376],\n",
       "       [0.95458157, 0.49650131, 0.05568327]])"
      ]
     },
     "execution_count": 7,
     "metadata": {},
     "output_type": "execute_result"
    }
   ],
   "source": [
    "c = np.random.random((3,3)) #recebe uma tupla randonica\n",
    "c"
   ]
  },
  {
   "cell_type": "markdown",
   "metadata": {},
   "source": [
    "1. Crie um array com 4 linhas e 3 colunas com valores aleatórios"
   ]
  },
  {
   "cell_type": "code",
   "execution_count": 8,
   "metadata": {},
   "outputs": [
    {
     "data": {
      "text/plain": [
       "array([[0.87105551, 0.75159158, 0.63248337],\n",
       "       [0.93183935, 0.64689046, 0.74979893],\n",
       "       [0.7944108 , 0.13240564, 0.78595559],\n",
       "       [0.39841221, 0.33567795, 0.55470676]])"
      ]
     },
     "execution_count": 8,
     "metadata": {},
     "output_type": "execute_result"
    }
   ],
   "source": [
    "arrayRandom = np.random.random((4,3))\n",
    "arrayRandom"
   ]
  },
  {
   "cell_type": "markdown",
   "metadata": {},
   "source": [
    "2. Crie um array com 5 colunas e 10 linhas inicializados com zeros"
   ]
  },
  {
   "cell_type": "code",
   "execution_count": 9,
   "metadata": {},
   "outputs": [
    {
     "data": {
      "text/plain": [
       "array([[0., 0., 0., 0., 0.],\n",
       "       [0., 0., 0., 0., 0.],\n",
       "       [0., 0., 0., 0., 0.],\n",
       "       [0., 0., 0., 0., 0.],\n",
       "       [0., 0., 0., 0., 0.],\n",
       "       [0., 0., 0., 0., 0.],\n",
       "       [0., 0., 0., 0., 0.],\n",
       "       [0., 0., 0., 0., 0.],\n",
       "       [0., 0., 0., 0., 0.],\n",
       "       [0., 0., 0., 0., 0.]])"
      ]
     },
     "execution_count": 9,
     "metadata": {},
     "output_type": "execute_result"
    }
   ],
   "source": [
    "arrayZero = np.zeros((10,5))\n",
    "arrayZero"
   ]
  },
  {
   "cell_type": "markdown",
   "metadata": {},
   "source": [
    "3. Crie um array com valoes inteiros com 3 linhas e 5 colunas com valores aleatórios"
   ]
  },
  {
   "cell_type": "code",
   "execution_count": 10,
   "metadata": {},
   "outputs": [
    {
     "data": {
      "text/plain": [
       "array([[13, 24, 27, 28, 28],\n",
       "       [22, 11, 16, 11, 20],\n",
       "       [10, 17, 19, 12, 16]])"
      ]
     },
     "execution_count": 10,
     "metadata": {},
     "output_type": "execute_result"
    }
   ],
   "source": [
    "arrayRandomInteiro = np.random.randint(10, 30, size=(3,5)) #valores aleatórios a partir do 10 até 29\n",
    "arrayRandomInteiro"
   ]
  },
  {
   "cell_type": "code",
   "execution_count": 11,
   "metadata": {},
   "outputs": [
    {
     "data": {
      "text/plain": [
       "array([[[1, 2],\n",
       "        [3, 4]],\n",
       "\n",
       "       [[5, 6],\n",
       "        [7, 8]],\n",
       "\n",
       "       [[9, 2],\n",
       "        [3, 4]]])"
      ]
     },
     "execution_count": 11,
     "metadata": {},
     "output_type": "execute_result"
    }
   ],
   "source": [
    "#Array 3D\n",
    "\n",
    "arr1_2d = np.array([[1,2],[3,4]])\n",
    "arr2_2d = np.array([[5,6],[7,8]])\n",
    "arr3_2d = np.array([[9,2],[3,4]])\n",
    "\n",
    "arr_3d = np.array([arr1_2d, arr2_2d, arr3_2d])\n",
    "arr_3d"
   ]
  },
  {
   "cell_type": "code",
   "execution_count": 12,
   "metadata": {},
   "outputs": [
    {
     "name": "stdout",
     "output_type": "stream",
     "text": [
      "[[0. 0. 0. 0.]\n",
      " [0. 0. 0. 0.]]\n"
     ]
    },
    {
     "data": {
      "text/plain": [
       "(2, 4)"
      ]
     },
     "execution_count": 12,
     "metadata": {},
     "output_type": "execute_result"
    }
   ],
   "source": [
    "#Shape -> quantas dimensões\n",
    "arrShape = np.zeros((2,4))\n",
    "print (arrShape)\n",
    "\n",
    "arrShape.shape"
   ]
  },
  {
   "cell_type": "code",
   "execution_count": 13,
   "metadata": {},
   "outputs": [
    {
     "name": "stdout",
     "output_type": "stream",
     "text": [
      "[[1 2 3 3]\n",
      " [4 5 6 6]\n",
      " [7 8 9 9]]\n"
     ]
    },
    {
     "data": {
      "text/plain": [
       "array([1, 2, 3, 3, 4, 5, 6, 6, 7, 8, 9, 9])"
      ]
     },
     "execution_count": 13,
     "metadata": {},
     "output_type": "execute_result"
    }
   ],
   "source": [
    "#Flatten -> achatando a matriz\n",
    "arrFlatten = np.array ([[1,2,3,3], [4,5,6,6], [7,8,9,9]])\n",
    "print (arrFlatten)\n",
    "\n",
    "arrFlatten.flatten()"
   ]
  },
  {
   "cell_type": "code",
   "execution_count": 14,
   "metadata": {},
   "outputs": [
    {
     "name": "stdout",
     "output_type": "stream",
     "text": [
      "array padrão\n",
      "[[ 3  4  2]\n",
      " [ 8 11  5]]\n",
      "sempre deve ser compativel com a quantidade de elementos, o exemplo acima é 2x3, ou seja, 6 elementos, por isso:\n",
      "array 3x2\n",
      "[[ 3  4]\n",
      " [ 2  8]\n",
      " [11  5]]\n",
      "array 6x1\n",
      "[[ 3]\n",
      " [ 4]\n",
      " [ 2]\n",
      " [ 8]\n",
      " [11]\n",
      " [ 5]]\n"
     ]
    }
   ],
   "source": [
    "#Reshape -> mudando as dimensões\n",
    "arrReshape = np.array([[3,4,2], [8,11,5]])\n",
    "print ('array padrão')\n",
    "print (arrReshape)\n",
    "\n",
    "#O reshape sempre deve ser compativel com a quantidade de elementos, por exemplo:\n",
    "print ('sempre deve ser compativel com a quantidade de elementos, o exemplo acima é 2x3, ou seja, 6 elementos, por isso:')\n",
    "print ('array 3x2')\n",
    "print(arrReshape.reshape((3,2)))\n",
    "print ('array 6x1')\n",
    "print(arrReshape.reshape((6,1)))"
   ]
  },
  {
   "cell_type": "markdown",
   "metadata": {},
   "source": [
    "4. Reduza o array (5,7) a apenas uma dimensão"
   ]
  },
  {
   "cell_type": "code",
   "execution_count": 21,
   "metadata": {},
   "outputs": [
    {
     "name": "stdout",
     "output_type": "stream",
     "text": [
      "[[0. 0. 0. 0. 0. 0. 0.]\n",
      " [0. 0. 0. 0. 0. 0. 0.]\n",
      " [0. 0. 0. 0. 0. 0. 0.]\n",
      " [0. 0. 0. 0. 0. 0. 0.]\n",
      " [0. 0. 0. 0. 0. 0. 0.]]\n",
      "transformando para uma dimensão: \n",
      "[[0. 0. 0. 0. 0. 0. 0.]\n",
      " [0. 0. 0. 0. 0. 0. 0.]\n",
      " [0. 0. 0. 0. 0. 0. 0.]\n",
      " [0. 0. 0. 0. 0. 0. 0.]\n",
      " [0. 0. 0. 0. 0. 0. 0.]]\n"
     ]
    }
   ],
   "source": [
    "array4 = np.zeros((5,7))\n",
    "print (array4)\n",
    "\n",
    "print ('transformando para uma dimensão: ')\n",
    "array4.flatten\n",
    "print(array4)"
   ]
  },
  {
   "cell_type": "code",
   "execution_count": 17,
   "metadata": {},
   "outputs": [
    {
     "data": {
      "text/plain": [
       "array([[0., 0., 0., 0., 0., 0., 0.],\n",
       "       [0., 0., 0., 0., 0., 0., 0.],\n",
       "       [0., 0., 0., 0., 0., 0., 0.],\n",
       "       [0., 0., 0., 0., 0., 0., 0.],\n",
       "       [0., 0., 0., 0., 0., 0., 0.]])"
      ]
     },
     "execution_count": 17,
     "metadata": {},
     "output_type": "execute_result"
    }
   ],
   "source": []
  }
 ],
 "metadata": {
  "kernelspec": {
   "display_name": "Python 3",
   "language": "python",
   "name": "python3"
  },
  "language_info": {
   "codemirror_mode": {
    "name": "ipython",
    "version": 3
   },
   "file_extension": ".py",
   "mimetype": "text/x-python",
   "name": "python",
   "nbconvert_exporter": "python",
   "pygments_lexer": "ipython3",
   "version": "3.12.1"
  }
 },
 "nbformat": 4,
 "nbformat_minor": 2
}
