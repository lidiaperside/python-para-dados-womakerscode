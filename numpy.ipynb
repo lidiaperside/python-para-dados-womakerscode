{
 "cells": [
  {
   "cell_type": "code",
   "execution_count": 79,
   "metadata": {},
   "outputs": [],
   "source": [
    "import numpy as np"
   ]
  },
  {
   "cell_type": "code",
   "execution_count": 80,
   "metadata": {},
   "outputs": [],
   "source": [
    "l = [1, 2, 3, 4]"
   ]
  },
  {
   "cell_type": "code",
   "execution_count": 81,
   "metadata": {},
   "outputs": [
    {
     "data": {
      "text/plain": [
       "array([1, 2, 3, 4])"
      ]
     },
     "execution_count": 81,
     "metadata": {},
     "output_type": "execute_result"
    }
   ],
   "source": [
    "arr1 = np.array(l)\n",
    "arr1"
   ]
  },
  {
   "cell_type": "code",
   "execution_count": 82,
   "metadata": {},
   "outputs": [
    {
     "data": {
      "text/plain": [
       "array([[0., 0.],\n",
       "       [0., 0.]])"
      ]
     },
     "execution_count": 82,
     "metadata": {},
     "output_type": "execute_result"
    }
   ],
   "source": [
    "#Criando um numpy array do zero\n",
    "a = np.zeros((2,2)) #recebe uma tupla 2x2\n",
    "a"
   ]
  },
  {
   "cell_type": "code",
   "execution_count": 83,
   "metadata": {},
   "outputs": [
    {
     "data": {
      "text/plain": [
       "array([0, 1, 2])"
      ]
     },
     "execution_count": 83,
     "metadata": {},
     "output_type": "execute_result"
    }
   ],
   "source": [
    "b = np.arange(0,3) #sinaliza onde inicializa e onde termina -1\n",
    "b"
   ]
  },
  {
   "cell_type": "code",
   "execution_count": 84,
   "metadata": {},
   "outputs": [
    {
     "data": {
      "text/plain": [
       "array([[0.19133626, 0.56734235, 0.60301979],\n",
       "       [0.2443048 , 0.44402598, 0.8503288 ],\n",
       "       [0.93280179, 0.95379099, 0.02900875]])"
      ]
     },
     "execution_count": 84,
     "metadata": {},
     "output_type": "execute_result"
    }
   ],
   "source": [
    "c = np.random.random((3,3)) #recebe uma tupla randonica\n",
    "c"
   ]
  },
  {
   "cell_type": "markdown",
   "metadata": {},
   "source": [
    "1. Crie um array com 4 linhas e 3 colunas com valores aleatórios"
   ]
  },
  {
   "cell_type": "code",
   "execution_count": 85,
   "metadata": {},
   "outputs": [
    {
     "data": {
      "text/plain": [
       "array([[0.99489644, 0.0980621 , 0.47356488],\n",
       "       [0.53426559, 0.39686211, 0.13964527],\n",
       "       [0.96760953, 0.87150375, 0.75903823],\n",
       "       [0.10162842, 0.74543307, 0.28153107]])"
      ]
     },
     "execution_count": 85,
     "metadata": {},
     "output_type": "execute_result"
    }
   ],
   "source": [
    "arrayRandom = np.random.random((4,3))\n",
    "arrayRandom"
   ]
  },
  {
   "cell_type": "markdown",
   "metadata": {},
   "source": [
    "2. Crie um array com 5 colunas e 10 linhas inicializados com zeros"
   ]
  },
  {
   "cell_type": "code",
   "execution_count": 86,
   "metadata": {},
   "outputs": [
    {
     "data": {
      "text/plain": [
       "array([[0., 0., 0., 0., 0.],\n",
       "       [0., 0., 0., 0., 0.],\n",
       "       [0., 0., 0., 0., 0.],\n",
       "       [0., 0., 0., 0., 0.],\n",
       "       [0., 0., 0., 0., 0.],\n",
       "       [0., 0., 0., 0., 0.],\n",
       "       [0., 0., 0., 0., 0.],\n",
       "       [0., 0., 0., 0., 0.],\n",
       "       [0., 0., 0., 0., 0.],\n",
       "       [0., 0., 0., 0., 0.]])"
      ]
     },
     "execution_count": 86,
     "metadata": {},
     "output_type": "execute_result"
    }
   ],
   "source": [
    "arrayZero = np.zeros((10,5))\n",
    "arrayZero"
   ]
  },
  {
   "cell_type": "markdown",
   "metadata": {},
   "source": [
    "3. Crie um array com valoes inteiros com 3 linhas e 5 colunas com valores aleatórios"
   ]
  },
  {
   "cell_type": "code",
   "execution_count": 87,
   "metadata": {},
   "outputs": [
    {
     "data": {
      "text/plain": [
       "array([[14, 20, 27, 17, 29],\n",
       "       [18, 21, 16, 26, 10],\n",
       "       [10, 26, 27, 29, 19]])"
      ]
     },
     "execution_count": 87,
     "metadata": {},
     "output_type": "execute_result"
    }
   ],
   "source": [
    "arrayRandomInteiro = np.random.randint(10, 30, size=(3,5)) #valores aleatórios a partir do 10 até 29\n",
    "arrayRandomInteiro"
   ]
  },
  {
   "cell_type": "code",
   "execution_count": 88,
   "metadata": {},
   "outputs": [
    {
     "data": {
      "text/plain": [
       "array([[[1, 2],\n",
       "        [3, 4]],\n",
       "\n",
       "       [[5, 6],\n",
       "        [7, 8]],\n",
       "\n",
       "       [[9, 2],\n",
       "        [3, 4]]])"
      ]
     },
     "execution_count": 88,
     "metadata": {},
     "output_type": "execute_result"
    }
   ],
   "source": [
    "#Array 3D\n",
    "\n",
    "arr1_2d = np.array([[1,2],[3,4]])\n",
    "arr2_2d = np.array([[5,6],[7,8]])\n",
    "arr3_2d = np.array([[9,2],[3,4]])\n",
    "\n",
    "arr_3d = np.array([arr1_2d, arr2_2d, arr3_2d])\n",
    "arr_3d"
   ]
  },
  {
   "cell_type": "code",
   "execution_count": 89,
   "metadata": {},
   "outputs": [
    {
     "name": "stdout",
     "output_type": "stream",
     "text": [
      "[[0. 0. 0. 0.]\n",
      " [0. 0. 0. 0.]]\n"
     ]
    },
    {
     "data": {
      "text/plain": [
       "(2, 4)"
      ]
     },
     "execution_count": 89,
     "metadata": {},
     "output_type": "execute_result"
    }
   ],
   "source": [
    "#Shape -> quantas dimensões\n",
    "arrShape = np.zeros((2,4))\n",
    "print (arrShape)\n",
    "\n",
    "arrShape.shape"
   ]
  },
  {
   "cell_type": "code",
   "execution_count": 90,
   "metadata": {},
   "outputs": [
    {
     "name": "stdout",
     "output_type": "stream",
     "text": [
      "[[1 2 3 3]\n",
      " [4 5 6 6]\n",
      " [7 8 9 9]]\n"
     ]
    },
    {
     "data": {
      "text/plain": [
       "array([1, 2, 3, 3, 4, 5, 6, 6, 7, 8, 9, 9])"
      ]
     },
     "execution_count": 90,
     "metadata": {},
     "output_type": "execute_result"
    }
   ],
   "source": [
    "#Flatten -> achatando a matriz\n",
    "arrFlatten = np.array ([[1,2,3,3], [4,5,6,6], [7,8,9,9]])\n",
    "print (arrFlatten)\n",
    "\n",
    "arrFlatten.flatten()"
   ]
  },
  {
   "cell_type": "code",
   "execution_count": 91,
   "metadata": {},
   "outputs": [
    {
     "name": "stdout",
     "output_type": "stream",
     "text": [
      "array padrão\n",
      "[[ 3  4  2]\n",
      " [ 8 11  5]]\n",
      "sempre deve ser compativel com a quantidade de elementos, o exemplo acima é 2x3, ou seja, 6 elementos, por isso:\n",
      "array 3x2\n",
      "[[ 3  4]\n",
      " [ 2  8]\n",
      " [11  5]]\n",
      "array 6x1\n",
      "[[ 3]\n",
      " [ 4]\n",
      " [ 2]\n",
      " [ 8]\n",
      " [11]\n",
      " [ 5]]\n"
     ]
    }
   ],
   "source": [
    "#Reshape -> mudando as dimensões\n",
    "arrReshape = np.array([[3,4,2], [8,11,5]])\n",
    "print ('array padrão')\n",
    "print (arrReshape)\n",
    "\n",
    "#O reshape sempre deve ser compativel com a quantidade de elementos, por exemplo:\n",
    "print ('sempre deve ser compativel com a quantidade de elementos, o exemplo acima é 2x3, ou seja, 6 elementos, por isso:')\n",
    "print ('array 3x2')\n",
    "print(arrReshape.reshape((3,2)))\n",
    "print ('array 6x1')\n",
    "print(arrReshape.reshape((6,1)))"
   ]
  },
  {
   "cell_type": "markdown",
   "metadata": {},
   "source": [
    "4. Reduza o array (5,7) a apenas uma dimensão"
   ]
  },
  {
   "cell_type": "code",
   "execution_count": 92,
   "metadata": {},
   "outputs": [
    {
     "name": "stdout",
     "output_type": "stream",
     "text": [
      "[[0. 0. 0. 0. 0. 0. 0.]\n",
      " [0. 0. 0. 0. 0. 0. 0.]\n",
      " [0. 0. 0. 0. 0. 0. 0.]\n",
      " [0. 0. 0. 0. 0. 0. 0.]\n",
      " [0. 0. 0. 0. 0. 0. 0.]]\n",
      "transformando para uma dimensão: \n",
      "[0. 0. 0. 0. 0. 0. 0. 0. 0. 0. 0. 0. 0. 0. 0. 0. 0. 0. 0. 0. 0. 0. 0. 0.\n",
      " 0. 0. 0. 0. 0. 0. 0. 0. 0. 0. 0.]\n"
     ]
    }
   ],
   "source": [
    "array4 = np.zeros((5,7))\n",
    "print (array4)\n",
    "\n",
    "print ('transformando para uma dimensão: ')\n",
    "array4 = array4.flatten()\n",
    "print(array4)"
   ]
  },
  {
   "cell_type": "markdown",
   "metadata": {},
   "source": [
    "5. Considerando que você é uma organizadora de um jogo de bingo, crie um array que irá representar a cartilha desses jogos de bingo. Os números de suas cartelas variam entre 1 a 30, e você terá 10 participantes. Cada cartela terá 12 números (4,3).\n",
    "\n",
    "Crie um array que represente esse jogo:"
   ]
  },
  {
   "cell_type": "code",
   "execution_count": 93,
   "metadata": {},
   "outputs": [
    {
     "name": "stdout",
     "output_type": "stream",
     "text": [
      "[[[18  3 10]\n",
      "  [12  1 27]\n",
      "  [14 12 25]\n",
      "  [21 19 24]]\n",
      "\n",
      " [[21 19  3]\n",
      "  [11 26  4]\n",
      "  [ 3 28 14]\n",
      "  [16 14 21]]\n",
      "\n",
      " [[16 25  3]\n",
      "  [22 20 27]\n",
      "  [21 20 28]\n",
      "  [11  3 23]]\n",
      "\n",
      " [[ 8 11 14]\n",
      "  [23 25 21]\n",
      "  [21 12 30]\n",
      "  [ 8 22  2]]\n",
      "\n",
      " [[ 4 26 30]\n",
      "  [ 4  9 23]\n",
      "  [ 3 30 16]\n",
      "  [25 23  6]]\n",
      "\n",
      " [[ 8  9 28]\n",
      "  [24 15 25]\n",
      "  [28 28 24]\n",
      "  [ 1  1 16]]\n",
      "\n",
      " [[21  6 26]\n",
      "  [18  3 12]\n",
      "  [18 12 28]\n",
      "  [ 7  1 11]]\n",
      "\n",
      " [[ 2  6 29]\n",
      "  [16 19 10]\n",
      "  [14  7 11]\n",
      "  [10  3 11]]\n",
      "\n",
      " [[29  8  9]\n",
      "  [24 29 11]\n",
      "  [27  7 14]\n",
      "  [11 17  5]]\n",
      "\n",
      " [[ 6  1 14]\n",
      "  [ 4 16  4]\n",
      "  [ 7 30  3]\n",
      "  [12 21 23]]]\n"
     ]
    }
   ],
   "source": [
    "bingo = np.random.randint(1,31, size=(10,4,3))\n",
    "print(bingo)"
   ]
  },
  {
   "cell_type": "markdown",
   "metadata": {},
   "source": [
    "6. Faça o reshape das suas cartelas para que haja 5 cartelas de 4 linhas e 6 colunas"
   ]
  },
  {
   "cell_type": "code",
   "execution_count": 94,
   "metadata": {},
   "outputs": [
    {
     "data": {
      "text/plain": [
       "array([[[18,  3, 10, 12,  1, 27],\n",
       "        [14, 12, 25, 21, 19, 24],\n",
       "        [21, 19,  3, 11, 26,  4],\n",
       "        [ 3, 28, 14, 16, 14, 21]],\n",
       "\n",
       "       [[16, 25,  3, 22, 20, 27],\n",
       "        [21, 20, 28, 11,  3, 23],\n",
       "        [ 8, 11, 14, 23, 25, 21],\n",
       "        [21, 12, 30,  8, 22,  2]],\n",
       "\n",
       "       [[ 4, 26, 30,  4,  9, 23],\n",
       "        [ 3, 30, 16, 25, 23,  6],\n",
       "        [ 8,  9, 28, 24, 15, 25],\n",
       "        [28, 28, 24,  1,  1, 16]],\n",
       "\n",
       "       [[21,  6, 26, 18,  3, 12],\n",
       "        [18, 12, 28,  7,  1, 11],\n",
       "        [ 2,  6, 29, 16, 19, 10],\n",
       "        [14,  7, 11, 10,  3, 11]],\n",
       "\n",
       "       [[29,  8,  9, 24, 29, 11],\n",
       "        [27,  7, 14, 11, 17,  5],\n",
       "        [ 6,  1, 14,  4, 16,  4],\n",
       "        [ 7, 30,  3, 12, 21, 23]]])"
      ]
     },
     "execution_count": 94,
     "metadata": {},
     "output_type": "execute_result"
    }
   ],
   "source": [
    "bingo.reshape((5,4,6))"
   ]
  },
  {
   "cell_type": "markdown",
   "metadata": {},
   "source": [
    "Tipos de dados em NumPy vs python"
   ]
  },
  {
   "cell_type": "code",
   "execution_count": 95,
   "metadata": {},
   "outputs": [
    {
     "name": "stdout",
     "output_type": "stream",
     "text": [
      "conversão e coereção\n",
      "dtype como argumento:\n",
      "[  2.14   6.25 160.87]\n",
      "conversão\n",
      "[[1 0]\n",
      " [1 0]]\n",
      "coerção\n"
     ]
    },
    {
     "data": {
      "text/plain": [
       "array(['pedra', 'False', '42', '42.42'], dtype='<U32')"
      ]
     },
     "execution_count": 95,
     "metadata": {},
     "output_type": "execute_result"
    }
   ],
   "source": [
    "#dtype e tipo default\n",
    "\n",
    "print ('conversão e coereção')\n",
    "print ('dtype como argumento:')\n",
    "arr_float32 = np.array([2.14, 6.25, 160.87], dtype = np.float32)\n",
    "print(arr_float32)\n",
    "\n",
    "print ('conversão')\n",
    "arr_vf = np.array([[True, False], [True, False]], dtype = np.bool_)\n",
    "print(arr_vf.astype(np.int32))\n",
    "\n",
    "print ('coerção')\n",
    "np.array(['pedra', False, 42, 42.42])"
   ]
  },
  {
   "cell_type": "code",
   "execution_count": 96,
   "metadata": {},
   "outputs": [
    {
     "name": "stdout",
     "output_type": "stream",
     "text": [
      "Hierarquia de coerção\n",
      "adicionar um float a um array de int mudará todo os valores para float\n",
      "<module 'numpy' from 'c:\\\\Users\\\\lpgn\\\\AppData\\\\Local\\\\Programs\\\\Python\\\\Python312\\\\Lib\\\\site-packages\\\\numpy\\\\__init__.py'>\n",
      "<module 'numpy' from 'c:\\\\Users\\\\lpgn\\\\AppData\\\\Local\\\\Programs\\\\Python\\\\Python312\\\\Lib\\\\site-packages\\\\numpy\\\\__init__.py'>\n",
      "adicionar um inteiro em um array de booleanos transformará todo o array em inteiros\n",
      "<module 'numpy' from 'c:\\\\Users\\\\lpgn\\\\AppData\\\\Local\\\\Programs\\\\Python\\\\Python312\\\\Lib\\\\site-packages\\\\numpy\\\\__init__.py'>\n",
      "<module 'numpy' from 'c:\\\\Users\\\\lpgn\\\\AppData\\\\Local\\\\Programs\\\\Python\\\\Python312\\\\Lib\\\\site-packages\\\\numpy\\\\__init__.py'>\n"
     ]
    }
   ],
   "source": [
    "print ('Hierarquia de coerção')\n",
    "\n",
    "print ('adicionar um float a um array de int mudará todo os valores para float')\n",
    "np.array([0,10]).dtype\n",
    "print(np)\n",
    "\n",
    "np.array([0,10,1.]).dtype\n",
    "print(np)\n",
    "\n",
    "print ('adicionar um inteiro em um array de booleanos transformará todo o array em inteiros')\n",
    "np.array([True, False]).dtype\n",
    "print(np)\n",
    "\n",
    "np.array([True, False, 12]).dtype\n",
    "print (np)"
   ]
  },
  {
   "cell_type": "code",
   "execution_count": 97,
   "metadata": {},
   "outputs": [
    {
     "data": {
      "text/plain": [
       "dtype('float64')"
      ]
     },
     "execution_count": 97,
     "metadata": {},
     "output_type": "execute_result"
    }
   ],
   "source": [
    "np.array([5.4,6.7,2.1]).dtype"
   ]
  },
  {
   "cell_type": "code",
   "execution_count": 98,
   "metadata": {},
   "outputs": [
    {
     "data": {
      "text/plain": [
       "dtype('int32')"
      ]
     },
     "execution_count": 98,
     "metadata": {},
     "output_type": "execute_result"
    }
   ],
   "source": [
    "np.array([5,6,2]).dtype"
   ]
  },
  {
   "cell_type": "code",
   "execution_count": 99,
   "metadata": {},
   "outputs": [
    {
     "data": {
      "text/plain": [
       "dtype('<U12')"
      ]
     },
     "execution_count": 99,
     "metadata": {},
     "output_type": "execute_result"
    }
   ],
   "source": [
    "np.array(['hello', 'oi', 'womakerscode']).dtype"
   ]
  },
  {
   "cell_type": "code",
   "execution_count": 100,
   "metadata": {},
   "outputs": [
    {
     "data": {
      "text/plain": [
       "dtype('float64')"
      ]
     },
     "execution_count": 100,
     "metadata": {},
     "output_type": "execute_result"
    }
   ],
   "source": [
    "np.array([3,4,2.1]).dtype"
   ]
  },
  {
   "cell_type": "code",
   "execution_count": 101,
   "metadata": {},
   "outputs": [
    {
     "data": {
      "text/plain": [
       "dtype('int32')"
      ]
     },
     "execution_count": 101,
     "metadata": {},
     "output_type": "execute_result"
    }
   ],
   "source": [
    "np.array([True, 3, False]).dtype"
   ]
  },
  {
   "cell_type": "markdown",
   "metadata": {},
   "source": [
    "Index em um array de 1 dimensão"
   ]
  },
  {
   "cell_type": "code",
   "execution_count": 102,
   "metadata": {},
   "outputs": [
    {
     "name": "stdout",
     "output_type": "stream",
     "text": [
      "a indexação é a ordem dos dados e sempre começa com 0\n"
     ]
    },
    {
     "data": {
      "text/plain": [
       "6"
      ]
     },
     "execution_count": 102,
     "metadata": {},
     "output_type": "execute_result"
    }
   ],
   "source": [
    "print(\"a indexação é a ordem dos dados e sempre começa com 0\")\n",
    "arr = np.array ([2,4,6,8])\n",
    "arr[2]"
   ]
  },
  {
   "cell_type": "code",
   "execution_count": 103,
   "metadata": {},
   "outputs": [
    {
     "name": "stdout",
     "output_type": "stream",
     "text": [
      "para fatiar (slicing) um array de 2 dimensões, deve ser realizado no estilo arr[0:2], onde 0 é o index inicial 2 o index final\n"
     ]
    },
    {
     "data": {
      "text/plain": [
       "array([2, 4])"
      ]
     },
     "execution_count": 103,
     "metadata": {},
     "output_type": "execute_result"
    }
   ],
   "source": [
    "print ('para fatiar (slicing) um array de 2 dimensões, deve ser realizado no estilo arr[0:2], onde 0 é o index inicial 2 o index final')\n",
    "arr[0:2]"
   ]
  },
  {
   "cell_type": "markdown",
   "metadata": {},
   "source": [
    "Index em um array de 2 dimensões"
   ]
  },
  {
   "cell_type": "code",
   "execution_count": 104,
   "metadata": {},
   "outputs": [
    {
     "name": "stdout",
     "output_type": "stream",
     "text": [
      "a indexação em um array de 2 dimensões envolve linha x coluna\n"
     ]
    },
    {
     "data": {
      "text/plain": [
       "array([[16, 10,  3, 15],\n",
       "       [14, 23, 17, 27],\n",
       "       [ 6, 19,  3,  1],\n",
       "       [10,  4, 18, 19]])"
      ]
     },
     "execution_count": 104,
     "metadata": {},
     "output_type": "execute_result"
    }
   ],
   "source": [
    "print (\"a indexação em um array de 2 dimensões envolve linha x coluna\")\n",
    "arr = np.array([[16,10,3,15], [14,23,17,27], [6,19,3,1], [10,4,18,19]])\n",
    "arr"
   ]
  },
  {
   "cell_type": "code",
   "execution_count": 105,
   "metadata": {},
   "outputs": [
    {
     "name": "stdout",
     "output_type": "stream",
     "text": [
      "indexação de apenas um elemento será no estilo arr[1,3]\n"
     ]
    },
    {
     "data": {
      "text/plain": [
       "27"
      ]
     },
     "execution_count": 105,
     "metadata": {},
     "output_type": "execute_result"
    }
   ],
   "source": [
    "print(\"indexação de apenas um elemento será no estilo arr[1,3]\")\n",
    "arr[1,3]"
   ]
  },
  {
   "cell_type": "code",
   "execution_count": 106,
   "metadata": {},
   "outputs": [
    {
     "name": "stdout",
     "output_type": "stream",
     "text": [
      "a indexação de uma linha inteira será no estilo arr[0]\n"
     ]
    },
    {
     "data": {
      "text/plain": [
       "array([16, 10,  3, 15])"
      ]
     },
     "execution_count": 106,
     "metadata": {},
     "output_type": "execute_result"
    }
   ],
   "source": [
    "print (\"a indexação de uma linha inteira será no estilo arr[0]\")\n",
    "arr[0]"
   ]
  },
  {
   "cell_type": "code",
   "execution_count": 107,
   "metadata": {},
   "outputs": [
    {
     "name": "stdout",
     "output_type": "stream",
     "text": [
      "a indexação de uma coluna inteira será no estilo arr[:,1]\n"
     ]
    },
    {
     "data": {
      "text/plain": [
       "array([10, 23, 19,  4])"
      ]
     },
     "execution_count": 107,
     "metadata": {},
     "output_type": "execute_result"
    }
   ],
   "source": [
    "print('a indexação de uma coluna inteira será no estilo arr[:,1]')\n",
    "arr[:,1]"
   ]
  },
  {
   "cell_type": "code",
   "execution_count": 108,
   "metadata": {},
   "outputs": [
    {
     "name": "stdout",
     "output_type": "stream",
     "text": [
      "para fatiar (slicing) um array de 2 dimensões, deve ser realizado no estilo arr[1:3,0:2], onde 1 e 0 é o index inicial e 3 e 2 o index final\n"
     ]
    },
    {
     "data": {
      "text/plain": [
       "array([[14, 23],\n",
       "       [ 6, 19]])"
      ]
     },
     "execution_count": 108,
     "metadata": {},
     "output_type": "execute_result"
    }
   ],
   "source": [
    "print ('para fatiar (slicing) um array de 2 dimensões, deve ser realizado no estilo arr[1:3,0:2], onde 1 e 0 é o index inicial e 3 e 2 o index final')\n",
    "arr[1:3,0:2]"
   ]
  },
  {
   "cell_type": "code",
   "execution_count": 109,
   "metadata": {},
   "outputs": [
    {
     "name": "stdout",
     "output_type": "stream",
     "text": [
      "ordenar (sorting) um array trabalha com a ordenação dos elemntos, de forma que cada linha fique com elementos crescentes\n"
     ]
    },
    {
     "data": {
      "text/plain": [
       "array([[ 3, 10, 15, 16],\n",
       "       [14, 17, 23, 27],\n",
       "       [ 1,  3,  6, 19],\n",
       "       [ 4, 10, 18, 19]])"
      ]
     },
     "execution_count": 109,
     "metadata": {},
     "output_type": "execute_result"
    }
   ],
   "source": [
    "print ('ordenar (sorting) um array trabalha com a ordenação dos elemntos, de forma que cada linha fique com elementos crescentes')\n",
    "np.sort(arr)"
   ]
  },
  {
   "cell_type": "code",
   "execution_count": 110,
   "metadata": {},
   "outputs": [
    {
     "name": "stdout",
     "output_type": "stream",
     "text": [
      "o eixo 0 sempre será a linha horizontal e o eixo 1 sempre será a linha vertical, desta forma pode ser utilizado o eixo para ordenação\n",
      "para ordenar com o eixo 0, o eixo horizontal:\n"
     ]
    },
    {
     "data": {
      "text/plain": [
       "array([[ 6,  4,  3,  1],\n",
       "       [10, 10,  3, 15],\n",
       "       [14, 19, 17, 19],\n",
       "       [16, 23, 18, 27]])"
      ]
     },
     "execution_count": 110,
     "metadata": {},
     "output_type": "execute_result"
    }
   ],
   "source": [
    "print ('o eixo 0 sempre será a linha horizontal e o eixo 1 sempre será a linha vertical, desta forma pode ser utilizado o eixo para ordenação')\n",
    "print ('para ordenar com o eixo 0, o eixo horizontal:')\n",
    "np.sort(arr, axis=0)"
   ]
  },
  {
   "cell_type": "code",
   "execution_count": 111,
   "metadata": {},
   "outputs": [
    {
     "name": "stdout",
     "output_type": "stream",
     "text": [
      "a forma default sempre vai contar com o eixo 1, mas tbm pode ser ordenado da seguinte forma:\n"
     ]
    },
    {
     "data": {
      "text/plain": [
       "array([[ 3, 10, 15, 16],\n",
       "       [14, 17, 23, 27],\n",
       "       [ 1,  3,  6, 19],\n",
       "       [ 4, 10, 18, 19]])"
      ]
     },
     "execution_count": 111,
     "metadata": {},
     "output_type": "execute_result"
    }
   ],
   "source": [
    "print ('a forma default sempre vai contar com o eixo 1, mas tbm pode ser ordenado da seguinte forma:')\n",
    "np.sort(arr, axis=1)"
   ]
  },
  {
   "cell_type": "markdown",
   "metadata": {},
   "source": [
    "7. Explorando ecossistema:\n",
    "Como bióloga marinha, me encontrei em uma expedição nas profundezas do Oceano Pacífico, onde estávamos estudando a biodiversidade e a saúde dos recifes de coral. O catálogo abaixo demonstra dados das espécies encontradas. Considere a seguinte ordem de colunas:\n",
    "\n",
    "*ID da espécie, quantidade de representantes encontrados, profundeza, tamanho médio da espécie*\n",
    "\n",
    "- Selecione a segunda coluna com a quantidade de espécies encontradas e adicione em um array como 'qnt_especies'\n",
    "- De qnt_especies selecione apenas as primeiras 3 quantidades e print\n",
    "- Print as 5 últimas quantidades de espécies\n",
    "- Crie um array que contenha apenas os tamanhos das espécies e ordene por ordem crescente"
   ]
  },
  {
   "cell_type": "code",
   "execution_count": 112,
   "metadata": {},
   "outputs": [
    {
     "data": {
      "text/plain": [
       "array([[747,  89,  33,   5],\n",
       "       [623, 123,  32,  13],\n",
       "       [501,  22,  49,   2],\n",
       "       [116, 101,  49,   2],\n",
       "       [297,  56,  69,  22],\n",
       "       [613,  64,  27,   7],\n",
       "       [295,  84,  29,  14],\n",
       "       [692, 105,  72,  16],\n",
       "       [229, 103,  35,   5],\n",
       "       [374, 124,  70,   1]])"
      ]
     },
     "execution_count": 112,
     "metadata": {},
     "output_type": "execute_result"
    }
   ],
   "source": [
    "especies = np.array([\n",
    "                    [747,  89, 33,  5],\n",
    "                    [623, 123, 32, 13],\n",
    "                    [501,  22, 49,  2],\n",
    "                    [116, 101, 49,  2],\n",
    "                    [297,  56, 69, 22],\n",
    "                    [613,  64, 27,  7],\n",
    "                    [295,  84, 29, 14],\n",
    "                    [692, 105, 72, 16],\n",
    "                    [229, 103, 35,  5],\n",
    "                    [374, 124, 70,  1]\n",
    "])\n",
    "especies"
   ]
  },
  {
   "cell_type": "code",
   "execution_count": 120,
   "metadata": {},
   "outputs": [
    {
     "name": "stdout",
     "output_type": "stream",
     "text": [
      "Selecione a segunda coluna com a quantidade de espécies encontradas e adicione em um array como 'qnt_especies'\n"
     ]
    },
    {
     "data": {
      "text/plain": [
       "array([ 89, 123,  22, 101,  56,  64,  84, 105, 103, 124])"
      ]
     },
     "execution_count": 120,
     "metadata": {},
     "output_type": "execute_result"
    }
   ],
   "source": [
    "print(\"Selecione a segunda coluna com a quantidade de espécies encontradas e adicione em um array como 'qnt_especies'\")\n",
    "qnt_especies = especies[:,1]\n",
    "qnt_especies\n"
   ]
  },
  {
   "cell_type": "code",
   "execution_count": 122,
   "metadata": {},
   "outputs": [
    {
     "name": "stdout",
     "output_type": "stream",
     "text": [
      "De qnt_especies selecione apenas as primeiras 3 quantidades e print\n"
     ]
    },
    {
     "data": {
      "text/plain": [
       "array([ 89, 123,  22])"
      ]
     },
     "execution_count": 122,
     "metadata": {},
     "output_type": "execute_result"
    }
   ],
   "source": [
    "print(\"De qnt_especies selecione apenas as primeiras 3 quantidades e print\")\n",
    "qnt_especies[0:3]"
   ]
  },
  {
   "cell_type": "code",
   "execution_count": 130,
   "metadata": {},
   "outputs": [
    {
     "name": "stdout",
     "output_type": "stream",
     "text": [
      "Print as 5 últimas quantidades de espécies\n"
     ]
    },
    {
     "data": {
      "text/plain": [
       "array([ 64,  84, 105, 103, 124])"
      ]
     },
     "execution_count": 130,
     "metadata": {},
     "output_type": "execute_result"
    }
   ],
   "source": [
    "print(\"Print as 5 últimas quantidades de espécies\")\n",
    "qnt_especies[-5:]"
   ]
  },
  {
   "cell_type": "code",
   "execution_count": 131,
   "metadata": {},
   "outputs": [
    {
     "name": "stdout",
     "output_type": "stream",
     "text": [
      "Crie um array que contenha apenas os tamanhos das espécies e ordene por ordem crescente\n"
     ]
    },
    {
     "data": {
      "text/plain": [
       "array([ 1,  2,  2,  5,  5,  7, 13, 14, 16, 22])"
      ]
     },
     "execution_count": 131,
     "metadata": {},
     "output_type": "execute_result"
    }
   ],
   "source": [
    "print (\"Crie um array que contenha apenas os tamanhos das espécies e ordene por ordem crescente\")\n",
    "np.sort(especies[:,3])"
   ]
  }
 ],
 "metadata": {
  "kernelspec": {
   "display_name": "Python 3",
   "language": "python",
   "name": "python3"
  },
  "language_info": {
   "codemirror_mode": {
    "name": "ipython",
    "version": 3
   },
   "file_extension": ".py",
   "mimetype": "text/x-python",
   "name": "python",
   "nbconvert_exporter": "python",
   "pygments_lexer": "ipython3",
   "version": "3.12.1"
  }
 },
 "nbformat": 4,
 "nbformat_minor": 2
}
