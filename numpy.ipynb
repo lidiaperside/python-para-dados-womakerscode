{
 "cells": [
  {
   "cell_type": "code",
   "execution_count": 87,
   "metadata": {},
   "outputs": [],
   "source": [
    "import numpy as np"
   ]
  },
  {
   "cell_type": "code",
   "execution_count": 88,
   "metadata": {},
   "outputs": [],
   "source": [
    "l = [1, 2, 3, 4]"
   ]
  },
  {
   "cell_type": "code",
   "execution_count": 89,
   "metadata": {},
   "outputs": [
    {
     "data": {
      "text/plain": [
       "array([1, 2, 3, 4])"
      ]
     },
     "execution_count": 89,
     "metadata": {},
     "output_type": "execute_result"
    }
   ],
   "source": [
    "arr1 = np.array(l)\n",
    "arr1"
   ]
  },
  {
   "cell_type": "code",
   "execution_count": 90,
   "metadata": {},
   "outputs": [
    {
     "data": {
      "text/plain": [
       "array([[0., 0.],\n",
       "       [0., 0.]])"
      ]
     },
     "execution_count": 90,
     "metadata": {},
     "output_type": "execute_result"
    }
   ],
   "source": [
    "#Criando um numpy array do zero\n",
    "a = np.zeros((2,2)) #recebe uma tupla 2x2\n",
    "a"
   ]
  },
  {
   "cell_type": "code",
   "execution_count": 91,
   "metadata": {},
   "outputs": [
    {
     "data": {
      "text/plain": [
       "array([0, 1, 2])"
      ]
     },
     "execution_count": 91,
     "metadata": {},
     "output_type": "execute_result"
    }
   ],
   "source": [
    "b = np.arange(0,3) #sinaliza onde inicializa e onde termina -1\n",
    "b"
   ]
  },
  {
   "cell_type": "code",
   "execution_count": 92,
   "metadata": {},
   "outputs": [
    {
     "data": {
      "text/plain": [
       "array([[0.14254498, 0.96351832, 0.32091799],\n",
       "       [0.38506403, 0.31434534, 0.11349405],\n",
       "       [0.23338039, 0.46905134, 0.23313137]])"
      ]
     },
     "execution_count": 92,
     "metadata": {},
     "output_type": "execute_result"
    }
   ],
   "source": [
    "c = np.random.random((3,3)) #recebe uma tupla randonica\n",
    "c"
   ]
  },
  {
   "cell_type": "markdown",
   "metadata": {},
   "source": [
    "1. Crie um array com 4 linhas e 3 colunas com valores aleatórios"
   ]
  },
  {
   "cell_type": "code",
   "execution_count": 93,
   "metadata": {},
   "outputs": [
    {
     "data": {
      "text/plain": [
       "array([[0.53834856, 0.9320267 , 0.43649359],\n",
       "       [0.07651419, 0.60737916, 0.74634548],\n",
       "       [0.56262356, 0.28336753, 0.25713961],\n",
       "       [0.94056832, 0.46793792, 0.93705612]])"
      ]
     },
     "execution_count": 93,
     "metadata": {},
     "output_type": "execute_result"
    }
   ],
   "source": [
    "arrayRandom = np.random.random((4,3))\n",
    "arrayRandom"
   ]
  },
  {
   "cell_type": "markdown",
   "metadata": {},
   "source": [
    "2. Crie um array com 5 colunas e 10 linhas inicializados com zeros"
   ]
  },
  {
   "cell_type": "code",
   "execution_count": 94,
   "metadata": {},
   "outputs": [
    {
     "data": {
      "text/plain": [
       "array([[0., 0., 0., 0., 0.],\n",
       "       [0., 0., 0., 0., 0.],\n",
       "       [0., 0., 0., 0., 0.],\n",
       "       [0., 0., 0., 0., 0.],\n",
       "       [0., 0., 0., 0., 0.],\n",
       "       [0., 0., 0., 0., 0.],\n",
       "       [0., 0., 0., 0., 0.],\n",
       "       [0., 0., 0., 0., 0.],\n",
       "       [0., 0., 0., 0., 0.],\n",
       "       [0., 0., 0., 0., 0.]])"
      ]
     },
     "execution_count": 94,
     "metadata": {},
     "output_type": "execute_result"
    }
   ],
   "source": [
    "arrayZero = np.zeros((10,5))\n",
    "arrayZero"
   ]
  },
  {
   "cell_type": "markdown",
   "metadata": {},
   "source": [
    "3. Crie um array com valoes inteiros com 3 linhas e 5 colunas com valores aleatórios"
   ]
  },
  {
   "cell_type": "code",
   "execution_count": 95,
   "metadata": {},
   "outputs": [
    {
     "data": {
      "text/plain": [
       "array([[17, 17, 28, 14, 26],\n",
       "       [24, 13, 22, 10, 11],\n",
       "       [24, 26, 14, 22, 21]])"
      ]
     },
     "execution_count": 95,
     "metadata": {},
     "output_type": "execute_result"
    }
   ],
   "source": [
    "arrayRandomInteiro = np.random.randint(10, 30, size=(3,5)) #valores aleatórios a partir do 10 até 29\n",
    "arrayRandomInteiro"
   ]
  },
  {
   "cell_type": "code",
   "execution_count": 96,
   "metadata": {},
   "outputs": [
    {
     "data": {
      "text/plain": [
       "array([[[1, 2],\n",
       "        [3, 4]],\n",
       "\n",
       "       [[5, 6],\n",
       "        [7, 8]],\n",
       "\n",
       "       [[9, 2],\n",
       "        [3, 4]]])"
      ]
     },
     "execution_count": 96,
     "metadata": {},
     "output_type": "execute_result"
    }
   ],
   "source": [
    "#Array 3D\n",
    "\n",
    "arr1_2d = np.array([[1,2],[3,4]])\n",
    "arr2_2d = np.array([[5,6],[7,8]])\n",
    "arr3_2d = np.array([[9,2],[3,4]])\n",
    "\n",
    "arr_3d = np.array([arr1_2d, arr2_2d, arr3_2d])\n",
    "arr_3d"
   ]
  },
  {
   "cell_type": "code",
   "execution_count": 97,
   "metadata": {},
   "outputs": [
    {
     "name": "stdout",
     "output_type": "stream",
     "text": [
      "[[0. 0. 0. 0.]\n",
      " [0. 0. 0. 0.]]\n"
     ]
    },
    {
     "data": {
      "text/plain": [
       "(2, 4)"
      ]
     },
     "execution_count": 97,
     "metadata": {},
     "output_type": "execute_result"
    }
   ],
   "source": [
    "#Shape -> quantas dimensões\n",
    "arrShape = np.zeros((2,4))\n",
    "print (arrShape)\n",
    "\n",
    "arrShape.shape"
   ]
  },
  {
   "cell_type": "code",
   "execution_count": 98,
   "metadata": {},
   "outputs": [
    {
     "name": "stdout",
     "output_type": "stream",
     "text": [
      "[[1 2 3 3]\n",
      " [4 5 6 6]\n",
      " [7 8 9 9]]\n"
     ]
    },
    {
     "data": {
      "text/plain": [
       "array([1, 2, 3, 3, 4, 5, 6, 6, 7, 8, 9, 9])"
      ]
     },
     "execution_count": 98,
     "metadata": {},
     "output_type": "execute_result"
    }
   ],
   "source": [
    "#Flatten -> achatando a matriz\n",
    "arrFlatten = np.array ([[1,2,3,3], [4,5,6,6], [7,8,9,9]])\n",
    "print (arrFlatten)\n",
    "\n",
    "arrFlatten.flatten()"
   ]
  },
  {
   "cell_type": "code",
   "execution_count": 99,
   "metadata": {},
   "outputs": [
    {
     "name": "stdout",
     "output_type": "stream",
     "text": [
      "array padrão\n",
      "[[ 3  4  2]\n",
      " [ 8 11  5]]\n",
      "sempre deve ser compativel com a quantidade de elementos, o exemplo acima é 2x3, ou seja, 6 elementos, por isso:\n",
      "array 3x2\n",
      "[[ 3  4]\n",
      " [ 2  8]\n",
      " [11  5]]\n",
      "array 6x1\n",
      "[[ 3]\n",
      " [ 4]\n",
      " [ 2]\n",
      " [ 8]\n",
      " [11]\n",
      " [ 5]]\n"
     ]
    }
   ],
   "source": [
    "#Reshape -> mudando as dimensões\n",
    "arrReshape = np.array([[3,4,2], [8,11,5]])\n",
    "print ('array padrão')\n",
    "print (arrReshape)\n",
    "\n",
    "#O reshape sempre deve ser compativel com a quantidade de elementos, por exemplo:\n",
    "print ('sempre deve ser compativel com a quantidade de elementos, o exemplo acima é 2x3, ou seja, 6 elementos, por isso:')\n",
    "print ('array 3x2')\n",
    "print(arrReshape.reshape((3,2)))\n",
    "print ('array 6x1')\n",
    "print(arrReshape.reshape((6,1)))"
   ]
  },
  {
   "cell_type": "markdown",
   "metadata": {},
   "source": [
    "4. Reduza o array (5,7) a apenas uma dimensão"
   ]
  },
  {
   "cell_type": "code",
   "execution_count": 100,
   "metadata": {},
   "outputs": [
    {
     "name": "stdout",
     "output_type": "stream",
     "text": [
      "[[0. 0. 0. 0. 0. 0. 0.]\n",
      " [0. 0. 0. 0. 0. 0. 0.]\n",
      " [0. 0. 0. 0. 0. 0. 0.]\n",
      " [0. 0. 0. 0. 0. 0. 0.]\n",
      " [0. 0. 0. 0. 0. 0. 0.]]\n",
      "transformando para uma dimensão: \n",
      "[0. 0. 0. 0. 0. 0. 0. 0. 0. 0. 0. 0. 0. 0. 0. 0. 0. 0. 0. 0. 0. 0. 0. 0.\n",
      " 0. 0. 0. 0. 0. 0. 0. 0. 0. 0. 0.]\n"
     ]
    }
   ],
   "source": [
    "array4 = np.zeros((5,7))\n",
    "print (array4)\n",
    "\n",
    "print ('transformando para uma dimensão: ')\n",
    "array4 = array4.flatten()\n",
    "print(array4)"
   ]
  },
  {
   "cell_type": "markdown",
   "metadata": {},
   "source": [
    "5. Considerando que você é uma organizadora de um jogo de bingo, crie um array que irá representar a cartilha desses jogos de bingo. Os números de suas cartelas variam entre 1 a 30, e você terá 10 participantes. Cada cartela terá 12 números (4,3).\n",
    "\n",
    "Crie um array que represente esse jogo:"
   ]
  },
  {
   "cell_type": "code",
   "execution_count": 101,
   "metadata": {},
   "outputs": [
    {
     "name": "stdout",
     "output_type": "stream",
     "text": [
      "[[[21  5 29]\n",
      "  [26  9 30]\n",
      "  [20 18 23]\n",
      "  [12  7  1]]\n",
      "\n",
      " [[ 5 18 28]\n",
      "  [ 6 25 27]\n",
      "  [28 18  7]\n",
      "  [10 25 28]]\n",
      "\n",
      " [[24  4  2]\n",
      "  [22 22 27]\n",
      "  [ 9 24 12]\n",
      "  [ 4 23 14]]\n",
      "\n",
      " [[22 23 12]\n",
      "  [ 2 10 10]\n",
      "  [12 29 27]\n",
      "  [28 30 25]]\n",
      "\n",
      " [[21  2 29]\n",
      "  [ 5 20 12]\n",
      "  [24 13 17]\n",
      "  [20 19 19]]\n",
      "\n",
      " [[30 15 15]\n",
      "  [ 6 17 17]\n",
      "  [18 13  1]\n",
      "  [20 21 21]]\n",
      "\n",
      " [[22  3 16]\n",
      "  [30 16 14]\n",
      "  [29 19  2]\n",
      "  [14  1 13]]\n",
      "\n",
      " [[ 5 16  1]\n",
      "  [16  6 26]\n",
      "  [26 29 20]\n",
      "  [ 9 28  8]]\n",
      "\n",
      " [[23  4 17]\n",
      "  [13 16 21]\n",
      "  [15 23 29]\n",
      "  [ 9 28 10]]\n",
      "\n",
      " [[23  2  3]\n",
      "  [ 4 19 15]\n",
      "  [17  1 16]\n",
      "  [24  4 30]]]\n"
     ]
    }
   ],
   "source": [
    "bingo = np.random.randint(1,31, size=(10,4,3))\n",
    "print(bingo)"
   ]
  },
  {
   "cell_type": "markdown",
   "metadata": {},
   "source": [
    "6. Faça o reshape das suas cartelas para que haja 5 cartelas de 4 linhas e 6 colunas"
   ]
  },
  {
   "cell_type": "code",
   "execution_count": 102,
   "metadata": {},
   "outputs": [
    {
     "data": {
      "text/plain": [
       "array([[[21,  5, 29, 26,  9, 30],\n",
       "        [20, 18, 23, 12,  7,  1],\n",
       "        [ 5, 18, 28,  6, 25, 27],\n",
       "        [28, 18,  7, 10, 25, 28]],\n",
       "\n",
       "       [[24,  4,  2, 22, 22, 27],\n",
       "        [ 9, 24, 12,  4, 23, 14],\n",
       "        [22, 23, 12,  2, 10, 10],\n",
       "        [12, 29, 27, 28, 30, 25]],\n",
       "\n",
       "       [[21,  2, 29,  5, 20, 12],\n",
       "        [24, 13, 17, 20, 19, 19],\n",
       "        [30, 15, 15,  6, 17, 17],\n",
       "        [18, 13,  1, 20, 21, 21]],\n",
       "\n",
       "       [[22,  3, 16, 30, 16, 14],\n",
       "        [29, 19,  2, 14,  1, 13],\n",
       "        [ 5, 16,  1, 16,  6, 26],\n",
       "        [26, 29, 20,  9, 28,  8]],\n",
       "\n",
       "       [[23,  4, 17, 13, 16, 21],\n",
       "        [15, 23, 29,  9, 28, 10],\n",
       "        [23,  2,  3,  4, 19, 15],\n",
       "        [17,  1, 16, 24,  4, 30]]])"
      ]
     },
     "execution_count": 102,
     "metadata": {},
     "output_type": "execute_result"
    }
   ],
   "source": [
    "bingo.reshape((5,4,6))"
   ]
  },
  {
   "cell_type": "markdown",
   "metadata": {},
   "source": [
    "Tipos de dados em NumPy vs python"
   ]
  },
  {
   "cell_type": "code",
   "execution_count": 103,
   "metadata": {},
   "outputs": [
    {
     "name": "stdout",
     "output_type": "stream",
     "text": [
      "conversão e coereção\n",
      "dtype como argumento:\n",
      "[  2.14   6.25 160.87]\n",
      "conversão\n",
      "[[1 0]\n",
      " [1 0]]\n",
      "coerção\n"
     ]
    },
    {
     "data": {
      "text/plain": [
       "array(['pedra', 'False', '42', '42.42'], dtype='<U32')"
      ]
     },
     "execution_count": 103,
     "metadata": {},
     "output_type": "execute_result"
    }
   ],
   "source": [
    "#dtype e tipo default\n",
    "\n",
    "print ('conversão e coereção')\n",
    "print ('dtype como argumento:')\n",
    "arr_float32 = np.array([2.14, 6.25, 160.87], dtype = np.float32)\n",
    "print(arr_float32)\n",
    "\n",
    "print ('conversão')\n",
    "arr_vf = np.array([[True, False], [True, False]], dtype = np.bool_)\n",
    "print(arr_vf.astype(np.int32))\n",
    "\n",
    "print ('coerção')\n",
    "np.array(['pedra', False, 42, 42.42])"
   ]
  },
  {
   "cell_type": "code",
   "execution_count": 104,
   "metadata": {},
   "outputs": [
    {
     "name": "stdout",
     "output_type": "stream",
     "text": [
      "Hierarquia de coerção\n",
      "adicionar um float a um array de int mudará todo os valores para float\n",
      "<module 'numpy' from 'c:\\\\Users\\\\lpgn\\\\AppData\\\\Local\\\\Programs\\\\Python\\\\Python312\\\\Lib\\\\site-packages\\\\numpy\\\\__init__.py'>\n",
      "<module 'numpy' from 'c:\\\\Users\\\\lpgn\\\\AppData\\\\Local\\\\Programs\\\\Python\\\\Python312\\\\Lib\\\\site-packages\\\\numpy\\\\__init__.py'>\n",
      "adicionar um inteiro em um array de booleanos transformará todo o array em inteiros\n",
      "<module 'numpy' from 'c:\\\\Users\\\\lpgn\\\\AppData\\\\Local\\\\Programs\\\\Python\\\\Python312\\\\Lib\\\\site-packages\\\\numpy\\\\__init__.py'>\n",
      "<module 'numpy' from 'c:\\\\Users\\\\lpgn\\\\AppData\\\\Local\\\\Programs\\\\Python\\\\Python312\\\\Lib\\\\site-packages\\\\numpy\\\\__init__.py'>\n"
     ]
    }
   ],
   "source": [
    "print ('Hierarquia de coerção')\n",
    "\n",
    "print ('adicionar um float a um array de int mudará todo os valores para float')\n",
    "np.array([0,10]).dtype\n",
    "print(np)\n",
    "\n",
    "np.array([0,10,1.]).dtype\n",
    "print(np)\n",
    "\n",
    "print ('adicionar um inteiro em um array de booleanos transformará todo o array em inteiros')\n",
    "np.array([True, False]).dtype\n",
    "print(np)\n",
    "\n",
    "np.array([True, False, 12]).dtype\n",
    "print (np)"
   ]
  },
  {
   "cell_type": "code",
   "execution_count": 105,
   "metadata": {},
   "outputs": [
    {
     "data": {
      "text/plain": [
       "dtype('float64')"
      ]
     },
     "execution_count": 105,
     "metadata": {},
     "output_type": "execute_result"
    }
   ],
   "source": [
    "np.array([5.4,6.7,2.1]).dtype"
   ]
  },
  {
   "cell_type": "code",
   "execution_count": 106,
   "metadata": {},
   "outputs": [
    {
     "data": {
      "text/plain": [
       "dtype('int32')"
      ]
     },
     "execution_count": 106,
     "metadata": {},
     "output_type": "execute_result"
    }
   ],
   "source": [
    "np.array([5,6,2]).dtype"
   ]
  },
  {
   "cell_type": "code",
   "execution_count": 107,
   "metadata": {},
   "outputs": [
    {
     "data": {
      "text/plain": [
       "dtype('<U12')"
      ]
     },
     "execution_count": 107,
     "metadata": {},
     "output_type": "execute_result"
    }
   ],
   "source": [
    "np.array(['hello', 'oi', 'womakerscode']).dtype"
   ]
  },
  {
   "cell_type": "code",
   "execution_count": 108,
   "metadata": {},
   "outputs": [
    {
     "data": {
      "text/plain": [
       "dtype('float64')"
      ]
     },
     "execution_count": 108,
     "metadata": {},
     "output_type": "execute_result"
    }
   ],
   "source": [
    "np.array([3,4,2.1]).dtype"
   ]
  },
  {
   "cell_type": "code",
   "execution_count": 109,
   "metadata": {},
   "outputs": [
    {
     "data": {
      "text/plain": [
       "dtype('int32')"
      ]
     },
     "execution_count": 109,
     "metadata": {},
     "output_type": "execute_result"
    }
   ],
   "source": [
    "np.array([True, 3, False]).dtype"
   ]
  },
  {
   "cell_type": "markdown",
   "metadata": {},
   "source": [
    "Index em um array de 1 dimensão"
   ]
  },
  {
   "cell_type": "code",
   "execution_count": 110,
   "metadata": {},
   "outputs": [
    {
     "name": "stdout",
     "output_type": "stream",
     "text": [
      "a indexação é a ordem dos dados e sempre começa com 0\n"
     ]
    },
    {
     "data": {
      "text/plain": [
       "6"
      ]
     },
     "execution_count": 110,
     "metadata": {},
     "output_type": "execute_result"
    }
   ],
   "source": [
    "print(\"a indexação é a ordem dos dados e sempre começa com 0\")\n",
    "arr = np.array ([2,4,6,8])\n",
    "arr[2]"
   ]
  },
  {
   "cell_type": "code",
   "execution_count": 111,
   "metadata": {},
   "outputs": [
    {
     "name": "stdout",
     "output_type": "stream",
     "text": [
      "para fatiar (slicing) um array de 2 dimensões, deve ser realizado no estilo arr[0:2], onde 0 é o index inicial 2 o index final\n"
     ]
    },
    {
     "data": {
      "text/plain": [
       "array([2, 4])"
      ]
     },
     "execution_count": 111,
     "metadata": {},
     "output_type": "execute_result"
    }
   ],
   "source": [
    "print ('para fatiar (slicing) um array de 2 dimensões, deve ser realizado no estilo arr[0:2], onde 0 é o index inicial 2 o index final')\n",
    "arr[0:2]"
   ]
  },
  {
   "cell_type": "markdown",
   "metadata": {},
   "source": [
    "Index em um array de 2 dimensões"
   ]
  },
  {
   "cell_type": "code",
   "execution_count": 112,
   "metadata": {},
   "outputs": [
    {
     "name": "stdout",
     "output_type": "stream",
     "text": [
      "a indexação em um array de 2 dimensões envolve linha x coluna\n"
     ]
    },
    {
     "data": {
      "text/plain": [
       "array([[16, 10,  3, 15],\n",
       "       [14, 23, 17, 27],\n",
       "       [ 6, 19,  3,  1],\n",
       "       [10,  4, 18, 19]])"
      ]
     },
     "execution_count": 112,
     "metadata": {},
     "output_type": "execute_result"
    }
   ],
   "source": [
    "print (\"a indexação em um array de 2 dimensões envolve linha x coluna\")\n",
    "arr = np.array([[16,10,3,15], [14,23,17,27], [6,19,3,1], [10,4,18,19]])\n",
    "arr"
   ]
  },
  {
   "cell_type": "code",
   "execution_count": 113,
   "metadata": {},
   "outputs": [
    {
     "name": "stdout",
     "output_type": "stream",
     "text": [
      "indexação de apenas um elemento será no estilo arr[1,3]\n"
     ]
    },
    {
     "data": {
      "text/plain": [
       "27"
      ]
     },
     "execution_count": 113,
     "metadata": {},
     "output_type": "execute_result"
    }
   ],
   "source": [
    "print(\"indexação de apenas um elemento será no estilo arr[1,3]\")\n",
    "arr[1,3]"
   ]
  },
  {
   "cell_type": "code",
   "execution_count": 114,
   "metadata": {},
   "outputs": [
    {
     "name": "stdout",
     "output_type": "stream",
     "text": [
      "a indexação de uma linha inteira será no estilo arr[0]\n"
     ]
    },
    {
     "data": {
      "text/plain": [
       "array([16, 10,  3, 15])"
      ]
     },
     "execution_count": 114,
     "metadata": {},
     "output_type": "execute_result"
    }
   ],
   "source": [
    "print (\"a indexação de uma linha inteira será no estilo arr[0]\")\n",
    "arr[0]"
   ]
  },
  {
   "cell_type": "code",
   "execution_count": 115,
   "metadata": {},
   "outputs": [
    {
     "name": "stdout",
     "output_type": "stream",
     "text": [
      "a indexação de uma coluna inteira será no estilo arr[:,1]\n"
     ]
    },
    {
     "data": {
      "text/plain": [
       "array([10, 23, 19,  4])"
      ]
     },
     "execution_count": 115,
     "metadata": {},
     "output_type": "execute_result"
    }
   ],
   "source": [
    "print('a indexação de uma coluna inteira será no estilo arr[:,1]')\n",
    "arr[:,1]"
   ]
  },
  {
   "cell_type": "code",
   "execution_count": 116,
   "metadata": {},
   "outputs": [
    {
     "name": "stdout",
     "output_type": "stream",
     "text": [
      "para fatiar (slicing) um array de 2 dimensões, deve ser realizado no estilo arr[1:3,0:2], onde 1 e 0 é o index inicial e 3 e 2 o index final\n"
     ]
    },
    {
     "data": {
      "text/plain": [
       "array([[14, 23],\n",
       "       [ 6, 19]])"
      ]
     },
     "execution_count": 116,
     "metadata": {},
     "output_type": "execute_result"
    }
   ],
   "source": [
    "print ('para fatiar (slicing) um array de 2 dimensões, deve ser realizado no estilo arr[1:3,0:2], onde 1 e 0 é o index inicial e 3 e 2 o index final')\n",
    "arr[1:3,0:2]"
   ]
  },
  {
   "cell_type": "code",
   "execution_count": 117,
   "metadata": {},
   "outputs": [
    {
     "name": "stdout",
     "output_type": "stream",
     "text": [
      "ordenar (sorting) um array trabalha com a ordenação dos elemntos, de forma que cada linha fique com elementos crescentes\n"
     ]
    },
    {
     "data": {
      "text/plain": [
       "array([[ 3, 10, 15, 16],\n",
       "       [14, 17, 23, 27],\n",
       "       [ 1,  3,  6, 19],\n",
       "       [ 4, 10, 18, 19]])"
      ]
     },
     "execution_count": 117,
     "metadata": {},
     "output_type": "execute_result"
    }
   ],
   "source": [
    "print ('ordenar (sorting) um array trabalha com a ordenação dos elemntos, de forma que cada linha fique com elementos crescentes')\n",
    "np.sort(arr)"
   ]
  },
  {
   "cell_type": "code",
   "execution_count": 118,
   "metadata": {},
   "outputs": [
    {
     "name": "stdout",
     "output_type": "stream",
     "text": [
      "o eixo 0 sempre será a linha horizontal e o eixo 1 sempre será a linha vertical, desta forma pode ser utilizado o eixo para ordenação\n",
      "para ordenar com o eixo 0, o eixo horizontal:\n"
     ]
    },
    {
     "data": {
      "text/plain": [
       "array([[ 6,  4,  3,  1],\n",
       "       [10, 10,  3, 15],\n",
       "       [14, 19, 17, 19],\n",
       "       [16, 23, 18, 27]])"
      ]
     },
     "execution_count": 118,
     "metadata": {},
     "output_type": "execute_result"
    }
   ],
   "source": [
    "print ('o eixo 0 sempre será a linha horizontal e o eixo 1 sempre será a linha vertical, desta forma pode ser utilizado o eixo para ordenação')\n",
    "print ('para ordenar com o eixo 0, o eixo horizontal:')\n",
    "np.sort(arr, axis=0)"
   ]
  },
  {
   "cell_type": "code",
   "execution_count": 119,
   "metadata": {},
   "outputs": [
    {
     "name": "stdout",
     "output_type": "stream",
     "text": [
      "a forma default sempre vai contar com o eixo 1, mas tbm pode ser ordenado da seguinte forma:\n"
     ]
    },
    {
     "data": {
      "text/plain": [
       "array([[ 3, 10, 15, 16],\n",
       "       [14, 17, 23, 27],\n",
       "       [ 1,  3,  6, 19],\n",
       "       [ 4, 10, 18, 19]])"
      ]
     },
     "execution_count": 119,
     "metadata": {},
     "output_type": "execute_result"
    }
   ],
   "source": [
    "print ('a forma default sempre vai contar com o eixo 1, mas tbm pode ser ordenado da seguinte forma:')\n",
    "np.sort(arr, axis=1)"
   ]
  },
  {
   "cell_type": "markdown",
   "metadata": {},
   "source": [
    "7. Explorando ecossistema:\n",
    "Como bióloga marinha, me encontrei em uma expedição nas profundezas do Oceano Pacífico, onde estávamos estudando a biodiversidade e a saúde dos recifes de coral. O catálogo abaixo demonstra dados das espécies encontradas. Considere a seguinte ordem de colunas:\n",
    "\n",
    "*ID da espécie, quantidade de representantes encontrados, profundeza, tamanho médio da espécie*\n",
    "\n",
    "- Selecione a segunda coluna com a quantidade de espécies encontradas e adicione em um array como 'qnt_especies'\n",
    "- De qnt_especies selecione apenas as primeiras 3 quantidades e print\n",
    "- Print as 5 últimas quantidades de espécies\n",
    "- Crie um array que contenha apenas os tamanhos das espécies e ordene por ordem crescente"
   ]
  },
  {
   "cell_type": "code",
   "execution_count": 120,
   "metadata": {},
   "outputs": [
    {
     "data": {
      "text/plain": [
       "array([[747,  89,  33,   5],\n",
       "       [623, 123,  32,  13],\n",
       "       [501,  22,  49,   2],\n",
       "       [116, 101,  49,   2],\n",
       "       [297,  56,  69,  22],\n",
       "       [613,  64,  27,   7],\n",
       "       [295,  84,  29,  14],\n",
       "       [692, 105,  72,  16],\n",
       "       [229, 103,  35,   5],\n",
       "       [374, 124,  70,   1]])"
      ]
     },
     "execution_count": 120,
     "metadata": {},
     "output_type": "execute_result"
    }
   ],
   "source": [
    "especies = np.array([\n",
    "                    [747,  89, 33,  5],\n",
    "                    [623, 123, 32, 13],\n",
    "                    [501,  22, 49,  2],\n",
    "                    [116, 101, 49,  2],\n",
    "                    [297,  56, 69, 22],\n",
    "                    [613,  64, 27,  7],\n",
    "                    [295,  84, 29, 14],\n",
    "                    [692, 105, 72, 16],\n",
    "                    [229, 103, 35,  5],\n",
    "                    [374, 124, 70,  1]\n",
    "])\n",
    "especies"
   ]
  },
  {
   "cell_type": "code",
   "execution_count": 121,
   "metadata": {},
   "outputs": [
    {
     "name": "stdout",
     "output_type": "stream",
     "text": [
      "Selecione a segunda coluna com a quantidade de espécies encontradas e adicione em um array como 'qnt_especies'\n"
     ]
    },
    {
     "data": {
      "text/plain": [
       "array([ 89, 123,  22, 101,  56,  64,  84, 105, 103, 124])"
      ]
     },
     "execution_count": 121,
     "metadata": {},
     "output_type": "execute_result"
    }
   ],
   "source": [
    "print(\"Selecione a segunda coluna com a quantidade de espécies encontradas e adicione em um array como 'qnt_especies'\")\n",
    "qnt_especies = especies[:,1]\n",
    "qnt_especies\n"
   ]
  },
  {
   "cell_type": "code",
   "execution_count": 122,
   "metadata": {},
   "outputs": [
    {
     "name": "stdout",
     "output_type": "stream",
     "text": [
      "De qnt_especies selecione apenas as primeiras 3 quantidades e print\n"
     ]
    },
    {
     "data": {
      "text/plain": [
       "array([ 89, 123,  22])"
      ]
     },
     "execution_count": 122,
     "metadata": {},
     "output_type": "execute_result"
    }
   ],
   "source": [
    "print(\"De qnt_especies selecione apenas as primeiras 3 quantidades e print\")\n",
    "qnt_especies[0:3]"
   ]
  },
  {
   "cell_type": "code",
   "execution_count": 123,
   "metadata": {},
   "outputs": [
    {
     "name": "stdout",
     "output_type": "stream",
     "text": [
      "Print as 5 últimas quantidades de espécies\n"
     ]
    },
    {
     "data": {
      "text/plain": [
       "array([ 64,  84, 105, 103, 124])"
      ]
     },
     "execution_count": 123,
     "metadata": {},
     "output_type": "execute_result"
    }
   ],
   "source": [
    "print(\"Print as 5 últimas quantidades de espécies\")\n",
    "qnt_especies[-5:]"
   ]
  },
  {
   "cell_type": "code",
   "execution_count": 124,
   "metadata": {},
   "outputs": [
    {
     "name": "stdout",
     "output_type": "stream",
     "text": [
      "Crie um array que contenha apenas os tamanhos das espécies e ordene por ordem crescente\n"
     ]
    },
    {
     "data": {
      "text/plain": [
       "array([ 1,  2,  2,  5,  5,  7, 13, 14, 16, 22])"
      ]
     },
     "execution_count": 124,
     "metadata": {},
     "output_type": "execute_result"
    }
   ],
   "source": [
    "print (\"Crie um array que contenha apenas os tamanhos das espécies e ordene por ordem crescente\")\n",
    "np.sort(especies[:,3])"
   ]
  },
  {
   "cell_type": "markdown",
   "metadata": {},
   "source": [
    "Filtrando arrays"
   ]
  },
  {
   "cell_type": "code",
   "execution_count": 125,
   "metadata": {},
   "outputs": [
    {
     "name": "stdout",
     "output_type": "stream",
     "text": [
      "pode ser por indexação sofisticada (fancy indexing) ou máscara (mask) em array 2d\n",
      "exemplo utilizando com máscaras:\n"
     ]
    },
    {
     "data": {
      "text/plain": [
       "array([ True, False, False,  True])"
      ]
     },
     "execution_count": 125,
     "metadata": {},
     "output_type": "execute_result"
    }
   ],
   "source": [
    "print (\"pode ser por indexação sofisticada (fancy indexing) ou máscara (mask) em array 2d\")\n",
    "pessoas_id_idade = np.array([[1,22], [2,21], [3,27], [4,26]])\n",
    "print (\"exemplo utilizando com máscaras:\")\n",
    "pessoas_id_idade[:,1]%2==0\n"
   ]
  },
  {
   "cell_type": "code",
   "execution_count": 126,
   "metadata": {},
   "outputs": [
    {
     "name": "stdout",
     "output_type": "stream",
     "text": [
      "boolean mask: returna um array de verdadeiros e falsos\n"
     ]
    },
    {
     "data": {
      "text/plain": [
       "array([False,  True, False,  True, False])"
      ]
     },
     "execution_count": 126,
     "metadata": {},
     "output_type": "execute_result"
    }
   ],
   "source": [
    "print (\"boolean mask: returna um array de verdadeiros e falsos\")\n",
    "arr1 = np.array([1,2,3,4,5])\n",
    "mask = arr1%2==0\n",
    "mask"
   ]
  },
  {
   "cell_type": "code",
   "execution_count": 127,
   "metadata": {},
   "outputs": [
    {
     "name": "stdout",
     "output_type": "stream",
     "text": [
      "fancy indexing: retorna os valores do array quando passado a máscara\n"
     ]
    },
    {
     "data": {
      "text/plain": [
       "array([2, 4])"
      ]
     },
     "execution_count": 127,
     "metadata": {},
     "output_type": "execute_result"
    }
   ],
   "source": [
    "print(\"fancy indexing: retorna os valores do array quando passado a máscara\")\n",
    "arr1[mask]"
   ]
  },
  {
   "cell_type": "code",
   "execution_count": 128,
   "metadata": {},
   "outputs": [
    {
     "name": "stdout",
     "output_type": "stream",
     "text": [
      "np.wehere() retorna um array de indices, cria uma matriz com base em se os elementos corrspondem ou não a uma condição\n"
     ]
    },
    {
     "data": {
      "text/plain": [
       "array([['16', '10', '', ''],\n",
       "       ['14', '23', '17', ''],\n",
       "       ['', '19', '', '1'],\n",
       "       ['10', '4', '', '19']], dtype='<U11')"
      ]
     },
     "execution_count": 128,
     "metadata": {},
     "output_type": "execute_result"
    }
   ],
   "source": [
    "cartela_bingo = np.array([\n",
    "                [16, 10,  3, 15],\n",
    "                [14, 23, 17, 27],\n",
    "                [ 6, 19,  3,  1], \n",
    "                [10,  4, 18, 19]\n",
    "])\n",
    "\n",
    "print (\"np.wehere() retorna um array de indices, cria uma matriz com base em se os elementos corrspondem ou não a uma condição\")\n",
    "\n",
    "np.where(cartela_bingo % 3 == 0, \"\", cartela_bingo)"
   ]
  },
  {
   "cell_type": "code",
   "execution_count": 129,
   "metadata": {},
   "outputs": [
    {
     "data": {
      "text/plain": [
       "(array([0, 3], dtype=int64),)"
      ]
     },
     "execution_count": 129,
     "metadata": {},
     "output_type": "execute_result"
    }
   ],
   "source": [
    "np.where(pessoas_id_idade[:,1]%2==0)"
   ]
  },
  {
   "cell_type": "code",
   "execution_count": 130,
   "metadata": {},
   "outputs": [
    {
     "name": "stdout",
     "output_type": "stream",
     "text": [
      "[[ 1 22]\n",
      " [ 2 21]\n",
      " [ 3 27]\n",
      " [ 4 26]]\n",
      "imprime pessoas maiores de 21 anos\n",
      "[ True False  True  True]\n",
      "imprime id e idade de pessoas maior que 21\n"
     ]
    },
    {
     "data": {
      "text/plain": [
       "array([[ 1, 22],\n",
       "       [ 3, 27],\n",
       "       [ 4, 26]])"
      ]
     },
     "execution_count": 130,
     "metadata": {},
     "output_type": "execute_result"
    }
   ],
   "source": [
    "print(pessoas_id_idade)\n",
    "print('imprime pessoas maiores de 21 anos')\n",
    "mask_maior21 = pessoas_id_idade[:,1]>21\n",
    "print(mask_maior21)\n",
    "print ('imprime id e idade de pessoas maior que 21')\n",
    "pessoas_id_idade[mask_maior21]"
   ]
  },
  {
   "cell_type": "code",
   "execution_count": 131,
   "metadata": {},
   "outputs": [
    {
     "name": "stdout",
     "output_type": "stream",
     "text": [
      "imprime indice dos maiores de 21\n"
     ]
    },
    {
     "data": {
      "text/plain": [
       "(array([0, 2, 3], dtype=int64),)"
      ]
     },
     "execution_count": 131,
     "metadata": {},
     "output_type": "execute_result"
    }
   ],
   "source": [
    "print('imprime indice dos maiores de 21')\n",
    "np.where(mask_maior21)"
   ]
  },
  {
   "cell_type": "code",
   "execution_count": 132,
   "metadata": {},
   "outputs": [
    {
     "data": {
      "text/plain": [
       "array([[16, 10,  3, 15],\n",
       "       [14, 23, 17, 27],\n",
       "       [ 6, 19,  3,  1],\n",
       "       [10,  4, 18, 19]])"
      ]
     },
     "execution_count": 132,
     "metadata": {},
     "output_type": "execute_result"
    }
   ],
   "source": [
    "cartela_bingo"
   ]
  },
  {
   "cell_type": "code",
   "execution_count": 133,
   "metadata": {},
   "outputs": [
    {
     "data": {
      "text/plain": [
       "array([['16', '10', 'div3', 'div3'],\n",
       "       ['14', '23', '17', 'div3'],\n",
       "       ['div3', '19', 'div3', '1'],\n",
       "       ['10', '4', 'div3', '19']], dtype='<U11')"
      ]
     },
     "execution_count": 133,
     "metadata": {},
     "output_type": "execute_result"
    }
   ],
   "source": [
    "np.where(cartela_bingo%3==0, \"div3\", cartela_bingo)"
   ]
  },
  {
   "cell_type": "code",
   "execution_count": 134,
   "metadata": {},
   "outputs": [
    {
     "data": {
      "text/plain": [
       "array([['1', 'maior de idade'],\n",
       "       ['2', '21'],\n",
       "       ['3', 'maior de idade'],\n",
       "       ['4', 'maior de idade']], dtype='<U14')"
      ]
     },
     "execution_count": 134,
     "metadata": {},
     "output_type": "execute_result"
    }
   ],
   "source": [
    "np.where(pessoas_id_idade>21, \"maior de idade\", pessoas_id_idade)"
   ]
  },
  {
   "cell_type": "markdown",
   "metadata": {},
   "source": [
    "8. Ainda usando o array de especie marítima:\n",
    "- Usando um index booleano crie um array que contém os da maior espécie encontrada (considerando o seu tamanho), esse valor corresponde ao valor 22\n",
    "- Usando fency index, faça um array que contém apenas dados da espécie com ID 297\n",
    "- Usando np.where() faça um array com a linha com dados correspondentes a espécie com 105 representantes encontrados\n",
    "- Considere a profundeza em que a espécie que foi encontrada substitua os valores maiores que 60 com \"profundo\""
   ]
  },
  {
   "cell_type": "code",
   "execution_count": 135,
   "metadata": {},
   "outputs": [
    {
     "name": "stdout",
     "output_type": "stream",
     "text": [
      "[[747  89  33   5]\n",
      " [623 123  32  13]\n",
      " [501  22  49   2]\n",
      " [116 101  49   2]\n",
      " [297  56  69  22]\n",
      " [613  64  27   7]\n",
      " [295  84  29  14]\n",
      " [692 105  72  16]\n",
      " [229 103  35   5]\n",
      " [374 124  70   1]]\n"
     ]
    }
   ],
   "source": [
    "print(especies)"
   ]
  },
  {
   "cell_type": "code",
   "execution_count": 136,
   "metadata": {},
   "outputs": [
    {
     "name": "stdout",
     "output_type": "stream",
     "text": [
      "Usando um index booleano crie um array que contém os da maior espécie encontrada (considerando o seu tamanho), esse valor corresponde ao valor 22\n"
     ]
    },
    {
     "data": {
      "text/plain": [
       "array([[297,  56,  69,  22]])"
      ]
     },
     "execution_count": 136,
     "metadata": {},
     "output_type": "execute_result"
    }
   ],
   "source": [
    "print (\"Usando um index booleano crie um array que contém os da maior espécie encontrada (considerando o seu tamanho), esse valor corresponde ao valor 22\")\n",
    "especies[especies[:,3]==22]"
   ]
  },
  {
   "cell_type": "code",
   "execution_count": 137,
   "metadata": {},
   "outputs": [
    {
     "name": "stdout",
     "output_type": "stream",
     "text": [
      "sando fency index, faça um array que contém apenas dados da espécie com ID 297\n"
     ]
    },
    {
     "data": {
      "text/plain": [
       "array([[297,  56,  69,  22]])"
      ]
     },
     "execution_count": 137,
     "metadata": {},
     "output_type": "execute_result"
    }
   ],
   "source": [
    "print(\"sando fency index, faça um array que contém apenas dados da espécie com ID 297\")\n",
    "mask_297= especies[:,0]==297\n",
    "especies[mask_297]"
   ]
  },
  {
   "cell_type": "code",
   "execution_count": 138,
   "metadata": {},
   "outputs": [
    {
     "name": "stdout",
     "output_type": "stream",
     "text": [
      "Usando np.where() faça um array com a linha com dados correspondentes a espécie com 105 representantes encontrados\n"
     ]
    },
    {
     "data": {
      "text/plain": [
       "array([[692, 105,  72,  16]])"
      ]
     },
     "execution_count": 138,
     "metadata": {},
     "output_type": "execute_result"
    }
   ],
   "source": [
    "print(\"Usando np.where() faça um array com a linha com dados correspondentes a espécie com 105 representantes encontrados\")\n",
    "especies[np.where(especies[:, 1]==105)]"
   ]
  },
  {
   "cell_type": "code",
   "execution_count": 139,
   "metadata": {},
   "outputs": [
    {
     "name": "stdout",
     "output_type": "stream",
     "text": [
      "Considere a profundeza em que a espécie que foi encontrada substitua os valores maiores que 60 com 'profundo'\n"
     ]
    },
    {
     "data": {
      "text/plain": [
       "array(['33', '32', '49', '49', 'Profundo', '27', '29', 'Profundo', '35',\n",
       "       'Profundo'], dtype='<U11')"
      ]
     },
     "execution_count": 139,
     "metadata": {},
     "output_type": "execute_result"
    }
   ],
   "source": [
    "print(\"Considere a profundeza em que a espécie que foi encontrada substitua os valores maiores que 60 com 'profundo'\")\n",
    "np.where(especies[:,2]>60, \"Profundo\", especies[:,2])"
   ]
  },
  {
   "cell_type": "markdown",
   "metadata": {},
   "source": [
    "Adicionando e removendo dados do array"
   ]
  },
  {
   "cell_type": "code",
   "execution_count": 140,
   "metadata": {},
   "outputs": [
    {
     "name": "stdout",
     "output_type": "stream",
     "text": [
      "concatenando linhas\n",
      "[[4 3]\n",
      " [0 4]\n",
      " [5 8]]\n",
      "[['Peras' 'Morangos']]\n"
     ]
    },
    {
     "data": {
      "text/plain": [
       "array([['4', '3'],\n",
       "       ['0', '4'],\n",
       "       ['5', '8'],\n",
       "       ['Peras', 'Morangos']], dtype='<U11')"
      ]
     },
     "execution_count": 140,
     "metadata": {},
     "output_type": "execute_result"
    }
   ],
   "source": [
    "print (\"concatenando linhas\")\n",
    "arrv1 = np.random.randint(10, size=(3,2))\n",
    "print(arrv1)\n",
    "arrv2 = np.array([[\"Peras\", \"Morangos\"]])\n",
    "print(arrv2)\n",
    "np.concatenate((arrv1, arrv2))"
   ]
  },
  {
   "cell_type": "code",
   "execution_count": 141,
   "metadata": {},
   "outputs": [
    {
     "name": "stdout",
     "output_type": "stream",
     "text": [
      "concatenando colunas\n",
      "[[4 3]\n",
      " [0 4]\n",
      " [5 8]]\n",
      "[['Uva']\n",
      " ['Abacaxi']\n",
      " ['Laranja']]\n"
     ]
    },
    {
     "data": {
      "text/plain": [
       "array([['4', '3', 'Uva'],\n",
       "       ['0', '4', 'Abacaxi'],\n",
       "       ['5', '8', 'Laranja']], dtype='<U11')"
      ]
     },
     "execution_count": 141,
     "metadata": {},
     "output_type": "execute_result"
    }
   ],
   "source": [
    "print (\"concatenando colunas\")\n",
    "print(arrv1)\n",
    "arro1 = np.array([\"Uva\", \"Abacaxi\", \"Laranja\"]).reshape((3,1))\n",
    "print(arro1)\n",
    "np.concatenate((arrv1, arro1), axis=1)"
   ]
  },
  {
   "cell_type": "code",
   "execution_count": 142,
   "metadata": {},
   "outputs": [
    {
     "name": "stdout",
     "output_type": "stream",
     "text": [
      "[['5' '30' '1' 'Alice']\n",
      " ['6' '29' '1' 'Bob']\n",
      " ['7' '35' '3' 'Cristina']\n",
      " ['8' '34' '3' 'Luiz']]\n",
      "deletando com axis = 0\n"
     ]
    },
    {
     "data": {
      "text/plain": [
       "array([['5', '30', '1', 'Alice'],\n",
       "       ['6', '29', '1', 'Bob'],\n",
       "       ['8', '34', '3', 'Luiz']], dtype='<U8')"
      ]
     },
     "execution_count": 142,
     "metadata": {},
     "output_type": "execute_result"
    }
   ],
   "source": [
    "sala_espera = np.array([\n",
    "                        ['5', '30', '1', 'Alice'],\n",
    "                        ['6', '29', '1', 'Bob'],\n",
    "                        ['7', '35', '3', 'Cristina'],\n",
    "                        ['8', '34', '3', 'Luiz']\n",
    "])\n",
    "print (sala_espera)\n",
    "print (\"deletando com axis = 0\")\n",
    "np.delete(sala_espera, 2, axis=0)"
   ]
  },
  {
   "cell_type": "code",
   "execution_count": 143,
   "metadata": {},
   "outputs": [
    {
     "name": "stdout",
     "output_type": "stream",
     "text": [
      "[['5' '30' '1' 'Alice']\n",
      " ['6' '29' '1' 'Bob']\n",
      " ['7' '35' '3' 'Cristina']\n",
      " ['8' '34' '3' 'Luiz']]\n",
      "deletando com axis = 1\n"
     ]
    },
    {
     "data": {
      "text/plain": [
       "array([['5', '1', 'Alice'],\n",
       "       ['6', '1', 'Bob'],\n",
       "       ['7', '3', 'Cristina'],\n",
       "       ['8', '3', 'Luiz']], dtype='<U8')"
      ]
     },
     "execution_count": 143,
     "metadata": {},
     "output_type": "execute_result"
    }
   ],
   "source": [
    "sala_espera = np.array([\n",
    "                        ['5', '30', '1', 'Alice'],\n",
    "                        ['6', '29', '1', 'Bob'],\n",
    "                        ['7', '35', '3', 'Cristina'],\n",
    "                        ['8', '34', '3', 'Luiz']\n",
    "])\n",
    "print (sala_espera)\n",
    "print (\"deletando com axis = 1\")\n",
    "np.delete(sala_espera, 1, axis=1)"
   ]
  },
  {
   "cell_type": "code",
   "execution_count": 144,
   "metadata": {},
   "outputs": [
    {
     "name": "stdout",
     "output_type": "stream",
     "text": [
      "[['5' '30' '1' 'Alice']\n",
      " ['6' '29' '1' 'Bob']\n",
      " ['7' '35' '3' 'Cristina']\n",
      " ['8' '34' '3' 'Luiz']]\n",
      "deletando sem axis\n"
     ]
    },
    {
     "data": {
      "text/plain": [
       "array(['5', '1', 'Alice', '6', '29', '1', 'Bob', '7', '35', '3',\n",
       "       'Cristina', '8', '34', '3', 'Luiz'], dtype='<U8')"
      ]
     },
     "execution_count": 144,
     "metadata": {},
     "output_type": "execute_result"
    }
   ],
   "source": [
    "print(sala_espera)\n",
    "print(\"deletando sem axis\")\n",
    "np.delete(sala_espera, 1)"
   ]
  },
  {
   "cell_type": "markdown",
   "metadata": {},
   "source": [
    "Cálculos com arrays\n",
    "- .sum()\n",
    "- .min()\n",
    "- .max()\n",
    "- .mean()\n",
    "- .cumsum()"
   ]
  },
  {
   "cell_type": "code",
   "execution_count": 145,
   "metadata": {},
   "outputs": [
    {
     "name": "stdout",
     "output_type": "stream",
     "text": [
      "cada coluna é um cliente, cada linha é um ano\n"
     ]
    },
    {
     "data": {
      "text/plain": [
       "array([[1, 3, 2],\n",
       "       [0, 1, 0],\n",
       "       [2, 1, 4],\n",
       "       [0, 0, 0],\n",
       "       [1, 1, 0]])"
      ]
     },
     "execution_count": 145,
     "metadata": {},
     "output_type": "execute_result"
    }
   ],
   "source": [
    "print ('cada coluna é um cliente, cada linha é um ano')\n",
    "acidentes = np.array([\n",
    "                    [1, 3, 2],\n",
    "                    [0, 1, 0],\n",
    "                    [2, 1, 4],\n",
    "                    [0, 0, 0],\n",
    "                    [1, 1, 0]\n",
    "                    ])\n",
    "acidentes"
   ]
  },
  {
   "cell_type": "code",
   "execution_count": 146,
   "metadata": {},
   "outputs": [
    {
     "name": "stdout",
     "output_type": "stream",
     "text": [
      "somando todo o array\n",
      "16\n",
      "somando linhas\n",
      "[4 6 6]\n",
      "somando colunas\n",
      "[6 1 7 0 2]\n"
     ]
    }
   ],
   "source": [
    "print('somando todo o array')\n",
    "print(acidentes.sum())\n",
    "print ('somando linhas')\n",
    "print(acidentes.sum(axis=0))\n",
    "print('somando colunas')\n",
    "print(acidentes.sum(axis=1))"
   ]
  },
  {
   "cell_type": "code",
   "execution_count": 147,
   "metadata": {},
   "outputs": [
    {
     "name": "stdout",
     "output_type": "stream",
     "text": [
      "Mínimos e máximos\n",
      "mínimos\n",
      "0\n",
      "máximos\n",
      "4\n",
      "máximo de cada coluna\n",
      "[2 3 4]\n"
     ]
    }
   ],
   "source": [
    "print ('Mínimos e máximos')\n",
    "print ('mínimos')\n",
    "print(acidentes.min())\n",
    "print('máximos')\n",
    "print(acidentes.max())\n",
    "print('máximo de cada coluna')\n",
    "print(acidentes.max(axis=0))\n"
   ]
  },
  {
   "cell_type": "code",
   "execution_count": 148,
   "metadata": {},
   "outputs": [
    {
     "name": "stdout",
     "output_type": "stream",
     "text": [
      "média\n",
      "1.0666666666666667\n",
      "média por coluna\n",
      "[0.8 1.2 1.2]\n",
      "média por linha\n",
      "[2.         0.33333333 2.33333333 0.         0.66666667]\n"
     ]
    }
   ],
   "source": [
    "print (\"média\")\n",
    "print(acidentes.mean())\n",
    "print('média por coluna')\n",
    "print(acidentes.mean(axis=0))\n",
    "print('média por linha')\n",
    "print(acidentes.mean(axis=1))"
   ]
  },
  {
   "cell_type": "code",
   "execution_count": 149,
   "metadata": {},
   "outputs": [
    {
     "name": "stdout",
     "output_type": "stream",
     "text": [
      "keedins -> mantém as mesmas dimensões, ou seja, coluna se mantém coluna e linha se mantém linha\n",
      "forma padrão\n",
      "[0.8 1.2 1.2]\n",
      "usando keedims para coluna\n",
      "[[0.8 1.2 1.2]]\n",
      "usando keedins para linha\n",
      "[[2.        ]\n",
      " [0.33333333]\n",
      " [2.33333333]\n",
      " [0.        ]\n",
      " [0.66666667]]\n"
     ]
    }
   ],
   "source": [
    "print ('keedins -> mantém as mesmas dimensões, ou seja, coluna se mantém coluna e linha se mantém linha')\n",
    "print(\"forma padrão\")\n",
    "print(acidentes.mean(axis=0))\n",
    "print('usando keedims para coluna')\n",
    "print(acidentes.mean(axis=0, keepdims=True))\n",
    "print('usando keedins para linha')\n",
    "print(acidentes.mean(axis=1, keepdims=True))"
   ]
  },
  {
   "cell_type": "code",
   "execution_count": 150,
   "metadata": {},
   "outputs": [
    {
     "name": "stdout",
     "output_type": "stream",
     "text": [
      "soma cumulativa\n",
      "por coluna\n",
      "[[1 3 2]\n",
      " [1 4 2]\n",
      " [3 5 6]\n",
      " [3 5 6]\n",
      " [4 6 6]]\n",
      "por linha\n",
      "[[1 4 6]\n",
      " [0 1 1]\n",
      " [2 3 7]\n",
      " [0 0 0]\n",
      " [1 2 2]]\n"
     ]
    }
   ],
   "source": [
    "print (\"soma cumulativa\")\n",
    "print('por coluna')\n",
    "print(acidentes.cumsum(axis=0))\n",
    "print('por linha')\n",
    "print(acidentes.cumsum(axis=1))\n"
   ]
  },
  {
   "cell_type": "code",
   "execution_count": 151,
   "metadata": {},
   "outputs": [
    {
     "name": "stdout",
     "output_type": "stream",
     "text": [
      "plotando a soma cumulativa\n"
     ]
    },
    {
     "data": {
      "image/png": "[encoded data removed]",
      "text/plain": [
       "<Figure size 640x480 with 1 Axes>"
      ]
     },
     "metadata": {},
     "output_type": "display_data"
    }
   ],
   "source": [
    "import matplotlib.pyplot as plt\n",
    "\n",
    "print('plotando a soma cumulativa')\n",
    "plt.plot(np.arange(1,6), acidentes.cumsum(axis=0), label=['Cliente 1', 'Cliente 2', 'Cliente 3'])\n",
    "plt.legend()\n",
    "plt.show()"
   ]
  },
  {
   "cell_type": "code",
   "execution_count": 152,
   "metadata": {},
   "outputs": [
    {
     "name": "stdout",
     "output_type": "stream",
     "text": [
      "[[16 10  3 15]\n",
      " [14 23 17 27]\n",
      " [ 6 19  3  1]\n",
      " [10  4 18 19]]\n",
      "[[16 10  3 15]\n",
      " [14 23 17 27]\n",
      " [ 6 19  3  1]]\n",
      "[[10  4 18 19]]\n",
      "concatenado:\n",
      "[[16 10  3 15]\n",
      " [14 23 17 27]\n",
      " [ 6 19  3  1]\n",
      " [10  4 18 19]]\n",
      "conferindo se são iguais\n",
      "[[ True  True  True  True]\n",
      " [ True  True  True  True]\n",
      " [ True  True  True  True]\n",
      " [ True  True  True  True]]\n",
      "conferindo se são iguais versão cartela 2 e cartela 1\n",
      "[[False False False False]\n",
      " [False False False False]\n",
      " [False False False False]\n",
      " [False False False False]]\n"
     ]
    }
   ],
   "source": [
    "print(cartela_bingo)\n",
    "cartela_bingo1 = cartela_bingo[:3]\n",
    "print(cartela_bingo1)\n",
    "cartela_bingo2 = cartela_bingo[-1:]\n",
    "print(cartela_bingo2)\n",
    "print('concatenado:')\n",
    "print(np.concatenate((cartela_bingo1, cartela_bingo2)))\n",
    "print('conferindo se são iguais')\n",
    "print(cartela_bingo == np.concatenate((cartela_bingo1, cartela_bingo2)))\n",
    "print('conferindo se são iguais versão cartela 2 e cartela 1')\n",
    "print(cartela_bingo == np.concatenate((cartela_bingo2, cartela_bingo1)))\n"
   ]
  },
  {
   "cell_type": "markdown",
   "metadata": {},
   "source": [
    "9. Ainda no conjunto 'espécies'\n",
    "- Adicione mais 2 espécies ao array: [[204,10,40,12], [392,11,81,11]]\n",
    "- Adicione mais uma coluna ao array original, agora com o número de espécies encontradas com que indica se o animal exerga ou não: [0,1,0,0,0,0,1,0,1,1]"
   ]
  },
  {
   "cell_type": "code",
   "execution_count": 153,
   "metadata": {},
   "outputs": [
    {
     "data": {
      "text/plain": [
       "array([[747,  89,  33,   5],\n",
       "       [623, 123,  32,  13],\n",
       "       [501,  22,  49,   2],\n",
       "       [116, 101,  49,   2],\n",
       "       [297,  56,  69,  22],\n",
       "       [613,  64,  27,   7],\n",
       "       [295,  84,  29,  14],\n",
       "       [692, 105,  72,  16],\n",
       "       [229, 103,  35,   5],\n",
       "       [374, 124,  70,   1]])"
      ]
     },
     "execution_count": 153,
     "metadata": {},
     "output_type": "execute_result"
    }
   ],
   "source": [
    "especies"
   ]
  },
  {
   "cell_type": "code",
   "execution_count": 160,
   "metadata": {},
   "outputs": [
    {
     "name": "stdout",
     "output_type": "stream",
     "text": [
      "Adicione mais 2 espécies ao array: [[204,10,40,12], [392,11,81,11]]\n"
     ]
    },
    {
     "data": {
      "text/plain": [
       "array([[747,  89,  33,   5],\n",
       "       [623, 123,  32,  13],\n",
       "       [501,  22,  49,   2],\n",
       "       [116, 101,  49,   2],\n",
       "       [297,  56,  69,  22],\n",
       "       [613,  64,  27,   7],\n",
       "       [295,  84,  29,  14],\n",
       "       [692, 105,  72,  16],\n",
       "       [229, 103,  35,   5],\n",
       "       [374, 124,  70,   1],\n",
       "       [204,  10,  40,  12],\n",
       "       [392,  11,  81,  11]])"
      ]
     },
     "execution_count": 160,
     "metadata": {},
     "output_type": "execute_result"
    }
   ],
   "source": [
    "print('Adicione mais 2 espécies ao array: [[204,10,40,12], [392,11,81,11]]')\n",
    "novas_especies = np.array([\n",
    "                          [204, 10, 40, 12], \n",
    "                          [392, 11, 81, 11]])\n",
    "np.concatenate((especies, novas_especies))"
   ]
  },
  {
   "cell_type": "code",
   "execution_count": 164,
   "metadata": {},
   "outputs": [
    {
     "name": "stdout",
     "output_type": "stream",
     "text": [
      "Adicione mais uma coluna ao array original, agora com o número de espécies encontradas com que indica se o animal exerga ou não: [0,1,0,0,0,0,1,0,1,1]\n",
      "[[0]\n",
      " [1]\n",
      " [0]\n",
      " [0]\n",
      " [0]\n",
      " [0]\n",
      " [1]\n",
      " [0]\n",
      " [1]\n",
      " [1]]\n"
     ]
    },
    {
     "data": {
      "text/plain": [
       "array([[747,  89,  33,   5,   0],\n",
       "       [623, 123,  32,  13,   1],\n",
       "       [501,  22,  49,   2,   0],\n",
       "       [116, 101,  49,   2,   0],\n",
       "       [297,  56,  69,  22,   0],\n",
       "       [613,  64,  27,   7,   0],\n",
       "       [295,  84,  29,  14,   1],\n",
       "       [692, 105,  72,  16,   0],\n",
       "       [229, 103,  35,   5,   1],\n",
       "       [374, 124,  70,   1,   1]])"
      ]
     },
     "execution_count": 164,
     "metadata": {},
     "output_type": "execute_result"
    }
   ],
   "source": [
    "print('Adicione mais uma coluna ao array original, agora com o número de espécies encontradas com que indica se o animal exerga ou não: [0,1,0,0,0,0,1,0,1,1]')\n",
    "especies_ver = np.array([0,1,0,0,0,0,1,0,1,1]).reshape(10,1)\n",
    "print(especies_ver)\n",
    "np.concatenate((especies, especies_ver), axis=1)"
   ]
  }
 ],
 "metadata": {
  "kernelspec": {
   "display_name": "Python 3",
   "language": "python",
   "name": "python3"
  },
  "language_info": {
   "codemirror_mode": {
    "name": "ipython",
    "version": 3
   },
   "file_extension": ".py",
   "mimetype": "text/x-python",
   "name": "python",
   "nbconvert_exporter": "python",
   "pygments_lexer": "ipython3",
   "version": "3.12.1"
  }
 },
 "nbformat": 4,
 "nbformat_minor": 2
}
