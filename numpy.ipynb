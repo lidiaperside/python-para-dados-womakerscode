{
 "cells": [
  {
   "cell_type": "code",
   "execution_count": 136,
   "metadata": {},
   "outputs": [],
   "source": [
    "import numpy as np"
   ]
  },
  {
   "cell_type": "code",
   "execution_count": 137,
   "metadata": {},
   "outputs": [],
   "source": [
    "l = [1, 2, 3, 4]"
   ]
  },
  {
   "cell_type": "code",
   "execution_count": 138,
   "metadata": {},
   "outputs": [
    {
     "data": {
      "text/plain": [
       "array([1, 2, 3, 4])"
      ]
     },
     "execution_count": 138,
     "metadata": {},
     "output_type": "execute_result"
    }
   ],
   "source": [
    "arr1 = np.array(l)\n",
    "arr1"
   ]
  },
  {
   "cell_type": "code",
   "execution_count": 139,
   "metadata": {},
   "outputs": [
    {
     "data": {
      "text/plain": [
       "array([[0., 0.],\n",
       "       [0., 0.]])"
      ]
     },
     "execution_count": 139,
     "metadata": {},
     "output_type": "execute_result"
    }
   ],
   "source": [
    "#Criando um numpy array do zero\n",
    "a = np.zeros((2,2)) #recebe uma tupla 2x2\n",
    "a"
   ]
  },
  {
   "cell_type": "code",
   "execution_count": 140,
   "metadata": {},
   "outputs": [
    {
     "data": {
      "text/plain": [
       "array([0, 1, 2])"
      ]
     },
     "execution_count": 140,
     "metadata": {},
     "output_type": "execute_result"
    }
   ],
   "source": [
    "b = np.arange(0,3) #sinaliza onde inicializa e onde termina -1\n",
    "b"
   ]
  },
  {
   "cell_type": "code",
   "execution_count": 141,
   "metadata": {},
   "outputs": [
    {
     "data": {
      "text/plain": [
       "array([[0.38654666, 0.04402294, 0.59803124],\n",
       "       [0.0542143 , 0.64259644, 0.68532475],\n",
       "       [0.60781392, 0.34910421, 0.27264853]])"
      ]
     },
     "execution_count": 141,
     "metadata": {},
     "output_type": "execute_result"
    }
   ],
   "source": [
    "c = np.random.random((3,3)) #recebe uma tupla randonica\n",
    "c"
   ]
  },
  {
   "cell_type": "markdown",
   "metadata": {},
   "source": [
    "1. Crie um array com 4 linhas e 3 colunas com valores aleatórios"
   ]
  },
  {
   "cell_type": "code",
   "execution_count": 142,
   "metadata": {},
   "outputs": [
    {
     "data": {
      "text/plain": [
       "array([[0.69392244, 0.06533448, 0.80816305],\n",
       "       [0.79511124, 0.20673145, 0.296917  ],\n",
       "       [0.91894282, 0.17913818, 0.29941682],\n",
       "       [0.38207124, 0.65387148, 0.13076404]])"
      ]
     },
     "execution_count": 142,
     "metadata": {},
     "output_type": "execute_result"
    }
   ],
   "source": [
    "arrayRandom = np.random.random((4,3))\n",
    "arrayRandom"
   ]
  },
  {
   "cell_type": "markdown",
   "metadata": {},
   "source": [
    "2. Crie um array com 5 colunas e 10 linhas inicializados com zeros"
   ]
  },
  {
   "cell_type": "code",
   "execution_count": 143,
   "metadata": {},
   "outputs": [
    {
     "data": {
      "text/plain": [
       "array([[0., 0., 0., 0., 0.],\n",
       "       [0., 0., 0., 0., 0.],\n",
       "       [0., 0., 0., 0., 0.],\n",
       "       [0., 0., 0., 0., 0.],\n",
       "       [0., 0., 0., 0., 0.],\n",
       "       [0., 0., 0., 0., 0.],\n",
       "       [0., 0., 0., 0., 0.],\n",
       "       [0., 0., 0., 0., 0.],\n",
       "       [0., 0., 0., 0., 0.],\n",
       "       [0., 0., 0., 0., 0.]])"
      ]
     },
     "execution_count": 143,
     "metadata": {},
     "output_type": "execute_result"
    }
   ],
   "source": [
    "arrayZero = np.zeros((10,5))\n",
    "arrayZero"
   ]
  },
  {
   "cell_type": "markdown",
   "metadata": {},
   "source": [
    "3. Crie um array com valoes inteiros com 3 linhas e 5 colunas com valores aleatórios"
   ]
  },
  {
   "cell_type": "code",
   "execution_count": 144,
   "metadata": {},
   "outputs": [
    {
     "data": {
      "text/plain": [
       "array([[11, 16, 16, 11, 18],\n",
       "       [10, 16, 12, 18, 15],\n",
       "       [18, 11, 28, 22, 14]])"
      ]
     },
     "execution_count": 144,
     "metadata": {},
     "output_type": "execute_result"
    }
   ],
   "source": [
    "arrayRandomInteiro = np.random.randint(10, 30, size=(3,5)) #valores aleatórios a partir do 10 até 29\n",
    "arrayRandomInteiro"
   ]
  },
  {
   "cell_type": "code",
   "execution_count": 145,
   "metadata": {},
   "outputs": [
    {
     "data": {
      "text/plain": [
       "array([[[1, 2],\n",
       "        [3, 4]],\n",
       "\n",
       "       [[5, 6],\n",
       "        [7, 8]],\n",
       "\n",
       "       [[9, 2],\n",
       "        [3, 4]]])"
      ]
     },
     "execution_count": 145,
     "metadata": {},
     "output_type": "execute_result"
    }
   ],
   "source": [
    "#Array 3D\n",
    "\n",
    "arr1_2d = np.array([[1,2],[3,4]])\n",
    "arr2_2d = np.array([[5,6],[7,8]])\n",
    "arr3_2d = np.array([[9,2],[3,4]])\n",
    "\n",
    "arr_3d = np.array([arr1_2d, arr2_2d, arr3_2d])\n",
    "arr_3d"
   ]
  },
  {
   "cell_type": "code",
   "execution_count": 146,
   "metadata": {},
   "outputs": [
    {
     "name": "stdout",
     "output_type": "stream",
     "text": [
      "[[0. 0. 0. 0.]\n",
      " [0. 0. 0. 0.]]\n"
     ]
    },
    {
     "data": {
      "text/plain": [
       "(2, 4)"
      ]
     },
     "execution_count": 146,
     "metadata": {},
     "output_type": "execute_result"
    }
   ],
   "source": [
    "#Shape -> quantas dimensões\n",
    "arrShape = np.zeros((2,4))\n",
    "print (arrShape)\n",
    "\n",
    "arrShape.shape"
   ]
  },
  {
   "cell_type": "code",
   "execution_count": 147,
   "metadata": {},
   "outputs": [
    {
     "name": "stdout",
     "output_type": "stream",
     "text": [
      "[[1 2 3 3]\n",
      " [4 5 6 6]\n",
      " [7 8 9 9]]\n"
     ]
    },
    {
     "data": {
      "text/plain": [
       "array([1, 2, 3, 3, 4, 5, 6, 6, 7, 8, 9, 9])"
      ]
     },
     "execution_count": 147,
     "metadata": {},
     "output_type": "execute_result"
    }
   ],
   "source": [
    "#Flatten -> achatando a matriz\n",
    "arrFlatten = np.array ([[1,2,3,3], [4,5,6,6], [7,8,9,9]])\n",
    "print (arrFlatten)\n",
    "\n",
    "arrFlatten.flatten()"
   ]
  },
  {
   "cell_type": "code",
   "execution_count": 148,
   "metadata": {},
   "outputs": [
    {
     "name": "stdout",
     "output_type": "stream",
     "text": [
      "array padrão\n",
      "[[ 3  4  2]\n",
      " [ 8 11  5]]\n",
      "sempre deve ser compativel com a quantidade de elementos, o exemplo acima é 2x3, ou seja, 6 elementos, por isso:\n",
      "array 3x2\n",
      "[[ 3  4]\n",
      " [ 2  8]\n",
      " [11  5]]\n",
      "array 6x1\n",
      "[[ 3]\n",
      " [ 4]\n",
      " [ 2]\n",
      " [ 8]\n",
      " [11]\n",
      " [ 5]]\n"
     ]
    }
   ],
   "source": [
    "#Reshape -> mudando as dimensões\n",
    "arrReshape = np.array([[3,4,2], [8,11,5]])\n",
    "print ('array padrão')\n",
    "print (arrReshape)\n",
    "\n",
    "#O reshape sempre deve ser compativel com a quantidade de elementos, por exemplo:\n",
    "print ('sempre deve ser compativel com a quantidade de elementos, o exemplo acima é 2x3, ou seja, 6 elementos, por isso:')\n",
    "print ('array 3x2')\n",
    "print(arrReshape.reshape((3,2)))\n",
    "print ('array 6x1')\n",
    "print(arrReshape.reshape((6,1)))"
   ]
  },
  {
   "cell_type": "markdown",
   "metadata": {},
   "source": [
    "4. Reduza o array (5,7) a apenas uma dimensão"
   ]
  },
  {
   "cell_type": "code",
   "execution_count": 149,
   "metadata": {},
   "outputs": [
    {
     "name": "stdout",
     "output_type": "stream",
     "text": [
      "[[0. 0. 0. 0. 0. 0. 0.]\n",
      " [0. 0. 0. 0. 0. 0. 0.]\n",
      " [0. 0. 0. 0. 0. 0. 0.]\n",
      " [0. 0. 0. 0. 0. 0. 0.]\n",
      " [0. 0. 0. 0. 0. 0. 0.]]\n",
      "transformando para uma dimensão: \n",
      "[0. 0. 0. 0. 0. 0. 0. 0. 0. 0. 0. 0. 0. 0. 0. 0. 0. 0. 0. 0. 0. 0. 0. 0.\n",
      " 0. 0. 0. 0. 0. 0. 0. 0. 0. 0. 0.]\n"
     ]
    }
   ],
   "source": [
    "array4 = np.zeros((5,7))\n",
    "print (array4)\n",
    "\n",
    "print ('transformando para uma dimensão: ')\n",
    "array4 = array4.flatten()\n",
    "print(array4)"
   ]
  },
  {
   "cell_type": "markdown",
   "metadata": {},
   "source": [
    "5. Considerando que você é uma organizadora de um jogo de bingo, crie um array que irá representar a cartilha desses jogos de bingo. Os números de suas cartelas variam entre 1 a 30, e você terá 10 participantes. Cada cartela terá 12 números (4,3).\n",
    "\n",
    "Crie um array que represente esse jogo:"
   ]
  },
  {
   "cell_type": "code",
   "execution_count": 150,
   "metadata": {},
   "outputs": [
    {
     "name": "stdout",
     "output_type": "stream",
     "text": [
      "[[[12 15 12]\n",
      "  [10  3 27]\n",
      "  [22 30 13]\n",
      "  [24 26  5]]\n",
      "\n",
      " [[27  7 27]\n",
      "  [26 13 11]\n",
      "  [24  9 18]\n",
      "  [14 23  9]]\n",
      "\n",
      " [[ 2 23 28]\n",
      "  [ 8 20  4]\n",
      "  [21 22 17]\n",
      "  [14  4 21]]\n",
      "\n",
      " [[18  3 18]\n",
      "  [30 14 19]\n",
      "  [17 24  6]\n",
      "  [20 27 29]]\n",
      "\n",
      " [[ 4 29  5]\n",
      "  [10 25 22]\n",
      "  [ 2 11  3]\n",
      "  [24 21  3]]\n",
      "\n",
      " [[13 16 11]\n",
      "  [ 7 11 13]\n",
      "  [ 3 18 17]\n",
      "  [ 3 25  8]]\n",
      "\n",
      " [[24  6 18]\n",
      "  [ 5 26  3]\n",
      "  [ 3 30 18]\n",
      "  [24 29 15]]\n",
      "\n",
      " [[10  4 18]\n",
      "  [17 10  4]\n",
      "  [ 6  8 11]\n",
      "  [22  5 28]]\n",
      "\n",
      " [[21 14 23]\n",
      "  [ 8 16  5]\n",
      "  [15 29  2]\n",
      "  [10  9 30]]\n",
      "\n",
      " [[26  2 11]\n",
      "  [ 1  5 21]\n",
      "  [16 18 17]\n",
      "  [28 10 19]]]\n"
     ]
    }
   ],
   "source": [
    "bingo = np.random.randint(1,31, size=(10,4,3))\n",
    "print(bingo)"
   ]
  },
  {
   "cell_type": "markdown",
   "metadata": {},
   "source": [
    "6. Faça o reshape das suas cartelas para que haja 5 cartelas de 4 linhas e 6 colunas"
   ]
  },
  {
   "cell_type": "code",
   "execution_count": 151,
   "metadata": {},
   "outputs": [
    {
     "data": {
      "text/plain": [
       "array([[[12, 15, 12, 10,  3, 27],\n",
       "        [22, 30, 13, 24, 26,  5],\n",
       "        [27,  7, 27, 26, 13, 11],\n",
       "        [24,  9, 18, 14, 23,  9]],\n",
       "\n",
       "       [[ 2, 23, 28,  8, 20,  4],\n",
       "        [21, 22, 17, 14,  4, 21],\n",
       "        [18,  3, 18, 30, 14, 19],\n",
       "        [17, 24,  6, 20, 27, 29]],\n",
       "\n",
       "       [[ 4, 29,  5, 10, 25, 22],\n",
       "        [ 2, 11,  3, 24, 21,  3],\n",
       "        [13, 16, 11,  7, 11, 13],\n",
       "        [ 3, 18, 17,  3, 25,  8]],\n",
       "\n",
       "       [[24,  6, 18,  5, 26,  3],\n",
       "        [ 3, 30, 18, 24, 29, 15],\n",
       "        [10,  4, 18, 17, 10,  4],\n",
       "        [ 6,  8, 11, 22,  5, 28]],\n",
       "\n",
       "       [[21, 14, 23,  8, 16,  5],\n",
       "        [15, 29,  2, 10,  9, 30],\n",
       "        [26,  2, 11,  1,  5, 21],\n",
       "        [16, 18, 17, 28, 10, 19]]])"
      ]
     },
     "execution_count": 151,
     "metadata": {},
     "output_type": "execute_result"
    }
   ],
   "source": [
    "bingo.reshape((5,4,6))"
   ]
  },
  {
   "cell_type": "markdown",
   "metadata": {},
   "source": [
    "Tipos de dados em NumPy vs python"
   ]
  },
  {
   "cell_type": "code",
   "execution_count": 152,
   "metadata": {},
   "outputs": [
    {
     "name": "stdout",
     "output_type": "stream",
     "text": [
      "conversão e coereção\n",
      "dtype como argumento:\n",
      "[  2.14   6.25 160.87]\n",
      "conversão\n",
      "[[1 0]\n",
      " [1 0]]\n",
      "coerção\n"
     ]
    },
    {
     "data": {
      "text/plain": [
       "array(['pedra', 'False', '42', '42.42'], dtype='<U32')"
      ]
     },
     "execution_count": 152,
     "metadata": {},
     "output_type": "execute_result"
    }
   ],
   "source": [
    "#dtype e tipo default\n",
    "\n",
    "print ('conversão e coereção')\n",
    "print ('dtype como argumento:')\n",
    "arr_float32 = np.array([2.14, 6.25, 160.87], dtype = np.float32)\n",
    "print(arr_float32)\n",
    "\n",
    "print ('conversão')\n",
    "arr_vf = np.array([[True, False], [True, False]], dtype = np.bool_)\n",
    "print(arr_vf.astype(np.int32))\n",
    "\n",
    "print ('coerção')\n",
    "np.array(['pedra', False, 42, 42.42])"
   ]
  },
  {
   "cell_type": "code",
   "execution_count": 153,
   "metadata": {},
   "outputs": [
    {
     "name": "stdout",
     "output_type": "stream",
     "text": [
      "Hierarquia de coerção\n",
      "adicionar um float a um array de int mudará todo os valores para float\n",
      "<module 'numpy' from 'c:\\\\Users\\\\lpgn\\\\AppData\\\\Local\\\\Programs\\\\Python\\\\Python312\\\\Lib\\\\site-packages\\\\numpy\\\\__init__.py'>\n",
      "<module 'numpy' from 'c:\\\\Users\\\\lpgn\\\\AppData\\\\Local\\\\Programs\\\\Python\\\\Python312\\\\Lib\\\\site-packages\\\\numpy\\\\__init__.py'>\n",
      "adicionar um inteiro em um array de booleanos transformará todo o array em inteiros\n",
      "<module 'numpy' from 'c:\\\\Users\\\\lpgn\\\\AppData\\\\Local\\\\Programs\\\\Python\\\\Python312\\\\Lib\\\\site-packages\\\\numpy\\\\__init__.py'>\n",
      "<module 'numpy' from 'c:\\\\Users\\\\lpgn\\\\AppData\\\\Local\\\\Programs\\\\Python\\\\Python312\\\\Lib\\\\site-packages\\\\numpy\\\\__init__.py'>\n"
     ]
    }
   ],
   "source": [
    "print ('Hierarquia de coerção')\n",
    "\n",
    "print ('adicionar um float a um array de int mudará todo os valores para float')\n",
    "np.array([0,10]).dtype\n",
    "print(np)\n",
    "\n",
    "np.array([0,10,1.]).dtype\n",
    "print(np)\n",
    "\n",
    "print ('adicionar um inteiro em um array de booleanos transformará todo o array em inteiros')\n",
    "np.array([True, False]).dtype\n",
    "print(np)\n",
    "\n",
    "np.array([True, False, 12]).dtype\n",
    "print (np)"
   ]
  },
  {
   "cell_type": "code",
   "execution_count": 154,
   "metadata": {},
   "outputs": [
    {
     "data": {
      "text/plain": [
       "dtype('float64')"
      ]
     },
     "execution_count": 154,
     "metadata": {},
     "output_type": "execute_result"
    }
   ],
   "source": [
    "np.array([5.4,6.7,2.1]).dtype"
   ]
  },
  {
   "cell_type": "code",
   "execution_count": 155,
   "metadata": {},
   "outputs": [
    {
     "data": {
      "text/plain": [
       "dtype('int32')"
      ]
     },
     "execution_count": 155,
     "metadata": {},
     "output_type": "execute_result"
    }
   ],
   "source": [
    "np.array([5,6,2]).dtype"
   ]
  },
  {
   "cell_type": "code",
   "execution_count": 156,
   "metadata": {},
   "outputs": [
    {
     "data": {
      "text/plain": [
       "dtype('<U12')"
      ]
     },
     "execution_count": 156,
     "metadata": {},
     "output_type": "execute_result"
    }
   ],
   "source": [
    "np.array(['hello', 'oi', 'womakerscode']).dtype"
   ]
  },
  {
   "cell_type": "code",
   "execution_count": 157,
   "metadata": {},
   "outputs": [
    {
     "data": {
      "text/plain": [
       "dtype('float64')"
      ]
     },
     "execution_count": 157,
     "metadata": {},
     "output_type": "execute_result"
    }
   ],
   "source": [
    "np.array([3,4,2.1]).dtype"
   ]
  },
  {
   "cell_type": "code",
   "execution_count": 158,
   "metadata": {},
   "outputs": [
    {
     "data": {
      "text/plain": [
       "dtype('int32')"
      ]
     },
     "execution_count": 158,
     "metadata": {},
     "output_type": "execute_result"
    }
   ],
   "source": [
    "np.array([True, 3, False]).dtype"
   ]
  },
  {
   "cell_type": "markdown",
   "metadata": {},
   "source": [
    "Index em um array de 1 dimensão"
   ]
  },
  {
   "cell_type": "code",
   "execution_count": 159,
   "metadata": {},
   "outputs": [
    {
     "name": "stdout",
     "output_type": "stream",
     "text": [
      "a indexação é a ordem dos dados e sempre começa com 0\n"
     ]
    },
    {
     "data": {
      "text/plain": [
       "6"
      ]
     },
     "execution_count": 159,
     "metadata": {},
     "output_type": "execute_result"
    }
   ],
   "source": [
    "print(\"a indexação é a ordem dos dados e sempre começa com 0\")\n",
    "arr = np.array ([2,4,6,8])\n",
    "arr[2]"
   ]
  },
  {
   "cell_type": "code",
   "execution_count": 160,
   "metadata": {},
   "outputs": [
    {
     "name": "stdout",
     "output_type": "stream",
     "text": [
      "para fatiar (slicing) um array de 2 dimensões, deve ser realizado no estilo arr[0:2], onde 0 é o index inicial 2 o index final\n"
     ]
    },
    {
     "data": {
      "text/plain": [
       "array([2, 4])"
      ]
     },
     "execution_count": 160,
     "metadata": {},
     "output_type": "execute_result"
    }
   ],
   "source": [
    "print ('para fatiar (slicing) um array de 2 dimensões, deve ser realizado no estilo arr[0:2], onde 0 é o index inicial 2 o index final')\n",
    "arr[0:2]"
   ]
  },
  {
   "cell_type": "markdown",
   "metadata": {},
   "source": [
    "Index em um array de 2 dimensões"
   ]
  },
  {
   "cell_type": "code",
   "execution_count": 161,
   "metadata": {},
   "outputs": [
    {
     "name": "stdout",
     "output_type": "stream",
     "text": [
      "a indexação em um array de 2 dimensões envolve linha x coluna\n"
     ]
    },
    {
     "data": {
      "text/plain": [
       "array([[16, 10,  3, 15],\n",
       "       [14, 23, 17, 27],\n",
       "       [ 6, 19,  3,  1],\n",
       "       [10,  4, 18, 19]])"
      ]
     },
     "execution_count": 161,
     "metadata": {},
     "output_type": "execute_result"
    }
   ],
   "source": [
    "print (\"a indexação em um array de 2 dimensões envolve linha x coluna\")\n",
    "arr = np.array([[16,10,3,15], [14,23,17,27], [6,19,3,1], [10,4,18,19]])\n",
    "arr"
   ]
  },
  {
   "cell_type": "code",
   "execution_count": 162,
   "metadata": {},
   "outputs": [
    {
     "name": "stdout",
     "output_type": "stream",
     "text": [
      "indexação de apenas um elemento será no estilo arr[1,3]\n"
     ]
    },
    {
     "data": {
      "text/plain": [
       "27"
      ]
     },
     "execution_count": 162,
     "metadata": {},
     "output_type": "execute_result"
    }
   ],
   "source": [
    "print(\"indexação de apenas um elemento será no estilo arr[1,3]\")\n",
    "arr[1,3]"
   ]
  },
  {
   "cell_type": "code",
   "execution_count": 163,
   "metadata": {},
   "outputs": [
    {
     "name": "stdout",
     "output_type": "stream",
     "text": [
      "a indexação de uma linha inteira será no estilo arr[0]\n"
     ]
    },
    {
     "data": {
      "text/plain": [
       "array([16, 10,  3, 15])"
      ]
     },
     "execution_count": 163,
     "metadata": {},
     "output_type": "execute_result"
    }
   ],
   "source": [
    "print (\"a indexação de uma linha inteira será no estilo arr[0]\")\n",
    "arr[0]"
   ]
  },
  {
   "cell_type": "code",
   "execution_count": 164,
   "metadata": {},
   "outputs": [
    {
     "name": "stdout",
     "output_type": "stream",
     "text": [
      "a indexação de uma coluna inteira será no estilo arr[:,1]\n"
     ]
    },
    {
     "data": {
      "text/plain": [
       "array([10, 23, 19,  4])"
      ]
     },
     "execution_count": 164,
     "metadata": {},
     "output_type": "execute_result"
    }
   ],
   "source": [
    "print('a indexação de uma coluna inteira será no estilo arr[:,1]')\n",
    "arr[:,1]"
   ]
  },
  {
   "cell_type": "code",
   "execution_count": 165,
   "metadata": {},
   "outputs": [
    {
     "name": "stdout",
     "output_type": "stream",
     "text": [
      "para fatiar (slicing) um array de 2 dimensões, deve ser realizado no estilo arr[1:3,0:2], onde 1 e 0 é o index inicial e 3 e 2 o index final\n"
     ]
    },
    {
     "data": {
      "text/plain": [
       "array([[14, 23],\n",
       "       [ 6, 19]])"
      ]
     },
     "execution_count": 165,
     "metadata": {},
     "output_type": "execute_result"
    }
   ],
   "source": [
    "print ('para fatiar (slicing) um array de 2 dimensões, deve ser realizado no estilo arr[1:3,0:2], onde 1 e 0 é o index inicial e 3 e 2 o index final')\n",
    "arr[1:3,0:2]"
   ]
  },
  {
   "cell_type": "code",
   "execution_count": 166,
   "metadata": {},
   "outputs": [
    {
     "name": "stdout",
     "output_type": "stream",
     "text": [
      "ordenar (sorting) um array trabalha com a ordenação dos elemntos, de forma que cada linha fique com elementos crescentes\n"
     ]
    },
    {
     "data": {
      "text/plain": [
       "array([[ 3, 10, 15, 16],\n",
       "       [14, 17, 23, 27],\n",
       "       [ 1,  3,  6, 19],\n",
       "       [ 4, 10, 18, 19]])"
      ]
     },
     "execution_count": 166,
     "metadata": {},
     "output_type": "execute_result"
    }
   ],
   "source": [
    "print ('ordenar (sorting) um array trabalha com a ordenação dos elemntos, de forma que cada linha fique com elementos crescentes')\n",
    "np.sort(arr)"
   ]
  },
  {
   "cell_type": "code",
   "execution_count": 167,
   "metadata": {},
   "outputs": [
    {
     "name": "stdout",
     "output_type": "stream",
     "text": [
      "o eixo 0 sempre será a linha horizontal e o eixo 1 sempre será a linha vertical, desta forma pode ser utilizado o eixo para ordenação\n",
      "para ordenar com o eixo 0, o eixo horizontal:\n"
     ]
    },
    {
     "data": {
      "text/plain": [
       "array([[ 6,  4,  3,  1],\n",
       "       [10, 10,  3, 15],\n",
       "       [14, 19, 17, 19],\n",
       "       [16, 23, 18, 27]])"
      ]
     },
     "execution_count": 167,
     "metadata": {},
     "output_type": "execute_result"
    }
   ],
   "source": [
    "print ('o eixo 0 sempre será a linha horizontal e o eixo 1 sempre será a linha vertical, desta forma pode ser utilizado o eixo para ordenação')\n",
    "print ('para ordenar com o eixo 0, o eixo horizontal:')\n",
    "np.sort(arr, axis=0)"
   ]
  },
  {
   "cell_type": "code",
   "execution_count": 168,
   "metadata": {},
   "outputs": [
    {
     "name": "stdout",
     "output_type": "stream",
     "text": [
      "a forma default sempre vai contar com o eixo 1, mas tbm pode ser ordenado da seguinte forma:\n"
     ]
    },
    {
     "data": {
      "text/plain": [
       "array([[ 3, 10, 15, 16],\n",
       "       [14, 17, 23, 27],\n",
       "       [ 1,  3,  6, 19],\n",
       "       [ 4, 10, 18, 19]])"
      ]
     },
     "execution_count": 168,
     "metadata": {},
     "output_type": "execute_result"
    }
   ],
   "source": [
    "print ('a forma default sempre vai contar com o eixo 1, mas tbm pode ser ordenado da seguinte forma:')\n",
    "np.sort(arr, axis=1)"
   ]
  },
  {
   "cell_type": "markdown",
   "metadata": {},
   "source": [
    "7. Explorando ecossistema:\n",
    "Como bióloga marinha, me encontrei em uma expedição nas profundezas do Oceano Pacífico, onde estávamos estudando a biodiversidade e a saúde dos recifes de coral. O catálogo abaixo demonstra dados das espécies encontradas. Considere a seguinte ordem de colunas:\n",
    "\n",
    "*ID da espécie, quantidade de representantes encontrados, profundeza, tamanho médio da espécie*\n",
    "\n",
    "- Selecione a segunda coluna com a quantidade de espécies encontradas e adicione em um array como 'qnt_especies'\n",
    "- De qnt_especies selecione apenas as primeiras 3 quantidades e print\n",
    "- Print as 5 últimas quantidades de espécies\n",
    "- Crie um array que contenha apenas os tamanhos das espécies e ordene por ordem crescente"
   ]
  },
  {
   "cell_type": "code",
   "execution_count": 169,
   "metadata": {},
   "outputs": [
    {
     "data": {
      "text/plain": [
       "array([[747,  89,  33,   5],\n",
       "       [623, 123,  32,  13],\n",
       "       [501,  22,  49,   2],\n",
       "       [116, 101,  49,   2],\n",
       "       [297,  56,  69,  22],\n",
       "       [613,  64,  27,   7],\n",
       "       [295,  84,  29,  14],\n",
       "       [692, 105,  72,  16],\n",
       "       [229, 103,  35,   5],\n",
       "       [374, 124,  70,   1]])"
      ]
     },
     "execution_count": 169,
     "metadata": {},
     "output_type": "execute_result"
    }
   ],
   "source": [
    "especies = np.array([\n",
    "                    [747,  89, 33,  5],\n",
    "                    [623, 123, 32, 13],\n",
    "                    [501,  22, 49,  2],\n",
    "                    [116, 101, 49,  2],\n",
    "                    [297,  56, 69, 22],\n",
    "                    [613,  64, 27,  7],\n",
    "                    [295,  84, 29, 14],\n",
    "                    [692, 105, 72, 16],\n",
    "                    [229, 103, 35,  5],\n",
    "                    [374, 124, 70,  1]\n",
    "])\n",
    "especies"
   ]
  },
  {
   "cell_type": "code",
   "execution_count": 170,
   "metadata": {},
   "outputs": [
    {
     "name": "stdout",
     "output_type": "stream",
     "text": [
      "Selecione a segunda coluna com a quantidade de espécies encontradas e adicione em um array como 'qnt_especies'\n"
     ]
    },
    {
     "data": {
      "text/plain": [
       "array([ 89, 123,  22, 101,  56,  64,  84, 105, 103, 124])"
      ]
     },
     "execution_count": 170,
     "metadata": {},
     "output_type": "execute_result"
    }
   ],
   "source": [
    "print(\"Selecione a segunda coluna com a quantidade de espécies encontradas e adicione em um array como 'qnt_especies'\")\n",
    "qnt_especies = especies[:,1]\n",
    "qnt_especies\n"
   ]
  },
  {
   "cell_type": "code",
   "execution_count": 171,
   "metadata": {},
   "outputs": [
    {
     "name": "stdout",
     "output_type": "stream",
     "text": [
      "De qnt_especies selecione apenas as primeiras 3 quantidades e print\n"
     ]
    },
    {
     "data": {
      "text/plain": [
       "array([ 89, 123,  22])"
      ]
     },
     "execution_count": 171,
     "metadata": {},
     "output_type": "execute_result"
    }
   ],
   "source": [
    "print(\"De qnt_especies selecione apenas as primeiras 3 quantidades e print\")\n",
    "qnt_especies[0:3]"
   ]
  },
  {
   "cell_type": "code",
   "execution_count": 172,
   "metadata": {},
   "outputs": [
    {
     "name": "stdout",
     "output_type": "stream",
     "text": [
      "Print as 5 últimas quantidades de espécies\n"
     ]
    },
    {
     "data": {
      "text/plain": [
       "array([ 64,  84, 105, 103, 124])"
      ]
     },
     "execution_count": 172,
     "metadata": {},
     "output_type": "execute_result"
    }
   ],
   "source": [
    "print(\"Print as 5 últimas quantidades de espécies\")\n",
    "qnt_especies[-5:]"
   ]
  },
  {
   "cell_type": "code",
   "execution_count": 173,
   "metadata": {},
   "outputs": [
    {
     "name": "stdout",
     "output_type": "stream",
     "text": [
      "Crie um array que contenha apenas os tamanhos das espécies e ordene por ordem crescente\n"
     ]
    },
    {
     "data": {
      "text/plain": [
       "array([ 1,  2,  2,  5,  5,  7, 13, 14, 16, 22])"
      ]
     },
     "execution_count": 173,
     "metadata": {},
     "output_type": "execute_result"
    }
   ],
   "source": [
    "print (\"Crie um array que contenha apenas os tamanhos das espécies e ordene por ordem crescente\")\n",
    "np.sort(especies[:,3])"
   ]
  },
  {
   "cell_type": "markdown",
   "metadata": {},
   "source": [
    "Filtrando arrays"
   ]
  },
  {
   "cell_type": "code",
   "execution_count": 174,
   "metadata": {},
   "outputs": [
    {
     "name": "stdout",
     "output_type": "stream",
     "text": [
      "pode ser por indexação sofisticada (fancy indexing) ou máscara (mask) em array 2d\n",
      "exemplo utilizando com máscaras:\n"
     ]
    },
    {
     "data": {
      "text/plain": [
       "array([ True, False, False,  True])"
      ]
     },
     "execution_count": 174,
     "metadata": {},
     "output_type": "execute_result"
    }
   ],
   "source": [
    "print (\"pode ser por indexação sofisticada (fancy indexing) ou máscara (mask) em array 2d\")\n",
    "pessoas_id_idade = np.array([[1,22], [2,21], [3,27], [4,26]])\n",
    "print (\"exemplo utilizando com máscaras:\")\n",
    "pessoas_id_idade[:,1]%2==0\n"
   ]
  },
  {
   "cell_type": "code",
   "execution_count": 175,
   "metadata": {},
   "outputs": [
    {
     "name": "stdout",
     "output_type": "stream",
     "text": [
      "boolean mask: returna um array de verdadeiros e falsos\n"
     ]
    },
    {
     "data": {
      "text/plain": [
       "array([False,  True, False,  True, False])"
      ]
     },
     "execution_count": 175,
     "metadata": {},
     "output_type": "execute_result"
    }
   ],
   "source": [
    "print (\"boolean mask: returna um array de verdadeiros e falsos\")\n",
    "arr1 = np.array([1,2,3,4,5])\n",
    "mask = arr1%2==0\n",
    "mask"
   ]
  },
  {
   "cell_type": "code",
   "execution_count": 176,
   "metadata": {},
   "outputs": [
    {
     "name": "stdout",
     "output_type": "stream",
     "text": [
      "fancy indexing: retorna os valores do array quando passado a máscara\n"
     ]
    },
    {
     "data": {
      "text/plain": [
       "array([2, 4])"
      ]
     },
     "execution_count": 176,
     "metadata": {},
     "output_type": "execute_result"
    }
   ],
   "source": [
    "print(\"fancy indexing: retorna os valores do array quando passado a máscara\")\n",
    "arr1[mask]"
   ]
  },
  {
   "cell_type": "code",
   "execution_count": 182,
   "metadata": {},
   "outputs": [
    {
     "name": "stdout",
     "output_type": "stream",
     "text": [
      "np.wehere() retorna um array de indices, cria uma matriz com base em se os elementos corrspondem ou não a uma condição\n"
     ]
    },
    {
     "ename": "TypeError",
     "evalue": "unsupported operand type(s) for %: 'list' and 'int'",
     "output_type": "error",
     "traceback": [
      "\u001b[1;31m---------------------------------------------------------------------------\u001b[0m",
      "\u001b[1;31mTypeError\u001b[0m                                 Traceback (most recent call last)",
      "Cell \u001b[1;32mIn[182], line 10\u001b[0m\n\u001b[0;32m      1\u001b[0m cartela_bingo \u001b[38;5;241m=\u001b[39m ([\n\u001b[0;32m      2\u001b[0m                 [\u001b[38;5;241m16\u001b[39m, \u001b[38;5;241m10\u001b[39m,  \u001b[38;5;241m3\u001b[39m, \u001b[38;5;241m15\u001b[39m],\n\u001b[0;32m      3\u001b[0m                 [\u001b[38;5;241m14\u001b[39m, \u001b[38;5;241m23\u001b[39m, \u001b[38;5;241m17\u001b[39m, \u001b[38;5;241m27\u001b[39m],\n\u001b[0;32m      4\u001b[0m                 [ \u001b[38;5;241m6\u001b[39m, \u001b[38;5;241m19\u001b[39m,  \u001b[38;5;241m3\u001b[39m,  \u001b[38;5;241m1\u001b[39m], \n\u001b[0;32m      5\u001b[0m                 [\u001b[38;5;241m10\u001b[39m,  \u001b[38;5;241m4\u001b[39m, \u001b[38;5;241m18\u001b[39m, \u001b[38;5;241m19\u001b[39m]\n\u001b[0;32m      6\u001b[0m ])\n\u001b[0;32m      8\u001b[0m \u001b[38;5;28mprint\u001b[39m (\u001b[38;5;124m\"\u001b[39m\u001b[38;5;124mnp.wehere() retorna um array de indices, cria uma matriz com base em se os elementos corrspondem ou não a uma condição\u001b[39m\u001b[38;5;124m\"\u001b[39m)\n\u001b[1;32m---> 10\u001b[0m np\u001b[38;5;241m.\u001b[39mwhere(\u001b[43mcartela_bingo\u001b[49m\u001b[43m \u001b[49m\u001b[38;5;241;43m%\u001b[39;49m\u001b[43m \u001b[49m\u001b[38;5;241;43m3\u001b[39;49m \u001b[38;5;241m==\u001b[39m \u001b[38;5;241m0\u001b[39m, \u001b[38;5;124m\"\u001b[39m\u001b[38;5;124m\"\u001b[39m, cartela_bingo)\n",
      "\u001b[1;31mTypeError\u001b[0m: unsupported operand type(s) for %: 'list' and 'int'"
     ]
    }
   ],
   "source": [
    "cartela_bingo = ([\n",
    "                [16, 10,  3, 15],\n",
    "                [14, 23, 17, 27],\n",
    "                [ 6, 19,  3,  1], \n",
    "                [10,  4, 18, 19]\n",
    "])\n",
    "\n",
    "print (\"np.wehere() retorna um array de indices, cria uma matriz com base em se os elementos corrspondem ou não a uma condição\")\n",
    "\n",
    "np.where(cartela_bingo % 3 == 0, \"\", cartela_bingo)"
   ]
  },
  {
   "cell_type": "code",
   "execution_count": 180,
   "metadata": {},
   "outputs": [
    {
     "data": {
      "text/plain": [
       "(array([0, 3], dtype=int64),)"
      ]
     },
     "execution_count": 180,
     "metadata": {},
     "output_type": "execute_result"
    }
   ],
   "source": [
    "np.where(pessoas_id_idade[:,1]%2==0)"
   ]
  },
  {
   "cell_type": "code",
   "execution_count": 185,
   "metadata": {},
   "outputs": [
    {
     "name": "stdout",
     "output_type": "stream",
     "text": [
      "[[ 1 22]\n",
      " [ 2 21]\n",
      " [ 3 27]\n",
      " [ 4 26]]\n",
      "imprime pessoas maiores de 21 anos\n",
      "[ True False  True  True]\n",
      "imprime id e idade de pessoas maior que 21\n"
     ]
    },
    {
     "data": {
      "text/plain": [
       "array([[ 1, 22],\n",
       "       [ 3, 27],\n",
       "       [ 4, 26]])"
      ]
     },
     "execution_count": 185,
     "metadata": {},
     "output_type": "execute_result"
    }
   ],
   "source": [
    "print(pessoas_id_idade)\n",
    "print('imprime pessoas maiores de 21 anos')\n",
    "mask_maior21 = pessoas_id_idade[:,1]>21\n",
    "print(mask_maior21)\n",
    "print ('imprime id e idade de pessoas maior que 21')\n",
    "pessoas_id_idade[mask_maior21]"
   ]
  },
  {
   "cell_type": "code",
   "execution_count": 187,
   "metadata": {},
   "outputs": [
    {
     "name": "stdout",
     "output_type": "stream",
     "text": [
      "imprime indice dos maiores de 21\n"
     ]
    },
    {
     "data": {
      "text/plain": [
       "(array([0, 2, 3], dtype=int64),)"
      ]
     },
     "execution_count": 187,
     "metadata": {},
     "output_type": "execute_result"
    }
   ],
   "source": [
    "print('imprime indice dos maiores de 21')\n",
    "np.where(mask_maior21)"
   ]
  }
 ],
 "metadata": {
  "kernelspec": {
   "display_name": "Python 3",
   "language": "python",
   "name": "python3"
  },
  "language_info": {
   "codemirror_mode": {
    "name": "ipython",
    "version": 3
   },
   "file_extension": ".py",
   "mimetype": "text/x-python",
   "name": "python",
   "nbconvert_exporter": "python",
   "pygments_lexer": "ipython3",
   "version": "3.12.1"
  }
 },
 "nbformat": 4,
 "nbformat_minor": 2
}
