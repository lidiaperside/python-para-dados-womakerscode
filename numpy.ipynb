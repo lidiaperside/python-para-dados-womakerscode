{
 "cells": [
  {
   "cell_type": "code",
   "execution_count": 1,
   "metadata": {},
   "outputs": [],
   "source": [
    "import numpy as np"
   ]
  },
  {
   "cell_type": "code",
   "execution_count": 2,
   "metadata": {},
   "outputs": [],
   "source": [
    "l = [1, 2, 3, 4]"
   ]
  },
  {
   "cell_type": "code",
   "execution_count": 3,
   "metadata": {},
   "outputs": [
    {
     "data": {
      "text/plain": [
       "array([1, 2, 3, 4])"
      ]
     },
     "execution_count": 3,
     "metadata": {},
     "output_type": "execute_result"
    }
   ],
   "source": [
    "arr1 = np.array(l)\n",
    "arr1"
   ]
  },
  {
   "cell_type": "code",
   "execution_count": 4,
   "metadata": {},
   "outputs": [
    {
     "data": {
      "text/plain": [
       "array([[0., 0.],\n",
       "       [0., 0.]])"
      ]
     },
     "execution_count": 4,
     "metadata": {},
     "output_type": "execute_result"
    }
   ],
   "source": [
    "#Criando um numpy array do zero\n",
    "a = np.zeros((2,2)) #recebe uma tupla 2x2\n",
    "a"
   ]
  },
  {
   "cell_type": "code",
   "execution_count": 5,
   "metadata": {},
   "outputs": [
    {
     "data": {
      "text/plain": [
       "array([0, 1, 2])"
      ]
     },
     "execution_count": 5,
     "metadata": {},
     "output_type": "execute_result"
    }
   ],
   "source": [
    "b = np.arange(0,3) #sinaliza onde inicializa e onde termina -1\n",
    "b"
   ]
  },
  {
   "cell_type": "code",
   "execution_count": 6,
   "metadata": {},
   "outputs": [
    {
     "data": {
      "text/plain": [
       "array([[0.54783893, 0.71789657, 0.86975425],\n",
       "       [0.28364779, 0.10431014, 0.13582276],\n",
       "       [0.62018378, 0.07999213, 0.19053351]])"
      ]
     },
     "execution_count": 6,
     "metadata": {},
     "output_type": "execute_result"
    }
   ],
   "source": [
    "c = np.random.random((3,3)) #recebe uma tupla randonica\n",
    "c"
   ]
  },
  {
   "cell_type": "markdown",
   "metadata": {},
   "source": [
    "1. Crie um array com 4 linhas e 3 colunas com valores aleatórios"
   ]
  },
  {
   "cell_type": "code",
   "execution_count": 7,
   "metadata": {},
   "outputs": [
    {
     "data": {
      "text/plain": [
       "array([[0.4309007 , 0.2744321 , 0.03809759],\n",
       "       [0.82227574, 0.43706454, 0.76976   ],\n",
       "       [0.80017832, 0.92714393, 0.76482884],\n",
       "       [0.8413781 , 0.52633137, 0.5245777 ]])"
      ]
     },
     "execution_count": 7,
     "metadata": {},
     "output_type": "execute_result"
    }
   ],
   "source": [
    "arrayRandom = np.random.random((4,3))\n",
    "arrayRandom"
   ]
  },
  {
   "cell_type": "markdown",
   "metadata": {},
   "source": [
    "2. Crie um array com 5 colunas e 10 linhas inicializados com zeros"
   ]
  },
  {
   "cell_type": "code",
   "execution_count": 8,
   "metadata": {},
   "outputs": [
    {
     "data": {
      "text/plain": [
       "array([[0., 0., 0., 0., 0.],\n",
       "       [0., 0., 0., 0., 0.],\n",
       "       [0., 0., 0., 0., 0.],\n",
       "       [0., 0., 0., 0., 0.],\n",
       "       [0., 0., 0., 0., 0.],\n",
       "       [0., 0., 0., 0., 0.],\n",
       "       [0., 0., 0., 0., 0.],\n",
       "       [0., 0., 0., 0., 0.],\n",
       "       [0., 0., 0., 0., 0.],\n",
       "       [0., 0., 0., 0., 0.]])"
      ]
     },
     "execution_count": 8,
     "metadata": {},
     "output_type": "execute_result"
    }
   ],
   "source": [
    "arrayZero = np.zeros((10,5))\n",
    "arrayZero"
   ]
  },
  {
   "cell_type": "markdown",
   "metadata": {},
   "source": [
    "3. Crie um array com valoes inteiros com 3 linhas e 5 colunas com valores aleatórios"
   ]
  },
  {
   "cell_type": "code",
   "execution_count": 9,
   "metadata": {},
   "outputs": [
    {
     "data": {
      "text/plain": [
       "array([[21, 26, 13, 22, 25],\n",
       "       [13, 18, 26, 20, 23],\n",
       "       [17, 23, 12, 13, 16]])"
      ]
     },
     "execution_count": 9,
     "metadata": {},
     "output_type": "execute_result"
    }
   ],
   "source": [
    "arrayRandomInteiro = np.random.randint(10, 30, size=(3,5)) #valores aleatórios a partir do 10 até 29\n",
    "arrayRandomInteiro"
   ]
  },
  {
   "cell_type": "code",
   "execution_count": 10,
   "metadata": {},
   "outputs": [
    {
     "data": {
      "text/plain": [
       "array([[[1, 2],\n",
       "        [3, 4]],\n",
       "\n",
       "       [[5, 6],\n",
       "        [7, 8]],\n",
       "\n",
       "       [[9, 2],\n",
       "        [3, 4]]])"
      ]
     },
     "execution_count": 10,
     "metadata": {},
     "output_type": "execute_result"
    }
   ],
   "source": [
    "#Array 3D\n",
    "\n",
    "arr1_2d = np.array([[1,2],[3,4]])\n",
    "arr2_2d = np.array([[5,6],[7,8]])\n",
    "arr3_2d = np.array([[9,2],[3,4]])\n",
    "\n",
    "arr_3d = np.array([arr1_2d, arr2_2d, arr3_2d])\n",
    "arr_3d"
   ]
  },
  {
   "cell_type": "code",
   "execution_count": 11,
   "metadata": {},
   "outputs": [
    {
     "name": "stdout",
     "output_type": "stream",
     "text": [
      "[[0. 0. 0. 0.]\n",
      " [0. 0. 0. 0.]]\n"
     ]
    },
    {
     "data": {
      "text/plain": [
       "(2, 4)"
      ]
     },
     "execution_count": 11,
     "metadata": {},
     "output_type": "execute_result"
    }
   ],
   "source": [
    "#Shape -> quantas dimensões\n",
    "arrShape = np.zeros((2,4))\n",
    "print (arrShape)\n",
    "\n",
    "arrShape.shape"
   ]
  },
  {
   "cell_type": "code",
   "execution_count": 12,
   "metadata": {},
   "outputs": [
    {
     "name": "stdout",
     "output_type": "stream",
     "text": [
      "[[1 2 3 3]\n",
      " [4 5 6 6]\n",
      " [7 8 9 9]]\n"
     ]
    },
    {
     "data": {
      "text/plain": [
       "array([1, 2, 3, 3, 4, 5, 6, 6, 7, 8, 9, 9])"
      ]
     },
     "execution_count": 12,
     "metadata": {},
     "output_type": "execute_result"
    }
   ],
   "source": [
    "#Flatten -> achatando a matriz\n",
    "arrFlatten = np.array ([[1,2,3,3], [4,5,6,6], [7,8,9,9]])\n",
    "print (arrFlatten)\n",
    "\n",
    "arrFlatten.flatten()"
   ]
  },
  {
   "cell_type": "code",
   "execution_count": 13,
   "metadata": {},
   "outputs": [
    {
     "name": "stdout",
     "output_type": "stream",
     "text": [
      "array padrão\n",
      "[[ 3  4  2]\n",
      " [ 8 11  5]]\n",
      "sempre deve ser compativel com a quantidade de elementos, o exemplo acima é 2x3, ou seja, 6 elementos, por isso:\n",
      "array 3x2\n",
      "[[ 3  4]\n",
      " [ 2  8]\n",
      " [11  5]]\n",
      "array 6x1\n",
      "[[ 3]\n",
      " [ 4]\n",
      " [ 2]\n",
      " [ 8]\n",
      " [11]\n",
      " [ 5]]\n"
     ]
    }
   ],
   "source": [
    "#Reshape -> mudando as dimensões\n",
    "arrReshape = np.array([[3,4,2], [8,11,5]])\n",
    "print ('array padrão')\n",
    "print (arrReshape)\n",
    "\n",
    "#O reshape sempre deve ser compativel com a quantidade de elementos, por exemplo:\n",
    "print ('sempre deve ser compativel com a quantidade de elementos, o exemplo acima é 2x3, ou seja, 6 elementos, por isso:')\n",
    "print ('array 3x2')\n",
    "print(arrReshape.reshape((3,2)))\n",
    "print ('array 6x1')\n",
    "print(arrReshape.reshape((6,1)))"
   ]
  },
  {
   "cell_type": "markdown",
   "metadata": {},
   "source": [
    "4. Reduza o array (5,7) a apenas uma dimensão"
   ]
  },
  {
   "cell_type": "code",
   "execution_count": 14,
   "metadata": {},
   "outputs": [
    {
     "name": "stdout",
     "output_type": "stream",
     "text": [
      "[[0. 0. 0. 0. 0. 0. 0.]\n",
      " [0. 0. 0. 0. 0. 0. 0.]\n",
      " [0. 0. 0. 0. 0. 0. 0.]\n",
      " [0. 0. 0. 0. 0. 0. 0.]\n",
      " [0. 0. 0. 0. 0. 0. 0.]]\n",
      "transformando para uma dimensão: \n",
      "[0. 0. 0. 0. 0. 0. 0. 0. 0. 0. 0. 0. 0. 0. 0. 0. 0. 0. 0. 0. 0. 0. 0. 0.\n",
      " 0. 0. 0. 0. 0. 0. 0. 0. 0. 0. 0.]\n"
     ]
    }
   ],
   "source": [
    "array4 = np.zeros((5,7))\n",
    "print (array4)\n",
    "\n",
    "print ('transformando para uma dimensão: ')\n",
    "array4 = array4.flatten()\n",
    "print(array4)"
   ]
  },
  {
   "cell_type": "markdown",
   "metadata": {},
   "source": [
    "5. Considerando que você é uma organizadora de um jogo de bingo, crie um array que irá representar a cartilha desses jogos de bingo. Os números de suas cartelas variam entre 1 a 30, e você terá 10 participantes. Cada cartela terá 12 números (4,3).\n",
    "\n",
    "Crie um array que represente esse jogo:"
   ]
  },
  {
   "cell_type": "code",
   "execution_count": 15,
   "metadata": {},
   "outputs": [
    {
     "name": "stdout",
     "output_type": "stream",
     "text": [
      "[[[ 4  6 22]\n",
      "  [ 1  2 11]\n",
      "  [14 18 24]\n",
      "  [14 18 18]]\n",
      "\n",
      " [[ 3 13  8]\n",
      "  [ 7 15 19]\n",
      "  [23  4  1]\n",
      "  [16 16  7]]\n",
      "\n",
      " [[ 4 15  9]\n",
      "  [29 18  5]\n",
      "  [26 28  4]\n",
      "  [26 23 27]]\n",
      "\n",
      " [[26 12  4]\n",
      "  [11  8  4]\n",
      "  [20  1  3]\n",
      "  [22  2  1]]\n",
      "\n",
      " [[16 26 11]\n",
      "  [16 25  6]\n",
      "  [30 18  9]\n",
      "  [ 8 16  8]]\n",
      "\n",
      " [[ 6  7 22]\n",
      "  [17  5  2]\n",
      "  [21  5 12]\n",
      "  [ 3 21  7]]\n",
      "\n",
      " [[18 18 14]\n",
      "  [22 11 30]\n",
      "  [28  3  9]\n",
      "  [ 6 17 15]]\n",
      "\n",
      " [[22 19  5]\n",
      "  [ 1 11 24]\n",
      "  [25 30 14]\n",
      "  [30 21  4]]\n",
      "\n",
      " [[12 18 15]\n",
      "  [ 2 22 24]\n",
      "  [12  9 17]\n",
      "  [30 11  6]]\n",
      "\n",
      " [[12 24 21]\n",
      "  [25 16 15]\n",
      "  [ 7 10 18]\n",
      "  [17 17 15]]]\n"
     ]
    }
   ],
   "source": [
    "bingo = np.random.randint(1,31, size=(10,4,3))\n",
    "print(bingo)"
   ]
  },
  {
   "cell_type": "markdown",
   "metadata": {},
   "source": [
    "6. Faça o reshape das suas cartelas para que haja 5 cartelas de 4 linhas e 6 colunas"
   ]
  },
  {
   "cell_type": "code",
   "execution_count": 16,
   "metadata": {},
   "outputs": [
    {
     "data": {
      "text/plain": [
       "array([[[ 4,  6, 22,  1,  2, 11],\n",
       "        [14, 18, 24, 14, 18, 18],\n",
       "        [ 3, 13,  8,  7, 15, 19],\n",
       "        [23,  4,  1, 16, 16,  7]],\n",
       "\n",
       "       [[ 4, 15,  9, 29, 18,  5],\n",
       "        [26, 28,  4, 26, 23, 27],\n",
       "        [26, 12,  4, 11,  8,  4],\n",
       "        [20,  1,  3, 22,  2,  1]],\n",
       "\n",
       "       [[16, 26, 11, 16, 25,  6],\n",
       "        [30, 18,  9,  8, 16,  8],\n",
       "        [ 6,  7, 22, 17,  5,  2],\n",
       "        [21,  5, 12,  3, 21,  7]],\n",
       "\n",
       "       [[18, 18, 14, 22, 11, 30],\n",
       "        [28,  3,  9,  6, 17, 15],\n",
       "        [22, 19,  5,  1, 11, 24],\n",
       "        [25, 30, 14, 30, 21,  4]],\n",
       "\n",
       "       [[12, 18, 15,  2, 22, 24],\n",
       "        [12,  9, 17, 30, 11,  6],\n",
       "        [12, 24, 21, 25, 16, 15],\n",
       "        [ 7, 10, 18, 17, 17, 15]]])"
      ]
     },
     "execution_count": 16,
     "metadata": {},
     "output_type": "execute_result"
    }
   ],
   "source": [
    "bingo.reshape((5,4,6))"
   ]
  },
  {
   "cell_type": "markdown",
   "metadata": {},
   "source": [
    "Tipos de dados em NumPy vs python"
   ]
  },
  {
   "cell_type": "code",
   "execution_count": 17,
   "metadata": {},
   "outputs": [
    {
     "name": "stdout",
     "output_type": "stream",
     "text": [
      "conversão e coereção\n",
      "dtype como argumento:\n",
      "[  2.14   6.25 160.87]\n",
      "conversão\n",
      "[[1 0]\n",
      " [1 0]]\n",
      "coerção\n"
     ]
    },
    {
     "data": {
      "text/plain": [
       "array(['pedra', 'False', '42', '42.42'], dtype='<U32')"
      ]
     },
     "execution_count": 17,
     "metadata": {},
     "output_type": "execute_result"
    }
   ],
   "source": [
    "#dtype e tipo default\n",
    "\n",
    "print ('conversão e coereção')\n",
    "print ('dtype como argumento:')\n",
    "arr_float32 = np.array([2.14, 6.25, 160.87], dtype = np.float32)\n",
    "print(arr_float32)\n",
    "\n",
    "print ('conversão')\n",
    "arr_vf = np.array([[True, False], [True, False]], dtype = np.bool_)\n",
    "print(arr_vf.astype(np.int32))\n",
    "\n",
    "print ('coerção')\n",
    "np.array(['pedra', False, 42, 42.42])"
   ]
  },
  {
   "cell_type": "code",
   "execution_count": 18,
   "metadata": {},
   "outputs": [
    {
     "name": "stdout",
     "output_type": "stream",
     "text": [
      "Hierarquia de coerção\n",
      "adicionar um float a um array de int mudará todo os valores para float\n",
      "<module 'numpy' from 'c:\\\\Users\\\\lpgn\\\\AppData\\\\Local\\\\Programs\\\\Python\\\\Python312\\\\Lib\\\\site-packages\\\\numpy\\\\__init__.py'>\n",
      "<module 'numpy' from 'c:\\\\Users\\\\lpgn\\\\AppData\\\\Local\\\\Programs\\\\Python\\\\Python312\\\\Lib\\\\site-packages\\\\numpy\\\\__init__.py'>\n",
      "adicionar um inteiro em um array de booleanos transformará todo o array em inteiros\n",
      "<module 'numpy' from 'c:\\\\Users\\\\lpgn\\\\AppData\\\\Local\\\\Programs\\\\Python\\\\Python312\\\\Lib\\\\site-packages\\\\numpy\\\\__init__.py'>\n",
      "<module 'numpy' from 'c:\\\\Users\\\\lpgn\\\\AppData\\\\Local\\\\Programs\\\\Python\\\\Python312\\\\Lib\\\\site-packages\\\\numpy\\\\__init__.py'>\n"
     ]
    }
   ],
   "source": [
    "print ('Hierarquia de coerção')\n",
    "\n",
    "print ('adicionar um float a um array de int mudará todo os valores para float')\n",
    "np.array([0,10]).dtype\n",
    "print(np)\n",
    "\n",
    "np.array([0,10,1.]).dtype\n",
    "print(np)\n",
    "\n",
    "print ('adicionar um inteiro em um array de booleanos transformará todo o array em inteiros')\n",
    "np.array([True, False]).dtype\n",
    "print(np)\n",
    "\n",
    "np.array([True, False, 12]).dtype\n",
    "print (np)"
   ]
  },
  {
   "cell_type": "code",
   "execution_count": 19,
   "metadata": {},
   "outputs": [
    {
     "data": {
      "text/plain": [
       "dtype('float64')"
      ]
     },
     "execution_count": 19,
     "metadata": {},
     "output_type": "execute_result"
    }
   ],
   "source": [
    "np.array([5.4,6.7,2.1]).dtype"
   ]
  },
  {
   "cell_type": "code",
   "execution_count": 20,
   "metadata": {},
   "outputs": [
    {
     "data": {
      "text/plain": [
       "dtype('int32')"
      ]
     },
     "execution_count": 20,
     "metadata": {},
     "output_type": "execute_result"
    }
   ],
   "source": [
    "np.array([5,6,2]).dtype"
   ]
  },
  {
   "cell_type": "code",
   "execution_count": 21,
   "metadata": {},
   "outputs": [
    {
     "data": {
      "text/plain": [
       "dtype('<U12')"
      ]
     },
     "execution_count": 21,
     "metadata": {},
     "output_type": "execute_result"
    }
   ],
   "source": [
    "np.array(['hello', 'oi', 'womakerscode']).dtype"
   ]
  },
  {
   "cell_type": "code",
   "execution_count": 22,
   "metadata": {},
   "outputs": [
    {
     "data": {
      "text/plain": [
       "dtype('float64')"
      ]
     },
     "execution_count": 22,
     "metadata": {},
     "output_type": "execute_result"
    }
   ],
   "source": [
    "np.array([3,4,2.1]).dtype"
   ]
  },
  {
   "cell_type": "code",
   "execution_count": 23,
   "metadata": {},
   "outputs": [
    {
     "data": {
      "text/plain": [
       "dtype('int32')"
      ]
     },
     "execution_count": 23,
     "metadata": {},
     "output_type": "execute_result"
    }
   ],
   "source": [
    "np.array([True, 3, False]).dtype"
   ]
  },
  {
   "cell_type": "markdown",
   "metadata": {},
   "source": [
    "Index em um array de 1 dimensão"
   ]
  },
  {
   "cell_type": "code",
   "execution_count": 24,
   "metadata": {},
   "outputs": [
    {
     "name": "stdout",
     "output_type": "stream",
     "text": [
      "a indexação é a ordem dos dados e sempre começa com 0\n"
     ]
    },
    {
     "data": {
      "text/plain": [
       "6"
      ]
     },
     "execution_count": 24,
     "metadata": {},
     "output_type": "execute_result"
    }
   ],
   "source": [
    "print(\"a indexação é a ordem dos dados e sempre começa com 0\")\n",
    "arr = np.array ([2,4,6,8])\n",
    "arr[2]"
   ]
  },
  {
   "cell_type": "code",
   "execution_count": 25,
   "metadata": {},
   "outputs": [
    {
     "name": "stdout",
     "output_type": "stream",
     "text": [
      "para fatiar (slicing) um array de 2 dimensões, deve ser realizado no estilo arr[0:2], onde 0 é o index inicial 2 o index final\n"
     ]
    },
    {
     "data": {
      "text/plain": [
       "array([2, 4])"
      ]
     },
     "execution_count": 25,
     "metadata": {},
     "output_type": "execute_result"
    }
   ],
   "source": [
    "print ('para fatiar (slicing) um array de 2 dimensões, deve ser realizado no estilo arr[0:2], onde 0 é o index inicial 2 o index final')\n",
    "arr[0:2]"
   ]
  },
  {
   "cell_type": "markdown",
   "metadata": {},
   "source": [
    "Index em um array de 2 dimensões"
   ]
  },
  {
   "cell_type": "code",
   "execution_count": 26,
   "metadata": {},
   "outputs": [
    {
     "name": "stdout",
     "output_type": "stream",
     "text": [
      "a indexação em um array de 2 dimensões envolve linha x coluna\n"
     ]
    },
    {
     "data": {
      "text/plain": [
       "array([[16, 10,  3, 15],\n",
       "       [14, 23, 17, 27],\n",
       "       [ 6, 19,  3,  1],\n",
       "       [10,  4, 18, 19]])"
      ]
     },
     "execution_count": 26,
     "metadata": {},
     "output_type": "execute_result"
    }
   ],
   "source": [
    "print (\"a indexação em um array de 2 dimensões envolve linha x coluna\")\n",
    "arr = np.array([[16,10,3,15], [14,23,17,27], [6,19,3,1], [10,4,18,19]])\n",
    "arr"
   ]
  },
  {
   "cell_type": "code",
   "execution_count": 27,
   "metadata": {},
   "outputs": [
    {
     "name": "stdout",
     "output_type": "stream",
     "text": [
      "indexação de apenas um elemento será no estilo arr[1,3]\n"
     ]
    },
    {
     "data": {
      "text/plain": [
       "27"
      ]
     },
     "execution_count": 27,
     "metadata": {},
     "output_type": "execute_result"
    }
   ],
   "source": [
    "print(\"indexação de apenas um elemento será no estilo arr[1,3]\")\n",
    "arr[1,3]"
   ]
  },
  {
   "cell_type": "code",
   "execution_count": 28,
   "metadata": {},
   "outputs": [
    {
     "name": "stdout",
     "output_type": "stream",
     "text": [
      "a indexação de uma linha inteira será no estilo arr[0]\n"
     ]
    },
    {
     "data": {
      "text/plain": [
       "array([16, 10,  3, 15])"
      ]
     },
     "execution_count": 28,
     "metadata": {},
     "output_type": "execute_result"
    }
   ],
   "source": [
    "print (\"a indexação de uma linha inteira será no estilo arr[0]\")\n",
    "arr[0]"
   ]
  },
  {
   "cell_type": "code",
   "execution_count": 29,
   "metadata": {},
   "outputs": [
    {
     "name": "stdout",
     "output_type": "stream",
     "text": [
      "a indexação de uma coluna inteira será no estilo arr[:,1]\n"
     ]
    },
    {
     "data": {
      "text/plain": [
       "array([10, 23, 19,  4])"
      ]
     },
     "execution_count": 29,
     "metadata": {},
     "output_type": "execute_result"
    }
   ],
   "source": [
    "print('a indexação de uma coluna inteira será no estilo arr[:,1]')\n",
    "arr[:,1]"
   ]
  },
  {
   "cell_type": "code",
   "execution_count": 30,
   "metadata": {},
   "outputs": [
    {
     "name": "stdout",
     "output_type": "stream",
     "text": [
      "para fatiar (slicing) um array de 2 dimensões, deve ser realizado no estilo arr[1:3,0:2], onde 1 e 0 é o index inicial e 3 e 2 o index final\n"
     ]
    },
    {
     "data": {
      "text/plain": [
       "array([[14, 23],\n",
       "       [ 6, 19]])"
      ]
     },
     "execution_count": 30,
     "metadata": {},
     "output_type": "execute_result"
    }
   ],
   "source": [
    "print ('para fatiar (slicing) um array de 2 dimensões, deve ser realizado no estilo arr[1:3,0:2], onde 1 e 0 é o index inicial e 3 e 2 o index final')\n",
    "arr[1:3,0:2]"
   ]
  },
  {
   "cell_type": "code",
   "execution_count": 31,
   "metadata": {},
   "outputs": [
    {
     "name": "stdout",
     "output_type": "stream",
     "text": [
      "ordenar (sorting) um array trabalha com a ordenação dos elemntos, de forma que cada linha fique com elementos crescentes\n"
     ]
    },
    {
     "data": {
      "text/plain": [
       "array([[ 3, 10, 15, 16],\n",
       "       [14, 17, 23, 27],\n",
       "       [ 1,  3,  6, 19],\n",
       "       [ 4, 10, 18, 19]])"
      ]
     },
     "execution_count": 31,
     "metadata": {},
     "output_type": "execute_result"
    }
   ],
   "source": [
    "print ('ordenar (sorting) um array trabalha com a ordenação dos elemntos, de forma que cada linha fique com elementos crescentes')\n",
    "np.sort(arr)"
   ]
  },
  {
   "cell_type": "code",
   "execution_count": 32,
   "metadata": {},
   "outputs": [
    {
     "name": "stdout",
     "output_type": "stream",
     "text": [
      "o eixo 0 sempre será a linha horizontal e o eixo 1 sempre será a linha vertical, desta forma pode ser utilizado o eixo para ordenação\n",
      "para ordenar com o eixo 0, o eixo horizontal:\n"
     ]
    },
    {
     "data": {
      "text/plain": [
       "array([[ 6,  4,  3,  1],\n",
       "       [10, 10,  3, 15],\n",
       "       [14, 19, 17, 19],\n",
       "       [16, 23, 18, 27]])"
      ]
     },
     "execution_count": 32,
     "metadata": {},
     "output_type": "execute_result"
    }
   ],
   "source": [
    "print ('o eixo 0 sempre será a linha horizontal e o eixo 1 sempre será a linha vertical, desta forma pode ser utilizado o eixo para ordenação')\n",
    "print ('para ordenar com o eixo 0, o eixo horizontal:')\n",
    "np.sort(arr, axis=0)"
   ]
  },
  {
   "cell_type": "code",
   "execution_count": 33,
   "metadata": {},
   "outputs": [
    {
     "name": "stdout",
     "output_type": "stream",
     "text": [
      "a forma default sempre vai contar com o eixo 1, mas tbm pode ser ordenado da seguinte forma:\n"
     ]
    },
    {
     "data": {
      "text/plain": [
       "array([[ 3, 10, 15, 16],\n",
       "       [14, 17, 23, 27],\n",
       "       [ 1,  3,  6, 19],\n",
       "       [ 4, 10, 18, 19]])"
      ]
     },
     "execution_count": 33,
     "metadata": {},
     "output_type": "execute_result"
    }
   ],
   "source": [
    "print ('a forma default sempre vai contar com o eixo 1, mas tbm pode ser ordenado da seguinte forma:')\n",
    "np.sort(arr, axis=1)"
   ]
  },
  {
   "cell_type": "markdown",
   "metadata": {},
   "source": [
    "7. Explorando ecossistema:\n",
    "Como bióloga marinha, me encontrei em uma expedição nas profundezas do Oceano Pacífico, onde estávamos estudando a biodiversidade e a saúde dos recifes de coral. O catálogo abaixo demonstra dados das espécies encontradas. Considere a seguinte ordem de colunas:\n",
    "\n",
    "*ID da espécie, quantidade de representantes encontrados, profundeza, tamanho médio da espécie*\n",
    "\n",
    "- Selecione a segunda coluna com a quantidade de espécies encontradas e adicione em um array como 'qnt_especies'\n",
    "- De qnt_especies selecione apenas as primeiras 3 quantidades e print\n",
    "- Print as 5 últimas quantidades de espécies\n",
    "- Crie um array que contenha apenas os tamanhos das espécies e ordene por ordem crescente"
   ]
  },
  {
   "cell_type": "code",
   "execution_count": 34,
   "metadata": {},
   "outputs": [
    {
     "data": {
      "text/plain": [
       "array([[747,  89,  33,   5],\n",
       "       [623, 123,  32,  13],\n",
       "       [501,  22,  49,   2],\n",
       "       [116, 101,  49,   2],\n",
       "       [297,  56,  69,  22],\n",
       "       [613,  64,  27,   7],\n",
       "       [295,  84,  29,  14],\n",
       "       [692, 105,  72,  16],\n",
       "       [229, 103,  35,   5],\n",
       "       [374, 124,  70,   1]])"
      ]
     },
     "execution_count": 34,
     "metadata": {},
     "output_type": "execute_result"
    }
   ],
   "source": [
    "especies = np.array([\n",
    "                    [747,  89, 33,  5],\n",
    "                    [623, 123, 32, 13],\n",
    "                    [501,  22, 49,  2],\n",
    "                    [116, 101, 49,  2],\n",
    "                    [297,  56, 69, 22],\n",
    "                    [613,  64, 27,  7],\n",
    "                    [295,  84, 29, 14],\n",
    "                    [692, 105, 72, 16],\n",
    "                    [229, 103, 35,  5],\n",
    "                    [374, 124, 70,  1]\n",
    "])\n",
    "especies"
   ]
  },
  {
   "cell_type": "code",
   "execution_count": 35,
   "metadata": {},
   "outputs": [
    {
     "name": "stdout",
     "output_type": "stream",
     "text": [
      "Selecione a segunda coluna com a quantidade de espécies encontradas e adicione em um array como 'qnt_especies'\n"
     ]
    },
    {
     "data": {
      "text/plain": [
       "array([ 89, 123,  22, 101,  56,  64,  84, 105, 103, 124])"
      ]
     },
     "execution_count": 35,
     "metadata": {},
     "output_type": "execute_result"
    }
   ],
   "source": [
    "print(\"Selecione a segunda coluna com a quantidade de espécies encontradas e adicione em um array como 'qnt_especies'\")\n",
    "qnt_especies = especies[:,1]\n",
    "qnt_especies\n"
   ]
  },
  {
   "cell_type": "code",
   "execution_count": 36,
   "metadata": {},
   "outputs": [
    {
     "name": "stdout",
     "output_type": "stream",
     "text": [
      "De qnt_especies selecione apenas as primeiras 3 quantidades e print\n"
     ]
    },
    {
     "data": {
      "text/plain": [
       "array([ 89, 123,  22])"
      ]
     },
     "execution_count": 36,
     "metadata": {},
     "output_type": "execute_result"
    }
   ],
   "source": [
    "print(\"De qnt_especies selecione apenas as primeiras 3 quantidades e print\")\n",
    "qnt_especies[0:3]"
   ]
  },
  {
   "cell_type": "code",
   "execution_count": 37,
   "metadata": {},
   "outputs": [
    {
     "name": "stdout",
     "output_type": "stream",
     "text": [
      "Print as 5 últimas quantidades de espécies\n"
     ]
    },
    {
     "data": {
      "text/plain": [
       "array([ 64,  84, 105, 103, 124])"
      ]
     },
     "execution_count": 37,
     "metadata": {},
     "output_type": "execute_result"
    }
   ],
   "source": [
    "print(\"Print as 5 últimas quantidades de espécies\")\n",
    "qnt_especies[-5:]"
   ]
  },
  {
   "cell_type": "code",
   "execution_count": 38,
   "metadata": {},
   "outputs": [
    {
     "name": "stdout",
     "output_type": "stream",
     "text": [
      "Crie um array que contenha apenas os tamanhos das espécies e ordene por ordem crescente\n"
     ]
    },
    {
     "data": {
      "text/plain": [
       "array([ 1,  2,  2,  5,  5,  7, 13, 14, 16, 22])"
      ]
     },
     "execution_count": 38,
     "metadata": {},
     "output_type": "execute_result"
    }
   ],
   "source": [
    "print (\"Crie um array que contenha apenas os tamanhos das espécies e ordene por ordem crescente\")\n",
    "np.sort(especies[:,3])"
   ]
  },
  {
   "cell_type": "markdown",
   "metadata": {},
   "source": [
    "Filtrando arrays"
   ]
  },
  {
   "cell_type": "code",
   "execution_count": 39,
   "metadata": {},
   "outputs": [
    {
     "name": "stdout",
     "output_type": "stream",
     "text": [
      "pode ser por indexação sofisticada (fancy indexing) ou máscara (mask) em array 2d\n",
      "exemplo utilizando com máscaras:\n"
     ]
    },
    {
     "data": {
      "text/plain": [
       "array([ True, False, False,  True])"
      ]
     },
     "execution_count": 39,
     "metadata": {},
     "output_type": "execute_result"
    }
   ],
   "source": [
    "print (\"pode ser por indexação sofisticada (fancy indexing) ou máscara (mask) em array 2d\")\n",
    "pessoas_id_idade = np.array([[1,22], [2,21], [3,27], [4,26]])\n",
    "print (\"exemplo utilizando com máscaras:\")\n",
    "pessoas_id_idade[:,1]%2==0\n"
   ]
  },
  {
   "cell_type": "code",
   "execution_count": 40,
   "metadata": {},
   "outputs": [
    {
     "name": "stdout",
     "output_type": "stream",
     "text": [
      "boolean mask: returna um array de verdadeiros e falsos\n"
     ]
    },
    {
     "data": {
      "text/plain": [
       "array([False,  True, False,  True, False])"
      ]
     },
     "execution_count": 40,
     "metadata": {},
     "output_type": "execute_result"
    }
   ],
   "source": [
    "print (\"boolean mask: returna um array de verdadeiros e falsos\")\n",
    "arr1 = np.array([1,2,3,4,5])\n",
    "mask = arr1%2==0\n",
    "mask"
   ]
  },
  {
   "cell_type": "code",
   "execution_count": 41,
   "metadata": {},
   "outputs": [
    {
     "name": "stdout",
     "output_type": "stream",
     "text": [
      "fancy indexing: retorna os valores do array quando passado a máscara\n"
     ]
    },
    {
     "data": {
      "text/plain": [
       "array([2, 4])"
      ]
     },
     "execution_count": 41,
     "metadata": {},
     "output_type": "execute_result"
    }
   ],
   "source": [
    "print(\"fancy indexing: retorna os valores do array quando passado a máscara\")\n",
    "arr1[mask]"
   ]
  },
  {
   "cell_type": "code",
   "execution_count": 42,
   "metadata": {},
   "outputs": [
    {
     "name": "stdout",
     "output_type": "stream",
     "text": [
      "np.wehere() retorna um array de indices, cria uma matriz com base em se os elementos corrspondem ou não a uma condição\n"
     ]
    },
    {
     "data": {
      "text/plain": [
       "array([['16', '10', '', ''],\n",
       "       ['14', '23', '17', ''],\n",
       "       ['', '19', '', '1'],\n",
       "       ['10', '4', '', '19']], dtype='<U11')"
      ]
     },
     "execution_count": 42,
     "metadata": {},
     "output_type": "execute_result"
    }
   ],
   "source": [
    "cartela_bingo = np.array([\n",
    "                [16, 10,  3, 15],\n",
    "                [14, 23, 17, 27],\n",
    "                [ 6, 19,  3,  1], \n",
    "                [10,  4, 18, 19]\n",
    "])\n",
    "\n",
    "print (\"np.wehere() retorna um array de indices, cria uma matriz com base em se os elementos corrspondem ou não a uma condição\")\n",
    "\n",
    "np.where(cartela_bingo % 3 == 0, \"\", cartela_bingo)"
   ]
  },
  {
   "cell_type": "code",
   "execution_count": 43,
   "metadata": {},
   "outputs": [
    {
     "data": {
      "text/plain": [
       "(array([0, 3], dtype=int64),)"
      ]
     },
     "execution_count": 43,
     "metadata": {},
     "output_type": "execute_result"
    }
   ],
   "source": [
    "np.where(pessoas_id_idade[:,1]%2==0)"
   ]
  },
  {
   "cell_type": "code",
   "execution_count": 44,
   "metadata": {},
   "outputs": [
    {
     "name": "stdout",
     "output_type": "stream",
     "text": [
      "[[ 1 22]\n",
      " [ 2 21]\n",
      " [ 3 27]\n",
      " [ 4 26]]\n",
      "imprime pessoas maiores de 21 anos\n",
      "[ True False  True  True]\n",
      "imprime id e idade de pessoas maior que 21\n"
     ]
    },
    {
     "data": {
      "text/plain": [
       "array([[ 1, 22],\n",
       "       [ 3, 27],\n",
       "       [ 4, 26]])"
      ]
     },
     "execution_count": 44,
     "metadata": {},
     "output_type": "execute_result"
    }
   ],
   "source": [
    "print(pessoas_id_idade)\n",
    "print('imprime pessoas maiores de 21 anos')\n",
    "mask_maior21 = pessoas_id_idade[:,1]>21\n",
    "print(mask_maior21)\n",
    "print ('imprime id e idade de pessoas maior que 21')\n",
    "pessoas_id_idade[mask_maior21]"
   ]
  },
  {
   "cell_type": "code",
   "execution_count": 45,
   "metadata": {},
   "outputs": [
    {
     "name": "stdout",
     "output_type": "stream",
     "text": [
      "imprime indice dos maiores de 21\n"
     ]
    },
    {
     "data": {
      "text/plain": [
       "(array([0, 2, 3], dtype=int64),)"
      ]
     },
     "execution_count": 45,
     "metadata": {},
     "output_type": "execute_result"
    }
   ],
   "source": [
    "print('imprime indice dos maiores de 21')\n",
    "np.where(mask_maior21)"
   ]
  },
  {
   "cell_type": "code",
   "execution_count": 46,
   "metadata": {},
   "outputs": [
    {
     "data": {
      "text/plain": [
       "array([[16, 10,  3, 15],\n",
       "       [14, 23, 17, 27],\n",
       "       [ 6, 19,  3,  1],\n",
       "       [10,  4, 18, 19]])"
      ]
     },
     "execution_count": 46,
     "metadata": {},
     "output_type": "execute_result"
    }
   ],
   "source": [
    "cartela_bingo"
   ]
  },
  {
   "cell_type": "code",
   "execution_count": 48,
   "metadata": {},
   "outputs": [
    {
     "data": {
      "text/plain": [
       "array([['16', '10', 'div3', 'div3'],\n",
       "       ['14', '23', '17', 'div3'],\n",
       "       ['div3', '19', 'div3', '1'],\n",
       "       ['10', '4', 'div3', '19']], dtype='<U11')"
      ]
     },
     "execution_count": 48,
     "metadata": {},
     "output_type": "execute_result"
    }
   ],
   "source": [
    "np.where(cartela_bingo%3==0, \"div3\", cartela_bingo)"
   ]
  },
  {
   "cell_type": "code",
   "execution_count": 49,
   "metadata": {},
   "outputs": [
    {
     "data": {
      "text/plain": [
       "array([['1', 'maior de idade'],\n",
       "       ['2', '21'],\n",
       "       ['3', 'maior de idade'],\n",
       "       ['4', 'maior de idade']], dtype='<U14')"
      ]
     },
     "execution_count": 49,
     "metadata": {},
     "output_type": "execute_result"
    }
   ],
   "source": [
    "np.where(pessoas_id_idade>21, \"maior de idade\", pessoas_id_idade)"
   ]
  },
  {
   "cell_type": "markdown",
   "metadata": {},
   "source": [
    "8. Ainda usando o array de especie marítima:\n",
    "- Usando um index booleano crie um array que contém os da maior espécie encontrada (considerando o seu tamanho), esse valor corresponde ao valor 22\n",
    "- Usando fency index, faça um array que contém apenas dados da espécie com ID 297\n",
    "- Usando np.where() faça um array com a linha com dados correspondentes a espécie com 105 representantes encontrados\n",
    "- Considere a profundeza em que a espécie que foi encontrada substitua os valores maiores que 60 com \"profundo\""
   ]
  },
  {
   "cell_type": "code",
   "execution_count": 53,
   "metadata": {},
   "outputs": [
    {
     "name": "stdout",
     "output_type": "stream",
     "text": [
      "[[747  89  33   5]\n",
      " [623 123  32  13]\n",
      " [501  22  49   2]\n",
      " [116 101  49   2]\n",
      " [297  56  69  22]\n",
      " [613  64  27   7]\n",
      " [295  84  29  14]\n",
      " [692 105  72  16]\n",
      " [229 103  35   5]\n",
      " [374 124  70   1]]\n"
     ]
    }
   ],
   "source": [
    "print(especies)"
   ]
  },
  {
   "cell_type": "code",
   "execution_count": 54,
   "metadata": {},
   "outputs": [
    {
     "name": "stdout",
     "output_type": "stream",
     "text": [
      "Usando um index booleano crie um array que contém os da maior espécie encontrada (considerando o seu tamanho), esse valor corresponde ao valor 22\n"
     ]
    },
    {
     "data": {
      "text/plain": [
       "array([[297,  56,  69,  22]])"
      ]
     },
     "execution_count": 54,
     "metadata": {},
     "output_type": "execute_result"
    }
   ],
   "source": [
    "print (\"Usando um index booleano crie um array que contém os da maior espécie encontrada (considerando o seu tamanho), esse valor corresponde ao valor 22\")\n",
    "especies[especies[:,3]==22]"
   ]
  },
  {
   "cell_type": "code",
   "execution_count": 57,
   "metadata": {},
   "outputs": [
    {
     "name": "stdout",
     "output_type": "stream",
     "text": [
      "sando fency index, faça um array que contém apenas dados da espécie com ID 297\n"
     ]
    },
    {
     "data": {
      "text/plain": [
       "array([[297,  56,  69,  22]])"
      ]
     },
     "execution_count": 57,
     "metadata": {},
     "output_type": "execute_result"
    }
   ],
   "source": [
    "print(\"sando fency index, faça um array que contém apenas dados da espécie com ID 297\")\n",
    "mask_297= especies[:,0]==297\n",
    "especies[mask_297]"
   ]
  },
  {
   "cell_type": "code",
   "execution_count": 59,
   "metadata": {},
   "outputs": [
    {
     "name": "stdout",
     "output_type": "stream",
     "text": [
      "Usando np.where() faça um array com a linha com dados correspondentes a espécie com 105 representantes encontrados\n"
     ]
    },
    {
     "data": {
      "text/plain": [
       "array([[692, 105,  72,  16]])"
      ]
     },
     "execution_count": 59,
     "metadata": {},
     "output_type": "execute_result"
    }
   ],
   "source": [
    "print(\"Usando np.where() faça um array com a linha com dados correspondentes a espécie com 105 representantes encontrados\")\n",
    "especies[np.where(especies[:, 1]==105)]"
   ]
  },
  {
   "cell_type": "code",
   "execution_count": 60,
   "metadata": {},
   "outputs": [
    {
     "name": "stdout",
     "output_type": "stream",
     "text": [
      "Considere a profundeza em que a espécie que foi encontrada substitua os valores maiores que 60 com 'profundo'\n"
     ]
    },
    {
     "data": {
      "text/plain": [
       "array(['33', '32', '49', '49', 'Profundo', '27', '29', 'Profundo', '35',\n",
       "       'Profundo'], dtype='<U11')"
      ]
     },
     "execution_count": 60,
     "metadata": {},
     "output_type": "execute_result"
    }
   ],
   "source": [
    "print(\"Considere a profundeza em que a espécie que foi encontrada substitua os valores maiores que 60 com 'profundo'\")\n",
    "np.where(especies[:,2]>60, \"Profundo\", especies[:,2])"
   ]
  }
 ],
 "metadata": {
  "kernelspec": {
   "display_name": "Python 3",
   "language": "python",
   "name": "python3"
  },
  "language_info": {
   "codemirror_mode": {
    "name": "ipython",
    "version": 3
   },
   "file_extension": ".py",
   "mimetype": "text/x-python",
   "name": "python",
   "nbconvert_exporter": "python",
   "pygments_lexer": "ipython3",
   "version": "3.12.1"
  }
 },
 "nbformat": 4,
 "nbformat_minor": 2
}
