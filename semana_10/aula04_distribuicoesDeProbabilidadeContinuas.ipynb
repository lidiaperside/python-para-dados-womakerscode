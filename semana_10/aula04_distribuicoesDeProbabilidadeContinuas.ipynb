{
 "cells": [
  {
   "cell_type": "markdown",
   "metadata": {},
   "source": [
    "Distribuições de Probabilidade Contínua"
   ]
  },
  {
   "cell_type": "markdown",
   "metadata": {},
   "source": [
    "Distribuição Uniforme Contínua\n",
    "\n",
    "Assim como no caso discreto, a distribuição uniforme contínua descreve eventos equiprováveis agora em um universo real. Por exemplo: um ônibus passa a cada 1 h, mas não se sabe o último horário em que ele passou. Desta forma, o horário de chegada do próximo ônibus segua uma distribuição uniforme contínua no intervalo de horas de 0 a 1\n",
    "\n",
    "Características da distribuição Uniforme Contínua:\n",
    "\n",
    "Assim como no caso discreto, uma distribuição de probabilidade uniforme resulta de um experimento que satisfaz os seguintes requisitos:\n",
    "1. A variável aleatória X assume valores de A até B\n",
    "2. Cada valor de X tem uma igual probabilidade de ocorrência\n",
    "3. Os eventos são independentes um do outro (se um acontecer, isso não tem nenhuma influência sobre a probabilidade de outro evento ocorrer)"
   ]
  },
  {
   "cell_type": "markdown",
   "metadata": {},
   "source": [
    "----"
   ]
  },
  {
   "cell_type": "markdown",
   "metadata": {},
   "source": [
    "Distribuição Normal\n",
    "\n",
    "A distribuição normal é uma das mais importantes distribuições da estatística. Ela é tão importante pois representa a probabilidade de muitos eventos na natureza. \n",
    "\n",
    "O formato da distribuição normal também dá uma intuição à respeito da variabilidade dos casos\n",
    "\n",
    "Características da Distribuição Normal:\n",
    "\n",
    "Uma distribuição de probabilidade normal resulta de um experimento que satisfaz os seguintes requisitos:\n",
    "1. Curva em formato de sino\n",
    "2. Distribuição simétrica em torno da média\n",
    "3. Não chega a tocar o eixo x, vai se aproximando do infinito\n",
    "4. É delimitada pelo seu grau de dispersão (desvio padrão) e medida central, sua média\n",
    "5. O pico da curva, valor de maior probabilidade, está na média\n",
    "6. A área embaixo da curva é um percentual"
   ]
  },
  {
   "cell_type": "markdown",
   "metadata": {},
   "source": [
    "----"
   ]
  },
  {
   "cell_type": "markdown",
   "metadata": {},
   "source": [
    "Distribuição Normal Padrão\n",
    "\n",
    "Uma distribuição normal muito conhecida é a Normal Padrão, cuka média é 0 e desvio padrão é 1. Ela é chamada de distribuição Z\n",
    "\n",
    "Qualquer distribuição normal pode ser \"padronizada\", basta converter os valores de x em z-scores\n",
    "\n",
    "Características da distribuição Normal\n",
    "\n",
    "Uma distribuição de probabilidade Normal resulta de um experimento que satisfaz os seguintes requisitos:\n",
    "1. Média 0 e desvio padrão 1\n",
    "2. O seu eixo pode ser chamado de Z, e cada valor de z pertencente a Z pode ser interpretado como a quantos desvios padrões z está na media"
   ]
  }
 ],
 "metadata": {
  "language_info": {
   "name": "python"
  }
 },
 "nbformat": 4,
 "nbformat_minor": 2
}
