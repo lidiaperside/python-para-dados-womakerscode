{
 "cells": [
  {
   "cell_type": "markdown",
   "metadata": {},
   "source": [
    "Amostragem\n",
    "\n",
    "- No proceso de coleta de dados, no geral, não se tem acesso a toda a população do interesse de estudo. Com isso, recorremos a uma amostra dessa população para a análise de dados\n",
    "- Amostragem é uma técnica/processo da área de estatística em que se estuda as formas de selecionar subconjuntos da população para se realizar posteriormente inferências estatísticas sobre a população de interesse\n",
    "- Erro Amostral: É a diferença entre o resultado amostral e o populacional. Ex: média da altura de uma amostra é 1.65m na população do estudo 1.74\n",
    "- Amostragem vs Censo: \n",
    "    - O censo é o estudo de TODOS os elementos da população. Enquanto a amostra é um subconjunto, o censo visa minimizar ao máximo o erro amostral"
   ]
  },
  {
   "cell_type": "markdown",
   "metadata": {},
   "source": [
    "----"
   ]
  },
  {
   "cell_type": "markdown",
   "metadata": {},
   "source": [
    "Métodos de Amostragem\n",
    "\n",
    "Na Amostragem Probabilística os critérios de seleção da amostra são definidos a partir da probabilidade de modo que se sabe a probabilidade de cada indivíduo na amostra\n",
    "\n",
    "- Amostra Aleatória Simples:\n",
    "    - A seleção dos indivíduos se dá por um sorteio\n",
    "    - Todos os indivíduos têm a mesma probabilidade de seleção\n",
    "- Amostra Aleatória Estratificada\n",
    "    - Seleção de proporções de diferentes 'estratos' ou subgrupos diferentes. Ex: 50% homens 50% mulheres\n",
    "- Amostra Sistemática\n",
    "    - População ordenada e se seleciona elementos na ordem. Ex: Selecionar a fila do banco a cada 5 pessoas."
   ]
  },
  {
   "cell_type": "markdown",
   "metadata": {},
   "source": [
    "----"
   ]
  },
  {
   "cell_type": "markdown",
   "metadata": {},
   "source": [
    "Definindo o Tamanho da Amostra e a Margem de erro\n",
    "\n",
    "Quando se seleciona uma amostra, é buscado que ela seja o mais representativa possível da população, ou seja, procura-se um erro amostral pequeno. A partir do erro amostral se consegue calcular o erro padrão (e = σ/√n). Sendo assim, para se definir o tamanho da amostra, precisa definir a margem de erro desejada."
   ]
  },
  {
   "cell_type": "markdown",
   "metadata": {},
   "source": [
    "----"
   ]
  },
  {
   "cell_type": "markdown",
   "metadata": {},
   "source": [
    "Margem de Erro\n",
    "\n",
    "A margem de erro é uma porcentagem que mede a proximidade dos resultados obtidos da amostra do valor real para a população total do estudo. É uma métrica de precisão do estudo. \n",
    "\n",
    "Ex: Margem de erro de uma pesquisa eleitoral é de 2 p.p.. Isso significa que se 60% dos entrevistados disseram que irão votar no candidato A, deve ser considerado que a porcentagem real dos votos fica entre 58% e 62%\n",
    "\n",
    "Margem de Erro = z(a/2)*(σ/√n)"
   ]
  }
 ],
 "metadata": {
  "language_info": {
   "name": "python"
  }
 },
 "nbformat": 4,
 "nbformat_minor": 2
}
