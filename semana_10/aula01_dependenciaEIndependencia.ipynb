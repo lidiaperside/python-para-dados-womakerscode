{
 "cells": [
  {
   "cell_type": "markdown",
   "metadata": {},
   "source": [
    "A estatística pode ser dividida entre:\n",
    "- Estatística Descritiva:\n",
    "    - Coletar, sumarizar e apresentar dados;\n",
    "    - Medidas de tendência central;\n",
    "    - Medidas de disperção\n",
    "    - Análises de tipos de variáveis\n",
    "- Inferência Estatística:\n",
    "    - A partir dos dados de uma amostra assumir hipóteses / inferir resultados\n",
    "    - Probabilidade e amostragem\n",
    "    - Teste de hipóteses\n",
    "    - Modelos"
   ]
  },
  {
   "cell_type": "markdown",
   "metadata": {},
   "source": [
    "----"
   ]
  },
  {
   "cell_type": "markdown",
   "metadata": {},
   "source": [
    "A probabilidade estuda a \"chance\" de eventos ocorrerem e, portanto, é importante para que se consiga elaborar hipóteses, sendo a base da inferência estatística\n"
   ]
  },
  {
   "cell_type": "markdown",
   "metadata": {},
   "source": [
    "----"
   ]
  },
  {
   "cell_type": "markdown",
   "metadata": {},
   "source": [
    "Inferência estatística VS Probabilidade: a probabilidade quantifica a incerteza dos eventos enquanto que a estatística é a ciência que nos permite a partir de amostras, inferir relações entre variáveis e hipóteses"
   ]
  },
  {
   "cell_type": "markdown",
   "metadata": {},
   "source": [
    "----"
   ]
  },
  {
   "cell_type": "markdown",
   "metadata": {},
   "source": [
    "Conceitos de Probabilidade:\n",
    "- Dados: \n",
    "    - Observações documentadas ou resultados da medição. Os dados podem ser obtidos pela percepção através dos sentidos (por exemplo, observação) ou pela execução de um processo de medição\n",
    "- População: \n",
    "    - É a população total de interesse sobre a qual desejamos obter informações. Ex: todas as transações bancárias de um banco\n",
    "- Amostra:\n",
    "    - Conjunto formado por um subconjunto da população. Ex: Transações bancárias de um determinado período de tempo (safra) e uma região"
   ]
  },
  {
   "cell_type": "markdown",
   "metadata": {},
   "source": [
    "----"
   ]
  },
  {
   "cell_type": "markdown",
   "metadata": {},
   "source": [
    "Experimento, Espaço Amostral e Evento\n",
    "- Experimento: \n",
    "    - Um procedimento performado com o objetivo de verificar e validar hipóteses, sendo realizado em condições controladas. Ex: jogar uma moeda não viesada 2 vezes seguidas\n",
    "- Espaço amostral:\n",
    "    - É o conjunto de todos os resultados possíveis de um experimento. Ex: Ω = {(Cara, Coroa), (Cara, Cara), (Coroa, Cara), (Coroa, Coroa)}\n",
    "- Evento:\n",
    "    - É um subconjunto do espaço amostral. Ex: Evento \"sair pelo menos 1 vez cara\" é representado por {(Cara, Coroa), (Cara, Cara), (Coroa, Cara)}\n",
    "- Evento complementar: \n",
    "    - É aquele em que somado ao evento resulta no espaço amostral completo. No caso anterior, o evento complementar é {(Coroa, Coroa)}"
   ]
  },
  {
   "cell_type": "markdown",
   "metadata": {},
   "source": [
    "----"
   ]
  },
  {
   "cell_type": "markdown",
   "metadata": {},
   "source": [
    "Probabilidade de um Evento\n",
    "\n",
    "A probabilidade de um evento A = \"Sair pelo menos 1 vez cara\" no experimento: jogar uma moeda não viesada 2 vezes seguidas\n",
    "\n",
    "É denotada por:\n",
    "\n",
    "P(A) = (Número de casas possíveis no evento A)/(Número de casos possíveis no espaço amostral) \n",
    "\n",
    "No exemplo: N(A) = 3 e N(Ω) = 4, logo: P(A) = 3/4 = 75%"
   ]
  },
  {
   "cell_type": "markdown",
   "metadata": {},
   "source": [
    "----"
   ]
  },
  {
   "cell_type": "markdown",
   "metadata": {},
   "source": [
    "Regras Básicas de Probabilidade\n",
    "1. 0 ≤ P(A) ≤ 1: \n",
    "    - A probabilidade de um evento A é no mínimo zero e no máximo 1\n",
    "2. P(Ω) = 1:\n",
    "    - A probabilidade do espaço amostral é a máxima: 1\n",
    "3. P(Ø) = 0:\n",
    "    - A probabilidade do conjunto/evento vázio é 0\n",
    "4. Probabilidade da união de dois eventos\n",
    "    - P (A ∪ B) = P(A) + P(B) - P(A ∩ B) a probabilidade da intersecção de dois eventos\n",
    "5. P(A c) = 1 - P(A):\n",
    "    - A probabilidade de um evento A complementar é 1 - P(A)\n",
    "6. P(A/B):\n",
    "    - É a probabilidade do evento A, quando se sabe que o evento B ocorreu, é chamada probabilidade condicional de A dado B\n",
    "        - Na probabilidade condicional, a ocorrência de um evento altera a probabilidade de ocorrência do outro\n",
    "        - P(A|B) = P(A ∩ B)/P(B), se P(B) > 0\n",
    "            - Reescrevendo: P(A ∩ B) = P(B)*P(A|B)\n",
    "\n",
    "Eventos Independentes ou Mutuamente Exclusivos:\n",
    "7. Dois eventos são independentes se a ocorrência de um deles não afeta a ocorrência do outro:\n",
    "    - P(A ∩ B) = P(B)*P(A|B) = P(B)*P(A), pois a ocorrência de A não de depende de B\n",
    "8. Dois eventos são mutuamente exclusivos se: não podem ocorrer simultanemanete:\n",
    "    - P(A ∩ B) = Ø\n",
    "        - Assim: P(A ∪ B) = P(A) + P(B) - P(A ∩ B) = P(A) + P(B)\n",
    "\n",
    "Ao contrário de eventos mutuamente exclusivos, dois eventos independentes podem ocorrer simultaneamente, a diferença é que a ocorrência de um deles não afeta o outro"
   ]
  }
 ],
 "metadata": {
  "language_info": {
   "name": "python"
  }
 },
 "nbformat": 4,
 "nbformat_minor": 2
}
