{
 "cells": [
  {
   "cell_type": "markdown",
   "metadata": {},
   "source": [
    "Variável Aleatória:\n",
    "\n",
    "Uma variável aleatória é a função associada a cada evento do espaço amostral à um número real\n",
    "\n",
    "Simplificando: Experimento em que se joga 2 moedas\n",
    "\n",
    "Ω = {CaraCara; CaraCoroa; CoroaCara; CoroaCoroa}\n",
    "\n",
    "CoroaCara é um fenômeno probabilístico/evento do espaço amostral\n",
    "\n",
    "Podemos definir uma variável aleatória X como o número de Caras em dois lançamentos. Desse modo, os valores possíveis de X são:\n",
    "\n",
    "X = {0, 1, 2} (número real)\n",
    "\n",
    "A variável X é a quantificação em números reais das possibilidades que podem ocorrer no espaço amostral, já que cara pode aparecer 0, 1 ou 2 vezes"
   ]
  },
  {
   "cell_type": "markdown",
   "metadata": {},
   "source": [
    "Uma variável aleatória pode assumir valores discretos ou contínuos e ela é escrita como convenção como uma letra maiúscula. Ex: X = {0, 1, 2}, enquanto que uma observação dessa variável é escrita com letra\n",
    "\n",
    "- No caso de cara ou coroa é possível visualizar uma variável aleatória discreta, já que se tem observações finitas e enumeráveis: 0, 1, 2;\n",
    "- Uma variável aleatória contínua, diferentemente, pode assumir qualquer valor dentro de um intervalo e, portanto, é não enumerável\n",
    "\n",
    "Exemplo de uma Variável Aleatória Contínua: Quantidade de açúcar em um café, o tempo para finalizar uma prova\n",
    "\n",
    "Note que o tempo para realizar uma prova poderia ser 2 minutos, mas se melhorar a precisão pode ser 2.05 ou 2.04 e assim por diante, portanto, não é um valor numerável"
   ]
  },
  {
   "cell_type": "markdown",
   "metadata": {},
   "source": [
    "-----"
   ]
  },
  {
   "cell_type": "markdown",
   "metadata": {},
   "source": [
    "Função Densidade de Probabilidade\n",
    "\n",
    "Imagine que se esteja medindo a altura de várias pessoas na rua. A medida em que se vai mensurando as alturas, pode-se categorizar os indivíduos de forma que se obtenha um histograma. A partir do histograma pode-se visualizar onde se encontra a maior e menor concentração de pessoas por altura e, com isso, assumir que há maiores chances de selecionar uma pessoa aleatória na rua com a altura mais frequente que se apareceu. \n",
    "\n",
    "Quanto maior a divisão dos intervalos do histograma, maior a precisão. A exemplo, não utilizar altura de 1.60 a 1.70, mas 1.60 à 1.65 e 1.65 a 1.70\n",
    "\n",
    "Com maiores bins, ainda, pode-se usar uma curva para aproximar os dados obtidos. Essa curva dá uma intuição do histograma, já que as caldas se tem uma melhor visualização de onde se tem menores e maiores dados no histograma.\n",
    "\n",
    "A curva dá, ainda, uma vantagem: ao se imaginar que não se tenha obtido amostras de um determinado bins, com a curva pode estimar a probabilidade de um indivíduo ter a altura relacionada aquele bins. Além disso, com a curva se pode calcular a probabilidade de um indivíduo conter intervalos de altura. "
   ]
  },
  {
   "cell_type": "markdown",
   "metadata": {},
   "source": [
    "A curva estimada e o histograma são portanto distribuições de probabilidade. A função que descreve a curva pode ser descrita como: f(x) = P(X = x)"
   ]
  },
  {
   "cell_type": "markdown",
   "metadata": {},
   "source": [
    "----"
   ]
  },
  {
   "cell_type": "markdown",
   "metadata": {},
   "source": [
    "Função Massa de Probabilidade\n",
    "\n",
    "Dado esse contexto, vimos que a função densidade de probabilidade descreve a probabilidade de ocorrência de cada valor da variável aleatória contínua, no caso da altura dos indivíduos.\n",
    "\n",
    "No caso das variáveis discretas, não se tem uma curva, ou seja, uma função de densidade de probabilidade. O que existe é a função massa de probabilidade.\n",
    "\n",
    "Ex: Variável aleatória X = Número de Caras em dois lançamentos de uma moeda\n",
    "\n",
    "Ω = {CaraCara; CaraCoroa; CoroaCara; CoroaCoroa} -> f(0) = 0.25, f(1) = 0.5, f(2) = 0.25\n",
    "\n",
    "Nesse caso não há curvas, mas pontos sinalizando o valor "
   ]
  },
  {
   "cell_type": "markdown",
   "metadata": {},
   "source": [
    "----"
   ]
  },
  {
   "cell_type": "markdown",
   "metadata": {},
   "source": [
    "Função de Densidade Acumulada\n",
    "\n",
    "- A densidade acumulada calcula a probabilidade acumulada para um determinado valor de x. É expressa por F(x) = P(X <= x)\n",
    "\n",
    "Ex: calcular a probabilidade acumulada das moedas. Temos a V.A X = Número de Caras em dois lançamentos de uma moeda\n",
    "\n",
    "Ω = {CaraCara; CaraCoroa; CoroaCara; CoroaCoroa}\n",
    "\n",
    "f(0) = 0.25, F(0) = 0.25\n",
    "f(1) = 0.5, F(1) = 0.75\n",
    "f(2) = 0.25, F(1) = 1"
   ]
  },
  {
   "cell_type": "markdown",
   "metadata": {},
   "source": [
    "----"
   ]
  },
  {
   "cell_type": "markdown",
   "metadata": {},
   "source": [
    "Distribuições Discretas VS Distribuições Contínuas\n",
    "\n",
    "A distribuição de probabilidade é o processo que descreve o comportamento aleatório de fenômenos. E, de acordo com as características dos processos aleatórios, pode se classificar em 2 grandes grupos:\n",
    "\n",
    "- Discretas:\n",
    "    - Binomial,\n",
    "    - Geométrica,\n",
    "    - Poisson,\n",
    "    - Uniforme Discreta\n",
    "\n",
    "- Contínuas:\n",
    "    - Normal,\n",
    "    - Uniforme contínua,\n",
    "    - Exponencial,\n",
    "    - Gamma,\n",
    "    - Valores Extremos"
   ]
  }
 ],
 "metadata": {
  "language_info": {
   "name": "python"
  }
 },
 "nbformat": 4,
 "nbformat_minor": 2
}
