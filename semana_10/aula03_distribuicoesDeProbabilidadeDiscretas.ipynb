{
 "cells": [
  {
   "cell_type": "markdown",
   "metadata": {},
   "source": [
    "Distribuição Binomial\n",
    "\n",
    "A distribuição binomial descreve situações em que os resultados de uma variável podem ser agrupadas em duas categorias mutuamente excludentes\n",
    "\n",
    "Características da distribuição binomial\n",
    "\n",
    "Uma distribuição de probabilidade binomial resulta de um experimento que satisfaz os seguintes requisitos:\n",
    "\n",
    "1. O experimento tem um número finito de tentativas\n",
    "2. As tentativas devem ser independentes (o resultado de qualquer tentativa individual não afeta as probabilidades nas outras tentativas)\n",
    "3. Cada tentativa deve ter todos os resultados classificados em duas categorias (em geral, chamadas de sucesso e fracasso)\n",
    "4. A probabilidade de sucesso permanece constante em todas as tentativas\n",
    "\n",
    "Ex: Número de vezes que sai coroa no lançamento de 3 moedas não viciadas (3 tentativas, cada tentativa com probabilidade 1/2 constante, cada tentativa pode ter 1 sucesso e 1 fracasso)"
   ]
  },
  {
   "cell_type": "markdown",
   "metadata": {},
   "source": [
    "----"
   ]
  },
  {
   "cell_type": "markdown",
   "metadata": {},
   "source": [
    "Distribuição Geométrica\n",
    "\n",
    "A distribuição geométrica é responsável por representar eventos ou tarefas repetidas até que um sucesso ocorra. Por exemplo, a probabilidade de uma vendedora de telemarketing realizar uma venda na sexta ligação\n",
    "\n",
    "Características da distribuição Geométrica\n",
    "\n",
    "Uma distribuição de probabilidade geométrica resulta de um experimento que satisfaz os seguintes requisitos:\n",
    "1. A tentativa deve ser repetida até que um sucesso ocorra;\n",
    "2. Cada tentativa é independente;\n",
    "3. A probabilidade de sucesso é a mesma em cada tentativa;\n",
    "4. A variável aleatória X representa o número de tentativas até o primeiro sucesso"
   ]
  },
  {
   "cell_type": "markdown",
   "metadata": {},
   "source": [
    "----"
   ]
  },
  {
   "cell_type": "markdown",
   "metadata": {},
   "source": [
    "Distribuição Poisson\n",
    "\n",
    "A Distribuição de Poisson descreve resultados de experiências nos quais contamos acontecimentos que ocorrem aleatoriamente a uma taxa média definida. Por exmeplo: o nº de bebês que nasce por mês num determinado hospital, o número de peças fabricadas por dia\n",
    "\n",
    "Características da distribuição Poisson\n",
    "\n",
    "Uma distribuição de probabilidade poisson resulta de um experimento que satisfaz os seguintes requisitos:\n",
    "1. Dois eventos não podem ocorrer simultaneamente\n",
    "2. A taxa média entre a ocorrência do evento é constante\n",
    "3. Os eventos são independentes um do outro (se um acontecer, isso não tem nenhuma influência sobre a probabilidade de outro evento ocorrer)\n",
    "4. Os eventos podem ocorrer em qualquer número de vezes\n",
    "\n",
    "Ex: Em uma indústria qual a probabilidade de 10 mil peças serem produzidas em 1 dia"
   ]
  },
  {
   "cell_type": "markdown",
   "metadata": {},
   "source": [
    "-----"
   ]
  },
  {
   "cell_type": "markdown",
   "metadata": {},
   "source": [
    "Distribuição uniforme discreta\n",
    "\n",
    "A distribuição uniforme descreve eventos equiprováveis. Ex: Considere a variável aleatória X o valor obtido em um lançamento de um dado. Podemos obter 1 com probabilidade 1/6; até 6 com a mesma probabilidade\n",
    "\n",
    "Características da distribuição uniforme discreta\n",
    "\n",
    "Uma distribuição de probabilidade uniforme resulta de um experimento que satisfaz os seguintes requisitos:\n",
    "1. A variável aleatória X assume valores de 1 até N\n",
    "2. Cada valor de x tem uma igual probabilidade de ocorrência\n",
    "3. Os eventos são independentes um do outro (se um acontecer, isso não tem nenhuma influência sobre a probabilidade de outro evento ocorrer)"
   ]
  }
 ],
 "metadata": {
  "language_info": {
   "name": "python"
  }
 },
 "nbformat": 4,
 "nbformat_minor": 2
}
