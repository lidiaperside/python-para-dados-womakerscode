{
 "cells": [
  {
   "cell_type": "markdown",
   "metadata": {},
   "source": [
    "Teorema do Limite Central\n",
    "\n",
    "Muitas vezes no dia a dia se tem acesso somente a uma distribuição amostral e não populacional.\n",
    "\n",
    "Por exemplo: Suponha que você trabalha no departamento de marketing de uma empresa e você deseja entender a distribuição de vendas de um determinado produto para publicos de 15 a 30 anos versus de 30 a 60 anos. Agora suponha que a sua área não tem acesso a todos os dados de vendas, mas somente a uma amostra de 100mil clientes. Como saber como essas distribuições se comparam?\n",
    "\n"
   ]
  },
  {
   "cell_type": "markdown",
   "metadata": {},
   "source": [
    "O Teorema do Limite central explicará que se a distribuição da população de origem for desconhecida, ao retirarmos amostras suficientemente grandes (acima de 30 elementos) a distribuição amostral das médias dos dados se aproxima de uma normal.\n",
    "\n",
    "Mas...\n",
    "- O que é a distribuição amostral das médias dos dados?\n",
    "- Qual a intuição desse teorema?"
   ]
  },
  {
   "cell_type": "markdown",
   "metadata": {},
   "source": [
    "Suponha que temos uma distribuição uniforme e coletamos uma amostra dos dados. Se repetirmos esse processo, independente da distribuição original, a distribuição das médias amostrais segue uma distribuição normal. \n",
    "\n",
    "Implicações: Se não sabemos a distribuição original na prática, sabemos que se coletarmos uma amostra suficientemente grande a distribuição das médias de vendas será Normal. Será utilizada a distribuição dsa médias para construir intervalos de confiança e fazer testes sobre a população."
   ]
  }
 ],
 "metadata": {
  "language_info": {
   "name": "python"
  }
 },
 "nbformat": 4,
 "nbformat_minor": 2
}
